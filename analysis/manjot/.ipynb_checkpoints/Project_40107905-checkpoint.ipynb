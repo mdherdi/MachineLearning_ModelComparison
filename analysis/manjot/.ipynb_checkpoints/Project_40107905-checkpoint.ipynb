{
 "cells": [
  {
   "cell_type": "code",
   "execution_count": 27,
   "metadata": {},
   "outputs": [],
   "source": [
    "import numpy as np\n",
    "import pandas as pd\n",
    "import matplotlib.pyplot as plt\n",
    "import sklearn\n",
    "import sklearn.svm\n",
    "import sklearn.naive_bayes\n",
    "import sklearn.metrics\n",
    "from sklearn.model_selection import train_test_split\n",
    "import glob\n",
    "import seaborn as sns\n",
    "import os.path\n",
    "import time\n",
    "import warnings\n",
    "warnings.filterwarnings(\"ignore\")  # Ignore sklearn deprecation warnings\n",
    "warnings.filterwarnings(\"ignore\", category=FutureWarning)       # Ignore sklearn deprecation warnings"
   ]
  },
  {
   "cell_type": "code",
   "execution_count": 28,
   "metadata": {},
   "outputs": [
    {
     "name": "stdout",
     "output_type": "stream",
     "text": [
      "['1_occupancy', '2_healthy_older_people', '3_bitcoin_heist_ransonware_address', '4_bank_additional', '5_interventionscitoyendo', '6_credit_cards', '7_census_income', '8_yeast', '9_magic_gamma', 'urls.txt']\n",
      "C:\\Users\\manjo\\Documents\\GitHub\\COMP-6321-ML\\datasets\\1_occupancy C:\\Users\\manjo\\Documents\\GitHub\\COMP-6321-ML\\datasets\\2_healthy_older_people C:\\Users\\manjo\\Documents\\GitHub\\COMP-6321-ML\\datasets\\3_bitcoin_heist_ransonware_address C:\\Users\\manjo\\Documents\\GitHub\\COMP-6321-ML\\datasets\\4_bank_additional\n"
     ]
    }
   ],
   "source": [
    "current_directory = os.path.dirname(os.getcwd())\n",
    "project_directory = os.path.split(current_directory)[0]\n",
    "dataset_directory = os.path.join(project_directory, 'datasets')\n",
    "\n",
    "occupancy_dataset_directory = os.path.join(dataset_directory, '1_occupancy')\n",
    "healthy_older_people_dataset_directory = os.path.join(dataset_directory, '2_healthy_older_people')\n",
    "bitcoin_heist_ransonware_address_dataset_directory = os.path.join(dataset_directory, '3_bitcoin_heist_ransonware_address')\n",
    "bank_additional_dataset_directory = os.path.join(dataset_directory, '4_bank_additional')\n",
    "montreal_crime_dataset_directory = os.path.join(dataset_directory, '5_interventionscitoyendo')\n",
    "credit_cards_dataset_directory = os.path.join(dataset_directory, '6_credit_cards')\n",
    "census_income_dataset_directory = os.path.join(dataset_directory, '7_census_income')\n",
    "yeast_dataset_directory = os.path.join(dataset_directory, '8_yeast')\n",
    "magic_gamma_dataset_directory = os.path.join(dataset_directory, '9_magic_gamma')\n",
    "\n",
    "print(os.listdir(dataset_directory))\n",
    "print(occupancy_dataset_directory\n",
    "      , healthy_older_people_dataset_directory\n",
    "      , bitcoin_heist_ransonware_address_dataset_directory\n",
    "      , bank_additional_dataset_directory)"
   ]
  },
  {
   "cell_type": "code",
   "execution_count": 29,
   "metadata": {},
   "outputs": [],
   "source": [
    "def svm_classification(X_train,y_train,X_test,y_test):\n",
    "    start = time.time()\n",
    "    svm_model = sklearn.svm.SVC(random_state=0,probability=True)\n",
    "    svm_model.fit(X_train,y_train)\n",
    "    t = time.time()-start\n",
    "#     y_predicttrain = svm_model.predict(X_train)\n",
    "#     y_predicttest = svm_model.predict(X_test)  \n",
    "    \n",
    "    return svm_model,t;"
   ]
  },
  {
   "cell_type": "code",
   "execution_count": 30,
   "metadata": {},
   "outputs": [],
   "source": [
    "def gaussian_classification(X_train,y_train,X_test,y_test,probs):\n",
    "    start = time.time()\n",
    "    gnb_model = sklearn.naive_bayes.GaussianNB(priors=probs)\n",
    "    gnb_model.fit(X_train,y_train)\n",
    "    t = time.time()-start\n",
    "    return gnb_model,t;"
   ]
  },
  {
   "cell_type": "code",
   "execution_count": 31,
   "metadata": {},
   "outputs": [],
   "source": [
    "def svm_classification_tuned(X_train,y_train):\n",
    "    start = time.time()\n",
    "    svm_model = sklearn.svm.SVC(kernel = 'rbf',probability=True)\n",
    "    c = np.logspace(-1,2,4)\n",
    "    gamma = np.logspace(-3,1,4)   \n",
    "    param_grid = { 'C':c,'gamma':gamma}\n",
    "    svm_model_gs = sklearn.model_selection.GridSearchCV(svm_model,param_grid,verbose=1,cv=3) \n",
    "    svm_model_gs.fit(X_train,y_train)\n",
    "    t = time.time()-start\n",
    "    return svm_model_gs.best_estimator_,t;"
   ]
  },
  {
   "cell_type": "code",
   "execution_count": 32,
   "metadata": {},
   "outputs": [],
   "source": [
    "def plot_feature_outcome_corr(data,palette):\n",
    "    i=1\n",
    "    rows = np.ceil(len(data.columns)/3)\n",
    "    \n",
    "    for j in range(0,len(data.columns)-1):\n",
    "        if( (i-1) %3.0 == 0):\n",
    "            fig = plt.figure(figsize=(16,rows*5)) \n",
    "        ax = plt.subplot(rows, 3, i) \n",
    "        g = sns.FacetGrid(data, hue=data.columns[-1],palette=palette)\n",
    "        g.map(sns.distplot,data.columns[j] , kde=False, bins=15,ax=ax)\n",
    "        plt.title('{:s}'.format(data.columns[j]))\n",
    "        ax.legend(title=data.columns[-1])\n",
    "        i = i+1\n",
    "        plt.close()"
   ]
  },
  {
   "cell_type": "code",
   "execution_count": 33,
   "metadata": {},
   "outputs": [],
   "source": [
    "# Model ROC AUC plotting code\n",
    "def plotModel (model,X_train,y_train,X_test,y_test):\n",
    "    \n",
    "    y_predicttrain = model.predict(X_train)\n",
    "    y_predicttest = model.predict(X_test)\n",
    "    ac_train=sklearn.metrics.accuracy_score(y_train, y_predicttrain)*100\n",
    "    ac_test=sklearn.metrics.accuracy_score(y_test, y_predicttest)*100\n",
    "    if np.unique(y_train).size>2:\n",
    "        lb = sklearn.preprocessing.LabelBinarizer()\n",
    "        y_test=lb.fit_transform(y_test)\n",
    "        y_predicttest=lb.transform(y_predicttest)\n",
    "        roc=sklearn.metrics.roc_auc_score(y_test, model.predict_proba(X_test), multi_class=\"ovr\", average=\"weighted\")*100        \n",
    "    else:\n",
    "        roc=sklearn.metrics.roc_auc_score(y_test, model.predict_proba(X_test)[:,1])*100\n",
    "        sklearn.metrics.plot_roc_curve(model, X_test, y_test)\n",
    "    return ac_train,ac_test,roc"
   ]
  },
  {
   "cell_type": "markdown",
   "metadata": {},
   "source": [
    "\n",
    " ## 1.OCCUPANCY DATASET\n"
   ]
  },
  {
   "cell_type": "markdown",
   "metadata": {},
   "source": [
    "### Data Loading"
   ]
  },
  {
   "cell_type": "code",
   "execution_count": 8,
   "metadata": {},
   "outputs": [],
   "source": [
    "training_dataset_url = os.path.join(occupancy_dataset_directory, 'occupancy_data', 'datatraining.txt')\n",
    "test_dataset_url = os.path.join(occupancy_dataset_directory, 'occupancy_data', 'datatest.txt')\n",
    "\n",
    "data_occupancy = np.loadtxt(training_dataset_url,delimiter=',', skiprows=1, usecols = (2,3,4,5,6,7))\n",
    "data_occupany_test=np.loadtxt(test_dataset_url, delimiter=',', skiprows=1, usecols = (2,3,4,5,6,7))\n",
    "X_train=data_occupancy[:, 0:5]\n",
    "y_train=data_occupancy[:, 5].astype(np.int32)\n",
    "X_test=data_occupany_test[:, 0:5]\n",
    "y_test=data_occupany_test[:, 5].astype(np.int32)"
   ]
  },
  {
   "cell_type": "markdown",
   "metadata": {},
   "source": [
    "### Plot Feature-Outcome correlation"
   ]
  },
  {
   "cell_type": "code",
   "execution_count": 25,
   "metadata": {},
   "outputs": [],
   "source": [
    "# cols = ['Temperature','Humidity','Light','CO2','HumidityRatio','Occupancy']\n",
    "# data = pd.DataFrame(data=data_occupancy,columns=cols)\n",
    "# palette={0: \"b\", 1: \"r\"}\n",
    "# plot_feature_outcome_corr(data,palette)"
   ]
  },
  {
   "cell_type": "markdown",
   "metadata": {},
   "source": [
    "### Model Evaluation"
   ]
  },
  {
   "cell_type": "markdown",
   "metadata": {},
   "source": [
    "### SVM Classifier"
   ]
  },
  {
   "cell_type": "code",
   "execution_count": 19,
   "metadata": {},
   "outputs": [
    {
     "name": "stdout",
     "output_type": "stream",
     "text": [
      "SVC(probability=True, random_state=0)\n",
      "Elapsed time:            0.4827 sec\n",
      "Training accuracy score: 98.8702%\n",
      "Test accuracy score:     97.6735%\n",
      "ROC AUC score:           98.3619%\n"
     ]
    },
    {
     "data": {
      "image/png": "[encoded data removed]",
      "text/plain": [
       "<Figure size 432x288 with 1 Axes>"
      ]
     },
     "metadata": {
      "needs_background": "light"
     },
     "output_type": "display_data"
    }
   ],
   "source": [
    "model,tym = svm_classification(X_train,y_train,X_test,y_test)\n",
    "train_acc,test_acc,roc = plotModel(model,X_train,y_train,X_test,y_test)\n",
    "print(model)\n",
    "print (\"Elapsed time:            \"+\"{:.4f}\".format(tym)+\" sec\")\n",
    "print (\"Training accuracy score: \"+\"{:.4f}\".format(train_acc)+\"%\")\n",
    "print (\"Test accuracy score:     \"+\"{:.4f}\".format(test_acc)+\"%\")\n",
    "print (\"ROC AUC score:           \"+\"{:.4f}\".format(roc)+\"%\")\n"
   ]
  },
  {
   "cell_type": "markdown",
   "metadata": {},
   "source": [
    "### SVM using GRIDSEARCH"
   ]
  },
  {
   "cell_type": "code",
   "execution_count": 17,
   "metadata": {},
   "outputs": [
    {
     "name": "stdout",
     "output_type": "stream",
     "text": [
      "Fitting 3 folds for each of 16 candidates, totalling 48 fits\n"
     ]
    },
    {
     "name": "stderr",
     "output_type": "stream",
     "text": [
      "[Parallel(n_jobs=1)]: Using backend SequentialBackend with 1 concurrent workers.\n",
      "[Parallel(n_jobs=1)]: Done  48 out of  48 | elapsed: 10.5min finished\n"
     ]
    },
    {
     "name": "stdout",
     "output_type": "stream",
     "text": [
      "SVC(C=0.1, gamma=0.001, probability=True)\n"
     ]
    }
   ],
   "source": [
    "#np.random.shuffle(data_occupancy)\n",
    "model,tym = svm_classification_tuned(X_train,y_train)\n",
    "print(model)\n"
   ]
  },
  {
   "cell_type": "code",
   "execution_count": 18,
   "metadata": {},
   "outputs": [
    {
     "name": "stdout",
     "output_type": "stream",
     "text": [
      "Elapsed time:            635.9791 sec\n",
      "Training accuracy score: 98.8948%\n",
      "Test accuracy score:     97.0356%\n",
      "ROC AUC score:           98.2514%\n"
     ]
    },
    {
     "data": {
      "image/png": "[encoded data removed]",
      "text/plain": [
       "<Figure size 432x288 with 1 Axes>"
      ]
     },
     "metadata": {
      "needs_background": "light"
     },
     "output_type": "display_data"
    }
   ],
   "source": [
    "train_acc,test_acc,roc = plotModel(model,X_train,y_train,X_test,y_test)\n",
    "print (\"Elapsed time:            \"+\"{:.4f}\".format(tym)+\" sec\")\n",
    "print (\"Training accuracy score: \"+\"{:.4f}\".format(train_acc)+\"%\")\n",
    "print (\"Test accuracy score:     \"+\"{:.4f}\".format(test_acc)+\"%\")\n",
    "print (\"ROC AUC score:           \"+\"{:.4f}\".format(roc)+\"%\")"
   ]
  },
  {
   "cell_type": "markdown",
   "metadata": {},
   "source": [
    "### GAUSSIAN NAIVE BAYES"
   ]
  },
  {
   "cell_type": "code",
   "execution_count": 55,
   "metadata": {},
   "outputs": [
    {
     "name": "stdout",
     "output_type": "stream",
     "text": [
      "Elapsed time:            0.0122 sec\n",
      "Training accuracy score: 97.8018%\n",
      "Test accuracy score:     97.7486%\n",
      "ROC AUC score:           98.9499%\n"
     ]
    },
    {
     "data": {
      "image/png": "[encoded data removed]",
      "text/plain": [
       "<Figure size 432x288 with 1 Axes>"
      ]
     },
     "metadata": {
      "needs_background": "light"
     },
     "output_type": "display_data"
    }
   ],
   "source": [
    "prob_0 = y_train[y_train ==0].shape[0]/y_train.shape[0]\n",
    "prob_1 = y_train[y_train ==1].shape[0]/y_train.shape[0]\n",
    "probs = np.array([prob_0,prob_1])\n",
    "model,tym = gaussian_classification(X_train,y_train,X_test,y_test,probs)\n",
    "train_acc,test_acc,roc = plotModel(model,X_train,y_train,X_test,y_test)\n",
    "print (\"Elapsed time:            \"+\"{:.4f}\".format(tym)+\" sec\")\n",
    "print (\"Training accuracy score: \"+\"{:.4f}\".format(train_acc)+\"%\")\n",
    "print (\"Test accuracy score:     \"+\"{:.4f}\".format(test_acc)+\"%\")\n",
    "print (\"ROC AUC score:           \"+\"{:.4f}\".format(roc)+\"%\")"
   ]
  },
  {
   "cell_type": "markdown",
   "metadata": {},
   "source": [
    "## 2.BANK MARKETTING"
   ]
  },
  {
   "cell_type": "markdown",
   "metadata": {},
   "source": [
    "### Data Loading"
   ]
  },
  {
   "cell_type": "code",
   "execution_count": 39,
   "metadata": {},
   "outputs": [],
   "source": [
    "training_dataset_url = os.path.join(bank_additional_dataset_directory, 'bank-additional', 'bank-additional', 'bank-additional-full.csv')\n",
    "test_dataset_url = os.path.join(bank_additional_dataset_directory, 'bank-additional', 'bank-additional', 'bank-additional.csv')\n",
    "\n",
    "\n",
    "data_bank = pd.read_csv(training_dataset_url, delimiter=';')\n",
    "data_bank_test= pd.read_csv(test_dataset_url, delimiter=';')"
   ]
  },
  {
   "cell_type": "code",
   "execution_count": 40,
   "metadata": {},
   "outputs": [],
   "source": [
    "le = sklearn.preprocessing.LabelEncoder()\n",
    "\n",
    "for i in [1,2,3,4,5,6,7,8,9,14]:\n",
    "    data_bank.iloc[:,i] = le.fit_transform(data_bank.iloc[:,i])\n",
    "    data_bank_test.iloc[:,i] = le.fit_transform(data_bank_test.iloc[:,i])\n",
    "    \n",
    "bank_labels ={'no':0,'yes':1}\n",
    "data_bank.y = [bank_labels[i] for i in data_bank.y]\n",
    "data_bank_test.y = [bank_labels[i] for i in data_bank_test.y]\n",
    "\n",
    "X_train = data_bank.iloc[:,:-1]\n",
    "y_train = data_bank.iloc[:,-1].astype('int32')\n",
    "\n",
    "X_test = data_bank_test.iloc[:,:-1]\n",
    "y_test = data_bank_test.iloc[:,-1].astype('int32')\n"
   ]
  },
  {
   "cell_type": "markdown",
   "metadata": {},
   "source": [
    "### Plot Feature-Outcome correlation"
   ]
  },
  {
   "cell_type": "code",
   "execution_count": 11,
   "metadata": {},
   "outputs": [],
   "source": [
    "# palette ={0: \"b\", 1: \"r\"}\n",
    "# plot_feature_outcome_corr(data_bank,palette)"
   ]
  },
  {
   "cell_type": "markdown",
   "metadata": {},
   "source": [
    "### Model Evaluation"
   ]
  },
  {
   "cell_type": "markdown",
   "metadata": {},
   "source": [
    "### SVM"
   ]
  },
  {
   "cell_type": "code",
   "execution_count": 22,
   "metadata": {},
   "outputs": [
    {
     "name": "stdout",
     "output_type": "stream",
     "text": [
      "Elapsed time:            314.3581 sec\n",
      "Training accuracy score: 89.7956%\n",
      "Test accuracy score:     90.0947%\n",
      "ROC AUC score:           92.3197%\n"
     ]
    },
    {
     "data": {
      "image/png": "[encoded data removed]",
      "text/plain": [
       "<Figure size 432x288 with 1 Axes>"
      ]
     },
     "metadata": {
      "needs_background": "light"
     },
     "output_type": "display_data"
    }
   ],
   "source": [
    "model,tym = svm_classification(X_train,y_train,X_test,y_test)\n",
    "train_acc,test_acc,roc = plotModel(model,X_train,y_train,X_test,y_test)\n",
    "print (\"Elapsed time:            \"+\"{:.4f}\".format(tym)+\" sec\")\n",
    "print (\"Training accuracy score: \"+\"{:.4f}\".format(train_acc)+\"%\")\n",
    "print (\"Test accuracy score:     \"+\"{:.4f}\".format(test_acc)+\"%\")\n",
    "print (\"ROC AUC score:           \"+\"{:.4f}\".format(roc)+\"%\")"
   ]
  },
  {
   "cell_type": "markdown",
   "metadata": {},
   "source": [
    "### SVM using GRIDSEARCH"
   ]
  },
  {
   "cell_type": "code",
   "execution_count": null,
   "metadata": {},
   "outputs": [
    {
     "name": "stdout",
     "output_type": "stream",
     "text": [
      "Fitting 3 folds for each of 16 candidates, totalling 48 fits\n"
     ]
    },
    {
     "name": "stderr",
     "output_type": "stream",
     "text": [
      "[Parallel(n_jobs=1)]: Using backend SequentialBackend with 1 concurrent workers.\n"
     ]
    }
   ],
   "source": [
    "model,tym = svm_classification_tuned(X_train,y_train)\n",
    "print(model)"
   ]
  },
  {
   "cell_type": "code",
   "execution_count": null,
   "metadata": {},
   "outputs": [],
   "source": [
    "train_acc,test_acc,roc = plotModel(model,X_train,y_train,X_test,y_test)\n",
    "print (\"Elapsed time:            \"+\"{:.4f}\".format(tym)+\" sec\")\n",
    "print (\"Training accuracy score: \"+\"{:.4f}\".format(train_acc)+\"%\")\n",
    "print (\"Test accuracy score:     \"+\"{:.4f}\".format(test_acc)+\"%\")\n",
    "print (\"ROC AUC score:           \"+\"{:.4f}\".format(roc)+\"%\")"
   ]
  },
  {
   "cell_type": "markdown",
   "metadata": {},
   "source": [
    "### GAUSSIAN NAIVE BAYES"
   ]
  },
  {
   "cell_type": "code",
   "execution_count": 59,
   "metadata": {},
   "outputs": [
    {
     "name": "stdout",
     "output_type": "stream",
     "text": [
      "Elapsed time:            0.0374 sec\n",
      "Training accuracy score: 84.6557%\n",
      "Test accuracy score:     84.6565%\n",
      "ROC AUC score:           84.7305%\n"
     ]
    },
    {
     "data": {
      "image/png": "[encoded data removed]",
      "text/plain": [
       "<Figure size 432x288 with 1 Axes>"
      ]
     },
     "metadata": {
      "needs_background": "light"
     },
     "output_type": "display_data"
    }
   ],
   "source": [
    "prob_0 = y_train[y_train ==0].shape[0]/y_train.shape[0]\n",
    "prob_1 = y_train[y_train ==1].shape[0]/y_train.shape[0]\n",
    "probs = np.array([prob_0,prob_1])\n",
    "model,tym = gaussian_classification(X_train,y_train,X_test,y_test,probs)\n",
    "train_acc,test_acc,roc = plotModel(model,X_train,y_train,X_test,y_test)\n",
    "print (\"Elapsed time:            \"+\"{:.4f}\".format(tym)+\" sec\")\n",
    "print (\"Training accuracy score: \"+\"{:.4f}\".format(train_acc)+\"%\")\n",
    "print (\"Test accuracy score:     \"+\"{:.4f}\".format(test_acc)+\"%\")\n",
    "print (\"ROC AUC score:           \"+\"{:.4f}\".format(roc)+\"%\")"
   ]
  },
  {
   "cell_type": "markdown",
   "metadata": {},
   "source": [
    "## 3.ACTIVITY RECOGNITION IN HEALTHY OLD PEOPLE"
   ]
  },
  {
   "cell_type": "markdown",
   "metadata": {},
   "source": [
    "### Data Loading"
   ]
  },
  {
   "cell_type": "code",
   "execution_count": 60,
   "metadata": {},
   "outputs": [],
   "source": [
    "files = glob.glob(os.path.join(healthy_older_people_dataset_directory, 'Datasets_Healthy_Older_People', 'datasets', \"S1_Dataset\", \"d*\"))\n",
    "files.extend(glob.glob(os.path.join(healthy_older_people_dataset_directory, 'Datasets_Healthy_Older_People', 'datasets', \"S2_Dataset\", \"d*\")))\n",
    "\n",
    "\n",
    "ar_files = [pd.read_csv(f, header=None) for f in files]\n",
    "data_ar=pd.concat(ar_files,ignore_index=True).values\n",
    "\n",
    "X=data_ar[:, 1:8]\n",
    "y=data_ar[:, 8].astype('int32')\n",
    "\n",
    "X_train,X_test,y_train,y_test = train_test_split(X,y,test_size=0.2)"
   ]
  },
  {
   "cell_type": "markdown",
   "metadata": {},
   "source": [
    "### Plot Feature-Outcome correlation"
   ]
  },
  {
   "cell_type": "code",
   "execution_count": 12,
   "metadata": {},
   "outputs": [],
   "source": [
    "# cols =['AccFrontal','AccVertical','AccLateral','IdSensor','RSSI','Phase','Frequency','ActivityLabel']\n",
    "# palette = {1: \"b\", 2: \"r\",3:\"olive\",4:\"g\"}\n",
    "# data = pd.DataFrame(data =np.hstack((X_train,y_train.reshape(-1,1))),columns=cols )\n",
    "# plot_feature_outcome_corr(data,palette)"
   ]
  },
  {
   "cell_type": "markdown",
   "metadata": {},
   "source": [
    "### Model Evaluation"
   ]
  },
  {
   "cell_type": "markdown",
   "metadata": {},
   "source": [
    "### SVM"
   ]
  },
  {
   "cell_type": "code",
   "execution_count": 61,
   "metadata": {},
   "outputs": [
    {
     "name": "stdout",
     "output_type": "stream",
     "text": [
      "Elapsed time:            1025.0604 sec\n",
      "Training accuracy score: 68.7149%\n",
      "Test accuracy score:     68.0221%\n",
      "ROC AUC score:           50.0000%\n"
     ]
    }
   ],
   "source": [
    "model,tym = svm_classification(X_train,y_train,X_test,y_test)\n",
    "train_acc,test_acc,roc = plotModel(model,X_train,y_train,X_test,y_test)\n",
    "print (\"Elapsed time:            \"+\"{:.4f}\".format(tym)+\" sec\")\n",
    "print (\"Training accuracy score: \"+\"{:.4f}\".format(train_acc)+\"%\")\n",
    "print (\"Test accuracy score:     \"+\"{:.4f}\".format(test_acc)+\"%\")\n",
    "print (\"ROC AUC score:           \"+\"{:.4f}\".format(roc)+\"%\")"
   ]
  },
  {
   "cell_type": "markdown",
   "metadata": {},
   "source": [
    "### SVM using GRIDSEARCH"
   ]
  },
  {
   "cell_type": "code",
   "execution_count": null,
   "metadata": {},
   "outputs": [],
   "source": [
    "model,tym = svm_classification_tuned(X_train,y_train)\n",
    "print(model)"
   ]
  },
  {
   "cell_type": "code",
   "execution_count": null,
   "metadata": {},
   "outputs": [],
   "source": [
    "train_acc,test_acc,roc = plotModel(model,X_train,y_train,X_test,y_test)\n",
    "print (\"Elapsed time:            \"+\"{:.4f}\".format(tym)+\" sec\")\n",
    "print (\"Training accuracy score: \"+\"{:.4f}\".format(train_acc)+\"%\")\n",
    "print (\"Test accuracy score:     \"+\"{:.4f}\".format(test_acc)+\"%\")\n",
    "print (\"ROC AUC score:           \"+\"{:.4f}\".format(roc)+\"%\")"
   ]
  },
  {
   "cell_type": "markdown",
   "metadata": {},
   "source": [
    "### GAUSSIAN NAIVE  BAYES"
   ]
  },
  {
   "cell_type": "code",
   "execution_count": 62,
   "metadata": {},
   "outputs": [
    {
     "name": "stdout",
     "output_type": "stream",
     "text": [
      "Elapsed time:            0.0225 sec\n",
      "Training accuracy score: 94.1849%\n",
      "Test accuracy score:     94.0636%\n",
      "ROC AUC score:           95.2819%\n"
     ]
    }
   ],
   "source": [
    "prob_1 = y_train[y_train ==1].shape[0]/y_train.shape[0]\n",
    "prob_2 = y_train[y_train ==2].shape[0]/y_train.shape[0]\n",
    "prob_3 = y_train[y_train ==3].shape[0]/y_train.shape[0]\n",
    "prob_4 = y_train[y_train ==4].shape[0]/y_train.shape[0]\n",
    "probs = np.array([prob_1,prob_2,prob_3,prob_4])\n",
    "\n",
    "model,tym = gaussian_classification(X_train,y_train,X_test,y_test,probs)\n",
    "train_acc,test_acc,roc = plotModel(model,X_train,y_train,X_test,y_test)\n",
    "print (\"Elapsed time:            \"+\"{:.4f}\".format(tym)+\" sec\")\n",
    "print (\"Training accuracy score: \"+\"{:.4f}\".format(train_acc)+\"%\")\n",
    "print (\"Test accuracy score:     \"+\"{:.4f}\".format(test_acc)+\"%\")\n",
    "print (\"ROC AUC score:           \"+\"{:.4f}\".format(roc)+\"%\")"
   ]
  },
  {
   "cell_type": "markdown",
   "metadata": {},
   "source": [
    "## 4.BITCOIN HEIST DATA"
   ]
  },
  {
   "cell_type": "markdown",
   "metadata": {},
   "source": [
    "### Data Loading"
   ]
  },
  {
   "cell_type": "code",
   "execution_count": 8,
   "metadata": {},
   "outputs": [],
   "source": [
    "training_dataset_url = os.path.join(bitcoin_heist_ransonware_address_dataset_directory, 'data', 'BitcoinHeistData.csv')\n",
    "\n",
    "data_bitcoin =pd.read_csv(training_dataset_url,nrows=100000)\n",
    "\n",
    "bitcoin_labels = {'princetonCerber':1, 'princetonLocky':1, 'montrealCryptoLocker':1,\n",
    " 'montrealCryptXXX':1, 'paduaCryptoWall':1, 'montrealWannaCry':1,\n",
    " 'montrealDMALockerv3':1, 'montrealCryptoTorLocker2015':1, 'montrealSamSam':1,\n",
    " 'montrealFlyper':1, 'montrealNoobCrypt':1, 'montrealDMALocker':1, 'montrealGlobe':1,\n",
    " 'montrealEDA2':1, 'paduaKeRanger':1, 'montrealVenusLocker':1, 'montrealXTPLocker':1,\n",
    " 'paduaJigsaw':1, 'montrealGlobev3':1, 'montrealJigSaw':1, 'montrealXLockerv5.0':1,\n",
    " 'montrealXLocker':1, 'montrealRazy':1, 'montrealCryptConsole':1,\n",
    " 'montrealGlobeImposter':1, 'montrealSam':1, 'montrealComradeCircle':1,\n",
    " 'montrealAPT':1, 'white':0}\n",
    "data_bitcoin.label = [bitcoin_labels[i] for i in data_bitcoin.label]\n",
    "X = data_bitcoin.iloc[:,:-1]\n",
    "y= data_bitcoin.iloc[:,-1]\n",
    "\n",
    "le = sklearn.preprocessing.LabelEncoder()\n",
    "X.iloc[:,0] = le.fit_transform(X.iloc[:,0])\n",
    "X_train,X_test,y_train,y_test = train_test_split(X,y,test_size=0.1)"
   ]
  },
  {
   "cell_type": "markdown",
   "metadata": {},
   "source": [
    "### Model Evaluation"
   ]
  },
  {
   "cell_type": "markdown",
   "metadata": {},
   "source": [
    "### SVM"
   ]
  },
  {
   "cell_type": "code",
   "execution_count": 9,
   "metadata": {},
   "outputs": [
    {
     "name": "stdout",
     "output_type": "stream",
     "text": [
      "Elapsed time:            3034.5647 sec\n",
      "Training accuracy score: 70.2633%\n",
      "Test accuracy score:     69.8500%\n",
      "ROC AUC score:           81.6599%\n"
     ]
    },
    {
     "data": {
      "image/png": "[encoded data removed]",
      "text/plain": [
       "<Figure size 432x288 with 1 Axes>"
      ]
     },
     "metadata": {
      "needs_background": "light"
     },
     "output_type": "display_data"
    }
   ],
   "source": [
    "model,tym = svm_classification(X_train,y_train,X_test,y_test)\n",
    "train_acc,test_acc,roc = plotModel(model,X_train,y_train,X_test,y_test)\n",
    "print (\"Elapsed time:            \"+\"{:.4f}\".format(tym)+\" sec\")\n",
    "print (\"Training accuracy score: \"+\"{:.4f}\".format(train_acc)+\"%\")\n",
    "print (\"Test accuracy score:     \"+\"{:.4f}\".format(test_acc)+\"%\")\n",
    "print (\"ROC AUC score:           \"+\"{:.4f}\".format(roc)+\"%\")\n"
   ]
  },
  {
   "cell_type": "markdown",
   "metadata": {},
   "source": [
    "### SVM using GRIDSEARCH"
   ]
  },
  {
   "cell_type": "code",
   "execution_count": null,
   "metadata": {},
   "outputs": [],
   "source": [
    "model,tym = svm_classification_tuned(X_train,y_train)\n",
    "print(model)"
   ]
  },
  {
   "cell_type": "code",
   "execution_count": null,
   "metadata": {},
   "outputs": [],
   "source": [
    "train_acc,test_acc,roc = plotModel(model,X_train,y_train,X_test,y_test)\n",
    "print (\"Elapsed time:            \"+\"{:.4f}\".format(tym)+\" sec\")\n",
    "print (\"Training accuracy score: \"+\"{:.4f}\".format(train_acc)+\"%\")\n",
    "print (\"Test accuracy score:     \"+\"{:.4f}\".format(test_acc)+\"%\")\n",
    "print (\"ROC AUC score:           \"+\"{:.4f}\".format(roc)+\"%\")"
   ]
  },
  {
   "cell_type": "markdown",
   "metadata": {},
   "source": [
    "### GAUSSIAN NAIVE BAYES"
   ]
  },
  {
   "cell_type": "code",
   "execution_count": 10,
   "metadata": {},
   "outputs": [
    {
     "name": "stdout",
     "output_type": "stream",
     "text": [
      "Elapsed time:            0.0379 sec\n",
      "Training accuracy score: 46.2811%\n",
      "Test accuracy score:     45.8500%\n",
      "ROC AUC score:           70.8246%\n"
     ]
    },
    {
     "data": {
      "image/png": "[encoded data removed]",
      "text/plain": [
       "<Figure size 432x288 with 1 Axes>"
      ]
     },
     "metadata": {
      "needs_background": "light"
     },
     "output_type": "display_data"
    }
   ],
   "source": [
    "prob_0 = y_train[y_train ==0].shape[0]/y_train.shape[0]\n",
    "prob_1 = y_train[y_train ==1].shape[0]/y_train.shape[0]\n",
    "probs = np.array([prob_0,prob_1])\n",
    "model,tym = gaussian_classification(X_train,y_train,X_test,y_test,probs)\n",
    "train_acc,test_acc,roc = plotModel(model,X_train,y_train,X_test,y_test)\n",
    "print (\"Elapsed time:            \"+\"{:.4f}\".format(tym)+\" sec\")\n",
    "print (\"Training accuracy score: \"+\"{:.4f}\".format(train_acc)+\"%\")\n",
    "print (\"Test accuracy score:     \"+\"{:.4f}\".format(test_acc)+\"%\")\n",
    "print (\"ROC AUC score:           \"+\"{:.4f}\".format(roc)+\"%\")\n"
   ]
  },
  {
   "cell_type": "markdown",
   "metadata": {},
   "source": [
    "## 5. MONTREAL CRIME DATASET"
   ]
  },
  {
   "cell_type": "markdown",
   "metadata": {},
   "source": [
    "### Data Loading"
   ]
  },
  {
   "cell_type": "code",
   "execution_count": 11,
   "metadata": {},
   "outputs": [],
   "source": [
    "le = sklearn.preprocessing.LabelEncoder()\n",
    "training_dataset_url = os.path.join(montreal_crime_dataset_directory, 'interventionscitoyendo.csv')\n",
    "\n",
    "category_mapping = {'Introduction':1, 'Vol dans / sur véhicule à moteur':2, 'Vol de véhicule à moteur':3, 'Méfait':4, 'Vol qualifié':5, 'Infraction entraînant la mort':6, 'Vols qualifiés':5, 'Infractions entrainant la mort':6}\n",
    "\n",
    "data_mtlcrime = pd.read_csv(training_dataset_url,encoding='latin1',nrows=30000).replace(category_mapping)\n",
    "data_mtlcrime['YEAR']=data_mtlcrime.DATE.str.split('-').str[0].astype(np.int32)\n",
    "data_mtlcrime['MONTH']=data_mtlcrime.DATE.str.split('-').str[1].astype(np.int32)\n",
    "data_mtlcrime['DAY']=data_mtlcrime.DATE.str.split('-').str[2].astype(np.int32)\n",
    "data_mtlcrime.dropna(inplace=True)\n",
    "X = data_mtlcrime.iloc[:,[i for i in range(2,11)]]\n",
    "X.iloc[:,0] = le.fit_transform(X.iloc[:,0])\n",
    "\n",
    "y = data_mtlcrime.iloc[:,0]\n",
    "X_train,X_test,y_train,y_test = train_test_split(X,y,test_size=0.2)"
   ]
  },
  {
   "cell_type": "markdown",
   "metadata": {},
   "source": [
    "### Plot"
   ]
  },
  {
   "cell_type": "code",
   "execution_count": 13,
   "metadata": {},
   "outputs": [],
   "source": [
    "# palette = {1: \"b\", 2: \"r\",3:\"olive\",4:\"g\",5:'y',6:'orange'}\n",
    "# plot_feature_outcome_corr(pd.concat([X,y],axis=1),palette)"
   ]
  },
  {
   "cell_type": "markdown",
   "metadata": {},
   "source": [
    "### Model Evaluation"
   ]
  },
  {
   "cell_type": "markdown",
   "metadata": {},
   "source": [
    "### SVM"
   ]
  },
  {
   "cell_type": "code",
   "execution_count": 12,
   "metadata": {},
   "outputs": [
    {
     "name": "stdout",
     "output_type": "stream",
     "text": [
      "Elapsed time:            157.2535 sec\n",
      "Training accuracy score: 33.4667%\n",
      "Test accuracy score:     34.3500%\n",
      "ROC AUC score:           50.0926%\n"
     ]
    }
   ],
   "source": [
    "model,tym = svm_classification(X_train,y_train,X_test,y_test)\n",
    "train_acc,test_acc,roc = plotModel(model,X_train,y_train,X_test,y_test)\n",
    "print (\"Elapsed time:            \"+\"{:.4f}\".format(tym)+\" sec\")\n",
    "print (\"Training accuracy score: \"+\"{:.4f}\".format(train_acc)+\"%\")\n",
    "print (\"Test accuracy score:     \"+\"{:.4f}\".format(test_acc)+\"%\")\n",
    "print (\"ROC AUC score:           \"+\"{:.4f}\".format(roc)+\"%\")"
   ]
  },
  {
   "cell_type": "markdown",
   "metadata": {},
   "source": [
    "### SVM using GRIDSEARCH"
   ]
  },
  {
   "cell_type": "code",
   "execution_count": null,
   "metadata": {},
   "outputs": [],
   "source": [
    "model,tym = svm_classification_tuned(X_train,y_train)\n",
    "print(model)"
   ]
  },
  {
   "cell_type": "code",
   "execution_count": null,
   "metadata": {},
   "outputs": [],
   "source": [
    "train_acc,test_acc,roc = plotModel(model,X_train,y_train,X_test,y_test)\n",
    "print (\"Elapsed time:            \"+\"{:.4f}\".format(tym)+\" sec\")\n",
    "print (\"Training accuracy score: \"+\"{:.4f}\".format(train_acc)+\"%\")\n",
    "print (\"Test accuracy score:     \"+\"{:.4f}\".format(test_acc)+\"%\")\n",
    "print (\"ROC AUC score:           \"+\"{:.4f}\".format(roc)+\"%\")"
   ]
  },
  {
   "cell_type": "markdown",
   "metadata": {},
   "source": [
    "### GAUSSIAN NAIVE BAYES"
   ]
  },
  {
   "cell_type": "code",
   "execution_count": 13,
   "metadata": {},
   "outputs": [
    {
     "name": "stdout",
     "output_type": "stream",
     "text": [
      "Elapsed time:            0.0130 sec\n",
      "Training accuracy score: 33.2750%\n",
      "Test accuracy score:     34.1333%\n",
      "ROC AUC score:           50.1138%\n"
     ]
    }
   ],
   "source": [
    "prob_1 = y_train[y_train ==1].shape[0]/y_train.shape[0]\n",
    "prob_2 = y_train[y_train ==2].shape[0]/y_train.shape[0]\n",
    "prob_3 = y_train[y_train ==3].shape[0]/y_train.shape[0]\n",
    "prob_4 = y_train[y_train ==4].shape[0]/y_train.shape[0]\n",
    "prob_5 = y_train[y_train ==5].shape[0]/y_train.shape[0]\n",
    "prob_6 = y_train[y_train ==6].shape[0]/y_train.shape[0]\n",
    "probs = np.array([prob_1,prob_2,prob_3,prob_4,prob_5,prob_6])\n",
    "model,tym = gaussian_classification(X_train,y_train,X_test,y_test,probs)\n",
    "train_acc,test_acc,roc = plotModel(model,X_train,y_train,X_test,y_test)\n",
    "print (\"Elapsed time:            \"+\"{:.4f}\".format(tym)+\" sec\")\n",
    "print (\"Training accuracy score: \"+\"{:.4f}\".format(train_acc)+\"%\")\n",
    "print (\"Test accuracy score:     \"+\"{:.4f}\".format(test_acc)+\"%\")\n",
    "print (\"ROC AUC score:           \"+\"{:.4f}\".format(roc)+\"%\")\n"
   ]
  },
  {
   "cell_type": "markdown",
   "metadata": {},
   "source": [
    "## 6.CREDIT CARDS DATA"
   ]
  },
  {
   "cell_type": "markdown",
   "metadata": {},
   "source": [
    "### Data Loading"
   ]
  },
  {
   "cell_type": "code",
   "execution_count": 14,
   "metadata": {},
   "outputs": [],
   "source": [
    "training_dataset_url = os.path.join(credit_cards_dataset_directory, 'default_of_credit_card_clients.csv')\n",
    "data_creditcards = pd.read_csv(training_dataset_url,skiprows=1,usecols=[i for i in range(1,25)])"
   ]
  },
  {
   "cell_type": "code",
   "execution_count": 15,
   "metadata": {},
   "outputs": [],
   "source": [
    "X = data_creditcards.iloc[:,:-1]\n",
    "y= data_creditcards.iloc[:,-1]\n",
    "X_train,X_test,y_train,y_test = train_test_split(X,y,test_size=0.2)"
   ]
  },
  {
   "cell_type": "markdown",
   "metadata": {},
   "source": [
    "### Model Evaluation"
   ]
  },
  {
   "cell_type": "markdown",
   "metadata": {},
   "source": [
    "### SVM"
   ]
  },
  {
   "cell_type": "code",
   "execution_count": 16,
   "metadata": {},
   "outputs": [
    {
     "name": "stdout",
     "output_type": "stream",
     "text": [
      "Elapsed time:            138.9301 sec\n",
      "Training accuracy score: 77.8542%\n",
      "Test accuracy score:     78.0833%\n",
      "ROC AUC score:           54.8293%\n"
     ]
    },
    {
     "data": {
      "image/png": "[encoded data removed]",
      "text/plain": [
       "<Figure size 432x288 with 1 Axes>"
      ]
     },
     "metadata": {
      "needs_background": "light"
     },
     "output_type": "display_data"
    }
   ],
   "source": [
    "model,tym = svm_classification(X_train,y_train,X_test,y_test)\n",
    "train_acc,test_acc,roc = plotModel(model,X_train,y_train,X_test,y_test)\n",
    "print (\"Elapsed time:            \"+\"{:.4f}\".format(tym)+\" sec\")\n",
    "print (\"Training accuracy score: \"+\"{:.4f}\".format(train_acc)+\"%\")\n",
    "print (\"Test accuracy score:     \"+\"{:.4f}\".format(test_acc)+\"%\")\n",
    "print (\"ROC AUC score:           \"+\"{:.4f}\".format(roc)+\"%\")"
   ]
  },
  {
   "cell_type": "markdown",
   "metadata": {},
   "source": [
    "### SVM using GRIDSEARCH"
   ]
  },
  {
   "cell_type": "code",
   "execution_count": null,
   "metadata": {},
   "outputs": [],
   "source": [
    "model,tym = svm_classification_tuned(X_train,y_train)\n",
    "print(model)"
   ]
  },
  {
   "cell_type": "code",
   "execution_count": null,
   "metadata": {},
   "outputs": [],
   "source": [
    "train_acc,test_acc,roc = plotModel(model,X_train,y_train,X_test,y_test)\n",
    "print (\"Elapsed time:            \"+\"{:.4f}\".format(tym)+\" sec\")\n",
    "print (\"Training accuracy score: \"+\"{:.4f}\".format(train_acc)+\"%\")\n",
    "print (\"Test accuracy score:     \"+\"{:.4f}\".format(test_acc)+\"%\")\n",
    "print (\"ROC AUC score:           \"+\"{:.4f}\".format(roc)+\"%\")"
   ]
  },
  {
   "cell_type": "markdown",
   "metadata": {},
   "source": [
    "### GAUSSIAN NAIVE BAYES"
   ]
  },
  {
   "cell_type": "code",
   "execution_count": 17,
   "metadata": {},
   "outputs": [
    {
     "name": "stdout",
     "output_type": "stream",
     "text": [
      "Elapsed time:            0.0200 sec\n",
      "Training accuracy score: 40.5917%\n",
      "Test accuracy score:     39.8833%\n",
      "ROC AUC score:           67.4331%\n"
     ]
    },
    {
     "data": {
      "image/png": "[encoded data removed]",
      "text/plain": [
       "<Figure size 432x288 with 1 Axes>"
      ]
     },
     "metadata": {
      "needs_background": "light"
     },
     "output_type": "display_data"
    }
   ],
   "source": [
    "prob_0 = y_train[y_train ==0].shape[0]/y_train.shape[0]\n",
    "prob_1 = y_train[y_train ==1].shape[0]/y_train.shape[0]\n",
    "probs = np.array([prob_0,prob_1])\n",
    "model,tym = gaussian_classification(X_train,y_train,X_test,y_test,probs)\n",
    "train_acc,test_acc,roc = plotModel(model,X_train,y_train,X_test,y_test)\n",
    "print (\"Elapsed time:            \"+\"{:.4f}\".format(tym)+\" sec\")\n",
    "print (\"Training accuracy score: \"+\"{:.4f}\".format(train_acc)+\"%\")\n",
    "print (\"Test accuracy score:     \"+\"{:.4f}\".format(test_acc)+\"%\")\n",
    "print (\"ROC AUC score:           \"+\"{:.4f}\".format(roc)+\"%\")"
   ]
  },
  {
   "cell_type": "markdown",
   "metadata": {},
   "source": [
    "## 7. CENSUS INCOME DATASET"
   ]
  },
  {
   "cell_type": "markdown",
   "metadata": {},
   "source": [
    "### Data Loading"
   ]
  },
  {
   "cell_type": "code",
   "execution_count": 18,
   "metadata": {},
   "outputs": [],
   "source": [
    "dataset_url = os.path.join(census_income_dataset_directory, 'adult_data.csv')\n",
    "\n",
    "salary_mapping = {'<=50K':0, '>50K':1}\n",
    "cols=['age','workclass','fnlwght','education','edu-num','marital-status','occupation','relationship','race','sex','capital-gain',\n",
    "      'capital-loss','hours-per-week','country','income']\n",
    "data_census=pd.read_csv(dataset_url, encoding='utf8', names=cols)\n",
    "data_census = data_census.apply(lambda x: x.apply(lambda y: y.strip() if type(y) == type('') else y), axis=0)\n",
    "data_census.income = [salary_mapping[i] for i in data_census.income]\n",
    "data_census = data_census.replace(to_replace='?', value=np.nan)\n",
    "data_census.dropna(inplace=True)\n",
    "\n",
    "X = data_census.iloc[:,:-1]\n",
    "for i in [1,3,5,6,7,8,9,13]:\n",
    "    X.iloc[:,i] = le.fit_transform(X.iloc[:,i])\n",
    "y = data_census.iloc[:,-1]\n",
    "X_train,X_test,y_train,y_test = train_test_split(X,y,test_size=0.2)"
   ]
  },
  {
   "cell_type": "markdown",
   "metadata": {},
   "source": [
    "### Plot "
   ]
  },
  {
   "cell_type": "code",
   "execution_count": 14,
   "metadata": {},
   "outputs": [],
   "source": [
    "# palette = {0:\"r\",1:\"b\"}\n",
    "# plot_feature_outcome_corr(pd.concat([X,y],axis=1),palette)\n"
   ]
  },
  {
   "cell_type": "markdown",
   "metadata": {},
   "source": [
    "### Model Evaluation"
   ]
  },
  {
   "cell_type": "markdown",
   "metadata": {},
   "source": [
    "### SVM"
   ]
  },
  {
   "cell_type": "code",
   "execution_count": 19,
   "metadata": {},
   "outputs": [
    {
     "name": "stdout",
     "output_type": "stream",
     "text": [
      "Elapsed time:            70.8521 sec\n",
      "Training accuracy score: 78.6813%\n",
      "Test accuracy score:     79.1977%\n",
      "ROC AUC score:           61.5256%\n"
     ]
    },
    {
     "data": {
      "image/png": "[encoded data removed]",
      "text/plain": [
       "<Figure size 432x288 with 1 Axes>"
      ]
     },
     "metadata": {
      "needs_background": "light"
     },
     "output_type": "display_data"
    }
   ],
   "source": [
    "model,tym = svm_classification(X_train,y_train,X_test,y_test)\n",
    "train_acc,test_acc,roc = plotModel(model,X_train,y_train,X_test,y_test)\n",
    "print (\"Elapsed time:            \"+\"{:.4f}\".format(tym)+\" sec\")\n",
    "print (\"Training accuracy score: \"+\"{:.4f}\".format(train_acc)+\"%\")\n",
    "print (\"Test accuracy score:     \"+\"{:.4f}\".format(test_acc)+\"%\")\n",
    "print (\"ROC AUC score:           \"+\"{:.4f}\".format(roc)+\"%\")"
   ]
  },
  {
   "cell_type": "markdown",
   "metadata": {},
   "source": [
    "### SVM using GRIDSEARCH"
   ]
  },
  {
   "cell_type": "code",
   "execution_count": null,
   "metadata": {},
   "outputs": [],
   "source": [
    "model,tym = svm_classification_tuned(X_train,y_train)\n",
    "print(model)"
   ]
  },
  {
   "cell_type": "code",
   "execution_count": null,
   "metadata": {},
   "outputs": [],
   "source": [
    "train_acc,test_acc,roc = plotModel(model,X_train,y_train,X_test,y_test)\n",
    "print (\"Elapsed time:            \"+\"{:.4f}\".format(tym)+\" sec\")\n",
    "print (\"Training accuracy score: \"+\"{:.4f}\".format(train_acc)+\"%\")\n",
    "print (\"Test accuracy score:     \"+\"{:.4f}\".format(test_acc)+\"%\")\n",
    "print (\"ROC AUC score:           \"+\"{:.4f}\".format(roc)+\"%\")"
   ]
  },
  {
   "cell_type": "markdown",
   "metadata": {},
   "source": [
    "### GAUSSIAN NAIVE BAYES"
   ]
  },
  {
   "cell_type": "code",
   "execution_count": 20,
   "metadata": {},
   "outputs": [
    {
     "name": "stdout",
     "output_type": "stream",
     "text": [
      "Elapsed time:            0.0175 sec\n",
      "Training accuracy score: 78.9672%\n",
      "Test accuracy score:     78.6673%\n",
      "ROC AUC score:           82.1779%\n"
     ]
    },
    {
     "data": {
      "image/png": "[encoded data removed]",
      "text/plain": [
       "<Figure size 432x288 with 1 Axes>"
      ]
     },
     "metadata": {
      "needs_background": "light"
     },
     "output_type": "display_data"
    }
   ],
   "source": [
    "prob_0 = y_train[y_train ==0].shape[0]/y_train.shape[0]\n",
    "prob_1 = y_train[y_train ==1].shape[0]/y_train.shape[0]\n",
    "probs = np.array([prob_0,prob_1])\n",
    "model,tym = gaussian_classification(X_train,y_train,X_test,y_test,probs)\n",
    "train_acc,test_acc,roc = plotModel(model,X_train,y_train,X_test,y_test)\n",
    "print (\"Elapsed time:            \"+\"{:.4f}\".format(tym)+\" sec\")\n",
    "print (\"Training accuracy score: \"+\"{:.4f}\".format(train_acc)+\"%\")\n",
    "print (\"Test accuracy score:     \"+\"{:.4f}\".format(test_acc)+\"%\")\n",
    "print (\"ROC AUC score:           \"+\"{:.4f}\".format(roc)+\"%\")"
   ]
  },
  {
   "cell_type": "markdown",
   "metadata": {},
   "source": [
    "## 8. YEAST DATASET"
   ]
  },
  {
   "cell_type": "markdown",
   "metadata": {},
   "source": [
    "### Data Loading"
   ]
  },
  {
   "cell_type": "code",
   "execution_count": 34,
   "metadata": {},
   "outputs": [],
   "source": [
    "dataset_url = os.path.join(yeast_dataset_directory, 'yeast_dataset.csv')\n",
    "\n",
    "cols=['mcg','gvh','alm','mit','erl','pox','vac','nuc','site']\n",
    "data_yeast = pd.read_csv(dataset_url,usecols=[i for i in range(1,10)],names=cols)\n",
    "#data_yeast = data_yeast.apply(lambda x: x.apply(lambda y: y.strip() if type(y) == type('') else y), axis=0)\n",
    "\n",
    "site_mapping = {'MIT':1, 'NUC':2, 'CYT':3\n",
    "                     , 'ME1':4, 'EXC':5, 'ME2':6\n",
    "                     , 'ME3':7, 'VAC':8, 'POX':9\n",
    "                     , 'ERL':10}\n",
    "\n",
    "data_yeast.site = [site_mapping[i] for i in data_yeast.site]\n",
    "data_yeast.head()\n",
    "\n",
    "data_yeast = data_yeast.replace(to_replace='?', value=np.nan)\n",
    "data_yeast.dropna(inplace=True)\n",
    "\n",
    "X = data_yeast.iloc[:,:-1]\n",
    "y= data_yeast.iloc[:,-1]\n",
    "\n",
    "X_train,X_test,y_train,y_test = train_test_split(X,y,test_size=0.2)"
   ]
  },
  {
   "cell_type": "markdown",
   "metadata": {},
   "source": [
    "### Plot"
   ]
  },
  {
   "cell_type": "code",
   "execution_count": null,
   "metadata": {},
   "outputs": [],
   "source": []
  },
  {
   "cell_type": "markdown",
   "metadata": {},
   "source": [
    "### Model Evaluation"
   ]
  },
  {
   "cell_type": "markdown",
   "metadata": {},
   "source": [
    "### SVM"
   ]
  },
  {
   "cell_type": "code",
   "execution_count": 35,
   "metadata": {},
   "outputs": [
    {
     "name": "stdout",
     "output_type": "stream",
     "text": [
      "Elapsed time:            0.4012 sec\n",
      "Training accuracy score: 60.8256%\n",
      "Test accuracy score:     60.6061%\n",
      "ROC AUC score:           84.2636%\n"
     ]
    }
   ],
   "source": [
    "model,tym = svm_classification(X_train,y_train,X_test,y_test)\n",
    "train_acc,test_acc,roc = plotModel(model,X_train,y_train,X_test,y_test)\n",
    "print (\"Elapsed time:            \"+\"{:.4f}\".format(tym)+\" sec\")\n",
    "print (\"Training accuracy score: \"+\"{:.4f}\".format(train_acc)+\"%\")\n",
    "print (\"Test accuracy score:     \"+\"{:.4f}\".format(test_acc)+\"%\")\n",
    "print (\"ROC AUC score:           \"+\"{:.4f}\".format(roc)+\"%\")"
   ]
  },
  {
   "cell_type": "markdown",
   "metadata": {},
   "source": [
    "### SVM using GRIDSEARCH"
   ]
  },
  {
   "cell_type": "code",
   "execution_count": 37,
   "metadata": {},
   "outputs": [
    {
     "name": "stdout",
     "output_type": "stream",
     "text": [
      "Fitting 3 folds for each of 16 candidates, totalling 48 fits\n"
     ]
    },
    {
     "name": "stderr",
     "output_type": "stream",
     "text": [
      "[Parallel(n_jobs=1)]: Using backend SequentialBackend with 1 concurrent workers.\n",
      "[Parallel(n_jobs=1)]: Done  48 out of  48 | elapsed:   14.5s finished\n"
     ]
    },
    {
     "name": "stdout",
     "output_type": "stream",
     "text": [
      "{'C': 1.0, 'break_ties': False, 'cache_size': 200, 'class_weight': None, 'coef0': 0.0, 'decision_function_shape': 'ovr', 'degree': 3, 'gamma': 10.0, 'kernel': 'rbf', 'max_iter': -1, 'probability': True, 'random_state': None, 'shrinking': True, 'tol': 0.001, 'verbose': False}\n"
     ]
    }
   ],
   "source": [
    "model,tym = svm_classification_tuned(X_train,y_train)\n",
    "print(model.get_params())"
   ]
  },
  {
   "cell_type": "code",
   "execution_count": 38,
   "metadata": {},
   "outputs": [
    {
     "name": "stdout",
     "output_type": "stream",
     "text": [
      "Elapsed time:            15.1523 sec\n",
      "Training accuracy score: 64.0270%\n",
      "Test accuracy score:     61.9529%\n",
      "ROC AUC score:           84.0992%\n"
     ]
    }
   ],
   "source": [
    "train_acc,test_acc,roc = plotModel(model,X_train,y_train,X_test,y_test)\n",
    "print (\"Elapsed time:            \"+\"{:.4f}\".format(tym)+\" sec\")\n",
    "print (\"Training accuracy score: \"+\"{:.4f}\".format(train_acc)+\"%\")\n",
    "print (\"Test accuracy score:     \"+\"{:.4f}\".format(test_acc)+\"%\")\n",
    "print (\"ROC AUC score:           \"+\"{:.4f}\".format(roc)+\"%\")"
   ]
  },
  {
   "cell_type": "markdown",
   "metadata": {},
   "source": [
    "### GAUSSIAN NAIVE BAYES"
   ]
  },
  {
   "cell_type": "code",
   "execution_count": 23,
   "metadata": {},
   "outputs": [
    {
     "name": "stdout",
     "output_type": "stream",
     "text": [
      "Elapsed time:            0.0030 sec\n",
      "Training accuracy score: 21.3985%\n",
      "Test accuracy score:     20.5387%\n",
      "ROC AUC score:           57.9185%\n"
     ]
    }
   ],
   "source": [
    "prob_1 = y_train[y_train ==1].shape[0]/y_train.shape[0]\n",
    "prob_2 = y_train[y_train ==2].shape[0]/y_train.shape[0]\n",
    "prob_3 = y_train[y_train ==3].shape[0]/y_train.shape[0]\n",
    "prob_4 = y_train[y_train ==4].shape[0]/y_train.shape[0]\n",
    "prob_5 = y_train[y_train ==5].shape[0]/y_train.shape[0]\n",
    "prob_6 = y_train[y_train ==6].shape[0]/y_train.shape[0]\n",
    "prob_7 = y_train[y_train ==7].shape[0]/y_train.shape[0]\n",
    "prob_8 = y_train[y_train ==8].shape[0]/y_train.shape[0]\n",
    "prob_9 = y_train[y_train ==9].shape[0]/y_train.shape[0]\n",
    "prob_10 = y_train[y_train ==10].shape[0]/y_train.shape[0]\n",
    "probs = np.array([prob_1,prob_2,prob_3,prob_4,prob_5,prob_6,prob_7,prob_8,prob_9,prob_10])\n",
    "model,tym = gaussian_classification(X_train,y_train,X_test,y_test,probs)\n",
    "train_acc,test_acc,roc = plotModel(model,X_train,y_train,X_test,y_test)\n",
    "print (\"Elapsed time:            \"+\"{:.4f}\".format(tym)+\" sec\")\n",
    "print (\"Training accuracy score: \"+\"{:.4f}\".format(train_acc)+\"%\")\n",
    "print (\"Test accuracy score:     \"+\"{:.4f}\".format(test_acc)+\"%\")\n",
    "print (\"ROC AUC score:           \"+\"{:.4f}\".format(roc)+\"%\")"
   ]
  },
  {
   "cell_type": "code",
   "execution_count": null,
   "metadata": {},
   "outputs": [],
   "source": []
  }
 ],
 "metadata": {
  "kernelspec": {
   "display_name": "Python 3",
   "language": "python",
   "name": "python3"
  },
  "language_info": {
   "codemirror_mode": {
    "name": "ipython",
    "version": 3
   },
   "file_extension": ".py",
   "mimetype": "text/x-python",
   "name": "python",
   "nbconvert_exporter": "python",
   "pygments_lexer": "ipython3",
   "version": "3.8.3"
  }
 },
 "nbformat": 4,
 "nbformat_minor": 4
}
