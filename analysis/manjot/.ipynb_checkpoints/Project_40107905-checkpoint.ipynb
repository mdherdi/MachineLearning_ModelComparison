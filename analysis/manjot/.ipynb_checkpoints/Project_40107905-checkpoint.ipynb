{
 "cells": [
  {
   "cell_type": "code",
   "execution_count": 89,
   "metadata": {},
   "outputs": [],
   "source": [
    "import numpy as np\n",
    "import pandas as pd\n",
    "import matplotlib.pyplot as plt\n",
    "import sklearn\n",
    "import sklearn.svm\n",
    "import sklearn.naive_bayes\n",
    "import sklearn.metrics\n",
    "from sklearn.model_selection import train_test_split\n",
    "import glob\n",
    "import seaborn as sns\n",
    "import os.path\n",
    "import time\n",
    "from sklearn.decomposition import PCA\n",
    "from sklearn import feature_selection\n",
    "import warnings\n",
    "warnings.filterwarnings(\"ignore\")  # Ignore sklearn deprecation warnings\n",
    "warnings.filterwarnings(\"ignore\", category=FutureWarning)       # Ignore sklearn deprecation warnings"
   ]
  },
  {
   "cell_type": "code",
   "execution_count": 90,
   "metadata": {},
   "outputs": [
    {
     "name": "stdout",
     "output_type": "stream",
     "text": [
      "['1_occupancy', '2_healthy_older_people', '3_bitcoin_heist_ransonware_address', '4_bank_additional', '5_interventionscitoyendo', '6_credit_cards', '7_census_income', '8_yeast', '9_magic_gamma', 'urls.txt']\n",
      "C:\\Users\\manjo\\Documents\\GitHub\\COMP-6321-ML\\datasets\\1_occupancy C:\\Users\\manjo\\Documents\\GitHub\\COMP-6321-ML\\datasets\\2_healthy_older_people C:\\Users\\manjo\\Documents\\GitHub\\COMP-6321-ML\\datasets\\3_bitcoin_heist_ransonware_address C:\\Users\\manjo\\Documents\\GitHub\\COMP-6321-ML\\datasets\\4_bank_additional\n"
     ]
    }
   ],
   "source": [
    "current_directory = os.path.dirname(os.getcwd())\n",
    "project_directory = os.path.split(current_directory)[0]\n",
    "dataset_directory = os.path.join(project_directory, 'datasets')\n",
    "\n",
    "occupancy_dataset_directory = os.path.join(dataset_directory, '1_occupancy')\n",
    "healthy_older_people_dataset_directory = os.path.join(dataset_directory, '2_healthy_older_people')\n",
    "bitcoin_heist_ransonware_address_dataset_directory = os.path.join(dataset_directory, '3_bitcoin_heist_ransonware_address')\n",
    "bank_additional_dataset_directory = os.path.join(dataset_directory, '4_bank_additional')\n",
    "montreal_crime_dataset_directory = os.path.join(dataset_directory, '5_interventionscitoyendo')\n",
    "credit_cards_dataset_directory = os.path.join(dataset_directory, '6_credit_cards')\n",
    "census_income_dataset_directory = os.path.join(dataset_directory, '7_census_income')\n",
    "yeast_dataset_directory = os.path.join(dataset_directory, '8_yeast')\n",
    "magic_gamma_dataset_directory = os.path.join(dataset_directory, '9_magic_gamma')\n",
    "\n",
    "print(os.listdir(dataset_directory))\n",
    "print(occupancy_dataset_directory\n",
    "      , healthy_older_people_dataset_directory\n",
    "      , bitcoin_heist_ransonware_address_dataset_directory\n",
    "      , bank_additional_dataset_directory)"
   ]
  },
  {
   "cell_type": "code",
   "execution_count": 91,
   "metadata": {},
   "outputs": [],
   "source": [
    "le = sklearn.preprocessing.LabelEncoder()\n",
    "svm_info = []\n",
    "naive_bayes_info=[]"
   ]
  },
  {
   "cell_type": "code",
   "execution_count": 92,
   "metadata": {},
   "outputs": [],
   "source": [
    "## SVM classification model with deafult values\n",
    "def svm_classification(X_train,y_train,X_test,y_test):\n",
    "    start = time.time()\n",
    "    svm_model = sklearn.svm.SVC(random_state=0,probability=True)\n",
    "    svm_model.fit(X_train,y_train)\n",
    "    t = time.time()-start\n",
    "    return svm_model,t;"
   ]
  },
  {
   "cell_type": "code",
   "execution_count": 93,
   "metadata": {},
   "outputs": [],
   "source": [
    "## SVM classification using GRID SEARCH CV\n",
    "def svm_classification_tuned(X_train,y_train):\n",
    "    start = time.time()\n",
    "    svm_model = sklearn.svm.SVC(kernel = 'rbf',probability=True)\n",
    "    c = np.logspace(-1,2,4)\n",
    "    gamma = np.logspace(-3,1,4)   \n",
    "    param_grid = { 'C':c,'gamma':gamma}\n",
    "    svm_model_gs = sklearn.model_selection.GridSearchCV(svm_model,param_grid,verbose=1,cv=3) \n",
    "    svm_model_gs.fit(X_train,y_train)\n",
    "    t = time.time()-start\n",
    "    return svm_model_gs.best_estimator_,t;"
   ]
  },
  {
   "cell_type": "code",
   "execution_count": 94,
   "metadata": {},
   "outputs": [],
   "source": [
    "## Gaussian classification model \n",
    "def gaussian_classification(X_train,y_train,X_test,y_test,probs):\n",
    "    start = time.time()\n",
    "    gnb_model = sklearn.naive_bayes.GaussianNB(priors=probs)\n",
    "    gnb_model.fit(X_train,y_train)\n",
    "    t = time.time()-start\n",
    "    return gnb_model,t;"
   ]
  },
  {
   "cell_type": "code",
   "execution_count": 7,
   "metadata": {},
   "outputs": [],
   "source": [
    "## Plot different features densities categorised by class.\n",
    "def plot_feature_outcome_corr(data,palette):\n",
    "    i=1\n",
    "    rows = np.ceil(len(data.columns)/3)\n",
    "    \n",
    "    for j in range(0,len(data.columns)-1):\n",
    "        if( (i-1) %3.0 == 0):\n",
    "            fig = plt.figure(figsize=(16,rows*5)) \n",
    "        ax = plt.subplot(rows, 3, i) \n",
    "        g = sns.FacetGrid(data, hue=data.columns[-1],palette=palette)\n",
    "        g.map(sns.distplot,data.columns[j] , kde=False, bins=15,ax=ax)\n",
    "        plt.title('{:s}'.format(data.columns[j]))\n",
    "        ax.legend(title=data.columns[-1])\n",
    "        i = i+1\n",
    "        plt.close()"
   ]
  },
  {
   "cell_type": "code",
   "execution_count": 95,
   "metadata": {},
   "outputs": [],
   "source": [
    "# Models ROC AUC plotting code\n",
    "def plotModel (model,X_train,y_train,X_test,y_test):\n",
    "    \n",
    "    y_predicttrain = model.predict(X_train)\n",
    "    y_predicttest = model.predict(X_test)\n",
    "    ac_train=sklearn.metrics.accuracy_score(y_train, y_predicttrain)*100\n",
    "    ac_test=sklearn.metrics.accuracy_score(y_test, y_predicttest)*100\n",
    "    if np.unique(y_train).size>2:\n",
    "        lb = sklearn.preprocessing.LabelBinarizer()\n",
    "        y_test=lb.fit_transform(y_test)\n",
    "        y_predicttest=lb.transform(y_predicttest)\n",
    "        \n",
    "        roc=sklearn.metrics.roc_auc_score(y_test, model.predict_proba(X_test), multi_class=\"ovr\", average=\"weighted\")*100        \n",
    "    else:\n",
    "        roc=sklearn.metrics.roc_auc_score(y_test, model.predict_proba(X_test)[:,1])*100\n",
    "        \n",
    "        sklearn.metrics.plot_roc_curve(model, X_test, y_test)\n",
    "    return ac_train,ac_test,roc"
   ]
  },
  {
   "cell_type": "code",
   "execution_count": 116,
   "metadata": {},
   "outputs": [],
   "source": [
    "def model_normalised(m,X_train,y_train,X_test,y_test,probs):\n",
    "    plt.figure()\n",
    "    minmax = sklearn.preprocessing.MinMaxScaler().fit(X_train)\n",
    "    X_minmaxed = minmax.fit_transform(X_train)\n",
    "    X_test_minmaxed = minmax.fit_transform(X_test)\n",
    "   \n",
    "    if m == 'svm':\n",
    "        model,tym = svm_classification(X_minmaxed,y_train,X_test_minmaxed,y_test)\n",
    "    elif m== 'gnb':\n",
    "        model,tym = gaussian_classification(X_minmaxed,y_train,X_test_minmaxed,y_test,probs)\n",
    "    train_acc,test_acc,roc = evalModel(model,X_minmaxed,y_train,X_test_minmaxed,y_test)\n",
    "    \n",
    "    print(model)\n",
    "    print (\"Elapsed time:            \"+\"{:.4f}\".format(tym)+\" sec\")\n",
    "    print (\"Training accuracy score: \"+\"{:.4f}\".format(train_acc)+\"%\")\n",
    "    print (\"Test accuracy score:     \"+\"{:.4f}\".format(test_acc)+\"%\")\n",
    "    print (\"ROC AUC score:           \"+\"{:.4f}\".format(roc)+\"%\")\n",
    " \n"
   ]
  },
  {
   "cell_type": "code",
   "execution_count": 117,
   "metadata": {},
   "outputs": [],
   "source": [
    "def model_pca(m,X_train,y_train,X_test,y_test,probs):\n",
    "    minmax = sklearn.preprocessing.MinMaxScaler().fit(X_train)\n",
    "    X_minmaxed = minmax.fit_transform(X_train)\n",
    "    X_test_minmaxed = minmax.fit_transform(X_test)\n",
    "    pca = PCA(n_components='mle')\n",
    "    X_pca = pca.fit_transform(X_minmaxed)\n",
    "    X_test_pca = pca.fit_transform(X_test_minmaxed)\n",
    "    if m == 'svm':\n",
    "        model,tym = svm_classification(X_pca,y_train,X_test_pca,y_test)\n",
    "    elif m== 'gnb':\n",
    "        model,tym = gaussian_classification(X_pca,y_train,X_test_pca,y_test,probs)\n",
    "    train_acc,test_acc,roc = evalModel(model,X_pca,y_train,X_test_pca,y_test)\n",
    "    print(model)\n",
    "    print (\"Elapsed time:            \"+\"{:.4f}\".format(tym)+\" sec\")\n",
    "    print (\"Training accuracy score: \"+\"{:.4f}\".format(train_acc)+\"%\")\n",
    "    print (\"Test accuracy score:     \"+\"{:.4f}\".format(test_acc)+\"%\")\n",
    "    print (\"ROC AUC score:           \"+\"{:.4f}\".format(roc)+\"%\")"
   ]
  },
  {
   "cell_type": "code",
   "execution_count": 118,
   "metadata": {},
   "outputs": [],
   "source": [
    "def model_variance(m,X_train,y_train,X_test,y_test,probs):    \n",
    "    var = sklearn.feature_selection.VarianceThreshold(threshold=0.8)\n",
    "    X_red = var.fit_transform(X_train)\n",
    "    X_test_red = var.fit_transform(X_test)\n",
    "    if m == 'svm':\n",
    "        model,tym = svm_classification(X_red,y_train,X_test_red,y_test)\n",
    "    elif m== 'gnb':\n",
    "        model,tym = gaussian_classification(X_red,y_train,X_test_red,y_test,probs)\n",
    "    train_acc,test_acc,roc = evalModel(model,X_red,y_train,X_test_red,y_test)\n",
    "    print(model)\n",
    "    print (\"Elapsed time:            \"+\"{:.4f}\".format(tym)+\" sec\")\n",
    "    print (\"Training accuracy score: \"+\"{:.4f}\".format(train_acc)+\"%\")\n",
    "    print (\"Test accuracy score:     \"+\"{:.4f}\".format(test_acc)+\"%\")\n",
    "    print (\"ROC AUC score:           \"+\"{:.4f}\".format(roc)+\"%\")"
   ]
  },
  {
   "cell_type": "code",
   "execution_count": 119,
   "metadata": {},
   "outputs": [],
   "source": [
    "def evalModel (model,X_train,y_train,X_test,y_test):\n",
    "    \n",
    "    y_predicttrain = model.predict(X_train)\n",
    "    y_predicttest = model.predict(X_test)\n",
    "    ac_train=sklearn.metrics.accuracy_score(y_train, y_predicttrain)*100\n",
    "    ac_test=sklearn.metrics.accuracy_score(y_test, y_predicttest)*100\n",
    "    if np.unique(y_train).size>2:\n",
    "        lb = sklearn.preprocessing.LabelBinarizer()\n",
    "        y_test=lb.fit_transform(y_test)\n",
    "        y_predicttest=lb.transform(y_predicttest)\n",
    "        \n",
    "        roc=sklearn.metrics.roc_auc_score(y_test, model.predict_proba(X_test), multi_class=\"ovr\", average=\"weighted\")*100        \n",
    "    else:\n",
    "        roc=sklearn.metrics.roc_auc_score(y_test, model.predict_proba(X_test)[:,1])*100\n",
    "    return ac_train,ac_test,roc"
   ]
  },
  {
   "cell_type": "code",
   "execution_count": 123,
   "metadata": {},
   "outputs": [],
   "source": [
    "def plot(m,X_train,y_train,X_test,y_test,probs):\n",
    "    print(\"Normalisation\")\n",
    "    model_normalised(m,X_train,y_train,X_test,y_test,probs)\n",
    "    \n",
    "    print(\"\\nPCA\")\n",
    "    \n",
    "    model_pca(m,X_train,y_train,X_test,y_test,probs)\n",
    "    print(\"\\nVariance Threshhold\")\n",
    "    \n",
    "    model_variance(m,X_train,y_train,X_test,y_test,probs)\n",
    "    "
   ]
  },
  {
   "cell_type": "markdown",
   "metadata": {},
   "source": [
    "\n",
    " ## 1.OCCUPANCY DATASET\n"
   ]
  },
  {
   "cell_type": "markdown",
   "metadata": {},
   "source": [
    "### Data Loading"
   ]
  },
  {
   "cell_type": "code",
   "execution_count": 121,
   "metadata": {},
   "outputs": [],
   "source": [
    "training_dataset_url = os.path.join(occupancy_dataset_directory, 'occupancy_data', 'datatraining.txt')\n",
    "test_dataset_url = os.path.join(occupancy_dataset_directory, 'occupancy_data', 'datatest.txt')\n",
    "\n",
    "data_occupancy = np.loadtxt(training_dataset_url,delimiter=',', skiprows=1, usecols = (2,3,4,5,6,7))\n",
    "data_occupany_test=np.loadtxt(test_dataset_url, delimiter=',', skiprows=1, usecols = (2,3,4,5,6,7))\n",
    "X_train=data_occupancy[:, 0:5]\n",
    "y_train=data_occupancy[:, 5].astype(np.int32)\n",
    "X_test=data_occupany_test[:, 0:5]\n",
    "y_test=data_occupany_test[:, 5].astype(np.int32)"
   ]
  },
  {
   "cell_type": "markdown",
   "metadata": {},
   "source": [
    "### Plot Feature-Outcome correlation"
   ]
  },
  {
   "cell_type": "code",
   "execution_count": 122,
   "metadata": {},
   "outputs": [
    {
     "data": {
      "image/png": "[encoded data removed]",
      "text/plain": [
       "<Figure size 1152x720 with 3 Axes>"
      ]
     },
     "metadata": {
      "needs_background": "light"
     },
     "output_type": "display_data"
    },
    {
     "data": {
      "image/png": "[encoded data removed]",
      "text/plain": [
       "<Figure size 1152x720 with 2 Axes>"
      ]
     },
     "metadata": {
      "needs_background": "light"
     },
     "output_type": "display_data"
    }
   ],
   "source": [
    "cols = ['Temperature','Humidity','Light','CO2','HumidityRatio','Occupancy']\n",
    "data = pd.DataFrame(data=data_occupancy,columns=cols)\n",
    "palette={0: \"b\", 1: \"r\"}\n",
    "plot_feature_outcome_corr(data,palette)"
   ]
  },
  {
   "cell_type": "markdown",
   "metadata": {},
   "source": [
    "### Model Evaluation"
   ]
  },
  {
   "cell_type": "markdown",
   "metadata": {},
   "source": [
    "### SVM Classifier"
   ]
  },
  {
   "cell_type": "code",
   "execution_count": 13,
   "metadata": {},
   "outputs": [
    {
     "name": "stdout",
     "output_type": "stream",
     "text": [
      "SVC(probability=True, random_state=0)\n",
      "Elapsed time:            1.1001 sec\n",
      "Training accuracy score: 98.8702%\n",
      "Test accuracy score:     97.6735%\n",
      "ROC AUC score:           98.3619%\n"
     ]
    },
    {
     "data": {
      "image/png": "[encoded data removed]",
      "text/plain": [
       "<Figure size 432x288 with 1 Axes>"
      ]
     },
     "metadata": {
      "needs_background": "light"
     },
     "output_type": "display_data"
    }
   ],
   "source": [
    "model,tym = svm_classification(X_train,y_train,X_test,y_test)\n",
    "train_acc,test_acc,roc = plotModel(model,X_train,y_train,X_test,y_test)\n",
    "print(model)\n",
    "print (\"Elapsed time:            \"+\"{:.4f}\".format(tym)+\" sec\")\n",
    "print (\"Training accuracy score: \"+\"{:.4f}\".format(train_acc)+\"%\")\n",
    "print (\"Test accuracy score:     \"+\"{:.4f}\".format(test_acc)+\"%\")\n",
    "print (\"ROC AUC score:           \"+\"{:.4f}\".format(roc)+\"%\")\n",
    "svm_info.append([tym,train_acc,test_acc,roc])"
   ]
  },
  {
   "cell_type": "markdown",
   "metadata": {},
   "source": [
    "### SVM using GRIDSEARCH"
   ]
  },
  {
   "cell_type": "code",
   "execution_count": 17,
   "metadata": {},
   "outputs": [
    {
     "name": "stdout",
     "output_type": "stream",
     "text": [
      "Fitting 3 folds for each of 16 candidates, totalling 48 fits\n"
     ]
    },
    {
     "name": "stderr",
     "output_type": "stream",
     "text": [
      "[Parallel(n_jobs=1)]: Using backend SequentialBackend with 1 concurrent workers.\n",
      "[Parallel(n_jobs=1)]: Done  48 out of  48 | elapsed: 10.5min finished\n"
     ]
    },
    {
     "name": "stdout",
     "output_type": "stream",
     "text": [
      "SVC(C=0.1, gamma=0.001, probability=True)\n"
     ]
    }
   ],
   "source": [
    "#np.random.shuffle(data_occupancy)\n",
    "model,tym = svm_classification_tuned(X_train,y_train)\n",
    "print(model)\n"
   ]
  },
  {
   "cell_type": "code",
   "execution_count": 14,
   "metadata": {},
   "outputs": [
    {
     "name": "stdout",
     "output_type": "stream",
     "text": [
      "Elapsed time:            1.1001 sec\n",
      "Training accuracy score: 98.8702%\n",
      "Test accuracy score:     97.6735%\n",
      "ROC AUC score:           98.3619%\n"
     ]
    },
    {
     "data": {
      "image/png": "[encoded data removed]",
      "text/plain": [
       "<Figure size 432x288 with 1 Axes>"
      ]
     },
     "metadata": {
      "needs_background": "light"
     },
     "output_type": "display_data"
    }
   ],
   "source": [
    "train_acc,test_acc,roc = plotModel(model,X_train,y_train,X_test,y_test)\n",
    "print (\"Elapsed time:            \"+\"{:.4f}\".format(tym)+\" sec\")\n",
    "print (\"Training accuracy score: \"+\"{:.4f}\".format(train_acc)+\"%\")\n",
    "print (\"Test accuracy score:     \"+\"{:.4f}\".format(test_acc)+\"%\")\n",
    "print (\"ROC AUC score:           \"+\"{:.4f}\".format(roc)+\"%\")"
   ]
  },
  {
   "cell_type": "markdown",
   "metadata": {},
   "source": [
    "### GAUSSIAN NAIVE BAYES"
   ]
  },
  {
   "cell_type": "code",
   "execution_count": 125,
   "metadata": {},
   "outputs": [
    {
     "name": "stdout",
     "output_type": "stream",
     "text": [
      "Elapsed time:            0.0072 sec\n",
      "Training accuracy score: 97.8018%\n",
      "Test accuracy score:     97.7486%\n",
      "ROC AUC score:           98.9499%\n"
     ]
    },
    {
     "data": {
      "image/png": "[encoded data removed]",
      "text/plain": [
       "<Figure size 432x288 with 1 Axes>"
      ]
     },
     "metadata": {
      "needs_background": "light"
     },
     "output_type": "display_data"
    }
   ],
   "source": [
    "prob_0 = y_train[y_train ==0].shape[0]/y_train.shape[0]\n",
    "prob_1 = y_train[y_train ==1].shape[0]/y_train.shape[0]\n",
    "probs = np.array([prob_0,prob_1])\n",
    "model,tym = gaussian_classification(X_train,y_train,X_test,y_test,probs)\n",
    "train_acc,test_acc,roc = plotModel(model,X_train,y_train,X_test,y_test)\n",
    "print (\"Elapsed time:            \"+\"{:.4f}\".format(tym)+\" sec\")\n",
    "print (\"Training accuracy score: \"+\"{:.4f}\".format(train_acc)+\"%\")\n",
    "print (\"Test accuracy score:     \"+\"{:.4f}\".format(test_acc)+\"%\")\n",
    "print (\"ROC AUC score:           \"+\"{:.4f}\".format(roc)+\"%\")\n",
    "naive_bayes_info.append([tym,train_acc,test_acc,roc])"
   ]
  },
  {
   "cell_type": "code",
   "execution_count": 124,
   "metadata": {},
   "outputs": [
    {
     "name": "stdout",
     "output_type": "stream",
     "text": [
      "Normalisation\n",
      "SVC(probability=True, random_state=0)\n",
      "Elapsed time:            0.9278 sec\n",
      "Training accuracy score: 98.8948%\n",
      "Test accuracy score:     97.5985%\n",
      "ROC AUC score:           97.5749%\n",
      "\n",
      "PCA\n",
      "SVC(probability=True, random_state=0)\n",
      "Elapsed time:            1.0040 sec\n",
      "Training accuracy score: 98.8948%\n",
      "Test accuracy score:     90.9568%\n",
      "ROC AUC score:           98.3605%\n",
      "\n",
      "Variance Threshhold\n",
      "SVC(probability=True, random_state=0)\n",
      "Elapsed time:            1.3258 sec\n",
      "Training accuracy score: 98.8579%\n",
      "Test accuracy score:     97.6735%\n",
      "ROC AUC score:           98.4727%\n"
     ]
    },
    {
     "data": {
      "text/plain": [
       "<Figure size 432x288 with 0 Axes>"
      ]
     },
     "metadata": {},
     "output_type": "display_data"
    }
   ],
   "source": [
    "plot('svm',X_train,y_train,X_test,y_test,None)"
   ]
  },
  {
   "cell_type": "code",
   "execution_count": 126,
   "metadata": {},
   "outputs": [
    {
     "name": "stdout",
     "output_type": "stream",
     "text": [
      "Normalisation\n",
      "GaussianNB(priors=array([0.78767039, 0.21232961]))\n",
      "Elapsed time:            0.0064 sec\n",
      "Training accuracy score: 97.8878%\n",
      "Test accuracy score:     95.4597%\n",
      "ROC AUC score:           99.0679%\n",
      "\n",
      "PCA\n",
      "GaussianNB(priors=array([0.78767039, 0.21232961]))\n",
      "Elapsed time:            0.0041 sec\n",
      "Training accuracy score: 97.7281%\n",
      "Test accuracy score:     85.1782%\n",
      "ROC AUC score:           99.1728%\n",
      "\n",
      "Variance Threshhold\n",
      "GaussianNB(priors=array([0.78767039, 0.21232961]))\n",
      "Elapsed time:            0.0040 sec\n",
      "Training accuracy score: 97.8018%\n",
      "Test accuracy score:     97.7486%\n",
      "ROC AUC score:           98.9500%\n"
     ]
    },
    {
     "data": {
      "text/plain": [
       "<Figure size 432x288 with 0 Axes>"
      ]
     },
     "metadata": {},
     "output_type": "display_data"
    }
   ],
   "source": [
    "plot('gnb',X_train,y_train,X_test,y_test,probs)"
   ]
  },
  {
   "cell_type": "markdown",
   "metadata": {},
   "source": [
    "## 2.BANK MARKETTING"
   ]
  },
  {
   "cell_type": "markdown",
   "metadata": {},
   "source": [
    "### Data Loading"
   ]
  },
  {
   "cell_type": "code",
   "execution_count": 15,
   "metadata": {},
   "outputs": [],
   "source": [
    "training_dataset_url = os.path.join(bank_additional_dataset_directory, 'bank-additional', 'bank-additional', 'bank-additional-full.csv')\n",
    "test_dataset_url = os.path.join(bank_additional_dataset_directory, 'bank-additional', 'bank-additional', 'bank-additional.csv')\n",
    "\n",
    "\n",
    "data_bank = pd.read_csv(training_dataset_url, delimiter=';')\n",
    "data_bank_test= pd.read_csv(test_dataset_url, delimiter=';')"
   ]
  },
  {
   "cell_type": "code",
   "execution_count": 16,
   "metadata": {},
   "outputs": [],
   "source": [
    "\n",
    "\n",
    "for i in [1,2,3,4,5,6,7,8,9,14]:\n",
    "    data_bank.iloc[:,i] = le.fit_transform(data_bank.iloc[:,i])\n",
    "    data_bank_test.iloc[:,i] = le.fit_transform(data_bank_test.iloc[:,i])\n",
    "    \n",
    "bank_labels ={'no':0,'yes':1}\n",
    "data_bank.y = [bank_labels[i] for i in data_bank.y]\n",
    "data_bank_test.y = [bank_labels[i] for i in data_bank_test.y]\n",
    "\n",
    "X_train = data_bank.iloc[:,:-1]\n",
    "y_train = data_bank.iloc[:,-1].astype('int32')\n",
    "\n",
    "X_test = data_bank_test.iloc[:,:-1]\n",
    "y_test = data_bank_test.iloc[:,-1].astype('int32')\n"
   ]
  },
  {
   "cell_type": "markdown",
   "metadata": {},
   "source": [
    "### Plot Feature-Outcome correlation"
   ]
  },
  {
   "cell_type": "code",
   "execution_count": 17,
   "metadata": {},
   "outputs": [],
   "source": [
    "# palette ={0: \"b\", 1: \"r\"}\n",
    "# plot_feature_outcome_corr(data_bank,palette)"
   ]
  },
  {
   "cell_type": "markdown",
   "metadata": {},
   "source": [
    "### Model Evaluation"
   ]
  },
  {
   "cell_type": "markdown",
   "metadata": {},
   "source": [
    "### SVM"
   ]
  },
  {
   "cell_type": "code",
   "execution_count": 18,
   "metadata": {},
   "outputs": [
    {
     "name": "stdout",
     "output_type": "stream",
     "text": [
      "Elapsed time:            190.3031 sec\n",
      "Training accuracy score: 89.7956%\n",
      "Test accuracy score:     90.0947%\n",
      "ROC AUC score:           92.3197%\n"
     ]
    },
    {
     "data": {
      "image/png": "[encoded data removed]",
      "text/plain": [
       "<Figure size 432x288 with 1 Axes>"
      ]
     },
     "metadata": {
      "needs_background": "light"
     },
     "output_type": "display_data"
    }
   ],
   "source": [
    "model,tym = svm_classification(X_train,y_train,X_test,y_test)\n",
    "train_acc,test_acc,roc = plotModel(model,X_train,y_train,X_test,y_test)\n",
    "print (\"Elapsed time:            \"+\"{:.4f}\".format(tym)+\" sec\")\n",
    "print (\"Training accuracy score: \"+\"{:.4f}\".format(train_acc)+\"%\")\n",
    "print (\"Test accuracy score:     \"+\"{:.4f}\".format(test_acc)+\"%\")\n",
    "print (\"ROC AUC score:           \"+\"{:.4f}\".format(roc)+\"%\")\n",
    "svm_info.append([tym,train_acc,test_acc,roc])"
   ]
  },
  {
   "cell_type": "markdown",
   "metadata": {},
   "source": [
    "### SVM using GRIDSEARCH"
   ]
  },
  {
   "cell_type": "code",
   "execution_count": null,
   "metadata": {},
   "outputs": [
    {
     "name": "stdout",
     "output_type": "stream",
     "text": [
      "Fitting 3 folds for each of 16 candidates, totalling 48 fits\n"
     ]
    },
    {
     "name": "stderr",
     "output_type": "stream",
     "text": [
      "[Parallel(n_jobs=1)]: Using backend SequentialBackend with 1 concurrent workers.\n"
     ]
    }
   ],
   "source": [
    "model,tym = svm_classification_tuned(X_train,y_train)\n",
    "print(model)"
   ]
  },
  {
   "cell_type": "code",
   "execution_count": null,
   "metadata": {},
   "outputs": [],
   "source": [
    "train_acc,test_acc,roc = plotModel(model,X_train,y_train,X_test,y_test)\n",
    "print (\"Elapsed time:            \"+\"{:.4f}\".format(tym)+\" sec\")\n",
    "print (\"Training accuracy score: \"+\"{:.4f}\".format(train_acc)+\"%\")\n",
    "print (\"Test accuracy score:     \"+\"{:.4f}\".format(test_acc)+\"%\")\n",
    "print (\"ROC AUC score:           \"+\"{:.4f}\".format(roc)+\"%\")"
   ]
  },
  {
   "cell_type": "markdown",
   "metadata": {},
   "source": [
    "### GAUSSIAN NAIVE BAYES"
   ]
  },
  {
   "cell_type": "code",
   "execution_count": 19,
   "metadata": {},
   "outputs": [
    {
     "name": "stdout",
     "output_type": "stream",
     "text": [
      "Elapsed time:            0.0329 sec\n",
      "Training accuracy score: 84.6557%\n",
      "Test accuracy score:     84.6565%\n",
      "ROC AUC score:           84.7305%\n"
     ]
    },
    {
     "data": {
      "image/png": "[encoded data removed]",
      "text/plain": [
       "<Figure size 432x288 with 1 Axes>"
      ]
     },
     "metadata": {
      "needs_background": "light"
     },
     "output_type": "display_data"
    }
   ],
   "source": [
    "prob_0 = y_train[y_train ==0].shape[0]/y_train.shape[0]\n",
    "prob_1 = y_train[y_train ==1].shape[0]/y_train.shape[0]\n",
    "probs = np.array([prob_0,prob_1])\n",
    "model,tym = gaussian_classification(X_train,y_train,X_test,y_test,probs)\n",
    "train_acc,test_acc,roc = plotModel(model,X_train,y_train,X_test,y_test)\n",
    "print (\"Elapsed time:            \"+\"{:.4f}\".format(tym)+\" sec\")\n",
    "print (\"Training accuracy score: \"+\"{:.4f}\".format(train_acc)+\"%\")\n",
    "print (\"Test accuracy score:     \"+\"{:.4f}\".format(test_acc)+\"%\")\n",
    "print (\"ROC AUC score:           \"+\"{:.4f}\".format(roc)+\"%\")\n",
    "naive_bayes_info.append([tym,train_acc,test_acc,roc])"
   ]
  },
  {
   "cell_type": "markdown",
   "metadata": {},
   "source": [
    "## 3.ACTIVITY RECOGNITION IN HEALTHY OLD PEOPLE"
   ]
  },
  {
   "cell_type": "markdown",
   "metadata": {},
   "source": [
    "### Data Loading"
   ]
  },
  {
   "cell_type": "code",
   "execution_count": 20,
   "metadata": {},
   "outputs": [],
   "source": [
    "files = glob.glob(os.path.join(healthy_older_people_dataset_directory, 'Datasets_Healthy_Older_People', 'datasets', \"S1_Dataset\", \"d*\"))\n",
    "files.extend(glob.glob(os.path.join(healthy_older_people_dataset_directory, 'Datasets_Healthy_Older_People', 'datasets', \"S2_Dataset\", \"d*\")))\n",
    "\n",
    "\n",
    "ar_files = [pd.read_csv(f, header=None) for f in files]\n",
    "data_ar=pd.concat(ar_files,ignore_index=True).values\n",
    "\n",
    "X=data_ar[:, 1:8]\n",
    "y=data_ar[:, 8].astype('int32')\n",
    "\n",
    "X_train,X_test,y_train,y_test = train_test_split(X,y,test_size=0.2)"
   ]
  },
  {
   "cell_type": "markdown",
   "metadata": {},
   "source": [
    "### Plot Feature-Outcome correlation"
   ]
  },
  {
   "cell_type": "code",
   "execution_count": 12,
   "metadata": {},
   "outputs": [],
   "source": [
    "# cols =['AccFrontal','AccVertical','AccLateral','IdSensor','RSSI','Phase','Frequency','ActivityLabel']\n",
    "# palette = {1: \"b\", 2: \"r\",3:\"olive\",4:\"g\"}\n",
    "# data = pd.DataFrame(data =np.hstack((X_train,y_train.reshape(-1,1))),columns=cols )\n",
    "# plot_feature_outcome_corr(data,palette)"
   ]
  },
  {
   "cell_type": "markdown",
   "metadata": {},
   "source": [
    "### Model Evaluation"
   ]
  },
  {
   "cell_type": "markdown",
   "metadata": {},
   "source": [
    "### SVM"
   ]
  },
  {
   "cell_type": "code",
   "execution_count": 21,
   "metadata": {},
   "outputs": [
    {
     "name": "stdout",
     "output_type": "stream",
     "text": [
      "Elapsed time:            542.4185 sec\n",
      "Training accuracy score: 68.6217%\n",
      "Test accuracy score:     68.3948%\n",
      "ROC AUC score:           98.1857%\n"
     ]
    }
   ],
   "source": [
    "model,tym = svm_classification(X_train,y_train,X_test,y_test)\n",
    "train_acc,test_acc,roc = plotModel(model,X_train,y_train,X_test,y_test)\n",
    "print (\"Elapsed time:            \"+\"{:.4f}\".format(tym)+\" sec\")\n",
    "print (\"Training accuracy score: \"+\"{:.4f}\".format(train_acc)+\"%\")\n",
    "print (\"Test accuracy score:     \"+\"{:.4f}\".format(test_acc)+\"%\")\n",
    "print (\"ROC AUC score:           \"+\"{:.4f}\".format(roc)+\"%\")\n",
    "svm_info.append([tym,train_acc,test_acc,roc])"
   ]
  },
  {
   "cell_type": "markdown",
   "metadata": {},
   "source": [
    "### SVM using GRIDSEARCH"
   ]
  },
  {
   "cell_type": "code",
   "execution_count": null,
   "metadata": {},
   "outputs": [],
   "source": [
    "model,tym = svm_classification_tuned(X_train,y_train)\n",
    "print(model)"
   ]
  },
  {
   "cell_type": "code",
   "execution_count": null,
   "metadata": {},
   "outputs": [],
   "source": [
    "train_acc,test_acc,roc = plotModel(model,X_train,y_train,X_test,y_test)\n",
    "print (\"Elapsed time:            \"+\"{:.4f}\".format(tym)+\" sec\")\n",
    "print (\"Training accuracy score: \"+\"{:.4f}\".format(train_acc)+\"%\")\n",
    "print (\"Test accuracy score:     \"+\"{:.4f}\".format(test_acc)+\"%\")\n",
    "print (\"ROC AUC score:           \"+\"{:.4f}\".format(roc)+\"%\")"
   ]
  },
  {
   "cell_type": "markdown",
   "metadata": {},
   "source": [
    "### GAUSSIAN NAIVE  BAYES"
   ]
  },
  {
   "cell_type": "code",
   "execution_count": 22,
   "metadata": {},
   "outputs": [
    {
     "name": "stdout",
     "output_type": "stream",
     "text": [
      "Elapsed time:            0.0230 sec\n",
      "Training accuracy score: 94.2331%\n",
      "Test accuracy score:     94.0370%\n",
      "ROC AUC score:           99.3581%\n"
     ]
    }
   ],
   "source": [
    "prob_1 = y_train[y_train ==1].shape[0]/y_train.shape[0]\n",
    "prob_2 = y_train[y_train ==2].shape[0]/y_train.shape[0]\n",
    "prob_3 = y_train[y_train ==3].shape[0]/y_train.shape[0]\n",
    "prob_4 = y_train[y_train ==4].shape[0]/y_train.shape[0]\n",
    "probs = np.array([prob_1,prob_2,prob_3,prob_4])\n",
    "\n",
    "model,tym = gaussian_classification(X_train,y_train,X_test,y_test,probs)\n",
    "train_acc,test_acc,roc = plotModel(model,X_train,y_train,X_test,y_test)\n",
    "print (\"Elapsed time:            \"+\"{:.4f}\".format(tym)+\" sec\")\n",
    "print (\"Training accuracy score: \"+\"{:.4f}\".format(train_acc)+\"%\")\n",
    "print (\"Test accuracy score:     \"+\"{:.4f}\".format(test_acc)+\"%\")\n",
    "print (\"ROC AUC score:           \"+\"{:.4f}\".format(roc)+\"%\")\n",
    "naive_bayes_info.append([tym,train_acc,test_acc,roc])"
   ]
  },
  {
   "cell_type": "markdown",
   "metadata": {},
   "source": [
    "## 4.BITCOIN HEIST DATA"
   ]
  },
  {
   "cell_type": "markdown",
   "metadata": {},
   "source": [
    "### Data Loading"
   ]
  },
  {
   "cell_type": "code",
   "execution_count": 23,
   "metadata": {},
   "outputs": [],
   "source": [
    "training_dataset_url = os.path.join(bitcoin_heist_ransonware_address_dataset_directory, 'data', 'BitcoinHeistData.csv')\n",
    "\n",
    "data_bitcoin =pd.read_csv(training_dataset_url,nrows=100000)\n",
    "\n",
    "bitcoin_labels = {'princetonCerber':1, 'princetonLocky':1, 'montrealCryptoLocker':1,\n",
    " 'montrealCryptXXX':1, 'paduaCryptoWall':1, 'montrealWannaCry':1,\n",
    " 'montrealDMALockerv3':1, 'montrealCryptoTorLocker2015':1, 'montrealSamSam':1,\n",
    " 'montrealFlyper':1, 'montrealNoobCrypt':1, 'montrealDMALocker':1, 'montrealGlobe':1,\n",
    " 'montrealEDA2':1, 'paduaKeRanger':1, 'montrealVenusLocker':1, 'montrealXTPLocker':1,\n",
    " 'paduaJigsaw':1, 'montrealGlobev3':1, 'montrealJigSaw':1, 'montrealXLockerv5.0':1,\n",
    " 'montrealXLocker':1, 'montrealRazy':1, 'montrealCryptConsole':1,\n",
    " 'montrealGlobeImposter':1, 'montrealSam':1, 'montrealComradeCircle':1,\n",
    " 'montrealAPT':1, 'white':0}\n",
    "data_bitcoin.label = [bitcoin_labels[i] for i in data_bitcoin.label]\n",
    "X = data_bitcoin.iloc[:,:-1]\n",
    "y= data_bitcoin.iloc[:,-1]\n",
    "\n",
    "le = sklearn.preprocessing.LabelEncoder()\n",
    "X.iloc[:,0] = le.fit_transform(X.iloc[:,0])\n",
    "X_train,X_test,y_train,y_test = train_test_split(X,y,test_size=0.1)"
   ]
  },
  {
   "cell_type": "markdown",
   "metadata": {},
   "source": [
    "### Model Evaluation"
   ]
  },
  {
   "cell_type": "markdown",
   "metadata": {},
   "source": [
    "### SVM"
   ]
  },
  {
   "cell_type": "code",
   "execution_count": 24,
   "metadata": {},
   "outputs": [
    {
     "name": "stdout",
     "output_type": "stream",
     "text": [
      "Elapsed time:            3216.4735 sec\n",
      "Training accuracy score: 70.7189%\n",
      "Test accuracy score:     70.1400%\n",
      "ROC AUC score:           81.2068%\n"
     ]
    },
    {
     "data": {
      "image/png": "[encoded data removed]",
      "text/plain": [
       "<Figure size 432x288 with 1 Axes>"
      ]
     },
     "metadata": {
      "needs_background": "light"
     },
     "output_type": "display_data"
    }
   ],
   "source": [
    "model,tym = svm_classification(X_train,y_train,X_test,y_test)\n",
    "train_acc,test_acc,roc = plotModel(model,X_train,y_train,X_test,y_test)\n",
    "print (\"Elapsed time:            \"+\"{:.4f}\".format(tym)+\" sec\")\n",
    "print (\"Training accuracy score: \"+\"{:.4f}\".format(train_acc)+\"%\")\n",
    "print (\"Test accuracy score:     \"+\"{:.4f}\".format(test_acc)+\"%\")\n",
    "print (\"ROC AUC score:           \"+\"{:.4f}\".format(roc)+\"%\")\n",
    "svm_info.append([tym,train_acc,test_acc,roc])"
   ]
  },
  {
   "cell_type": "markdown",
   "metadata": {},
   "source": [
    "### SVM using GRIDSEARCH"
   ]
  },
  {
   "cell_type": "code",
   "execution_count": null,
   "metadata": {},
   "outputs": [],
   "source": [
    "model,tym = svm_classification_tuned(X_train,y_train)\n",
    "print(model)"
   ]
  },
  {
   "cell_type": "code",
   "execution_count": null,
   "metadata": {},
   "outputs": [],
   "source": [
    "train_acc,test_acc,roc = plotModel(model,X_train,y_train,X_test,y_test)\n",
    "print (\"Elapsed time:            \"+\"{:.4f}\".format(tym)+\" sec\")\n",
    "print (\"Training accuracy score: \"+\"{:.4f}\".format(train_acc)+\"%\")\n",
    "print (\"Test accuracy score:     \"+\"{:.4f}\".format(test_acc)+\"%\")\n",
    "print (\"ROC AUC score:           \"+\"{:.4f}\".format(roc)+\"%\")"
   ]
  },
  {
   "cell_type": "markdown",
   "metadata": {},
   "source": [
    "### GAUSSIAN NAIVE BAYES"
   ]
  },
  {
   "cell_type": "code",
   "execution_count": 25,
   "metadata": {},
   "outputs": [
    {
     "name": "stdout",
     "output_type": "stream",
     "text": [
      "Elapsed time:            0.0459 sec\n",
      "Training accuracy score: 43.5922%\n",
      "Test accuracy score:     43.0900%\n",
      "ROC AUC score:           71.0826%\n"
     ]
    },
    {
     "data": {
      "image/png": "[encoded data removed]",
      "text/plain": [
       "<Figure size 432x288 with 1 Axes>"
      ]
     },
     "metadata": {
      "needs_background": "light"
     },
     "output_type": "display_data"
    }
   ],
   "source": [
    "prob_0 = y_train[y_train ==0].shape[0]/y_train.shape[0]\n",
    "prob_1 = y_train[y_train ==1].shape[0]/y_train.shape[0]\n",
    "probs = np.array([prob_0,prob_1])\n",
    "model,tym = gaussian_classification(X_train,y_train,X_test,y_test,probs)\n",
    "train_acc,test_acc,roc = plotModel(model,X_train,y_train,X_test,y_test)\n",
    "print (\"Elapsed time:            \"+\"{:.4f}\".format(tym)+\" sec\")\n",
    "print (\"Training accuracy score: \"+\"{:.4f}\".format(train_acc)+\"%\")\n",
    "print (\"Test accuracy score:     \"+\"{:.4f}\".format(test_acc)+\"%\")\n",
    "print (\"ROC AUC score:           \"+\"{:.4f}\".format(roc)+\"%\")\n",
    "naive_bayes_info.append([tym,train_acc,test_acc,roc])"
   ]
  },
  {
   "cell_type": "markdown",
   "metadata": {},
   "source": [
    "## 5. MONTREAL CRIME DATASET"
   ]
  },
  {
   "cell_type": "markdown",
   "metadata": {},
   "source": [
    "### Data Loading"
   ]
  },
  {
   "cell_type": "code",
   "execution_count": 26,
   "metadata": {},
   "outputs": [],
   "source": [
    "le = sklearn.preprocessing.LabelEncoder()\n",
    "training_dataset_url = os.path.join(montreal_crime_dataset_directory, 'interventionscitoyendo.csv')\n",
    "\n",
    "category_mapping = {'Introduction':1, 'Vol dans / sur véhicule à moteur':2, 'Vol de véhicule à moteur':3, 'Méfait':4, 'Vol qualifié':5, 'Infraction entraînant la mort':6, 'Vols qualifiés':5, 'Infractions entrainant la mort':6}\n",
    "\n",
    "data_mtlcrime = pd.read_csv(training_dataset_url,encoding='latin1',nrows=30000).replace(category_mapping)\n",
    "data_mtlcrime['YEAR']=data_mtlcrime.DATE.str.split('-').str[0].astype(np.int32)\n",
    "data_mtlcrime['MONTH']=data_mtlcrime.DATE.str.split('-').str[1].astype(np.int32)\n",
    "data_mtlcrime['DAY']=data_mtlcrime.DATE.str.split('-').str[2].astype(np.int32)\n",
    "data_mtlcrime.dropna(inplace=True)\n",
    "X = data_mtlcrime.iloc[:,[i for i in range(2,11)]]\n",
    "X.iloc[:,0] = le.fit_transform(X.iloc[:,0])\n",
    "\n",
    "y = data_mtlcrime.iloc[:,0]\n",
    "X_train,X_test,y_train,y_test = train_test_split(X,y,test_size=0.2)"
   ]
  },
  {
   "cell_type": "markdown",
   "metadata": {},
   "source": [
    "### Plot"
   ]
  },
  {
   "cell_type": "code",
   "execution_count": 13,
   "metadata": {},
   "outputs": [],
   "source": [
    "# palette = {1: \"b\", 2: \"r\",3:\"olive\",4:\"g\",5:'y',6:'orange'}\n",
    "# plot_feature_outcome_corr(pd.concat([X,y],axis=1),palette)"
   ]
  },
  {
   "cell_type": "markdown",
   "metadata": {},
   "source": [
    "### Model Evaluation"
   ]
  },
  {
   "cell_type": "markdown",
   "metadata": {},
   "source": [
    "### SVM"
   ]
  },
  {
   "cell_type": "code",
   "execution_count": 27,
   "metadata": {},
   "outputs": [
    {
     "name": "stdout",
     "output_type": "stream",
     "text": [
      "Elapsed time:            219.3469 sec\n",
      "Training accuracy score: 33.7875%\n",
      "Test accuracy score:     33.0667%\n",
      "ROC AUC score:           47.3449%\n"
     ]
    }
   ],
   "source": [
    "model,tym = svm_classification(X_train,y_train,X_test,y_test)\n",
    "train_acc,test_acc,roc = plotModel(model,X_train,y_train,X_test,y_test)\n",
    "print (\"Elapsed time:            \"+\"{:.4f}\".format(tym)+\" sec\")\n",
    "print (\"Training accuracy score: \"+\"{:.4f}\".format(train_acc)+\"%\")\n",
    "print (\"Test accuracy score:     \"+\"{:.4f}\".format(test_acc)+\"%\")\n",
    "print (\"ROC AUC score:           \"+\"{:.4f}\".format(roc)+\"%\")\n",
    "svm_info.append([tym,train_acc,test_acc,roc])"
   ]
  },
  {
   "cell_type": "markdown",
   "metadata": {},
   "source": [
    "### SVM using GRIDSEARCH"
   ]
  },
  {
   "cell_type": "code",
   "execution_count": null,
   "metadata": {},
   "outputs": [],
   "source": [
    "model,tym = svm_classification_tuned(X_train,y_train)\n",
    "print(model)"
   ]
  },
  {
   "cell_type": "code",
   "execution_count": null,
   "metadata": {},
   "outputs": [],
   "source": [
    "train_acc,test_acc,roc = plotModel(model,X_train,y_train,X_test,y_test)\n",
    "print (\"Elapsed time:            \"+\"{:.4f}\".format(tym)+\" sec\")\n",
    "print (\"Training accuracy score: \"+\"{:.4f}\".format(train_acc)+\"%\")\n",
    "print (\"Test accuracy score:     \"+\"{:.4f}\".format(test_acc)+\"%\")\n",
    "print (\"ROC AUC score:           \"+\"{:.4f}\".format(roc)+\"%\")"
   ]
  },
  {
   "cell_type": "markdown",
   "metadata": {},
   "source": [
    "### GAUSSIAN NAIVE BAYES"
   ]
  },
  {
   "cell_type": "code",
   "execution_count": 28,
   "metadata": {},
   "outputs": [
    {
     "name": "stdout",
     "output_type": "stream",
     "text": [
      "Elapsed time:            0.0160 sec\n",
      "Training accuracy score: 33.6083%\n",
      "Test accuracy score:     32.9167%\n",
      "ROC AUC score:           52.9795%\n"
     ]
    }
   ],
   "source": [
    "prob_1 = y_train[y_train ==1].shape[0]/y_train.shape[0]\n",
    "prob_2 = y_train[y_train ==2].shape[0]/y_train.shape[0]\n",
    "prob_3 = y_train[y_train ==3].shape[0]/y_train.shape[0]\n",
    "prob_4 = y_train[y_train ==4].shape[0]/y_train.shape[0]\n",
    "prob_5 = y_train[y_train ==5].shape[0]/y_train.shape[0]\n",
    "prob_6 = y_train[y_train ==6].shape[0]/y_train.shape[0]\n",
    "probs = np.array([prob_1,prob_2,prob_3,prob_4,prob_5,prob_6])\n",
    "model,tym = gaussian_classification(X_train,y_train,X_test,y_test,probs)\n",
    "train_acc,test_acc,roc = plotModel(model,X_train,y_train,X_test,y_test)\n",
    "print (\"Elapsed time:            \"+\"{:.4f}\".format(tym)+\" sec\")\n",
    "print (\"Training accuracy score: \"+\"{:.4f}\".format(train_acc)+\"%\")\n",
    "print (\"Test accuracy score:     \"+\"{:.4f}\".format(test_acc)+\"%\")\n",
    "print (\"ROC AUC score:           \"+\"{:.4f}\".format(roc)+\"%\")\n",
    "naive_bayes_info.append([tym,train_acc,test_acc,roc])"
   ]
  },
  {
   "cell_type": "markdown",
   "metadata": {},
   "source": [
    "## 6.CREDIT CARDS DATA"
   ]
  },
  {
   "cell_type": "markdown",
   "metadata": {},
   "source": [
    "### Data Loading"
   ]
  },
  {
   "cell_type": "code",
   "execution_count": 29,
   "metadata": {},
   "outputs": [],
   "source": [
    "training_dataset_url = os.path.join(credit_cards_dataset_directory, 'default_of_credit_card_clients.csv')\n",
    "data_creditcards = pd.read_csv(training_dataset_url,skiprows=1,usecols=[i for i in range(1,25)])"
   ]
  },
  {
   "cell_type": "code",
   "execution_count": 30,
   "metadata": {},
   "outputs": [],
   "source": [
    "X = data_creditcards.iloc[:,:-1]\n",
    "y= data_creditcards.iloc[:,-1]\n",
    "X_train,X_test,y_train,y_test = train_test_split(X,y,test_size=0.2)"
   ]
  },
  {
   "cell_type": "markdown",
   "metadata": {},
   "source": [
    "### Model Evaluation"
   ]
  },
  {
   "cell_type": "markdown",
   "metadata": {},
   "source": [
    "### SVM"
   ]
  },
  {
   "cell_type": "code",
   "execution_count": 31,
   "metadata": {},
   "outputs": [
    {
     "name": "stdout",
     "output_type": "stream",
     "text": [
      "Elapsed time:            183.7660 sec\n",
      "Training accuracy score: 77.7375%\n",
      "Test accuracy score:     78.5500%\n",
      "ROC AUC score:           54.6908%\n"
     ]
    },
    {
     "data": {
      "image/png": "[encoded data removed]",
      "text/plain": [
       "<Figure size 432x288 with 1 Axes>"
      ]
     },
     "metadata": {
      "needs_background": "light"
     },
     "output_type": "display_data"
    }
   ],
   "source": [
    "model,tym = svm_classification(X_train,y_train,X_test,y_test)\n",
    "train_acc,test_acc,roc = plotModel(model,X_train,y_train,X_test,y_test)\n",
    "print (\"Elapsed time:            \"+\"{:.4f}\".format(tym)+\" sec\")\n",
    "print (\"Training accuracy score: \"+\"{:.4f}\".format(train_acc)+\"%\")\n",
    "print (\"Test accuracy score:     \"+\"{:.4f}\".format(test_acc)+\"%\")\n",
    "print (\"ROC AUC score:           \"+\"{:.4f}\".format(roc)+\"%\")\n",
    "svm_info.append([tym,train_acc,test_acc,roc])"
   ]
  },
  {
   "cell_type": "markdown",
   "metadata": {},
   "source": [
    "### SVM using GRIDSEARCH"
   ]
  },
  {
   "cell_type": "code",
   "execution_count": null,
   "metadata": {},
   "outputs": [],
   "source": [
    "model,tym = svm_classification_tuned(X_train,y_train)\n",
    "print(model)"
   ]
  },
  {
   "cell_type": "code",
   "execution_count": null,
   "metadata": {},
   "outputs": [],
   "source": [
    "train_acc,test_acc,roc = plotModel(model,X_train,y_train,X_test,y_test)\n",
    "print (\"Elapsed time:            \"+\"{:.4f}\".format(tym)+\" sec\")\n",
    "print (\"Training accuracy score: \"+\"{:.4f}\".format(train_acc)+\"%\")\n",
    "print (\"Test accuracy score:     \"+\"{:.4f}\".format(test_acc)+\"%\")\n",
    "print (\"ROC AUC score:           \"+\"{:.4f}\".format(roc)+\"%\")"
   ]
  },
  {
   "cell_type": "markdown",
   "metadata": {},
   "source": [
    "### GAUSSIAN NAIVE BAYES"
   ]
  },
  {
   "cell_type": "code",
   "execution_count": 32,
   "metadata": {},
   "outputs": [
    {
     "name": "stdout",
     "output_type": "stream",
     "text": [
      "Elapsed time:            0.0229 sec\n",
      "Training accuracy score: 38.8667%\n",
      "Test accuracy score:     39.3333%\n",
      "ROC AUC score:           68.3651%\n"
     ]
    },
    {
     "data": {
      "image/png": "[encoded data removed]",
      "text/plain": [
       "<Figure size 432x288 with 1 Axes>"
      ]
     },
     "metadata": {
      "needs_background": "light"
     },
     "output_type": "display_data"
    }
   ],
   "source": [
    "prob_0 = y_train[y_train ==0].shape[0]/y_train.shape[0]\n",
    "prob_1 = y_train[y_train ==1].shape[0]/y_train.shape[0]\n",
    "probs = np.array([prob_0,prob_1])\n",
    "model,tym = gaussian_classification(X_train,y_train,X_test,y_test,probs)\n",
    "train_acc,test_acc,roc = plotModel(model,X_train,y_train,X_test,y_test)\n",
    "print (\"Elapsed time:            \"+\"{:.4f}\".format(tym)+\" sec\")\n",
    "print (\"Training accuracy score: \"+\"{:.4f}\".format(train_acc)+\"%\")\n",
    "print (\"Test accuracy score:     \"+\"{:.4f}\".format(test_acc)+\"%\")\n",
    "print (\"ROC AUC score:           \"+\"{:.4f}\".format(roc)+\"%\")\n",
    "naive_bayes_info.append([tym,train_acc,test_acc,roc])"
   ]
  },
  {
   "cell_type": "markdown",
   "metadata": {},
   "source": [
    "## 7. CENSUS INCOME DATASET"
   ]
  },
  {
   "cell_type": "markdown",
   "metadata": {},
   "source": [
    "### Data Loading"
   ]
  },
  {
   "cell_type": "code",
   "execution_count": 33,
   "metadata": {},
   "outputs": [],
   "source": [
    "dataset_url = os.path.join(census_income_dataset_directory, 'adult_data.csv')\n",
    "\n",
    "salary_mapping = {'<=50K':0, '>50K':1}\n",
    "cols=['age','workclass','fnlwght','education','edu-num','marital-status','occupation','relationship','race','sex','capital-gain',\n",
    "      'capital-loss','hours-per-week','country','income']\n",
    "data_census=pd.read_csv(dataset_url, encoding='utf8', names=cols)\n",
    "data_census = data_census.apply(lambda x: x.apply(lambda y: y.strip() if type(y) == type('') else y), axis=0)\n",
    "data_census.income = [salary_mapping[i] for i in data_census.income]\n",
    "data_census = data_census.replace(to_replace='?', value=np.nan)\n",
    "data_census.dropna(inplace=True)\n",
    "\n",
    "X = data_census.iloc[:,:-1]\n",
    "for i in [1,3,5,6,7,8,9,13]:\n",
    "    X.iloc[:,i] = le.fit_transform(X.iloc[:,i])\n",
    "y = data_census.iloc[:,-1]\n",
    "X_train,X_test,y_train,y_test = train_test_split(X,y,test_size=0.2)"
   ]
  },
  {
   "cell_type": "markdown",
   "metadata": {},
   "source": [
    "### Plot "
   ]
  },
  {
   "cell_type": "code",
   "execution_count": 14,
   "metadata": {},
   "outputs": [],
   "source": [
    "# palette = {0:\"r\",1:\"b\"}\n",
    "# plot_feature_outcome_corr(pd.concat([X,y],axis=1),palette)\n"
   ]
  },
  {
   "cell_type": "markdown",
   "metadata": {},
   "source": [
    "### Model Evaluation"
   ]
  },
  {
   "cell_type": "markdown",
   "metadata": {},
   "source": [
    "### SVM"
   ]
  },
  {
   "cell_type": "code",
   "execution_count": 34,
   "metadata": {},
   "outputs": [
    {
     "name": "stdout",
     "output_type": "stream",
     "text": [
      "Elapsed time:            96.0755 sec\n",
      "Training accuracy score: 78.7766%\n",
      "Test accuracy score:     78.7668%\n",
      "ROC AUC score:           62.0982%\n"
     ]
    },
    {
     "data": {
      "image/png": "[encoded data removed]",
      "text/plain": [
       "<Figure size 432x288 with 1 Axes>"
      ]
     },
     "metadata": {
      "needs_background": "light"
     },
     "output_type": "display_data"
    }
   ],
   "source": [
    "model,tym = svm_classification(X_train,y_train,X_test,y_test)\n",
    "train_acc,test_acc,roc = plotModel(model,X_train,y_train,X_test,y_test)\n",
    "print (\"Elapsed time:            \"+\"{:.4f}\".format(tym)+\" sec\")\n",
    "print (\"Training accuracy score: \"+\"{:.4f}\".format(train_acc)+\"%\")\n",
    "print (\"Test accuracy score:     \"+\"{:.4f}\".format(test_acc)+\"%\")\n",
    "print (\"ROC AUC score:           \"+\"{:.4f}\".format(roc)+\"%\")\n",
    "svm_info.append([tym,train_acc,test_acc,roc])"
   ]
  },
  {
   "cell_type": "markdown",
   "metadata": {},
   "source": [
    "### SVM using GRIDSEARCH"
   ]
  },
  {
   "cell_type": "code",
   "execution_count": null,
   "metadata": {},
   "outputs": [
    {
     "name": "stdout",
     "output_type": "stream",
     "text": [
      "Fitting 3 folds for each of 16 candidates, totalling 48 fits\n"
     ]
    },
    {
     "name": "stderr",
     "output_type": "stream",
     "text": [
      "[Parallel(n_jobs=1)]: Using backend SequentialBackend with 1 concurrent workers.\n"
     ]
    }
   ],
   "source": [
    "model,tym = svm_classification_tuned(X_train,y_train)\n",
    "print(model)"
   ]
  },
  {
   "cell_type": "code",
   "execution_count": null,
   "metadata": {},
   "outputs": [],
   "source": [
    "train_acc,test_acc,roc = plotModel(model,X_train,y_train,X_test,y_test)\n",
    "print (\"Elapsed time:            \"+\"{:.4f}\".format(tym)+\" sec\")\n",
    "print (\"Training accuracy score: \"+\"{:.4f}\".format(train_acc)+\"%\")\n",
    "print (\"Test accuracy score:     \"+\"{:.4f}\".format(test_acc)+\"%\")\n",
    "print (\"ROC AUC score:           \"+\"{:.4f}\".format(roc)+\"%\")"
   ]
  },
  {
   "cell_type": "markdown",
   "metadata": {},
   "source": [
    "### GAUSSIAN NAIVE BAYES"
   ]
  },
  {
   "cell_type": "code",
   "execution_count": 35,
   "metadata": {},
   "outputs": [
    {
     "name": "stdout",
     "output_type": "stream",
     "text": [
      "Elapsed time:            0.0146 sec\n",
      "Training accuracy score: 78.7849%\n",
      "Test accuracy score:     79.1812%\n",
      "ROC AUC score:           81.5030%\n"
     ]
    },
    {
     "data": {
      "image/png": "[encoded data removed]",
      "text/plain": [
       "<Figure size 432x288 with 1 Axes>"
      ]
     },
     "metadata": {
      "needs_background": "light"
     },
     "output_type": "display_data"
    }
   ],
   "source": [
    "prob_0 = y_train[y_train ==0].shape[0]/y_train.shape[0]\n",
    "prob_1 = y_train[y_train ==1].shape[0]/y_train.shape[0]\n",
    "probs = np.array([prob_0,prob_1])\n",
    "model,tym = gaussian_classification(X_train,y_train,X_test,y_test,probs)\n",
    "train_acc,test_acc,roc = plotModel(model,X_train,y_train,X_test,y_test)\n",
    "print (\"Elapsed time:            \"+\"{:.4f}\".format(tym)+\" sec\")\n",
    "print (\"Training accuracy score: \"+\"{:.4f}\".format(train_acc)+\"%\")\n",
    "print (\"Test accuracy score:     \"+\"{:.4f}\".format(test_acc)+\"%\")\n",
    "print (\"ROC AUC score:           \"+\"{:.4f}\".format(roc)+\"%\")\n",
    "naive_bayes_info.append([tym,train_acc,test_acc,roc])"
   ]
  },
  {
   "cell_type": "markdown",
   "metadata": {},
   "source": [
    "## 8. YEAST DATASET"
   ]
  },
  {
   "cell_type": "markdown",
   "metadata": {},
   "source": [
    "### Data Loading"
   ]
  },
  {
   "cell_type": "code",
   "execution_count": 40,
   "metadata": {},
   "outputs": [],
   "source": [
    "dataset_url = os.path.join(yeast_dataset_directory, 'yeast_dataset.csv')\n",
    "\n",
    "cols=['mcg','gvh','alm','mit','erl','pox','vac','nuc','site']\n",
    "data_yeast = pd.read_csv(dataset_url,usecols=[i for i in range(1,10)],names=cols)\n",
    "#data_yeast = data_yeast.apply(lambda x: x.apply(lambda y: y.strip() if type(y) == type('') else y), axis=0)\n",
    "\n",
    "site_mapping = {'MIT':1, 'NUC':2, 'CYT':3\n",
    "                     , 'ME1':4, 'EXC':5, 'ME2':6\n",
    "                     , 'ME3':7, 'VAC':8, 'POX':9\n",
    "                     , 'ERL':10}\n",
    "\n",
    "data_yeast.site = [site_mapping[i] for i in data_yeast.site]\n",
    "data_yeast.head()\n",
    "\n",
    "data_yeast = data_yeast.replace(to_replace='?', value=np.nan)\n",
    "data_yeast.dropna(inplace=True)\n",
    "\n",
    "X = data_yeast.iloc[:,:-1]\n",
    "y= data_yeast.iloc[:,-1]\n",
    "\n",
    "X_train,X_test,y_train,y_test = train_test_split(X,y,test_size=0.2)"
   ]
  },
  {
   "cell_type": "markdown",
   "metadata": {},
   "source": [
    "### Plot"
   ]
  },
  {
   "cell_type": "code",
   "execution_count": null,
   "metadata": {},
   "outputs": [],
   "source": []
  },
  {
   "cell_type": "markdown",
   "metadata": {},
   "source": [
    "### Model Evaluation"
   ]
  },
  {
   "cell_type": "markdown",
   "metadata": {},
   "source": [
    "### SVM"
   ]
  },
  {
   "cell_type": "code",
   "execution_count": 41,
   "metadata": {},
   "outputs": [
    {
     "name": "stdout",
     "output_type": "stream",
     "text": [
      "Elapsed time:            0.2374 sec\n",
      "Training accuracy score: 61.4153%\n",
      "Test accuracy score:     60.9428%\n",
      "ROC AUC score:           84.7305%\n"
     ]
    }
   ],
   "source": [
    "model,tym = svm_classification(X_train,y_train,X_test,y_test)\n",
    "train_acc,test_acc,roc = plotModel(model,X_train,y_train,X_test,y_test)\n",
    "print (\"Elapsed time:            \"+\"{:.4f}\".format(tym)+\" sec\")\n",
    "print (\"Training accuracy score: \"+\"{:.4f}\".format(train_acc)+\"%\")\n",
    "print (\"Test accuracy score:     \"+\"{:.4f}\".format(test_acc)+\"%\")\n",
    "print (\"ROC AUC score:           \"+\"{:.4f}\".format(roc)+\"%\")\n",
    "svm_info.append([tym,train_acc,test_acc,roc])"
   ]
  },
  {
   "cell_type": "markdown",
   "metadata": {},
   "source": [
    "### SVM using GRIDSEARCH"
   ]
  },
  {
   "cell_type": "code",
   "execution_count": 37,
   "metadata": {},
   "outputs": [
    {
     "name": "stdout",
     "output_type": "stream",
     "text": [
      "Fitting 3 folds for each of 16 candidates, totalling 48 fits\n"
     ]
    },
    {
     "name": "stderr",
     "output_type": "stream",
     "text": [
      "[Parallel(n_jobs=1)]: Using backend SequentialBackend with 1 concurrent workers.\n",
      "[Parallel(n_jobs=1)]: Done  48 out of  48 | elapsed:   14.5s finished\n"
     ]
    },
    {
     "name": "stdout",
     "output_type": "stream",
     "text": [
      "{'C': 1.0, 'break_ties': False, 'cache_size': 200, 'class_weight': None, 'coef0': 0.0, 'decision_function_shape': 'ovr', 'degree': 3, 'gamma': 10.0, 'kernel': 'rbf', 'max_iter': -1, 'probability': True, 'random_state': None, 'shrinking': True, 'tol': 0.001, 'verbose': False}\n"
     ]
    }
   ],
   "source": [
    "model,tym = svm_classification_tuned(X_train,y_train)\n",
    "print(model.get_params())"
   ]
  },
  {
   "cell_type": "code",
   "execution_count": 38,
   "metadata": {},
   "outputs": [
    {
     "name": "stdout",
     "output_type": "stream",
     "text": [
      "Elapsed time:            15.1523 sec\n",
      "Training accuracy score: 64.0270%\n",
      "Test accuracy score:     61.9529%\n",
      "ROC AUC score:           84.0992%\n"
     ]
    }
   ],
   "source": [
    "train_acc,test_acc,roc = plotModel(model,X_train,y_train,X_test,y_test)\n",
    "print (\"Elapsed time:            \"+\"{:.4f}\".format(tym)+\" sec\")\n",
    "print (\"Training accuracy score: \"+\"{:.4f}\".format(train_acc)+\"%\")\n",
    "print (\"Test accuracy score:     \"+\"{:.4f}\".format(test_acc)+\"%\")\n",
    "print (\"ROC AUC score:           \"+\"{:.4f}\".format(roc)+\"%\")"
   ]
  },
  {
   "cell_type": "markdown",
   "metadata": {},
   "source": [
    "### GAUSSIAN NAIVE BAYES"
   ]
  },
  {
   "cell_type": "code",
   "execution_count": 42,
   "metadata": {},
   "outputs": [
    {
     "name": "stdout",
     "output_type": "stream",
     "text": [
      "Elapsed time:            0.0060 sec\n",
      "Training accuracy score: 18.3656%\n",
      "Test accuracy score:     16.1616%\n",
      "ROC AUC score:           72.6870%\n"
     ]
    }
   ],
   "source": [
    "prob_1 = y_train[y_train ==1].shape[0]/y_train.shape[0]\n",
    "prob_2 = y_train[y_train ==2].shape[0]/y_train.shape[0]\n",
    "prob_3 = y_train[y_train ==3].shape[0]/y_train.shape[0]\n",
    "prob_4 = y_train[y_train ==4].shape[0]/y_train.shape[0]\n",
    "prob_5 = y_train[y_train ==5].shape[0]/y_train.shape[0]\n",
    "prob_6 = y_train[y_train ==6].shape[0]/y_train.shape[0]\n",
    "prob_7 = y_train[y_train ==7].shape[0]/y_train.shape[0]\n",
    "prob_8 = y_train[y_train ==8].shape[0]/y_train.shape[0]\n",
    "prob_9 = y_train[y_train ==9].shape[0]/y_train.shape[0]\n",
    "prob_10 = y_train[y_train ==10].shape[0]/y_train.shape[0]\n",
    "probs = np.array([prob_1,prob_2,prob_3,prob_4,prob_5,prob_6,prob_7,prob_8,prob_9,prob_10])\n",
    "model,tym = gaussian_classification(X_train,y_train,X_test,y_test,probs)\n",
    "train_acc,test_acc,roc = plotModel(model,X_train,y_train,X_test,y_test)\n",
    "print (\"Elapsed time:            \"+\"{:.4f}\".format(tym)+\" sec\")\n",
    "print (\"Training accuracy score: \"+\"{:.4f}\".format(train_acc)+\"%\")\n",
    "print (\"Test accuracy score:     \"+\"{:.4f}\".format(test_acc)+\"%\")\n",
    "print (\"ROC AUC score:           \"+\"{:.4f}\".format(roc)+\"%\")\n",
    "naive_bayes_info.append([tym,train_acc,test_acc,roc])"
   ]
  },
  {
   "cell_type": "markdown",
   "metadata": {},
   "source": [
    "## Compiled results of two classifiers"
   ]
  },
  {
   "cell_type": "code",
   "execution_count": 43,
   "metadata": {},
   "outputs": [
    {
     "name": "stdout",
     "output_type": "stream",
     "text": [
      "ESTIMATOR INFO FOR SVM CLASSIFIER\n",
      "Dataset#    Time  Train_acc   Test_acc   ROC\n",
      "Dataset 1:  0.51    98.87      97.67    98.36\n",
      "Dataset 2:  190.30    89.80      90.09    92.32\n",
      "Dataset 3:  542.42    68.62      68.39    98.19\n",
      "Dataset 4:  3216.47    70.72      70.14    81.21\n",
      "Dataset 5:  219.35    33.79      33.07    47.34\n",
      "Dataset 6:  183.77    77.74      78.55    54.69\n",
      "Dataset 7:  96.08    78.78      78.77    62.10\n",
      "Dataset 8:  0.24    61.42      60.94    84.73\n",
      "\n",
      "ESTIMATOR INFO FOR GAUSSIAN NAIVE BAYES\n",
      "Dataset#    Time  Train_acc   Test_acc   ROC\n",
      "Dataset 1:  0.00    97.80      97.75    98.95\n",
      "Dataset 2:  0.03    84.66      84.66    84.73\n",
      "Dataset 3:  0.02    94.23      94.04    99.36\n",
      "Dataset 4:  0.05    43.59      43.09    71.08\n",
      "Dataset 5:  0.02    33.61      32.92    52.98\n",
      "Dataset 6:  0.02    38.87      39.33    68.37\n",
      "Dataset 7:  0.01    78.78      79.18    81.50\n",
      "Dataset 8:  0.01    18.37      16.16    72.69\n"
     ]
    }
   ],
   "source": [
    "print(\"ESTIMATOR INFO FOR SVM CLASSIFIER\")\n",
    "print (\"Dataset#    Time  Train_acc   Test_acc   ROC\")\n",
    "i=1\n",
    "for item in svm_info:\n",
    "    print(\"Dataset %d:  %.2f    %.2f      %.2f    %.2f\"%(i,item[0],item[1],item[2],item[3]))\n",
    "    i+=1\n",
    "print(\"\")\n",
    "print(\"ESTIMATOR INFO FOR GAUSSIAN NAIVE BAYES\")\n",
    "i=1\n",
    "print (\"Dataset#    Time  Train_acc   Test_acc   ROC\")\n",
    "for item in naive_bayes_info:\n",
    "    print(\"Dataset %d:  %.2f    %.2f      %.2f    %.2f\"%(i,item[0],item[1],item[2],item[3]))\n",
    "    i+=1"
   ]
  },
  {
   "cell_type": "code",
   "execution_count": null,
   "metadata": {},
   "outputs": [],
   "source": []
  }
 ],
 "metadata": {
  "kernelspec": {
   "display_name": "Python 3",
   "language": "python",
   "name": "python3"
  },
  "language_info": {
   "codemirror_mode": {
    "name": "ipython",
    "version": 3
   },
   "file_extension": ".py",
   "mimetype": "text/x-python",
   "name": "python",
   "nbconvert_exporter": "python",
   "pygments_lexer": "ipython3",
   "version": "3.8.3"
  }
 },
 "nbformat": 4,
 "nbformat_minor": 4
}
