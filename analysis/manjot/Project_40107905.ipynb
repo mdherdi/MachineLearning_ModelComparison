{
 "cells": [
  {
   "cell_type": "code",
   "execution_count": 2,
   "metadata": {},
   "outputs": [],
   "source": [
    "import numpy as np\n",
    "import pandas as pd\n",
    "import matplotlib.pyplot as plt\n",
    "import sklearn\n",
    "import sklearn.svm\n",
    "import sklearn.metrics\n",
    "from sklearn.model_selection import train_test_split\n",
    "import glob\n"
   ]
  },
  {
   "cell_type": "code",
   "execution_count": 3,
   "metadata": {},
   "outputs": [],
   "source": [
    "def svm_classification(X_train,y_train,X_test,y_test):\n",
    "    svm_model = sklearn.svm.SVC(random_state=0)\n",
    "    svm_model.fit(X_train,y_train)\n",
    "    y_predicttrain = svm_model.predict(X_train)\n",
    "    y_predicttest = svm_model.predict(X_test)\n",
    "    return sklearn.metrics.accuracy_score(y_train,y_predicttrain),sklearn.metrics.accuracy_score(y_test,y_predicttest);"
   ]
  },
  {
   "cell_type": "code",
   "execution_count": 4,
   "metadata": {},
   "outputs": [],
   "source": [
    "def svm_classification_tuned(X_train,y_train):\n",
    "    svm_model = sklearn.svm.SVC()\n",
    "    kernels = ['linear','rbf','poly','sigmoid']\n",
    "    C = np.logspace(0,3,4)\n",
    "    gamma = np.logspace(-2,1,4)\n",
    "    param_grid = {'kernel':kernels,'C':C,'gamma':gamma}\n",
    "    svm_model_gs = sklearn.model_selection.GridSearchCV(svm_model,param_grid,verbose=1,cv=3) \n",
    "    svm_model_gs.fit(X_train,y_train)\n",
    "    return svm_model_gs;"
   ]
  },
  {
   "cell_type": "markdown",
   "metadata": {},
   "source": [
    "\n",
    " ## OCCUPANCY DATASET\n"
   ]
  },
  {
   "cell_type": "code",
   "execution_count": 5,
   "metadata": {},
   "outputs": [],
   "source": [
    "data_occupancy = np.loadtxt('Occupany_train.txt',delimiter=',', skiprows=1, usecols = (2,3,4,5,6,7))\n",
    "data_occupany_test=np.loadtxt('Occupany_test.txt', delimiter=',', skiprows=1, usecols = (2,3,4,5,6,7))\n",
    "X_train=data_occupancy[:, 0:5]\n",
    "y_train=data_occupancy[:, 5].astype(np.int32)\n",
    "X_test=data_occupany_test[:, 0:5]\n",
    "y_test=data_occupany_test[:, 5].astype(np.int32)"
   ]
  },
  {
   "cell_type": "code",
   "execution_count": null,
   "metadata": {},
   "outputs": [],
   "source": [
    "train_acc,test_acc = svm_classification(X_train,y_train,X_test,y_test)\n",
    "print(\"%.2f training accuracy\"%(train_acc*100))\n",
    "print(\"%.2f testing accuracy\"%(test_acc*100))"
   ]
  },
  {
   "cell_type": "code",
   "execution_count": null,
   "metadata": {},
   "outputs": [
    {
     "name": "stdout",
     "output_type": "stream",
     "text": [
      "Fitting 3 folds for each of 64 candidates, totalling 192 fits\n"
     ]
    },
    {
     "name": "stderr",
     "output_type": "stream",
     "text": [
      "[Parallel(n_jobs=1)]: Using backend SequentialBackend with 1 concurrent workers.\n"
     ]
    }
   ],
   "source": [
    "model = svm_classification_tuned(X_train,y_train)\n",
    "print(\"%.2f training accuracy\"%(model.best_score_*100))\n",
    "print(\"Best hyperparameters are :\",model.best_params_)"
   ]
  },
  {
   "cell_type": "markdown",
   "metadata": {},
   "source": [
    "## BANK MARKETTING"
   ]
  },
  {
   "cell_type": "code",
   "execution_count": 28,
   "metadata": {},
   "outputs": [],
   "source": [
    "data_bank = pd.read_csv('BankMarketing_train.csv', delimiter=';')\n",
    "data_bank_test= pd.read_csv('BankMarketing_test.csv', delimiter=';')\n",
    "\n",
    "bank_labels ={'no':0,'yes':1}\n",
    "data_bank.y = [bank_labels[i] for i in data_bank.y]\n",
    "data_bank_test.y = [bank_labels[i] for i in data_bank_test.y]\n",
    "\n",
    "X_train = data_bank.iloc[:,:-1]\n",
    "y_train = data_bank.iloc[:,-1].astype('int32')\n",
    "\n",
    "X_test = data_bank_test.iloc[:,:-1]\n",
    "y_test = data_bank_test.iloc[:,-1].astype('int32')\n"
   ]
  },
  {
   "cell_type": "code",
   "execution_count": 29,
   "metadata": {},
   "outputs": [],
   "source": [
    "le = sklearn.preprocessing.LabelEncoder()\n",
    "\n",
    "for i in [1,2,3,4,5,6,7,8,9,14]:\n",
    "    X_train.iloc[:,i] = le.fit_transform(X_train.iloc[:,i])\n",
    "    X_test.iloc[:,i] = le.fit_transform(X_test.iloc[:,i])\n",
    "\n"
   ]
  },
  {
   "cell_type": "code",
   "execution_count": 30,
   "metadata": {},
   "outputs": [
    {
     "name": "stdout",
     "output_type": "stream",
     "text": [
      "89.80 training accuracy\n",
      "90.09 testing accuracy\n"
     ]
    }
   ],
   "source": [
    "train_acc,test_acc = svm_classification(X_train,y_train,X_test,y_test)\n",
    "print(\"%.2f training accuracy\"%(train_acc*100))\n",
    "print(\"%.2f testing accuracy\"%(test_acc*100))"
   ]
  },
  {
   "cell_type": "markdown",
   "metadata": {},
   "source": [
    "## ACTIVITY RECOGNITION IN HEALTHY OLD PEOPLE"
   ]
  },
  {
   "cell_type": "code",
   "execution_count": 31,
   "metadata": {},
   "outputs": [],
   "source": [
    "files = glob.glob(\"Datasets_Healthy_Older_People/S2_Dataset/d*\")\n",
    "files.extend(glob.glob(\"Datasets_Healthy_Older_People/S1_Dataset/d*\"))\n",
    "ar_files = [pd.read_csv(f, header=None) for f in files]\n",
    "data_ar=pd.concat(ar_files,ignore_index=True).values\n",
    "\n",
    "X=data_ar[:, 1:8]\n",
    "y=data_ar[:, 8].astype('int32')\n",
    "\n",
    "X_train,X_test,y_train,y_test = train_test_split(X,y,test_size=0.2)"
   ]
  },
  {
   "cell_type": "code",
   "execution_count": null,
   "metadata": {},
   "outputs": [],
   "source": [
    "train_acc,test_acc = svm_classification(X_train,y_train,X_test,y_test)\n",
    "print(\"%.2f training accuracy\"%(train_acc*100))\n",
    "print(\"%.2f testing accuracy\"%(test_acc*100))"
   ]
  },
  {
   "cell_type": "markdown",
   "metadata": {},
   "source": [
    "## MAGIC GAMMA TELESCOPE"
   ]
  },
  {
   "cell_type": "code",
   "execution_count": 21,
   "metadata": {},
   "outputs": [],
   "source": [
    "data_magic = pd.read_csv('MagicGamma.txt',delimiter=',')\n",
    "X=data_magic.iloc[:,:-1]\n",
    "y=data_magic.iloc[:,-1]\n",
    "X_train,X_test,y_train,y_test = train_test_split(X,y,test_size=0.2)\n"
   ]
  },
  {
   "cell_type": "code",
   "execution_count": 22,
   "metadata": {},
   "outputs": [
    {
     "name": "stdout",
     "output_type": "stream",
     "text": [
      "82.35 training accuracy\n",
      "82.05 testing accuracy\n"
     ]
    }
   ],
   "source": [
    "train_acc,test_acc = svm_classification(X_train,y_train,X_test,y_test)\n",
    "print(\"%.2f training accuracy\"%(train_acc*100))\n",
    "print(\"%.2f testing accuracy\"%(test_acc*100))"
   ]
  },
  {
   "cell_type": "markdown",
   "metadata": {},
   "source": [
    "## BITCOIN HEIST DATA"
   ]
  },
  {
   "cell_type": "code",
   "execution_count": null,
   "metadata": {},
   "outputs": [],
   "source": [
    "data_bitcoin =pd.read_csv('BitcoinHeistData.csv')\n",
    "\n",
    "\n",
    "bitcoin_labels = {'princetonCerber':1, 'princetonLocky':1, 'montrealCryptoLocker':1,\n",
    " 'montrealCryptXXX':1, 'paduaCryptoWall':1, 'montrealWannaCry':1,\n",
    " 'montrealDMALockerv3':1, 'montrealCryptoTorLocker2015':1, 'montrealSamSam':1,\n",
    " 'montrealFlyper':1, 'montrealNoobCrypt':1, 'montrealDMALocker':1, 'montrealGlobe':1,\n",
    " 'montrealEDA2':1, 'paduaKeRanger':1, 'montrealVenusLocker':1, 'montrealXTPLocker':1,\n",
    " 'paduaJigsaw':1, 'montrealGlobev3':1, 'montrealJigSaw':1, 'montrealXLockerv5.0':1,\n",
    " 'montrealXLocker':1, 'montrealRazy':1, 'montrealCryptConsole':1,\n",
    " 'montrealGlobeImposter':1, 'montrealSam':1, 'montrealComradeCircle':1,\n",
    " 'montrealAPT':1, 'white':0}\n",
    "data_bitcoin.label = [bitcoin_labels[i] for i in data_bitcoin.label]\n",
    "X = data_bitcoin.iloc[:,:-1]\n",
    "y= data_bitcoin.iloc[:,-1]\n",
    "\n",
    "\n",
    "le = sklearn.preprocessing.LabelEncoder()\n",
    "X.iloc[:,0] = le.fit_transform(X.iloc[:,0])\n",
    "\n",
    "\n",
    "X_train,X_test,y_train,y_test = train_test_split(X,y,test_size=0.1)\n",
    "train_acc,test_acc = svm_classification(X_train,y_train,X_test,y_test)\n",
    "print(\"%.2f training accuracy\"%(train_acc*100))\n",
    "print(\"%.2f testing accuracy\"%(test_acc*100))\n",
    "\n",
    "\n"
   ]
  },
  {
   "cell_type": "code",
   "execution_count": 5,
   "metadata": {},
   "outputs": [],
   "source": [
    "\n",
    "    "
   ]
  },
  {
   "cell_type": "code",
   "execution_count": null,
   "metadata": {},
   "outputs": [],
   "source": []
  },
  {
   "cell_type": "code",
   "execution_count": null,
   "metadata": {},
   "outputs": [],
   "source": []
  }
 ],
 "metadata": {
  "kernelspec": {
   "display_name": "Python 3",
   "language": "python",
   "name": "python3"
  },
  "language_info": {
   "codemirror_mode": {
    "name": "ipython",
    "version": 3
   },
   "file_extension": ".py",
   "mimetype": "text/x-python",
   "name": "python",
   "nbconvert_exporter": "python",
   "pygments_lexer": "ipython3",
   "version": "3.8.3"
  }
 },
 "nbformat": 4,
 "nbformat_minor": 4
}
