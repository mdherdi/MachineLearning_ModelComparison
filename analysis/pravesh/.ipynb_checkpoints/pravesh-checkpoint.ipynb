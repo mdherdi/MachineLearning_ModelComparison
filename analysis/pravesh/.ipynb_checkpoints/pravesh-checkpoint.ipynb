{
 "cells": [
  {
   "cell_type": "markdown",
   "metadata": {},
   "source": [
    "# Dataset Directories Initialization"
   ]
  },
  {
   "cell_type": "code",
   "execution_count": 54,
   "metadata": {},
   "outputs": [],
   "source": [
    "import os.path\n",
    "import numpy as np\n",
    "import matplotlib\n",
    "import matplotlib.pyplot as plt\n",
    "import sklearn\n",
    "import sklearn.tree\n",
    "import sklearn.ensemble\n",
    "import sklearn.datasets\n",
    "import sklearn.metrics\n",
    "import pandas as pd\n",
    "from sklearn.model_selection import train_test_split\n",
    "import glob\n",
    "import time\n",
    "\n",
    "import warnings\n",
    "warnings.filterwarnings(\"ignore\")  # Ignore sklearn deprecation warnings\n",
    "warnings.filterwarnings(\"ignore\", category=FutureWarning)       # Ignore sklearn deprecation warnings"
   ]
  },
  {
   "cell_type": "code",
   "execution_count": 55,
   "metadata": {},
   "outputs": [
    {
     "name": "stdout",
     "output_type": "stream",
     "text": [
      "['1_occupancy', '2_healthy_older_people', '3_bitcoin_heist_ransonware_address', '4_bank_additional', '5_interventionscitoyendo', '6_credit_cards', '7_census_income', '8_yeast', '9_magic_gamma', 'urls.txt']\n",
      "D:\\pravesh\\Concordia\\2020-Fall\\COMP-6321_ML\\project\\COMP-6321-ML\\datasets\\1_occupancy D:\\pravesh\\Concordia\\2020-Fall\\COMP-6321_ML\\project\\COMP-6321-ML\\datasets\\2_healthy_older_people D:\\pravesh\\Concordia\\2020-Fall\\COMP-6321_ML\\project\\COMP-6321-ML\\datasets\\3_bitcoin_heist_ransonware_address D:\\pravesh\\Concordia\\2020-Fall\\COMP-6321_ML\\project\\COMP-6321-ML\\datasets\\4_bank_additional\n"
     ]
    }
   ],
   "source": [
    "current_directory = os.path.dirname(os.getcwd())\n",
    "project_directory = os.path.split(current_directory)[0]\n",
    "dataset_directory = os.path.join(project_directory, 'datasets')\n",
    "\n",
    "occupancy_dataset_directory = os.path.join(dataset_directory, '1_occupancy')\n",
    "healthy_older_people_dataset_directory = os.path.join(dataset_directory, '2_healthy_older_people')\n",
    "bitcoin_heist_ransonware_address_dataset_directory = os.path.join(dataset_directory, '3_bitcoin_heist_ransonware_address')\n",
    "bank_additional_dataset_directory = os.path.join(dataset_directory, '4_bank_additional')\n",
    "montreal_crime_dataset_directory = os.path.join(dataset_directory, '5_interventionscitoyendo')\n",
    "credit_cards_dataset_directory = os.path.join(dataset_directory, '6_credit_cards')\n",
    "census_income_dataset_directory = os.path.join(dataset_directory, '7_census_income')\n",
    "yeast_dataset_directory = os.path.join(dataset_directory, '8_yeast')\n",
    "magic_gamma_dataset_directory = os.path.join(dataset_directory, '9_magic_gamma')\n",
    "\n",
    "print(os.listdir(dataset_directory))\n",
    "print(occupancy_dataset_directory\n",
    "      , healthy_older_people_dataset_directory\n",
    "      , bitcoin_heist_ransonware_address_dataset_directory\n",
    "      , bank_additional_dataset_directory)"
   ]
  },
  {
   "cell_type": "code",
   "execution_count": 56,
   "metadata": {},
   "outputs": [],
   "source": [
    "best_estimator_info = {}\n",
    "best_estimator_info[1] = {}\n",
    "best_estimator_info[2] = {}\n",
    "best_estimator_info[3] = {}\n",
    "best_estimator_info[4] = {}\n",
    "best_estimator_info[5] = {}\n",
    "best_estimator_info[6] = {}\n",
    "best_estimator_info[7] = {}\n",
    "best_estimator_info[8] = {}"
   ]
  },
  {
   "cell_type": "markdown",
   "metadata": {},
   "source": [
    "<div style=\"border-bottom: 3px solid black; margin-bottom:5px\"></div>\n",
    "<div style=\"border-bottom: 3px solid black\"></div>"
   ]
  },
  {
   "cell_type": "markdown",
   "metadata": {},
   "source": [
    "# 1. Occupancy Dataset"
   ]
  },
  {
   "cell_type": "markdown",
   "metadata": {},
   "source": [
    "## 1.1. Data Loading"
   ]
  },
  {
   "cell_type": "code",
   "execution_count": 57,
   "metadata": {},
   "outputs": [
    {
     "name": "stdout",
     "output_type": "stream",
     "text": [
      "(10808, 5)\n",
      "(4000, 5) (1000, 5)\n"
     ]
    }
   ],
   "source": [
    "training_dataset_url = os.path.join(occupancy_dataset_directory, 'occupancy_data', 'datatraining.txt')\n",
    "test_dataset_url = os.path.join(occupancy_dataset_directory, 'occupancy_data', 'datatest.txt')\n",
    "\n",
    "training_data_file = np.loadtxt(training_dataset_url, delimiter=',', skiprows=1, usecols = (2,3,4,5,6,7))\n",
    "X1=training_data_file[:, 0:5]\n",
    "y1=training_data_file[:, 5].astype(np.int32)\n",
    "test_data_file = np.loadtxt(test_dataset_url, delimiter=',', skiprows=1, usecols = (2,3,4,5,6,7))\n",
    "X2=test_data_file[:, 0:5]\n",
    "y2=test_data_file[:, 5].astype(np.int32)\n",
    "\n",
    "X = np.concatenate((X1, X2))\n",
    "y = np.concatenate((y1, y2))\n",
    "\n",
    "print(X.shape)\n",
    "X = X[:5000]\n",
    "y = y[:5000]\n",
    "\n",
    "X_train,X_test,y_train,y_test = train_test_split(X, y, test_size=0.2, random_state=0)\n",
    "\n",
    "print(X_train.shape, X_test.shape)"
   ]
  },
  {
   "cell_type": "markdown",
   "metadata": {},
   "source": [
    "## 1.2. Data Analysis & Cleaning"
   ]
  },
  {
   "cell_type": "markdown",
   "metadata": {},
   "source": [
    "### 1.2.1. Statistics"
   ]
  },
  {
   "cell_type": "code",
   "execution_count": 58,
   "metadata": {},
   "outputs": [
    {
     "name": "stdout",
     "output_type": "stream",
     "text": [
      "Input Columns Count: 5\n",
      "Input Columns: ['Temperature' 'Humidity' 'Light' 'CO2' 'HumidityRatio']\n",
      "Output Column: Occupancy\n",
      "\n",
      "Training Data\n",
      "Number of Rows: 4000\n",
      "\n",
      "Test Data\n",
      "Number of Rows: 1000\n"
     ]
    }
   ],
   "source": [
    "# No of Attributed\n",
    "\n",
    "columns = np.array([\"Temperature\", \"Humidity\", \"Light\", \"CO2\", \"HumidityRatio\"])\n",
    "print('Input Columns Count:', X_train.shape[1])\n",
    "print('Input Columns:', columns)\n",
    "print('Output Column:', \"Occupancy\")\n",
    "print()\n",
    "print('Training Data')\n",
    "print('Number of Rows:', X_train.shape[0])\n",
    "print()\n",
    "print('Test Data')\n",
    "print('Number of Rows:', X_test.shape[0])"
   ]
  },
  {
   "cell_type": "code",
   "execution_count": 59,
   "metadata": {},
   "outputs": [
    {
     "name": "stdout",
     "output_type": "stream",
     "text": [
      "Temperature : mean= 0.991405133458457 , std= 20.932108708332944 max= 23.18 min= 19.2 , ptp= 3.9800000000000004\n",
      "Humidity : mean= 3.8378950238048333 , std= 22.472796291666363 max= 31.65 min= 16.745 , ptp= 14.904999999999998\n",
      "Light : mean= 205.14002642144 , std= 133.28583749999999 max= 1546.33333333333 min= 0.0 , ptp= 1546.33333333333\n",
      "CO2 : mean= 199.71356121370886 , std= 562.6948770833329 max= 1139.0 min= 423.0 , ptp= 716.0\n",
      "HumidityRatio : mean= 0.0006224682601441902 , std= 0.003442084859202568 max= 0.00481738641740953 min= 0.00267412691390407 , ptp= 0.0021432595035054598\n"
     ]
    }
   ],
   "source": [
    "stats = np.vstack((X_train.std(axis=0), X_train.mean(axis=0), X_train.min(axis=0), X_train.max(axis=0)))\n",
    "    \n",
    "for i in range(5):\n",
    "    print(columns[i], ': mean=', stats[0][i], ', std=', stats[1][i]\n",
    "          , 'max=', stats[3][i], 'min=', stats[2][i]\n",
    "          , ', ptp=', np.ptp(X_train[:, i]))\n"
   ]
  },
  {
   "cell_type": "markdown",
   "metadata": {},
   "source": [
    "### 1.2.2. Feature Value Densities"
   ]
  },
  {
   "cell_type": "code",
   "execution_count": 60,
   "metadata": {},
   "outputs": [
    {
     "data": {
      "text/plain": [
       "Text(0.5, 1.0, 'HumidityRatio[4]')"
      ]
     },
     "execution_count": 60,
     "metadata": {},
     "output_type": "execute_result"
    },
    {
     "data": {
      "image/png": "[encoded data removed]",
      "text/plain": [
       "<Figure size 1152x576 with 5 Axes>"
      ]
     },
     "metadata": {
      "needs_background": "light"
     },
     "output_type": "display_data"
    }
   ],
   "source": [
    "\n",
    "fig = plt.figure(figsize=(16, 8)) \n",
    "fig.suptitle('Column Histograms')\n",
    "\n",
    "ax = fig.add_subplot(2, 3, 1) \n",
    "ax.hist(X_train[:, 0], bins=10)\n",
    "ax.set_title('Temperature[0]')\n",
    "\n",
    "ax = fig.add_subplot(2, 3, 2) \n",
    "ax.hist(X_train[:, 1], bins=10)\n",
    "ax.set_title('Humidity[1]')\n",
    "\n",
    "ax = fig.add_subplot(2, 3, 3) \n",
    "ax.hist(X_train[:, 2], bins=10)\n",
    "ax.set_title('Light[2]')\n",
    "\n",
    "ax = fig.add_subplot(2, 3, 4) \n",
    "ax.hist(X_train[:, 3], bins=10)\n",
    "ax.set_title('CO2[3]')\n",
    "\n",
    "ax = fig.add_subplot(2, 3, 5) \n",
    "ax.hist(X_train[:, 4], bins=10)\n",
    "ax.set_title('HumidityRatio[4]')"
   ]
  },
  {
   "cell_type": "markdown",
   "metadata": {},
   "source": [
    "### 1.2.3. Checking Outliners"
   ]
  },
  {
   "cell_type": "code",
   "execution_count": 61,
   "metadata": {},
   "outputs": [
    {
     "data": {
      "text/plain": [
       "Text(0.5, 1.0, 'HumidityRatio[4]')"
      ]
     },
     "execution_count": 61,
     "metadata": {},
     "output_type": "execute_result"
    },
    {
     "data": {
      "image/png": "[encoded data removed]",
      "text/plain": [
       "<Figure size 1152x576 with 5 Axes>"
      ]
     },
     "metadata": {
      "needs_background": "light"
     },
     "output_type": "display_data"
    }
   ],
   "source": [
    "fig = plt.figure(figsize=(16, 8))\n",
    "fig.suptitle('Column Box Plots')\n",
    "\n",
    "ax = fig.add_subplot(2, 3, 1) \n",
    "ax.boxplot(X_train[:, 0])\n",
    "ax.set_title('Temperature[0]')\n",
    "\n",
    "ax = fig.add_subplot(2, 3, 2) \n",
    "ax.boxplot(X_train[:, 1])\n",
    "ax.set_title('Humidity[1]')\n",
    "\n",
    "ax = fig.add_subplot(2, 3, 3) \n",
    "ax.boxplot(X_train[:, 2])\n",
    "ax.set_title('Light[2]')\n",
    "\n",
    "ax = fig.add_subplot(2, 3, 4) \n",
    "ax.boxplot(X_train[:, 3])\n",
    "ax.set_title('CO2[3]')\n",
    "\n",
    "ax = fig.add_subplot(2, 3, 5) \n",
    "ax.boxplot(X_train[:, 4])\n",
    "ax.set_title('HumidityRatio[4]')"
   ]
  },
  {
   "cell_type": "markdown",
   "metadata": {},
   "source": [
    "## 1.3. Model Evaluation"
   ]
  },
  {
   "cell_type": "markdown",
   "metadata": {},
   "source": [
    "### 1.3.1. Logistic Regression"
   ]
  },
  {
   "cell_type": "markdown",
   "metadata": {},
   "source": [
    " #### 1.3.1.1. Without Feature Scaling"
   ]
  },
  {
   "cell_type": "code",
   "execution_count": 62,
   "metadata": {},
   "outputs": [
    {
     "name": "stdout",
     "output_type": "stream",
     "text": [
      "97.625\n",
      "98.7\n"
     ]
    }
   ],
   "source": [
    "lr_model_1 = sklearn.linear_model.LogisticRegression(random_state=0)\n",
    "lr_model_1.fit(X_train, y_train);\n",
    "z_train_1 = lr_model_1.predict(X_train)\n",
    "z_test_1 = lr_model_1.predict(X_test)\n",
    "print(sklearn.metrics.accuracy_score(y_train, z_train_1)*100)\n",
    "print(sklearn.metrics.accuracy_score(y_test, z_test_1)*100)"
   ]
  },
  {
   "cell_type": "markdown",
   "metadata": {},
   "source": [
    "#### 1.3.1.2. With Standardization"
   ]
  },
  {
   "cell_type": "code",
   "execution_count": 63,
   "metadata": {},
   "outputs": [
    {
     "name": "stdout",
     "output_type": "stream",
     "text": [
      "97.6\n",
      "98.7\n"
     ]
    }
   ],
   "source": [
    "scaler = sklearn.preprocessing.StandardScaler().fit(X_train)\n",
    "X_train_2 = scaler.transform(X_train)\n",
    "X_test_2 = scaler.transform(X_test)\n",
    "\n",
    "lr_model_2 = sklearn.linear_model.LogisticRegression(random_state=0)\n",
    "lr_model_2.fit(X_train_2, y_train);\n",
    "z_train_2 = lr_model_2.predict(X_train_2)\n",
    "z_test_2 = lr_model_2.predict(X_test_2)\n",
    "print(sklearn.metrics.accuracy_score(y_train, z_train_2)*100)\n",
    "print(sklearn.metrics.accuracy_score(y_test, z_test_2)*100)"
   ]
  },
  {
   "cell_type": "markdown",
   "metadata": {},
   "source": [
    "#### 1.3.1.3. With Normalization"
   ]
  },
  {
   "cell_type": "code",
   "execution_count": 64,
   "metadata": {},
   "outputs": [
    {
     "name": "stdout",
     "output_type": "stream",
     "text": [
      "96.8\n",
      "97.6\n"
     ]
    }
   ],
   "source": [
    "scaler = sklearn.preprocessing.MaxAbsScaler().fit(X_train)\n",
    "X_train_2 = scaler.transform(X_train)\n",
    "X_test_2 = scaler.transform(X_test)\n",
    "\n",
    "lr_model_2 = sklearn.linear_model.LogisticRegression(random_state=0)\n",
    "lr_model_2.fit(X_train_2, y_train);\n",
    "z_train_2 = lr_model_2.predict(X_train_2)\n",
    "z_test_2 = lr_model_2.predict(X_test_2)\n",
    "print(sklearn.metrics.accuracy_score(y_train, z_train_2)*100)\n",
    "print(sklearn.metrics.accuracy_score(y_test, z_test_2)*100)"
   ]
  },
  {
   "cell_type": "code",
   "execution_count": 65,
   "metadata": {},
   "outputs": [
    {
     "name": "stdout",
     "output_type": "stream",
     "text": [
      "Time:  16.226006269454956  seconds\n"
     ]
    }
   ],
   "source": [
    "start_time = time.time()\n",
    "lr_model = sklearn.linear_model.LogisticRegression(n_jobs=-1)\n",
    "max_iter_values = 2**np.linspace(1, 8, 8, dtype=np.int32)\n",
    "solver_values = ['newton-cg', 'lbfgs', 'liblinear', 'sag', 'saga']\n",
    "fit_intercept_values = [True, False]\n",
    "\n",
    "param_grid = { \"fit_intercept\":[True, False], \"solver\": solver_values, \n",
    "             \"max_iter\": max_iter_values}\n",
    "\n",
    "gridcv = sklearn.model_selection.GridSearchCV(lr_model, param_grid, verbose=0, cv=5)\n",
    "gridcv.fit(X_train, y_train)\n",
    "lr_best_estimator = gridcv.best_estimator_\n",
    "lr_best_estimator_score = gridcv.best_score_\n",
    "end_time = time.time()\n",
    "print('Time: ', (end_time-start_time), ' seconds')\n",
    "best_estimator_info[1]['lr'] = gridcv"
   ]
  },
  {
   "cell_type": "code",
   "execution_count": 66,
   "metadata": {},
   "outputs": [
    {
     "name": "stdout",
     "output_type": "stream",
     "text": [
      "Best Estimator:  LogisticRegression(max_iter=8, n_jobs=-1, solver='newton-cg') =>\n",
      "Params:  LogisticRegression(max_iter=8, n_jobs=-1, solver='newton-cg')\n",
      "Training Accuracy Score:  98.07499999999999\n",
      "Test Accuracy Score:  98.9\n",
      "ROC AUC score:  99.27248677248677\n"
     ]
    }
   ],
   "source": [
    "print('Best Estimator: ', lr_best_estimator, '=>')\n",
    "print('Params: ', lr_best_estimator)\n",
    "print('Training Accuracy Score: ', lr_best_estimator_score*100)\n",
    "y_pred = lr_best_estimator.predict(X_test)\n",
    "print('Test Accuracy Score: ', sklearn.metrics.accuracy_score(y_test, y_pred)*100)\n",
    "print('ROC AUC score: ', sklearn.metrics.roc_auc_score(y_test, y_pred)*100)"
   ]
  },
  {
   "cell_type": "markdown",
   "metadata": {},
   "source": [
    "### 1.3.2. K-Means"
   ]
  },
  {
   "cell_type": "code",
   "execution_count": 67,
   "metadata": {},
   "outputs": [
    {
     "name": "stdout",
     "output_type": "stream",
     "text": [
      "Time:  2.916457176208496  seconds\n"
     ]
    }
   ],
   "source": [
    "start_time = time.time()\n",
    "knn_model = sklearn.neighbors.KNeighborsClassifier(n_jobs=-1)\n",
    "n_neighbor_values =  2**np.linspace(1, 8, 8, dtype=np.int32)\n",
    "param_grid = {\"n_neighbors\": n_neighbor_values}\n",
    "\n",
    "gridcv = sklearn.model_selection.GridSearchCV(knn_model, param_grid, verbose=0, cv=5)\n",
    "gridcv.fit(X_train, y_train)\n",
    "knn_best_estimator = gridcv.best_estimator_\n",
    "knn_best_estimator_score = gridcv.best_score_\n",
    "end_time = time.time()\n",
    "print('Time: ', (end_time-start_time), ' seconds')\n",
    "best_estimator_info[1]['knn'] = gridcv"
   ]
  },
  {
   "cell_type": "code",
   "execution_count": 68,
   "metadata": {},
   "outputs": [
    {
     "name": "stdout",
     "output_type": "stream",
     "text": [
      "Best Estimator:  KNeighborsClassifier(n_jobs=-1, n_neighbors=8) =>\n",
      "Params:  KNeighborsClassifier(n_jobs=-1, n_neighbors=8)\n",
      "Training Accuracy Score:  98.25\n",
      "Test Accuracy Score:  98.7\n",
      "ROC AUC score:  98.86265070691302\n"
     ]
    }
   ],
   "source": [
    "print('Best Estimator: ', knn_best_estimator, '=>')\n",
    "print('Params: ', knn_best_estimator)\n",
    "print('Training Accuracy Score: ', knn_best_estimator_score*100)\n",
    "y_pred = knn_best_estimator.predict(X_test)\n",
    "print('Test Accuracy Score: ', sklearn.metrics.accuracy_score(y_test, y_pred)*100)\n",
    "print('ROC AUC score: ', sklearn.metrics.roc_auc_score(y_test, y_pred)*100)"
   ]
  },
  {
   "cell_type": "markdown",
   "metadata": {},
   "source": [
    "# 2. Bank Marketting Dataset"
   ]
  },
  {
   "cell_type": "markdown",
   "metadata": {},
   "source": [
    "## 2.1. Data Loading"
   ]
  },
  {
   "cell_type": "code",
   "execution_count": 69,
   "metadata": {},
   "outputs": [
    {
     "name": "stdout",
     "output_type": "stream",
     "text": [
      "D:\\pravesh\\Concordia\\2020-Fall\\COMP-6321_ML\\project\\COMP-6321-ML\\datasets\\4_bank_additional\\bank-additional\\bank-additional\\bank-additional-full.csv D:\\pravesh\\Concordia\\2020-Fall\\COMP-6321_ML\\project\\COMP-6321-ML\\datasets\\4_bank_additional\\bank-additional\\bank-additional\\bank-additional.csv\n",
      "(45307, 19)\n",
      "(4000, 19) (1000, 19)\n"
     ]
    }
   ],
   "source": [
    "training_dataset_url = os.path.join(bank_additional_dataset_directory, 'bank-additional', 'bank-additional', 'bank-additional-full.csv')\n",
    "test_dataset_url = os.path.join(bank_additional_dataset_directory, 'bank-additional', 'bank-additional', 'bank-additional.csv')\n",
    "print(training_dataset_url, test_dataset_url)\n",
    "\n",
    "\n",
    "# Loading code\n",
    "job_mapping = {'admin.':1, 'blue-collar':2, 'entrepreneur':3\n",
    "               , 'housemaid':4, 'management':5, 'retired':6\n",
    "               , 'self-employed':7, 'services':8, 'student':9\n",
    "               , 'technician':10, 'unemployed':11, 'unknown':0}\n",
    "boolean_mapping ={'no': 0, 'yes': 1}\n",
    "marital_mapping ={'divorced':1, 'married':2, 'single':3}\n",
    "education_mapping={'basic.4y':1, 'basic.6y':2, 'basic.9y':3\n",
    "                   , 'high.school':4, 'illiterate':5, 'professional.course':6\n",
    "                   , 'university.degree':7}\n",
    "contact_mapping={'cellular':1, 'telephone':2}\n",
    "month_mapping={'may':5, 'jun':6, 'nov':11\n",
    "               , 'sep':9, 'jul':7, 'aug':8\n",
    "               , 'mar':3, 'oct':10, 'apr':4\n",
    "               , 'dec':12}\n",
    "day_mapping={'fri':5, 'wed':3, 'mon':1, 'thu':4, 'tue':2}\n",
    "poutcome_mapping={'nonexistent':1, 'failure':2, 'success':3}\n",
    "\n",
    "R=pd.read_csv(training_dataset_url, delimiter=';').replace(boolean_mapping).replace(job_mapping).replace(marital_mapping).replace(education_mapping).replace(contact_mapping).replace(month_mapping).replace(day_mapping).replace(poutcome_mapping).values\n",
    "X1=R[:, [0,1,2,3,4,5,6,7,8,9,11,12,13,14,15,16,17,18,19]]\n",
    "y1=R[:, 20].astype(np.int32)\n",
    "T=pd.read_csv(test_dataset_url, delimiter=';').replace(boolean_mapping).replace(job_mapping).replace(marital_mapping).replace(education_mapping).replace(contact_mapping).replace(month_mapping).replace(day_mapping).replace(poutcome_mapping).values\n",
    "X2=T[:, [0,1,2,3,4,5,6,7,8,9,11,12,13,14,15,16,17,18,19]]\n",
    "y2=T[:, 20].astype(np.int32)\n",
    "\n",
    "X = np.concatenate((X1, X2))\n",
    "y = np.concatenate((y1, y2))\n",
    "\n",
    "print(X.shape)\n",
    "X = X[:5000]\n",
    "y = y[:5000]\n",
    "\n",
    "X_train,X_test,y_train,y_test = train_test_split(X, y, test_size=0.2, random_state=0)\n",
    "\n",
    "print(X_train.shape, X_test.shape)"
   ]
  },
  {
   "cell_type": "markdown",
   "metadata": {},
   "source": [
    "## 2.2. Data Analysis"
   ]
  },
  {
   "cell_type": "markdown",
   "metadata": {},
   "source": [
    "### 2.2.1. Counts"
   ]
  },
  {
   "cell_type": "code",
   "execution_count": 70,
   "metadata": {},
   "outputs": [
    {
     "name": "stdout",
     "output_type": "stream",
     "text": [
      "Input Columns Count: 19\n",
      "\n",
      "Training Data\n",
      "Number of Rows: 4000\n",
      "\n",
      "Test Data\n",
      "Number of Rows: 1000\n",
      "X[0]:  [ 2.6000e+01  9.0000e+00  3.0000e+00  7.0000e+00  0.0000e+00  1.0000e+00\n",
      "  0.0000e+00  2.0000e+00  5.0000e+00  3.0000e+00  1.0000e+00  9.9900e+02\n",
      "  0.0000e+00  1.0000e+00  1.1000e+00  9.3994e+01 -3.6400e+01  4.8590e+00\n",
      "  5.1910e+03]\n",
      "y[0]:  0\n"
     ]
    }
   ],
   "source": [
    "# No of Attributed\n",
    "\n",
    "# columns = np.array([\"Temperature\", \"Humidity\", \"Light\", \"CO2\", \"HumidityRatio\"])\n",
    "print('Input Columns Count:', X_train.shape[1])\n",
    "# print('Input Columns:', columns)\n",
    "# print('Output Column:', \"Occupancy\")\n",
    "print()\n",
    "print('Training Data')\n",
    "print('Number of Rows:', X_train.shape[0])\n",
    "print()\n",
    "print('Test Data')\n",
    "print('Number of Rows:', X_test.shape[0])\n",
    "\n",
    "print('X[0]: ', X_train[0])\n",
    "print('y[0]: ', y_train[0])"
   ]
  },
  {
   "cell_type": "markdown",
   "metadata": {},
   "source": [
    "## 2.3. Model Evaluation"
   ]
  },
  {
   "cell_type": "markdown",
   "metadata": {},
   "source": [
    "### 2.3.1. Logistic Regression"
   ]
  },
  {
   "cell_type": "code",
   "execution_count": 71,
   "metadata": {},
   "outputs": [
    {
     "name": "stdout",
     "output_type": "stream",
     "text": [
      "Time:  27.270353078842163  seconds\n"
     ]
    }
   ],
   "source": [
    "start_time = time.time()\n",
    "\n",
    "lr_model = sklearn.linear_model.LogisticRegression(n_jobs=-1)\n",
    "max_iter_values = 2**np.linspace(1, 8, 8, dtype=np.int32)\n",
    "solver_values = ['newton-cg', 'lbfgs', 'liblinear', 'sag', 'saga']\n",
    "fit_intercept_values = [True, False]\n",
    "\n",
    "param_grid = { \"fit_intercept\":[True, False], \"solver\": solver_values, \n",
    "             \"max_iter\": max_iter_values}\n",
    "\n",
    "gridcv = sklearn.model_selection.GridSearchCV(lr_model, param_grid, verbose=0, cv=5)\n",
    "gridcv.fit(X_train, y_train)\n",
    "lr_best_estimator = gridcv.best_estimator_\n",
    "lr_best_estimator_score = gridcv.best_score_\n",
    "\n",
    "end_time = time.time()\n",
    "print('Time: ', (end_time-start_time), ' seconds')\n",
    "best_estimator_info[2]['lr'] = gridcv"
   ]
  },
  {
   "cell_type": "code",
   "execution_count": 72,
   "metadata": {},
   "outputs": [
    {
     "name": "stdout",
     "output_type": "stream",
     "text": [
      "Best Estimator:  LogisticRegression(max_iter=2, n_jobs=-1, solver='newton-cg') =>\n",
      "Params:  LogisticRegression(max_iter=2, n_jobs=-1, solver='newton-cg')\n",
      "Training Accuracy Score:  97.04999999999998\n",
      "Test Accuracy Score:  97.3\n",
      "ROC AUC score:  50.0\n"
     ]
    }
   ],
   "source": [
    "print('Best Estimator: ', lr_best_estimator, '=>')\n",
    "print('Params: ', lr_best_estimator)\n",
    "print('Training Accuracy Score: ', lr_best_estimator_score*100)\n",
    "y_pred = lr_best_estimator.predict(X_test)\n",
    "print('Test Accuracy Score: ', sklearn.metrics.accuracy_score(y_test, y_pred)*100)\n",
    "print('ROC AUC score: ', sklearn.metrics.roc_auc_score(y_test, y_pred)*100)"
   ]
  },
  {
   "cell_type": "markdown",
   "metadata": {},
   "source": [
    "### 2.3.2. K-Means"
   ]
  },
  {
   "cell_type": "code",
   "execution_count": 73,
   "metadata": {},
   "outputs": [
    {
     "name": "stdout",
     "output_type": "stream",
     "text": [
      "Time:  3.803933620452881  seconds\n"
     ]
    }
   ],
   "source": [
    "start_time = time.time()\n",
    "\n",
    "knn_model = sklearn.neighbors.KNeighborsClassifier(n_jobs=-1)\n",
    "n_neighbor_values =  2**np.linspace(1, 8, 8, dtype=np.int32)\n",
    "param_grid = {\"n_neighbors\": n_neighbor_values}\n",
    "\n",
    "gridcv = sklearn.model_selection.GridSearchCV(knn_model, param_grid, verbose=0, cv=5)\n",
    "gridcv.fit(X_train, y_train)\n",
    "knn_best_estimator = gridcv.best_estimator_\n",
    "knn_best_estimator_score = gridcv.best_score_\n",
    "\n",
    "end_time = time.time()\n",
    "print('Time: ', (end_time-start_time), ' seconds')\n",
    "best_estimator_info[2]['knn'] = gridcv"
   ]
  },
  {
   "cell_type": "code",
   "execution_count": 74,
   "metadata": {},
   "outputs": [
    {
     "name": "stdout",
     "output_type": "stream",
     "text": [
      "Best Estimator:  KNeighborsClassifier(n_jobs=-1, n_neighbors=4) =>\n",
      "Params:  KNeighborsClassifier(n_jobs=-1, n_neighbors=4)\n",
      "Training Accuracy Score:  97.04999999999998\n",
      "Test Accuracy Score:  97.3\n",
      "ROC AUC score:  50.0\n"
     ]
    }
   ],
   "source": [
    "print('Best Estimator: ', knn_best_estimator, '=>')\n",
    "print('Params: ', knn_best_estimator)\n",
    "print('Training Accuracy Score: ', knn_best_estimator_score*100)\n",
    "y_pred = knn_best_estimator.predict(X_test)\n",
    "print('Test Accuracy Score: ', sklearn.metrics.accuracy_score(y_test, y_pred)*100)\n",
    "print('ROC AUC score: ', sklearn.metrics.roc_auc_score(y_test, y_pred)*100)"
   ]
  },
  {
   "cell_type": "markdown",
   "metadata": {},
   "source": [
    "# 3. Activity Recognition Dataset"
   ]
  },
  {
   "cell_type": "markdown",
   "metadata": {},
   "source": [
    "## 3.1. Data Loading"
   ]
  },
  {
   "cell_type": "code",
   "execution_count": 75,
   "metadata": {},
   "outputs": [
    {
     "name": "stdout",
     "output_type": "stream",
     "text": [
      "(4000, 7) (1000, 7)\n"
     ]
    }
   ],
   "source": [
    "files = glob.glob(os.path.join(healthy_older_people_dataset_directory, 'Datasets_Healthy_Older_People', 'datasets', \"S1_Dataset\", \"d*\"))\n",
    "Rs = [pd.read_csv(f, header=None) for f in files]\n",
    "R=pd.concat(Rs,ignore_index=True).values\n",
    "X1=R[:, 1:8]\n",
    "y1=R[:, 8].astype(np.int32)\n",
    "\n",
    "files = glob.glob(os.path.join(healthy_older_people_dataset_directory, 'Datasets_Healthy_Older_People', 'datasets', \"S2_Dataset\", \"d*\"))\n",
    "Ts = [pd.read_csv(f, header=None) for f in files]\n",
    "T=pd.concat(Ts,ignore_index=True).values\n",
    "X2=T[:, 1:8]\n",
    "y2=T[:, 8].astype(np.int32)\n",
    "\n",
    "X = np.concatenate((X1, X2))\n",
    "y = np.concatenate((y1, y2))\n",
    "\n",
    "X = X[:5000]\n",
    "y = y[:5000]\n",
    "\n",
    "X_train,X_test,y_train,y_test = train_test_split(X, y, test_size=0.2, random_state=0)\n",
    "print(X_train.shape, X_test.shape)"
   ]
  },
  {
   "cell_type": "markdown",
   "metadata": {},
   "source": [
    "## 3.2. Data Analysis"
   ]
  },
  {
   "cell_type": "markdown",
   "metadata": {},
   "source": [
    "### 3.2.1. Counts"
   ]
  },
  {
   "cell_type": "code",
   "execution_count": 76,
   "metadata": {},
   "outputs": [
    {
     "name": "stdout",
     "output_type": "stream",
     "text": [
      "Input Columns Count: 7\n",
      "\n",
      "Training Data\n",
      "Number of Rows: 4000\n",
      "\n",
      "Test Data\n",
      "Number of Rows: 1000\n",
      "X[0]:  [ 1.0459e+00 -1.8603e-01 -8.2102e-02  1.0000e+00 -6.7500e+01  1.5370e+00\n",
      "  9.2425e+02]\n",
      "y[0]:  3\n"
     ]
    }
   ],
   "source": [
    "# No of Attributed\n",
    "\n",
    "# columns = np.array([\"Temperature\", \"Humidity\", \"Light\", \"CO2\", \"HumidityRatio\"])\n",
    "print('Input Columns Count:', X_train.shape[1])\n",
    "# print('Input Columns:', columns)\n",
    "# print('Output Column:', \"Occupancy\")\n",
    "print()\n",
    "print('Training Data')\n",
    "print('Number of Rows:', X_train.shape[0])\n",
    "print()\n",
    "print('Test Data')\n",
    "print('Number of Rows:', X_test.shape[0])\n",
    "\n",
    "print('X[0]: ', X_train[0])\n",
    "print('y[0]: ', y_train[0])"
   ]
  },
  {
   "cell_type": "markdown",
   "metadata": {},
   "source": [
    "## 3.3. Model Evaluation"
   ]
  },
  {
   "cell_type": "markdown",
   "metadata": {},
   "source": [
    "### 3.3.1. Logistic Regression"
   ]
  },
  {
   "cell_type": "code",
   "execution_count": 77,
   "metadata": {},
   "outputs": [
    {
     "name": "stdout",
     "output_type": "stream",
     "text": [
      "Time:  241.8293902873993  seconds\n"
     ]
    }
   ],
   "source": [
    "start_time = time.time()\n",
    "\n",
    "lr_model = sklearn.linear_model.LogisticRegression(n_jobs=-1)\n",
    "max_iter_values = 2**np.linspace(1, 10, 10, dtype=np.int32)\n",
    "solver_values = ['newton-cg', 'lbfgs', 'liblinear', 'sag', 'saga']\n",
    "fit_intercept_values = [True, False]\n",
    "\n",
    "param_grid = { \"fit_intercept\":[True, False], \"solver\": solver_values, \n",
    "             \"max_iter\": max_iter_values}\n",
    "\n",
    "gridcv = sklearn.model_selection.GridSearchCV(lr_model, param_grid, verbose=0, cv=5)\n",
    "gridcv.fit(X_train, y_train)\n",
    "lr_best_estimator = gridcv.best_estimator_\n",
    "lr_best_estimator_score = gridcv.best_score_\n",
    "\n",
    "end_time = time.time()\n",
    "print('Time: ', (end_time-start_time), ' seconds')\n",
    "best_estimator_info[3]['lr'] = gridcv"
   ]
  },
  {
   "cell_type": "markdown",
   "metadata": {},
   "source": [
    "#### 3.3.1.1. Metrics"
   ]
  },
  {
   "cell_type": "code",
   "execution_count": 79,
   "metadata": {},
   "outputs": [
    {
     "name": "stdout",
     "output_type": "stream",
     "text": [
      "Best Estimator:  LogisticRegression(max_iter=1024, n_jobs=-1) =>\n",
      "Params:  LogisticRegression(max_iter=1024, n_jobs=-1)\n",
      "Training Accuracy Score:  90.24999999999999\n",
      "Test Accuracy Score:  88.9\n"
     ]
    }
   ],
   "source": [
    "print('Best Estimator: ', lr_best_estimator, '=>')\n",
    "print('Params: ', lr_best_estimator)\n",
    "print('Training Accuracy Score: ', lr_best_estimator_score*100)\n",
    "y_pred = lr_best_estimator.predict(X_test)\n",
    "print('Test Accuracy Score: ', sklearn.metrics.accuracy_score(y_test, y_pred)*100)\n",
    "# print('ROC AUC score: ', sklearn.metrics.roc_auc_score(y_test, y_pred)*100)"
   ]
  },
  {
   "cell_type": "markdown",
   "metadata": {},
   "source": [
    "### 3.3.2. K-Means"
   ]
  },
  {
   "cell_type": "code",
   "execution_count": 80,
   "metadata": {},
   "outputs": [
    {
     "name": "stdout",
     "output_type": "stream",
     "text": [
      "Time:  3.2727818489074707  seconds\n"
     ]
    }
   ],
   "source": [
    "start_time = time.time()\n",
    "\n",
    "knn_model = sklearn.neighbors.KNeighborsClassifier(n_jobs=-1)\n",
    "n_neighbor_values =  2**np.linspace(1, 8, 8, dtype=np.int32)\n",
    "param_grid = {\"n_neighbors\": n_neighbor_values}\n",
    "\n",
    "gridcv = sklearn.model_selection.GridSearchCV(knn_model, param_grid, verbose=0, cv=5)\n",
    "gridcv.fit(X_train, y_train)\n",
    "knn_best_estimator = gridcv.best_estimator_\n",
    "knn_best_estimator_score = gridcv.best_score_\n",
    "\n",
    "end_time = time.time()\n",
    "print('Time: ', (end_time-start_time), ' seconds')\n",
    "best_estimator_info[3]['knn'] = gridcv"
   ]
  },
  {
   "cell_type": "code",
   "execution_count": 81,
   "metadata": {},
   "outputs": [
    {
     "name": "stdout",
     "output_type": "stream",
     "text": [
      "Best Estimator:  KNeighborsClassifier(n_jobs=-1, n_neighbors=2) =>\n",
      "Params:  KNeighborsClassifier(n_jobs=-1, n_neighbors=2)\n",
      "Training Accuracy Score:  94.0\n",
      "Test Accuracy Score:  93.60000000000001\n"
     ]
    }
   ],
   "source": [
    "print('Best Estimator: ', knn_best_estimator, '=>')\n",
    "print('Params: ', knn_best_estimator)\n",
    "print('Training Accuracy Score: ', knn_best_estimator_score*100)\n",
    "y_pred = knn_best_estimator.predict(X_test)\n",
    "print('Test Accuracy Score: ', sklearn.metrics.accuracy_score(y_test, y_pred)*100)\n",
    "# print('ROC AUC score: ', sklearn.metrics.roc_auc_score(y_test, y_pred)*100)"
   ]
  },
  {
   "cell_type": "markdown",
   "metadata": {},
   "source": [
    "# 4. Bitcoin Ransonware Dataset"
   ]
  },
  {
   "cell_type": "markdown",
   "metadata": {},
   "source": [
    "## 4.1. Data Loading"
   ]
  },
  {
   "cell_type": "code",
   "execution_count": 82,
   "metadata": {},
   "outputs": [
    {
     "name": "stdout",
     "output_type": "stream",
     "text": [
      "D:\\pravesh\\Concordia\\2020-Fall\\COMP-6321_ML\\project\\COMP-6321-ML\\datasets\\3_bitcoin_heist_ransonware_address\\data\\BitcoinHeistData.csv\n",
      "(4000, 8) (1000, 8)\n"
     ]
    }
   ],
   "source": [
    "training_dataset_url = os.path.join(bitcoin_heist_ransonware_address_dataset_directory, 'data', 'BitcoinHeistData.csv')\n",
    "print(training_dataset_url)\n",
    "\n",
    "\n",
    "# Loading code\n",
    "nrows=1000000\n",
    "nparts=10\n",
    "ntest=nrows//nparts\n",
    "label_mapping = {'princetonCerber':1, 'princetonLocky':1, 'montrealCryptoLocker':1,\n",
    " 'montrealCryptXXX':1, 'paduaCryptoWall':1, 'montrealWannaCry':1,\n",
    " 'montrealDMALockerv3':1, 'montrealCryptoTorLocker2015':1, 'montrealSamSam':1,\n",
    " 'montrealFlyper':1, 'montrealNoobCrypt':1, 'montrealDMALocker':1, 'montrealGlobe':1,\n",
    " 'montrealEDA2':1, 'paduaKeRanger':1, 'montrealVenusLocker':1, 'montrealXTPLocker':1,\n",
    " 'paduaJigsaw':1, 'montrealGlobev3':1, 'montrealJigSaw':1, 'montrealXLockerv5.0':1,\n",
    " 'montrealXLocker':1, 'montrealRazy':1, 'montrealCryptConsole':1,\n",
    " 'montrealGlobeImposter':1, 'montrealSam':1, 'montrealComradeCircle':1,\n",
    " 'montrealAPT':1, 'white':0}\n",
    "\n",
    "R=pd.read_csv(training_dataset_url, nrows=nrows, usecols=[\"year\",\"day\",\"length\",\"weight\",\"count\",\"looped\",\"neighbors\",\"income\",\"label\"]).replace(label_mapping).values\n",
    "np.random.seed(0)\n",
    "np.random.shuffle(R)\n",
    "X=R[:, 0:8]\n",
    "y=R[:, 8].astype(np.int32)\n",
    "\n",
    "X = X[:5000]\n",
    "y = y[:5000]\n",
    "\n",
    "\n",
    "X_train,X_test,y_train,y_test = train_test_split(X, y, test_size=0.2, random_state=0)\n",
    "print(X_train.shape, X_test.shape)"
   ]
  },
  {
   "cell_type": "markdown",
   "metadata": {},
   "source": [
    "## 4.2. Data Analysis"
   ]
  },
  {
   "cell_type": "markdown",
   "metadata": {},
   "source": [
    "### 4.2.1. Counts"
   ]
  },
  {
   "cell_type": "code",
   "execution_count": 83,
   "metadata": {},
   "outputs": [
    {
     "name": "stdout",
     "output_type": "stream",
     "text": [
      "Input Columns Count: 8\n",
      "\n",
      "Training Data\n",
      "Number of Rows: 4000\n",
      "\n",
      "Test Data\n",
      "Number of Rows: 1000\n",
      "X[0]:  [2.01200000e+03 4.60000000e+01 2.00000000e+00 3.33333333e-01\n",
      " 3.00000000e+00 0.00000000e+00 1.00000000e+00 3.25000000e+08]\n",
      "y[0]:  0\n"
     ]
    }
   ],
   "source": [
    "# No of Attributed\n",
    "\n",
    "# columns = np.array([\"Temperature\", \"Humidity\", \"Light\", \"CO2\", \"HumidityRatio\"])\n",
    "print('Input Columns Count:', X_train.shape[1])\n",
    "# print('Input Columns:', columns)\n",
    "# print('Output Column:', \"Occupancy\")\n",
    "print()\n",
    "print('Training Data')\n",
    "print('Number of Rows:', X_train.shape[0])\n",
    "print()\n",
    "print('Test Data')\n",
    "print('Number of Rows:', X_test.shape[0])\n",
    "\n",
    "print('X[0]: ', X_train[0])\n",
    "print('y[0]: ', y_train[0])"
   ]
  },
  {
   "cell_type": "markdown",
   "metadata": {},
   "source": [
    "## 4.3. Model Evaluation"
   ]
  },
  {
   "cell_type": "markdown",
   "metadata": {},
   "source": [
    "### 4.3.1. Logistics Regression"
   ]
  },
  {
   "cell_type": "code",
   "execution_count": 84,
   "metadata": {},
   "outputs": [
    {
     "name": "stdout",
     "output_type": "stream",
     "text": [
      "Time:  43.92298412322998  seconds\n"
     ]
    }
   ],
   "source": [
    "start_time = time.time()\n",
    "\n",
    "lr_model = sklearn.linear_model.LogisticRegression(n_jobs=-1)\n",
    "max_iter_values = 2**np.linspace(1, 8, 8, dtype=np.int32)\n",
    "solver_values = ['newton-cg', 'lbfgs', 'liblinear', 'sag', 'saga']\n",
    "fit_intercept_values = [True, False]\n",
    "\n",
    "param_grid = { \"fit_intercept\":[True, False], \"solver\": solver_values, \n",
    "             \"max_iter\": max_iter_values}\n",
    "gridcv = sklearn.model_selection.GridSearchCV(lr_model, param_grid, verbose=0, cv=5)\n",
    "gridcv.fit(X_train, y_train)\n",
    "lr_best_estimator = gridcv.best_estimator_\n",
    "lr_best_estimator_score = gridcv.best_score_\n",
    "\n",
    "end_time = time.time()\n",
    "print('Time: ', (end_time-start_time), ' seconds')\n",
    "best_estimator_info[4]['lr'] = gridcv"
   ]
  },
  {
   "cell_type": "markdown",
   "metadata": {},
   "source": [
    "#### 4.3.1.1. Metrics"
   ]
  },
  {
   "cell_type": "code",
   "execution_count": 85,
   "metadata": {},
   "outputs": [
    {
     "name": "stdout",
     "output_type": "stream",
     "text": [
      "Best Estimator:  LogisticRegression(max_iter=128, n_jobs=-1, solver='newton-cg') =>\n",
      "Params:  LogisticRegression(max_iter=128, n_jobs=-1, solver='newton-cg')\n",
      "Training Accuracy Score:  95.87499999999999\n",
      "Test Accuracy Score:  95.6\n",
      "ROC AUC score:  50.0\n"
     ]
    }
   ],
   "source": [
    "print('Best Estimator: ', lr_best_estimator, '=>')\n",
    "print('Params: ', lr_best_estimator)\n",
    "print('Training Accuracy Score: ', lr_best_estimator_score*100)\n",
    "y_pred = lr_best_estimator.predict(X_test)\n",
    "print('Test Accuracy Score: ', sklearn.metrics.accuracy_score(y_test, y_pred)*100)\n",
    "print('ROC AUC score: ', sklearn.metrics.roc_auc_score(y_test, y_pred)*100)"
   ]
  },
  {
   "cell_type": "markdown",
   "metadata": {},
   "source": [
    "### 4.3.2. K-Means"
   ]
  },
  {
   "cell_type": "code",
   "execution_count": 86,
   "metadata": {},
   "outputs": [
    {
     "name": "stdout",
     "output_type": "stream",
     "text": [
      "Time:  3.49882435798645  seconds\n"
     ]
    }
   ],
   "source": [
    "start_time = time.time()\n",
    "\n",
    "knn_model = sklearn.neighbors.KNeighborsClassifier(n_jobs=-1)\n",
    "n_neighbor_values =  2**np.linspace(1, 8, 8, dtype=np.int32)\n",
    "param_grid = {\"n_neighbors\": n_neighbor_values}\n",
    "\n",
    "gridcv = sklearn.model_selection.GridSearchCV(knn_model, param_grid, verbose=0, cv=5)\n",
    "gridcv.fit(X_train, y_train)\n",
    "knn_best_estimator = gridcv.best_estimator_\n",
    "knn_best_estimator_score = gridcv.best_score_\n",
    "\n",
    "end_time = time.time()\n",
    "print('Time: ', (end_time-start_time), ' seconds')\n",
    "best_estimator_info[4]['knn'] = gridcv"
   ]
  },
  {
   "cell_type": "code",
   "execution_count": 87,
   "metadata": {},
   "outputs": [
    {
     "name": "stdout",
     "output_type": "stream",
     "text": [
      "Best Estimator:  KNeighborsClassifier(n_jobs=-1, n_neighbors=32) =>\n",
      "Params:  KNeighborsClassifier(n_jobs=-1, n_neighbors=32)\n",
      "Training Accuracy Score:  95.85000000000001\n",
      "Test Accuracy Score:  95.6\n",
      "ROC AUC score:  50.0\n"
     ]
    }
   ],
   "source": [
    "print('Best Estimator: ', knn_best_estimator, '=>')\n",
    "print('Params: ', knn_best_estimator)\n",
    "print('Training Accuracy Score: ', knn_best_estimator_score*100)\n",
    "y_pred = knn_best_estimator.predict(X_test)\n",
    "print('Test Accuracy Score: ', sklearn.metrics.accuracy_score(y_test, y_pred)*100)\n",
    "print('ROC AUC score: ', sklearn.metrics.roc_auc_score(y_test, y_pred)*100)"
   ]
  },
  {
   "cell_type": "markdown",
   "metadata": {},
   "source": [
    "# 5. Montreal Crime Dataset"
   ]
  },
  {
   "cell_type": "markdown",
   "metadata": {},
   "source": [
    "## 5.1. Data Loading"
   ]
  },
  {
   "cell_type": "code",
   "execution_count": 88,
   "metadata": {},
   "outputs": [
    {
     "name": "stdout",
     "output_type": "stream",
     "text": [
      "(4000, 8) (1000, 8)\n"
     ]
    }
   ],
   "source": [
    "training_dataset_url = os.path.join(montreal_crime_dataset_directory, 'interventionscitoyendo.csv')\n",
    "\n",
    "\n",
    "category_mapping = {'Introduction':1, 'Vol dans / sur véhicule à moteur':2, 'Vol de véhicule à moteur':3, 'Méfait':4, 'Vol qualifié':5, 'Infraction entraînant la mort':6, 'Vols qualifiés':5, 'Infractions entrainant la mort':6}\n",
    "shift_mapping ={'jour':1, 'soir':2, 'nuit':3}\n",
    "TR=pd.read_csv(training_dataset_url, encoding='latin1').replace(category_mapping).replace(shift_mapping)\n",
    "TR['YEAR']=TR.DATE.str.split('-').str[0].astype(np.int32)\n",
    "TR['MONTH']=TR.DATE.str.split('-').str[1].astype(np.int32)\n",
    "TR['DAY']=TR.DATE.str.split('-').str[2].astype(np.int32)\n",
    "TR.dropna(inplace=True)\n",
    "\n",
    "R=TR.values\n",
    "X = R[:, [2,3,4,5,6,7,9,10]]\n",
    "y = R[:, 0].astype(np.int32)\n",
    "\n",
    "X = X[:5000]\n",
    "y = y[:5000]\n",
    "\n",
    "\n",
    "X_train,X_test,y_train,y_test = train_test_split(X, y, test_size=0.2, random_state=0)\n",
    "print(X_train.shape, X_test.shape)"
   ]
  },
  {
   "cell_type": "markdown",
   "metadata": {},
   "source": [
    "## 5.2. Data Analysis"
   ]
  },
  {
   "cell_type": "markdown",
   "metadata": {},
   "source": [
    "### 5.2.1. Counts"
   ]
  },
  {
   "cell_type": "code",
   "execution_count": 89,
   "metadata": {},
   "outputs": [
    {
     "name": "stdout",
     "output_type": "stream",
     "text": [
      "Input Columns Count: 8\n",
      "\n",
      "Training Data\n",
      "Number of Rows: 4000\n",
      "\n",
      "Test Data\n",
      "Number of Rows: 1000\n",
      "X[0]:  [3 5.0 287119.7810100151 5034502.49999992 -73.72603463908422\n",
      " 45.45022933601354 5 2]\n",
      "y[0]:  1\n"
     ]
    }
   ],
   "source": [
    "# No of Attributed\n",
    "\n",
    "# columns = np.array([\"Temperature\", \"Humidity\", \"Light\", \"CO2\", \"HumidityRatio\"])\n",
    "print('Input Columns Count:', X_train.shape[1])\n",
    "# print('Input Columns:', columns)\n",
    "# print('Output Column:', \"Occupancy\")\n",
    "print()\n",
    "print('Training Data')\n",
    "print('Number of Rows:', X_train.shape[0])\n",
    "print()\n",
    "print('Test Data')\n",
    "print('Number of Rows:', X_test.shape[0])\n",
    "\n",
    "print('X[0]: ', X_train[0])\n",
    "print('y[0]: ', y_train[0])"
   ]
  },
  {
   "cell_type": "markdown",
   "metadata": {},
   "source": [
    "## 5.3. Model Evaluation"
   ]
  },
  {
   "cell_type": "markdown",
   "metadata": {},
   "source": [
    "### 5.3.1. Logistics Regression"
   ]
  },
  {
   "cell_type": "code",
   "execution_count": 90,
   "metadata": {},
   "outputs": [
    {
     "name": "stdout",
     "output_type": "stream",
     "text": [
      "Time:  169.17594814300537  seconds\n"
     ]
    }
   ],
   "source": [
    "start_time = time.time()\n",
    "\n",
    "lr_model = sklearn.linear_model.LogisticRegression(n_jobs=-1)\n",
    "max_iter_values = 2**np.linspace(1, 8, 8, dtype=np.int32)\n",
    "solver_values = ['newton-cg', 'lbfgs', 'liblinear', 'sag', 'saga']\n",
    "fit_intercept_values = [True, False]\n",
    "\n",
    "param_grid = { \"fit_intercept\":[True, False], \"solver\": solver_values, \n",
    "             \"max_iter\": max_iter_values}\n",
    "gridcv = sklearn.model_selection.GridSearchCV(lr_model, param_grid, verbose=0, cv=5)\n",
    "gridcv.fit(X_train, y_train)\n",
    "lr_best_estimator = gridcv.best_estimator_\n",
    "lr_best_estimator_score = gridcv.best_score_\n",
    "\n",
    "end_time = time.time()\n",
    "print('Time: ', (end_time-start_time), ' seconds')\n",
    "best_estimator_info[5]['lr'] = gridcv"
   ]
  },
  {
   "cell_type": "markdown",
   "metadata": {},
   "source": [
    "#### 5.3.1.1. Metrics"
   ]
  },
  {
   "cell_type": "code",
   "execution_count": 91,
   "metadata": {},
   "outputs": [
    {
     "name": "stdout",
     "output_type": "stream",
     "text": [
      "Best Estimator:  LogisticRegression(fit_intercept=False, max_iter=128, n_jobs=-1,\n",
      "                   solver='newton-cg') =>\n",
      "Params:  LogisticRegression(fit_intercept=False, max_iter=128, n_jobs=-1,\n",
      "                   solver='newton-cg')\n",
      "Training Accuracy Score:  32.925000000000004\n",
      "Test Accuracy Score:  32.6\n"
     ]
    }
   ],
   "source": [
    "print('Best Estimator: ', lr_best_estimator, '=>')\n",
    "print('Params: ', lr_best_estimator)\n",
    "print('Training Accuracy Score: ', lr_best_estimator_score*100)\n",
    "y_pred = lr_best_estimator.predict(X_test)\n",
    "print('Test Accuracy Score: ', sklearn.metrics.accuracy_score(y_test, y_pred)*100)\n",
    "# print('ROC AUC score: ', sklearn.metrics.roc_auc_score(y_test, y_pred)*100)"
   ]
  },
  {
   "cell_type": "markdown",
   "metadata": {},
   "source": [
    "### 5.3.2. K-Means"
   ]
  },
  {
   "cell_type": "code",
   "execution_count": 92,
   "metadata": {},
   "outputs": [
    {
     "name": "stdout",
     "output_type": "stream",
     "text": [
      "Time:  2.0226855278015137  seconds\n"
     ]
    }
   ],
   "source": [
    "start_time = time.time()\n",
    "\n",
    "knn_model = sklearn.neighbors.KNeighborsClassifier(n_jobs=-1)\n",
    "n_neighbor_values =  2**np.linspace(1, 8, 8, dtype=np.int32)\n",
    "param_grid = {\"n_neighbors\": n_neighbor_values}\n",
    "\n",
    "gridcv = sklearn.model_selection.GridSearchCV(knn_model, param_grid, verbose=0, cv=5)\n",
    "gridcv.fit(X_train, y_train)\n",
    "knn_best_estimator = gridcv.best_estimator_\n",
    "knn_best_estimator_score = gridcv.best_score_\n",
    "\n",
    "end_time = time.time()\n",
    "print('Time: ', (end_time-start_time), ' seconds')\n",
    "best_estimator_info[5]['knn'] = gridcv"
   ]
  },
  {
   "cell_type": "code",
   "execution_count": 93,
   "metadata": {},
   "outputs": [
    {
     "name": "stdout",
     "output_type": "stream",
     "text": [
      "Best Estimator:  KNeighborsClassifier(n_jobs=-1, n_neighbors=32) =>\n",
      "Params:  KNeighborsClassifier(n_jobs=-1, n_neighbors=32)\n",
      "Training Accuracy Score:  36.8\n",
      "Test Accuracy Score:  37.8\n"
     ]
    }
   ],
   "source": [
    "print('Best Estimator: ', knn_best_estimator, '=>')\n",
    "print('Params: ', knn_best_estimator)\n",
    "print('Training Accuracy Score: ', knn_best_estimator_score*100)\n",
    "y_pred = knn_best_estimator.predict(X_test)\n",
    "print('Test Accuracy Score: ', sklearn.metrics.accuracy_score(y_test, y_pred)*100)\n",
    "# print('ROC AUC score: ', sklearn.metrics.roc_auc_score(y_test, y_pred)*100)"
   ]
  },
  {
   "cell_type": "markdown",
   "metadata": {},
   "source": [
    "# 6. Credit Cards Dataset"
   ]
  },
  {
   "cell_type": "markdown",
   "metadata": {},
   "source": [
    "## 6.1. Data Loading"
   ]
  },
  {
   "cell_type": "code",
   "execution_count": 102,
   "metadata": {},
   "outputs": [
    {
     "name": "stdout",
     "output_type": "stream",
     "text": [
      "(30000, 24)\n",
      "[20000     2     2     1    24     2     2    -1    -1    -2    -2  3913\n",
      "  3102   689     0     0     0     0   689     0     0     0     0]\n",
      "(4000, 23) (1000, 23)\n",
      "[20000     2     2     1    24     2     2    -1    -1    -2    -2  3913\n",
      "  3102   689     0     0     0     0   689     0     0     0     0]\n",
      "[200000      2      1      1     45     -2     -2     -2     -2     -2\n",
      "     -2   1417  12643   3977      0   2500    199  12660   3977      0\n",
      "   2500    199   2944]\n"
     ]
    }
   ],
   "source": [
    "dataset_url = os.path.join(credit_cards_dataset_directory, 'default_of_credit_card_clients.csv')\n",
    "\n",
    "TR=pd.read_csv(dataset_url, skiprows=1, usecols=[i for i in range(1,25)])\n",
    "print(TR.shape)\n",
    "\n",
    "R=TR.values\n",
    "X = R[:, :23]\n",
    "y = R[:, 23].astype(np.int32)\n",
    "print(X[0])\n",
    "\n",
    "X = X[:5000]\n",
    "y = y[:5000]\n",
    "\n",
    "X_train,X_test,y_train,y_test = train_test_split(X, y, test_size=0.2, random_state=0)\n",
    "print(X_train.shape, X_test.shape)\n",
    "print(X[0])\n",
    "print(X_train[0])"
   ]
  },
  {
   "cell_type": "markdown",
   "metadata": {},
   "source": [
    "## 6.2. Data Analysis"
   ]
  },
  {
   "cell_type": "markdown",
   "metadata": {},
   "source": [
    "### 6.2.1. Counts"
   ]
  },
  {
   "cell_type": "code",
   "execution_count": 103,
   "metadata": {},
   "outputs": [
    {
     "name": "stdout",
     "output_type": "stream",
     "text": [
      "Input Columns Count: 23\n",
      "\n",
      "Training Data\n",
      "Number of Rows: 4000\n",
      "\n",
      "Test Data\n",
      "Number of Rows: 1000\n",
      "X[0]:  [200000      2      1      1     45     -2     -2     -2     -2     -2\n",
      "     -2   1417  12643   3977      0   2500    199  12660   3977      0\n",
      "   2500    199   2944]\n",
      "y[0]:  0\n"
     ]
    }
   ],
   "source": [
    "# No of Attributed\n",
    "\n",
    "# columns = np.array([\"Temperature\", \"Humidity\", \"Light\", \"CO2\", \"HumidityRatio\"])\n",
    "print('Input Columns Count:', X_train.shape[1])\n",
    "# print('Input Columns:', columns)\n",
    "# print('Output Column:', \"Occupancy\")\n",
    "print()\n",
    "print('Training Data')\n",
    "print('Number of Rows:', X_train.shape[0])\n",
    "print()\n",
    "print('Test Data')\n",
    "print('Number of Rows:', X_test.shape[0])\n",
    "\n",
    "print('X[0]: ', X_train[0])\n",
    "print('y[0]: ', y_train[0])"
   ]
  },
  {
   "cell_type": "markdown",
   "metadata": {},
   "source": [
    "## 6.3. Model Evaluation"
   ]
  },
  {
   "cell_type": "markdown",
   "metadata": {},
   "source": [
    "### 6.3.1. Logistics Regression"
   ]
  },
  {
   "cell_type": "code",
   "execution_count": 107,
   "metadata": {},
   "outputs": [
    {
     "name": "stdout",
     "output_type": "stream",
     "text": [
      "Time:  142.19617676734924  seconds\n"
     ]
    }
   ],
   "source": [
    "start_time = time.time()\n",
    "\n",
    "lr_model = sklearn.linear_model.LogisticRegression(n_jobs=-1)\n",
    "max_iter_values = 2**np.linspace(1, 10, 10, dtype=np.int32)\n",
    "solver_values = ['newton-cg', 'lbfgs', 'liblinear', 'sag', 'saga']\n",
    "fit_intercept_values = [True, False]\n",
    "\n",
    "param_grid = { \"fit_intercept\":[True, False], \"solver\": solver_values, \n",
    "             \"max_iter\": max_iter_values}\n",
    "gridcv = sklearn.model_selection.GridSearchCV(lr_model, param_grid, verbose=0, cv=5)\n",
    "gridcv.fit(X_train, y_train)\n",
    "lr_best_estimator = gridcv.best_estimator_\n",
    "lr_best_estimator_score = gridcv.best_score_\n",
    "\n",
    "end_time = time.time()\n",
    "print('Time: ', (end_time-start_time), ' seconds')\n",
    "best_estimator_info[6]['lr'] = gridcv"
   ]
  },
  {
   "cell_type": "markdown",
   "metadata": {},
   "source": [
    "#### 6.3.1.1. Metrics"
   ]
  },
  {
   "cell_type": "code",
   "execution_count": 108,
   "metadata": {},
   "outputs": [
    {
     "name": "stdout",
     "output_type": "stream",
     "text": [
      "Best Estimator:  LogisticRegression(fit_intercept=False, max_iter=256, n_jobs=-1,\n",
      "                   solver='newton-cg') =>\n",
      "Params:  LogisticRegression(fit_intercept=False, max_iter=256, n_jobs=-1,\n",
      "                   solver='newton-cg')\n",
      "Training Accuracy Score:  79.375\n",
      "Test Accuracy Score:  81.10000000000001\n",
      "ROC AUC score:  59.00924878568101\n"
     ]
    }
   ],
   "source": [
    "print('Best Estimator: ', lr_best_estimator, '=>')\n",
    "print('Params: ', lr_best_estimator)\n",
    "print('Training Accuracy Score: ', lr_best_estimator_score*100)\n",
    "y_pred = lr_best_estimator.predict(X_test)\n",
    "print('Test Accuracy Score: ', sklearn.metrics.accuracy_score(y_test, y_pred)*100)\n",
    "print('ROC AUC score: ', sklearn.metrics.roc_auc_score(y_test, y_pred)*100)"
   ]
  },
  {
   "cell_type": "markdown",
   "metadata": {},
   "source": [
    "### 6.3.2. K-Means"
   ]
  },
  {
   "cell_type": "code",
   "execution_count": 109,
   "metadata": {},
   "outputs": [
    {
     "name": "stdout",
     "output_type": "stream",
     "text": [
      "Time:  8.91828966140747  seconds\n"
     ]
    }
   ],
   "source": [
    "start_time = time.time()\n",
    "\n",
    "knn_model = sklearn.neighbors.KNeighborsClassifier(n_jobs=-1)\n",
    "n_neighbor_values =  2**np.linspace(1, 8, 8, dtype=np.int32)\n",
    "param_grid = {\"n_neighbors\": n_neighbor_values}\n",
    "\n",
    "gridcv = sklearn.model_selection.GridSearchCV(knn_model, param_grid, verbose=0, cv=5)\n",
    "gridcv.fit(X_train, y_train)\n",
    "knn_best_estimator = gridcv.best_estimator_\n",
    "knn_best_estimator_score = gridcv.best_score_\n",
    "\n",
    "end_time = time.time()\n",
    "print('Time: ', (end_time-start_time), ' seconds')\n",
    "best_estimator_info[6]['knn'] = gridcv"
   ]
  },
  {
   "cell_type": "code",
   "execution_count": 110,
   "metadata": {},
   "outputs": [
    {
     "name": "stdout",
     "output_type": "stream",
     "text": [
      "Best Estimator:  KNeighborsClassifier(n_jobs=-1, n_neighbors=128) =>\n",
      "Params:  KNeighborsClassifier(n_jobs=-1, n_neighbors=128)\n",
      "Training Accuracy Score:  77.55\n",
      "Test Accuracy Score:  79.10000000000001\n",
      "ROC AUC score:  50.0\n"
     ]
    }
   ],
   "source": [
    "print('Best Estimator: ', knn_best_estimator, '=>')\n",
    "print('Params: ', knn_best_estimator)\n",
    "print('Training Accuracy Score: ', knn_best_estimator_score*100)\n",
    "y_pred = knn_best_estimator.predict(X_test)\n",
    "print('Test Accuracy Score: ', sklearn.metrics.accuracy_score(y_test, y_pred)*100)\n",
    "print('ROC AUC score: ', sklearn.metrics.roc_auc_score(y_test, y_pred)*100)"
   ]
  },
  {
   "cell_type": "code",
   "execution_count": null,
   "metadata": {},
   "outputs": [],
   "source": []
  },
  {
   "cell_type": "markdown",
   "metadata": {},
   "source": [
    "# 7. Census Income Dataset"
   ]
  },
  {
   "cell_type": "markdown",
   "metadata": {},
   "source": [
    "## 7.1. Data Loading"
   ]
  },
  {
   "cell_type": "code",
   "execution_count": 200,
   "metadata": {},
   "outputs": [
    {
     "name": "stdout",
     "output_type": "stream",
     "text": [
      "[3.9000e+01 6.0000e+00 7.7516e+04 1.0000e+00 1.3000e+01 3.0000e+00\n",
      " 9.0000e+00 4.0000e+00 1.0000e+00 2.0000e+00 2.1740e+03 0.0000e+00\n",
      " 4.0000e+01 1.0000e+00] 0\n",
      "(4000, 14) (1000, 14)\n"
     ]
    }
   ],
   "source": [
    "dataset_url = os.path.join(census_income_dataset_directory, 'adult_data.csv')\n",
    "\n",
    "TR=pd.read_csv(dataset_url, encoding='utf8', header=None).replace(workclass_mapping)\n",
    "TR = TR.apply(lambda x: x.apply(lambda y: y.strip() if type(y) == type('') else y), axis=0)\n",
    "\n",
    "workclass_mapping = {'Private':1, 'Self-emp-not-inc':2\n",
    "                    , 'Self-emp-inc':3, 'Federal-gov':4\n",
    "                    , 'Local-gov':5, 'State-gov':6\n",
    "                    , 'Without-pay':7, 'Never-worked':8}\n",
    "TR = TR.replace(workclass_mapping)\n",
    "\n",
    "\n",
    "education_mapping = {'Bachelors':1, 'Some-college':2, '11th':3\n",
    "                     , 'HS-grad':4, 'Prof-school':5, 'Assoc-acdm':6\n",
    "                     , 'Assoc-voc':7, '9th':8, '7th-8th':9\n",
    "                     , '12th':10, 'Masters':11, '1st-4th':12\n",
    "                     , '10th':13, 'Doctorate':14, '5th-6th':15\n",
    "                     , 'Preschool':16}\n",
    "TR = TR.replace(education_mapping)\n",
    "\n",
    "marital_status_mapping = {'Married-civ-spouse':1, 'Divorced':2, 'Never-married':3\n",
    "                          , 'Separated':4, 'Widowed':5, 'Married-spouse-absent':6\n",
    "                          , 'Married-AF-spouse':7}\n",
    "TR = TR.replace(marital_status_mapping)\n",
    "\n",
    "occupation_mapping = {'Tech-support':1, 'Craft-repair':2, 'Other-service':3\n",
    "                      , 'Sales':4, 'Exec-managerial':5, 'Prof-specialty':6\n",
    "                      , 'Handlers-cleaners':7, 'Machine-op-inspct':8, 'Adm-clerical':9\n",
    "                      , 'Farming-fishing':10, 'Transport-moving':11, 'Priv-house-serv':12\n",
    "                      , 'Protective-serv':13, 'Armed-Forces':14}\n",
    "TR = TR.replace(occupation_mapping)\n",
    "\n",
    "relationship_mapping = {'Wife':1, 'Own-child':2, 'Husband':3\n",
    "                , 'Not-in-family':4, 'Other-relative':5, 'Unmarried':6}\n",
    "TR = TR.replace(relationship_mapping)\n",
    "\n",
    "race_mapping = {'White':1, 'Asian-Pac-Islander':2, 'Amer-Indian-Eskimo':3\n",
    "                , 'Other':4, 'Black':5}\n",
    "TR = TR.replace(race_mapping)\n",
    "\n",
    "sex_mapping = {'Female':1, 'Male':2}\n",
    "TR = TR.replace(sex_mapping)\n",
    "\n",
    "country_mapping = {'United-States':1, 'Cambodia':2, 'England':3\n",
    "                   , 'Puerto-Rico':4, 'Canada':5, 'Germany':6\n",
    "                   , 'Outlying-US(Guam-USVI-etc)':7, 'India':8\n",
    "                   , 'Japan':9, 'Greece':10, 'South':11\n",
    "                   , 'China':12, 'Cuba':13, 'Iran':14\n",
    "                   , 'Honduras':15, 'Philippines':16, 'Italy':17\n",
    "                   , 'Poland':18, 'Jamaica':19, 'Vietnam':20\n",
    "                   , 'Mexico':21, 'Portugal':22, 'Ireland':23\n",
    "                   , 'France':24, 'Dominican-Republic':25, 'Laos':26\n",
    "                   , 'Ecuador':27, 'Taiwan':28, 'Haiti':29\n",
    "                   , 'Columbia':30, 'Hungary':31, 'Guatemala':32\n",
    "                   , 'Nicaragua':33, 'Scotland':34, 'Thailand':35\n",
    "                   , 'Yugoslavia':36, 'El-Salvador':37, 'Trinadad&Tobago':38\n",
    "                   , 'Peru':39, 'Hong':40, 'Holand-Netherlands':41}\n",
    "TR = TR.replace(country_mapping)\n",
    "\n",
    "salary_mapping = {'<=50K':0, '>50K':1}\n",
    "TR = TR.replace(salary_mapping)\n",
    "\n",
    "TR = TR.replace(to_replace='?', value=np.nan)\n",
    "TR.dropna(inplace=True)\n",
    "\n",
    "R=TR.values\n",
    "shape = R.shape\n",
    "X = R[:, :shape[1]-1].astype(np.float32)\n",
    "y = R[:, shape[1]-1].astype(np.int32)\n",
    "print(X[0], y[0])\n",
    "\n",
    "X = X[:5000]\n",
    "y = y[:5000]\n",
    "\n",
    "X_train,X_test,y_train,y_test = train_test_split(X, y, test_size=0.2, random_state=0)\n",
    "print(X_train.shape, X_test.shape)"
   ]
  },
  {
   "cell_type": "markdown",
   "metadata": {},
   "source": [
    "## 7.2. Data Analysis"
   ]
  },
  {
   "cell_type": "markdown",
   "metadata": {},
   "source": [
    "### 7.2.1. Counts"
   ]
  },
  {
   "cell_type": "code",
   "execution_count": 201,
   "metadata": {},
   "outputs": [
    {
     "name": "stdout",
     "output_type": "stream",
     "text": [
      "Input Columns Count: 14\n",
      "\n",
      "Training Data\n",
      "Number of Rows: 4000\n",
      "\n",
      "Test Data\n",
      "Number of Rows: 1000\n",
      "X[0]:  [4.10000e+01 6.00000e+00 3.55756e+05 2.00000e+00 1.00000e+01 3.00000e+00\n",
      " 6.00000e+00 4.00000e+00 1.00000e+00 2.00000e+00 0.00000e+00 0.00000e+00\n",
      " 4.00000e+01 1.00000e+00]\n",
      "y[0]:  0\n"
     ]
    }
   ],
   "source": [
    "# No of Attributed\n",
    "\n",
    "# columns = np.array([\"Temperature\", \"Humidity\", \"Light\", \"CO2\", \"HumidityRatio\"])\n",
    "print('Input Columns Count:', X_train.shape[1])\n",
    "# print('Input Columns:', columns)\n",
    "# print('Output Column:', \"Occupancy\")\n",
    "print()\n",
    "print('Training Data')\n",
    "print('Number of Rows:', X_train.shape[0])\n",
    "print()\n",
    "print('Test Data')\n",
    "print('Number of Rows:', X_test.shape[0])\n",
    "\n",
    "print('X[0]: ', X_train[0])\n",
    "print('y[0]: ', y_train[0])"
   ]
  },
  {
   "cell_type": "markdown",
   "metadata": {},
   "source": [
    "## 7.3. Model Evaluation"
   ]
  },
  {
   "cell_type": "markdown",
   "metadata": {},
   "source": [
    "### 7.3.1. Logistics Regression"
   ]
  },
  {
   "cell_type": "code",
   "execution_count": 240,
   "metadata": {},
   "outputs": [
    {
     "name": "stdout",
     "output_type": "stream",
     "text": [
      "Time:  17.943176746368408  seconds\n"
     ]
    }
   ],
   "source": [
    "start_time = time.time()\n",
    "\n",
    "lr_model = sklearn.linear_model.LogisticRegression(n_jobs=-1)\n",
    "max_iter_values = 2**np.linspace(1, 10, 10, dtype=np.int32)\n",
    "solver_values = ['newton-cg', 'lbfgs', 'liblinear', 'sag', 'saga']\n",
    "fit_intercept_values = [True, False]\n",
    "\n",
    "param_grid = { \"fit_intercept\":[True, False], \"solver\": solver_values, \n",
    "             \"max_iter\": max_iter_values}\n",
    "gridcv = sklearn.model_selection.GridSearchCV(lr_model, param_grid, verbose=0, cv=5)\n",
    "gridcv.fit(X_train, y_train)\n",
    "lr_best_estimator = gridcv.best_estimator_\n",
    "lr_best_estimator_score = gridcv.best_score_\n",
    "\n",
    "end_time = time.time()\n",
    "print('Time: ', (end_time-start_time), ' seconds')\n",
    "best_estimator_info[7]['lr'] = gridcv"
   ]
  },
  {
   "cell_type": "markdown",
   "metadata": {},
   "source": [
    "#### 7.3.1.1. Metrics"
   ]
  },
  {
   "cell_type": "code",
   "execution_count": 241,
   "metadata": {},
   "outputs": [
    {
     "name": "stdout",
     "output_type": "stream",
     "text": [
      "Best Estimator:  LogisticRegression(max_iter=32, n_jobs=-1, solver='saga') =>\n",
      "Params:  LogisticRegression(max_iter=32, n_jobs=-1, solver='saga')\n",
      "Training Accuracy Score:  55.6004680353154\n",
      "Test Accuracy Score:  56.56565656565656\n"
     ]
    },
    {
     "ename": "ValueError",
     "evalue": "multi_class must be in ('ovo', 'ovr')",
     "output_type": "error",
     "traceback": [
      "\u001b[1;31m---------------------------------------------------------------------------\u001b[0m",
      "\u001b[1;31mValueError\u001b[0m                                Traceback (most recent call last)",
      "\u001b[1;32m<ipython-input-241-abb32d885cdb>\u001b[0m in \u001b[0;36m<module>\u001b[1;34m\u001b[0m\n\u001b[0;32m      4\u001b[0m \u001b[0my_pred\u001b[0m \u001b[1;33m=\u001b[0m \u001b[0mlr_best_estimator\u001b[0m\u001b[1;33m.\u001b[0m\u001b[0mpredict\u001b[0m\u001b[1;33m(\u001b[0m\u001b[0mX_test\u001b[0m\u001b[1;33m)\u001b[0m\u001b[1;33m\u001b[0m\u001b[1;33m\u001b[0m\u001b[0m\n\u001b[0;32m      5\u001b[0m \u001b[0mprint\u001b[0m\u001b[1;33m(\u001b[0m\u001b[1;34m'Test Accuracy Score: '\u001b[0m\u001b[1;33m,\u001b[0m \u001b[0msklearn\u001b[0m\u001b[1;33m.\u001b[0m\u001b[0mmetrics\u001b[0m\u001b[1;33m.\u001b[0m\u001b[0maccuracy_score\u001b[0m\u001b[1;33m(\u001b[0m\u001b[0my_test\u001b[0m\u001b[1;33m,\u001b[0m \u001b[0my_pred\u001b[0m\u001b[1;33m)\u001b[0m\u001b[1;33m*\u001b[0m\u001b[1;36m100\u001b[0m\u001b[1;33m)\u001b[0m\u001b[1;33m\u001b[0m\u001b[1;33m\u001b[0m\u001b[0m\n\u001b[1;32m----> 6\u001b[1;33m \u001b[0mprint\u001b[0m\u001b[1;33m(\u001b[0m\u001b[1;34m'ROC AUC score: '\u001b[0m\u001b[1;33m,\u001b[0m \u001b[0msklearn\u001b[0m\u001b[1;33m.\u001b[0m\u001b[0mmetrics\u001b[0m\u001b[1;33m.\u001b[0m\u001b[0mroc_auc_score\u001b[0m\u001b[1;33m(\u001b[0m\u001b[0my_test\u001b[0m\u001b[1;33m,\u001b[0m \u001b[0my_pred\u001b[0m\u001b[1;33m)\u001b[0m\u001b[1;33m*\u001b[0m\u001b[1;36m100\u001b[0m\u001b[1;33m)\u001b[0m\u001b[1;33m\u001b[0m\u001b[1;33m\u001b[0m\u001b[0m\n\u001b[0m",
      "\u001b[1;32mD:\\installations\\Anaconda3\\lib\\site-packages\\sklearn\\utils\\validation.py\u001b[0m in \u001b[0;36minner_f\u001b[1;34m(*args, **kwargs)\u001b[0m\n\u001b[0;32m     71\u001b[0m                           FutureWarning)\n\u001b[0;32m     72\u001b[0m         \u001b[0mkwargs\u001b[0m\u001b[1;33m.\u001b[0m\u001b[0mupdate\u001b[0m\u001b[1;33m(\u001b[0m\u001b[1;33m{\u001b[0m\u001b[0mk\u001b[0m\u001b[1;33m:\u001b[0m \u001b[0marg\u001b[0m \u001b[1;32mfor\u001b[0m \u001b[0mk\u001b[0m\u001b[1;33m,\u001b[0m \u001b[0marg\u001b[0m \u001b[1;32min\u001b[0m \u001b[0mzip\u001b[0m\u001b[1;33m(\u001b[0m\u001b[0msig\u001b[0m\u001b[1;33m.\u001b[0m\u001b[0mparameters\u001b[0m\u001b[1;33m,\u001b[0m \u001b[0margs\u001b[0m\u001b[1;33m)\u001b[0m\u001b[1;33m}\u001b[0m\u001b[1;33m)\u001b[0m\u001b[1;33m\u001b[0m\u001b[1;33m\u001b[0m\u001b[0m\n\u001b[1;32m---> 73\u001b[1;33m         \u001b[1;32mreturn\u001b[0m \u001b[0mf\u001b[0m\u001b[1;33m(\u001b[0m\u001b[1;33m**\u001b[0m\u001b[0mkwargs\u001b[0m\u001b[1;33m)\u001b[0m\u001b[1;33m\u001b[0m\u001b[1;33m\u001b[0m\u001b[0m\n\u001b[0m\u001b[0;32m     74\u001b[0m     \u001b[1;32mreturn\u001b[0m \u001b[0minner_f\u001b[0m\u001b[1;33m\u001b[0m\u001b[1;33m\u001b[0m\u001b[0m\n\u001b[0;32m     75\u001b[0m \u001b[1;33m\u001b[0m\u001b[0m\n",
      "\u001b[1;32mD:\\installations\\Anaconda3\\lib\\site-packages\\sklearn\\metrics\\_ranking.py\u001b[0m in \u001b[0;36mroc_auc_score\u001b[1;34m(y_true, y_score, average, sample_weight, max_fpr, multi_class, labels)\u001b[0m\n\u001b[0;32m    382\u001b[0m                              \"instead\".format(max_fpr))\n\u001b[0;32m    383\u001b[0m         \u001b[1;32mif\u001b[0m \u001b[0mmulti_class\u001b[0m \u001b[1;33m==\u001b[0m \u001b[1;34m'raise'\u001b[0m\u001b[1;33m:\u001b[0m\u001b[1;33m\u001b[0m\u001b[1;33m\u001b[0m\u001b[0m\n\u001b[1;32m--> 384\u001b[1;33m             \u001b[1;32mraise\u001b[0m \u001b[0mValueError\u001b[0m\u001b[1;33m(\u001b[0m\u001b[1;34m\"multi_class must be in ('ovo', 'ovr')\"\u001b[0m\u001b[1;33m)\u001b[0m\u001b[1;33m\u001b[0m\u001b[1;33m\u001b[0m\u001b[0m\n\u001b[0m\u001b[0;32m    385\u001b[0m         return _multiclass_roc_auc_score(y_true, y_score, labels,\n\u001b[0;32m    386\u001b[0m                                          multi_class, average, sample_weight)\n",
      "\u001b[1;31mValueError\u001b[0m: multi_class must be in ('ovo', 'ovr')"
     ]
    }
   ],
   "source": [
    "print('Best Estimator: ', lr_best_estimator, '=>')\n",
    "print('Params: ', lr_best_estimator)\n",
    "print('Training Accuracy Score: ', lr_best_estimator_score*100)\n",
    "y_pred = lr_best_estimator.predict(X_test)\n",
    "print('Test Accuracy Score: ', sklearn.metrics.accuracy_score(y_test, y_pred)*100)\n",
    "print('ROC AUC score: ', sklearn.metrics.roc_auc_score(y_test, y_pred)*100)"
   ]
  },
  {
   "cell_type": "markdown",
   "metadata": {},
   "source": [
    "### 7.3.2. K-Means"
   ]
  },
  {
   "cell_type": "code",
   "execution_count": 204,
   "metadata": {},
   "outputs": [
    {
     "name": "stdout",
     "output_type": "stream",
     "text": [
      "Time:  2.3661158084869385  seconds\n"
     ]
    }
   ],
   "source": [
    "start_time = time.time()\n",
    "\n",
    "knn_model = sklearn.neighbors.KNeighborsClassifier(n_jobs=-1)\n",
    "n_neighbor_values =  2**np.linspace(1, 8, 8, dtype=np.int32)\n",
    "param_grid = {\"n_neighbors\": n_neighbor_values}\n",
    "\n",
    "gridcv = sklearn.model_selection.GridSearchCV(knn_model, param_grid, verbose=0, cv=5)\n",
    "gridcv.fit(X_train, y_train)\n",
    "knn_best_estimator = gridcv.best_estimator_\n",
    "knn_best_estimator_score = gridcv.best_score_\n",
    "\n",
    "end_time = time.time()\n",
    "print('Time: ', (end_time-start_time), ' seconds')\n",
    "best_estimator_info[7]['knn'] = gridcv"
   ]
  },
  {
   "cell_type": "code",
   "execution_count": 205,
   "metadata": {},
   "outputs": [
    {
     "name": "stdout",
     "output_type": "stream",
     "text": [
      "Best Estimator:  KNeighborsClassifier(n_jobs=-1, n_neighbors=8) =>\n",
      "Params:  KNeighborsClassifier(n_jobs=-1, n_neighbors=8)\n",
      "Training Accuracy Score:  77.82500000000002\n",
      "Test Accuracy Score:  76.8\n",
      "ROC AUC score:  56.55571574834409\n"
     ]
    }
   ],
   "source": [
    "print('Best Estimator: ', knn_best_estimator, '=>')\n",
    "print('Params: ', knn_best_estimator)\n",
    "print('Training Accuracy Score: ', knn_best_estimator_score*100)\n",
    "y_pred = knn_best_estimator.predict(X_test)\n",
    "print('Test Accuracy Score: ', sklearn.metrics.accuracy_score(y_test, y_pred)*100)\n",
    "print('ROC AUC score: ', sklearn.metrics.roc_auc_score(y_test, y_pred)*100)"
   ]
  },
  {
   "cell_type": "code",
   "execution_count": null,
   "metadata": {},
   "outputs": [],
   "source": []
  },
  {
   "cell_type": "markdown",
   "metadata": {},
   "source": [
    "# 8. Yeast Dataset"
   ]
  },
  {
   "cell_type": "markdown",
   "metadata": {},
   "source": [
    "## 8.1. Data Loading"
   ]
  },
  {
   "cell_type": "code",
   "execution_count": 236,
   "metadata": {},
   "outputs": [
    {
     "name": "stdout",
     "output_type": "stream",
     "text": [
      "[0.58 0.61 0.47 0.13 0.5  0.   0.48 0.22] 1\n",
      "(1187, 8) (297, 8)\n"
     ]
    }
   ],
   "source": [
    "dataset_url = os.path.join(yeast_dataset_directory, 'yeast_dataset.csv')\n",
    "\n",
    "f = open(dataset_url, \"rt\")\n",
    "lines = f.readlines()\n",
    "f.close()\n",
    "\n",
    "for index, line in enumerate(lines):\n",
    "    lines[index] = \",\".join(line.split()) + '\\n'\n",
    "f = open(dataset_url, \"wt\")\n",
    "f.writelines(lines)\n",
    "f.close()\n",
    "\n",
    "TR=pd.read_csv(dataset_url, encoding='utf8', header=None, usecols = np.arange(1, 10, 1))\n",
    "TR = TR.apply(lambda x: x.apply(lambda y: y.strip() if type(y) == type('') else y), axis=0)\n",
    "\n",
    "localization_site_mapping = {'MIT':1, 'NUC':2, 'CYT':3\n",
    "                     , 'ME1':4, 'EXC':5, 'ME2':6\n",
    "                     , 'ME3':7, 'VAC':8, 'POX':9\n",
    "                     , 'ERL':10}\n",
    "TR = TR.replace(localization_site_mapping)\n",
    "\n",
    "TR = TR.replace(to_replace='?', value=np.nan)\n",
    "TR.dropna(inplace=True)\n",
    "\n",
    "R=TR.values\n",
    "shape = R.shape\n",
    "X = R[:, :shape[1]-1].astype(np.float32)\n",
    "y = R[:, shape[1]-1].astype(np.int32)\n",
    "print(X[0], y[0])\n",
    "\n",
    "X = X[:5000]\n",
    "y = y[:5000]\n",
    "\n",
    "X_train,X_test,y_train,y_test = train_test_split(X, y, test_size=0.2, random_state=0)\n",
    "print(X_train.shape, X_test.shape)"
   ]
  },
  {
   "cell_type": "markdown",
   "metadata": {},
   "source": [
    "## 8.2. Data Analysis"
   ]
  },
  {
   "cell_type": "markdown",
   "metadata": {},
   "source": [
    "### 8.2.1. Counts"
   ]
  },
  {
   "cell_type": "code",
   "execution_count": 237,
   "metadata": {},
   "outputs": [
    {
     "name": "stdout",
     "output_type": "stream",
     "text": [
      "Input Columns Count: 8\n",
      "\n",
      "Training Data\n",
      "Number of Rows: 1187\n",
      "\n",
      "Test Data\n",
      "Number of Rows: 297\n",
      "X[0]:  [0.4  0.51 0.42 0.13 0.5  0.   0.45 0.25]\n",
      "y[0]:  7\n"
     ]
    }
   ],
   "source": [
    "# No of Attributed\n",
    "\n",
    "# columns = np.array([\"Temperature\", \"Humidity\", \"Light\", \"CO2\", \"HumidityRatio\"])\n",
    "print('Input Columns Count:', X_train.shape[1])\n",
    "# print('Input Columns:', columns)\n",
    "# print('Output Column:', \"Occupancy\")\n",
    "print()\n",
    "print('Training Data')\n",
    "print('Number of Rows:', X_train.shape[0])\n",
    "print()\n",
    "print('Test Data')\n",
    "print('Number of Rows:', X_test.shape[0])\n",
    "\n",
    "print('X[0]: ', X_train[0])\n",
    "print('y[0]: ', y_train[0])"
   ]
  },
  {
   "cell_type": "markdown",
   "metadata": {},
   "source": [
    "## 8.3. Model Evaluation"
   ]
  },
  {
   "cell_type": "markdown",
   "metadata": {},
   "source": [
    "### 8.3.1. Logistics Regression"
   ]
  },
  {
   "cell_type": "code",
   "execution_count": 242,
   "metadata": {},
   "outputs": [
    {
     "name": "stdout",
     "output_type": "stream",
     "text": [
      "Time:  17.295509815216064  seconds\n"
     ]
    }
   ],
   "source": [
    "start_time = time.time()\n",
    "\n",
    "lr_model = sklearn.linear_model.LogisticRegression(n_jobs=-1, multi_class = 'multinomial')\n",
    "max_iter_values = 2**np.linspace(1, 10, 10, dtype=np.int32)\n",
    "solver_values = ['newton-cg', 'lbfgs', 'liblinear', 'sag', 'saga']\n",
    "fit_intercept_values = [True, False]\n",
    "\n",
    "param_grid = { \"fit_intercept\":[True, False], \"solver\": solver_values, \n",
    "             \"max_iter\": max_iter_values}\n",
    "gridcv = sklearn.model_selection.GridSearchCV(lr_model, param_grid, verbose=0, cv=5)\n",
    "gridcv.fit(X_train, y_train)\n",
    "lr_best_estimator = gridcv.best_estimator_\n",
    "lr_best_estimator_score = gridcv.best_score_\n",
    "\n",
    "end_time = time.time()\n",
    "print('Time: ', (end_time-start_time), ' seconds')\n",
    "best_estimator_info[8]['lr'] = gridcv"
   ]
  },
  {
   "cell_type": "markdown",
   "metadata": {},
   "source": [
    "#### 8.3.1.1. Metrics"
   ]
  },
  {
   "cell_type": "code",
   "execution_count": 243,
   "metadata": {},
   "outputs": [
    {
     "name": "stdout",
     "output_type": "stream",
     "text": [
      "Best Estimator:  LogisticRegression(max_iter=32, multi_class='multinomial', n_jobs=-1,\n",
      "                   solver='sag') =>\n",
      "Params:  LogisticRegression(max_iter=32, multi_class='multinomial', n_jobs=-1,\n",
      "                   solver='sag')\n",
      "Training Accuracy Score:  55.6004680353154\n",
      "Test Accuracy Score:  56.56565656565656\n"
     ]
    },
    {
     "ename": "ValueError",
     "evalue": "multi_class must be in ('ovo', 'ovr')",
     "output_type": "error",
     "traceback": [
      "\u001b[1;31m---------------------------------------------------------------------------\u001b[0m",
      "\u001b[1;31mValueError\u001b[0m                                Traceback (most recent call last)",
      "\u001b[1;32m<ipython-input-243-abb32d885cdb>\u001b[0m in \u001b[0;36m<module>\u001b[1;34m\u001b[0m\n\u001b[0;32m      4\u001b[0m \u001b[0my_pred\u001b[0m \u001b[1;33m=\u001b[0m \u001b[0mlr_best_estimator\u001b[0m\u001b[1;33m.\u001b[0m\u001b[0mpredict\u001b[0m\u001b[1;33m(\u001b[0m\u001b[0mX_test\u001b[0m\u001b[1;33m)\u001b[0m\u001b[1;33m\u001b[0m\u001b[1;33m\u001b[0m\u001b[0m\n\u001b[0;32m      5\u001b[0m \u001b[0mprint\u001b[0m\u001b[1;33m(\u001b[0m\u001b[1;34m'Test Accuracy Score: '\u001b[0m\u001b[1;33m,\u001b[0m \u001b[0msklearn\u001b[0m\u001b[1;33m.\u001b[0m\u001b[0mmetrics\u001b[0m\u001b[1;33m.\u001b[0m\u001b[0maccuracy_score\u001b[0m\u001b[1;33m(\u001b[0m\u001b[0my_test\u001b[0m\u001b[1;33m,\u001b[0m \u001b[0my_pred\u001b[0m\u001b[1;33m)\u001b[0m\u001b[1;33m*\u001b[0m\u001b[1;36m100\u001b[0m\u001b[1;33m)\u001b[0m\u001b[1;33m\u001b[0m\u001b[1;33m\u001b[0m\u001b[0m\n\u001b[1;32m----> 6\u001b[1;33m \u001b[0mprint\u001b[0m\u001b[1;33m(\u001b[0m\u001b[1;34m'ROC AUC score: '\u001b[0m\u001b[1;33m,\u001b[0m \u001b[0msklearn\u001b[0m\u001b[1;33m.\u001b[0m\u001b[0mmetrics\u001b[0m\u001b[1;33m.\u001b[0m\u001b[0mroc_auc_score\u001b[0m\u001b[1;33m(\u001b[0m\u001b[0my_test\u001b[0m\u001b[1;33m,\u001b[0m \u001b[0my_pred\u001b[0m\u001b[1;33m)\u001b[0m\u001b[1;33m*\u001b[0m\u001b[1;36m100\u001b[0m\u001b[1;33m)\u001b[0m\u001b[1;33m\u001b[0m\u001b[1;33m\u001b[0m\u001b[0m\n\u001b[0m",
      "\u001b[1;32mD:\\installations\\Anaconda3\\lib\\site-packages\\sklearn\\utils\\validation.py\u001b[0m in \u001b[0;36minner_f\u001b[1;34m(*args, **kwargs)\u001b[0m\n\u001b[0;32m     71\u001b[0m                           FutureWarning)\n\u001b[0;32m     72\u001b[0m         \u001b[0mkwargs\u001b[0m\u001b[1;33m.\u001b[0m\u001b[0mupdate\u001b[0m\u001b[1;33m(\u001b[0m\u001b[1;33m{\u001b[0m\u001b[0mk\u001b[0m\u001b[1;33m:\u001b[0m \u001b[0marg\u001b[0m \u001b[1;32mfor\u001b[0m \u001b[0mk\u001b[0m\u001b[1;33m,\u001b[0m \u001b[0marg\u001b[0m \u001b[1;32min\u001b[0m \u001b[0mzip\u001b[0m\u001b[1;33m(\u001b[0m\u001b[0msig\u001b[0m\u001b[1;33m.\u001b[0m\u001b[0mparameters\u001b[0m\u001b[1;33m,\u001b[0m \u001b[0margs\u001b[0m\u001b[1;33m)\u001b[0m\u001b[1;33m}\u001b[0m\u001b[1;33m)\u001b[0m\u001b[1;33m\u001b[0m\u001b[1;33m\u001b[0m\u001b[0m\n\u001b[1;32m---> 73\u001b[1;33m         \u001b[1;32mreturn\u001b[0m \u001b[0mf\u001b[0m\u001b[1;33m(\u001b[0m\u001b[1;33m**\u001b[0m\u001b[0mkwargs\u001b[0m\u001b[1;33m)\u001b[0m\u001b[1;33m\u001b[0m\u001b[1;33m\u001b[0m\u001b[0m\n\u001b[0m\u001b[0;32m     74\u001b[0m     \u001b[1;32mreturn\u001b[0m \u001b[0minner_f\u001b[0m\u001b[1;33m\u001b[0m\u001b[1;33m\u001b[0m\u001b[0m\n\u001b[0;32m     75\u001b[0m \u001b[1;33m\u001b[0m\u001b[0m\n",
      "\u001b[1;32mD:\\installations\\Anaconda3\\lib\\site-packages\\sklearn\\metrics\\_ranking.py\u001b[0m in \u001b[0;36mroc_auc_score\u001b[1;34m(y_true, y_score, average, sample_weight, max_fpr, multi_class, labels)\u001b[0m\n\u001b[0;32m    382\u001b[0m                              \"instead\".format(max_fpr))\n\u001b[0;32m    383\u001b[0m         \u001b[1;32mif\u001b[0m \u001b[0mmulti_class\u001b[0m \u001b[1;33m==\u001b[0m \u001b[1;34m'raise'\u001b[0m\u001b[1;33m:\u001b[0m\u001b[1;33m\u001b[0m\u001b[1;33m\u001b[0m\u001b[0m\n\u001b[1;32m--> 384\u001b[1;33m             \u001b[1;32mraise\u001b[0m \u001b[0mValueError\u001b[0m\u001b[1;33m(\u001b[0m\u001b[1;34m\"multi_class must be in ('ovo', 'ovr')\"\u001b[0m\u001b[1;33m)\u001b[0m\u001b[1;33m\u001b[0m\u001b[1;33m\u001b[0m\u001b[0m\n\u001b[0m\u001b[0;32m    385\u001b[0m         return _multiclass_roc_auc_score(y_true, y_score, labels,\n\u001b[0;32m    386\u001b[0m                                          multi_class, average, sample_weight)\n",
      "\u001b[1;31mValueError\u001b[0m: multi_class must be in ('ovo', 'ovr')"
     ]
    }
   ],
   "source": [
    "print('Best Estimator: ', lr_best_estimator, '=>')\n",
    "print('Params: ', lr_best_estimator)\n",
    "print('Training Accuracy Score: ', lr_best_estimator_score*100)\n",
    "y_pred = lr_best_estimator.predict(X_test)\n",
    "print('Test Accuracy Score: ', sklearn.metrics.accuracy_score(y_test, y_pred)*100)\n",
    "print('ROC AUC score: ', sklearn.metrics.roc_auc_score(y_test, y_pred)*100)"
   ]
  },
  {
   "cell_type": "markdown",
   "metadata": {},
   "source": [
    "### 8.3.2. K-Means"
   ]
  },
  {
   "cell_type": "code",
   "execution_count": 244,
   "metadata": {},
   "outputs": [
    {
     "name": "stdout",
     "output_type": "stream",
     "text": [
      "Time:  1.6303870677947998  seconds\n"
     ]
    }
   ],
   "source": [
    "start_time = time.time()\n",
    "\n",
    "knn_model = sklearn.neighbors.KNeighborsClassifier(n_jobs=-1)\n",
    "n_neighbor_values =  2**np.linspace(1, 8, 8, dtype=np.int32)\n",
    "param_grid = {\"n_neighbors\": n_neighbor_values}\n",
    "\n",
    "gridcv = sklearn.model_selection.GridSearchCV(knn_model, param_grid, verbose=0, cv=5)\n",
    "gridcv.fit(X_train, y_train)\n",
    "knn_best_estimator = gridcv.best_estimator_\n",
    "knn_best_estimator_score = gridcv.best_score_\n",
    "\n",
    "end_time = time.time()\n",
    "print('Time: ', (end_time-start_time), ' seconds')\n",
    "best_estimator_info[8]['knn'] = gridcv"
   ]
  },
  {
   "cell_type": "code",
   "execution_count": 245,
   "metadata": {},
   "outputs": [
    {
     "name": "stdout",
     "output_type": "stream",
     "text": [
      "Best Estimator:  KNeighborsClassifier(n_jobs=-1, n_neighbors=16) =>\n",
      "Params:  KNeighborsClassifier(n_jobs=-1, n_neighbors=16)\n",
      "Training Accuracy Score:  58.88699783710953\n",
      "Test Accuracy Score:  58.58585858585859\n"
     ]
    },
    {
     "ename": "ValueError",
     "evalue": "multi_class must be in ('ovo', 'ovr')",
     "output_type": "error",
     "traceback": [
      "\u001b[1;31m---------------------------------------------------------------------------\u001b[0m",
      "\u001b[1;31mValueError\u001b[0m                                Traceback (most recent call last)",
      "\u001b[1;32m<ipython-input-245-ac4bb0fed0c9>\u001b[0m in \u001b[0;36m<module>\u001b[1;34m\u001b[0m\n\u001b[0;32m      4\u001b[0m \u001b[0my_pred\u001b[0m \u001b[1;33m=\u001b[0m \u001b[0mknn_best_estimator\u001b[0m\u001b[1;33m.\u001b[0m\u001b[0mpredict\u001b[0m\u001b[1;33m(\u001b[0m\u001b[0mX_test\u001b[0m\u001b[1;33m)\u001b[0m\u001b[1;33m\u001b[0m\u001b[1;33m\u001b[0m\u001b[0m\n\u001b[0;32m      5\u001b[0m \u001b[0mprint\u001b[0m\u001b[1;33m(\u001b[0m\u001b[1;34m'Test Accuracy Score: '\u001b[0m\u001b[1;33m,\u001b[0m \u001b[0msklearn\u001b[0m\u001b[1;33m.\u001b[0m\u001b[0mmetrics\u001b[0m\u001b[1;33m.\u001b[0m\u001b[0maccuracy_score\u001b[0m\u001b[1;33m(\u001b[0m\u001b[0my_test\u001b[0m\u001b[1;33m,\u001b[0m \u001b[0my_pred\u001b[0m\u001b[1;33m)\u001b[0m\u001b[1;33m*\u001b[0m\u001b[1;36m100\u001b[0m\u001b[1;33m)\u001b[0m\u001b[1;33m\u001b[0m\u001b[1;33m\u001b[0m\u001b[0m\n\u001b[1;32m----> 6\u001b[1;33m \u001b[0mprint\u001b[0m\u001b[1;33m(\u001b[0m\u001b[1;34m'ROC AUC score: '\u001b[0m\u001b[1;33m,\u001b[0m \u001b[0msklearn\u001b[0m\u001b[1;33m.\u001b[0m\u001b[0mmetrics\u001b[0m\u001b[1;33m.\u001b[0m\u001b[0mroc_auc_score\u001b[0m\u001b[1;33m(\u001b[0m\u001b[0my_test\u001b[0m\u001b[1;33m,\u001b[0m \u001b[0my_pred\u001b[0m\u001b[1;33m)\u001b[0m\u001b[1;33m*\u001b[0m\u001b[1;36m100\u001b[0m\u001b[1;33m)\u001b[0m\u001b[1;33m\u001b[0m\u001b[1;33m\u001b[0m\u001b[0m\n\u001b[0m",
      "\u001b[1;32mD:\\installations\\Anaconda3\\lib\\site-packages\\sklearn\\utils\\validation.py\u001b[0m in \u001b[0;36minner_f\u001b[1;34m(*args, **kwargs)\u001b[0m\n\u001b[0;32m     71\u001b[0m                           FutureWarning)\n\u001b[0;32m     72\u001b[0m         \u001b[0mkwargs\u001b[0m\u001b[1;33m.\u001b[0m\u001b[0mupdate\u001b[0m\u001b[1;33m(\u001b[0m\u001b[1;33m{\u001b[0m\u001b[0mk\u001b[0m\u001b[1;33m:\u001b[0m \u001b[0marg\u001b[0m \u001b[1;32mfor\u001b[0m \u001b[0mk\u001b[0m\u001b[1;33m,\u001b[0m \u001b[0marg\u001b[0m \u001b[1;32min\u001b[0m \u001b[0mzip\u001b[0m\u001b[1;33m(\u001b[0m\u001b[0msig\u001b[0m\u001b[1;33m.\u001b[0m\u001b[0mparameters\u001b[0m\u001b[1;33m,\u001b[0m \u001b[0margs\u001b[0m\u001b[1;33m)\u001b[0m\u001b[1;33m}\u001b[0m\u001b[1;33m)\u001b[0m\u001b[1;33m\u001b[0m\u001b[1;33m\u001b[0m\u001b[0m\n\u001b[1;32m---> 73\u001b[1;33m         \u001b[1;32mreturn\u001b[0m \u001b[0mf\u001b[0m\u001b[1;33m(\u001b[0m\u001b[1;33m**\u001b[0m\u001b[0mkwargs\u001b[0m\u001b[1;33m)\u001b[0m\u001b[1;33m\u001b[0m\u001b[1;33m\u001b[0m\u001b[0m\n\u001b[0m\u001b[0;32m     74\u001b[0m     \u001b[1;32mreturn\u001b[0m \u001b[0minner_f\u001b[0m\u001b[1;33m\u001b[0m\u001b[1;33m\u001b[0m\u001b[0m\n\u001b[0;32m     75\u001b[0m \u001b[1;33m\u001b[0m\u001b[0m\n",
      "\u001b[1;32mD:\\installations\\Anaconda3\\lib\\site-packages\\sklearn\\metrics\\_ranking.py\u001b[0m in \u001b[0;36mroc_auc_score\u001b[1;34m(y_true, y_score, average, sample_weight, max_fpr, multi_class, labels)\u001b[0m\n\u001b[0;32m    382\u001b[0m                              \"instead\".format(max_fpr))\n\u001b[0;32m    383\u001b[0m         \u001b[1;32mif\u001b[0m \u001b[0mmulti_class\u001b[0m \u001b[1;33m==\u001b[0m \u001b[1;34m'raise'\u001b[0m\u001b[1;33m:\u001b[0m\u001b[1;33m\u001b[0m\u001b[1;33m\u001b[0m\u001b[0m\n\u001b[1;32m--> 384\u001b[1;33m             \u001b[1;32mraise\u001b[0m \u001b[0mValueError\u001b[0m\u001b[1;33m(\u001b[0m\u001b[1;34m\"multi_class must be in ('ovo', 'ovr')\"\u001b[0m\u001b[1;33m)\u001b[0m\u001b[1;33m\u001b[0m\u001b[1;33m\u001b[0m\u001b[0m\n\u001b[0m\u001b[0;32m    385\u001b[0m         return _multiclass_roc_auc_score(y_true, y_score, labels,\n\u001b[0;32m    386\u001b[0m                                          multi_class, average, sample_weight)\n",
      "\u001b[1;31mValueError\u001b[0m: multi_class must be in ('ovo', 'ovr')"
     ]
    }
   ],
   "source": [
    "print('Best Estimator: ', knn_best_estimator, '=>')\n",
    "print('Params: ', knn_best_estimator)\n",
    "print('Training Accuracy Score: ', knn_best_estimator_score*100)\n",
    "y_pred = knn_best_estimator.predict(X_test)\n",
    "print('Test Accuracy Score: ', sklearn.metrics.accuracy_score(y_test, y_pred)*100)\n",
    "print('ROC AUC score: ', sklearn.metrics.roc_auc_score(y_test, y_pred)*100)"
   ]
  },
  {
   "cell_type": "code",
   "execution_count": null,
   "metadata": {},
   "outputs": [],
   "source": []
  }
 ],
 "metadata": {
  "kernelspec": {
   "display_name": "Python 3",
   "language": "python",
   "name": "python3"
  },
  "language_info": {
   "codemirror_mode": {
    "name": "ipython",
    "version": 3
   },
   "file_extension": ".py",
   "mimetype": "text/x-python",
   "name": "python",
   "nbconvert_exporter": "python",
   "pygments_lexer": "ipython3",
   "version": "3.8.3"
  }
 },
 "nbformat": 4,
 "nbformat_minor": 4
}
