{
 "cells": [
  {
   "cell_type": "markdown",
   "metadata": {},
   "source": [
    "# Dataset Directories Initialization"
   ]
  },
  {
   "cell_type": "code",
   "execution_count": 249,
   "metadata": {},
   "outputs": [],
   "source": [
    "import os.path\n",
    "import numpy as np\n",
    "import matplotlib\n",
    "import matplotlib.pyplot as plt\n",
    "import sklearn\n",
    "import sklearn.tree\n",
    "import sklearn.ensemble\n",
    "import sklearn.datasets\n",
    "import sklearn.metrics\n",
    "import pandas as pd\n",
    "from sklearn.model_selection import train_test_split\n",
    "import glob\n",
    "import time\n",
    "\n",
    "import warnings\n",
    "warnings.filterwarnings(\"ignore\")  # Ignore sklearn deprecation warnings\n",
    "warnings.filterwarnings(\"ignore\", category=FutureWarning)       # Ignore sklearn deprecation warnings"
   ]
  },
  {
   "cell_type": "code",
   "execution_count": 250,
   "metadata": {},
   "outputs": [
    {
     "name": "stdout",
     "output_type": "stream",
     "text": [
      "['1_occupancy', '2_healthy_older_people', '3_bitcoin_heist_ransonware_address', '4_bank_additional', '5_interventionscitoyendo', '6_credit_cards', '7_census_income', '8_yeast', '9_magic_gamma', 'urls.txt']\n",
      "D:\\pravesh\\Concordia\\2020-Fall\\COMP-6321_ML\\project\\COMP-6321-ML\\datasets\\1_occupancy D:\\pravesh\\Concordia\\2020-Fall\\COMP-6321_ML\\project\\COMP-6321-ML\\datasets\\2_healthy_older_people D:\\pravesh\\Concordia\\2020-Fall\\COMP-6321_ML\\project\\COMP-6321-ML\\datasets\\3_bitcoin_heist_ransonware_address D:\\pravesh\\Concordia\\2020-Fall\\COMP-6321_ML\\project\\COMP-6321-ML\\datasets\\4_bank_additional\n"
     ]
    }
   ],
   "source": [
    "current_directory = os.path.dirname(os.getcwd())\n",
    "project_directory = os.path.split(current_directory)[0]\n",
    "dataset_directory = os.path.join(project_directory, 'datasets')\n",
    "\n",
    "occupancy_dataset_directory = os.path.join(dataset_directory, '1_occupancy')\n",
    "healthy_older_people_dataset_directory = os.path.join(dataset_directory, '2_healthy_older_people')\n",
    "bitcoin_heist_ransonware_address_dataset_directory = os.path.join(dataset_directory, '3_bitcoin_heist_ransonware_address')\n",
    "bank_additional_dataset_directory = os.path.join(dataset_directory, '4_bank_additional')\n",
    "montreal_crime_dataset_directory = os.path.join(dataset_directory, '5_interventionscitoyendo')\n",
    "credit_cards_dataset_directory = os.path.join(dataset_directory, '6_credit_cards')\n",
    "census_income_dataset_directory = os.path.join(dataset_directory, '7_census_income')\n",
    "yeast_dataset_directory = os.path.join(dataset_directory, '8_yeast')\n",
    "magic_gamma_dataset_directory = os.path.join(dataset_directory, '9_magic_gamma')\n",
    "\n",
    "print(os.listdir(dataset_directory))\n",
    "print(occupancy_dataset_directory\n",
    "      , healthy_older_people_dataset_directory\n",
    "      , bitcoin_heist_ransonware_address_dataset_directory\n",
    "      , bank_additional_dataset_directory)\n",
    "\n",
    "results=np.zeros((8, 9, 4))\n",
    "datasets=np.array(['Occupancy', 'Bank Marketing', 'Activity Recognition', 'Bitcoin Ransomware', \n",
    "                      'Montreal Crime', 'Credit Card', 'Census Income', 'Yeast', \n",
    "                      'Magic Gamma Telescope'])\n",
    "methods=np.array(['K-nearest neighbours', 'Support vector', 'Decision tree', 'Random forest',\n",
    "                     'AdaBoost', 'Logistic regression', 'Gaussian naive Bayes', 'Neural network'])\n",
    "stats_labels=np.array(['Elapsed Time', 'Training Accuracy Score', 'Testing Accuracy score', 'ROC AUC score'])"
   ]
  },
  {
   "cell_type": "code",
   "execution_count": 251,
   "metadata": {},
   "outputs": [],
   "source": [
    "best_estimator_info = {}\n",
    "best_estimator_info[1] = {}\n",
    "best_estimator_info[2] = {}\n",
    "best_estimator_info[3] = {}\n",
    "best_estimator_info[4] = {}\n",
    "best_estimator_info[5] = {}\n",
    "best_estimator_info[6] = {}\n",
    "best_estimator_info[7] = {}\n",
    "best_estimator_info[8] = {}"
   ]
  },
  {
   "cell_type": "markdown",
   "metadata": {},
   "source": [
    "# Utilities"
   ]
  },
  {
   "cell_type": "code",
   "execution_count": 252,
   "metadata": {},
   "outputs": [],
   "source": [
    "# Model plotting code\n",
    "def plotModel (m, t, X_train, y_train, X_test, y_test):\n",
    "    z_train=m.predict(X_train)\n",
    "    z_test=m.predict(X_test)\n",
    "    print (m)\n",
    "    ac_train=sklearn.metrics.accuracy_score(y_train, z_train)*100\n",
    "    ac_test=sklearn.metrics.accuracy_score(y_test, z_test)*100\n",
    "    print (\"Elapsed time:            \"+\"{:.4f}\".format(t)+\" sec\")\n",
    "    print (\"Training accuracy score: \"+\"{:.4f}\".format(ac_train)+\"%\")\n",
    "    print (\"Test accuracy score:     \"+\"{:.4f}\".format(ac_test)+\"%\")\n",
    "    if np.unique(y_train).size>2:\n",
    "        lb = sklearn.preprocessing.LabelBinarizer()\n",
    "        yy_test=lb.fit_transform(y_test)\n",
    "        zz_test=lb.transform(z_test)\n",
    "        roc=sklearn.metrics.roc_auc_score(yy_test, zz_test, multi_class=\"ovr\", average=\"weighted\")*100\n",
    "        print (\"ROC AUC score:           \"+\"{:.4f}\".format(roc)+\"%\")\n",
    "    else:\n",
    "        roc=sklearn.metrics.roc_auc_score(y_test, z_test)*100\n",
    "        print (\"ROC AUC score:           \"+\"{:.4f}\".format(roc)+\"%\")\n",
    "        sklearn.metrics.plot_roc_curve(m, X_test, y_test)\n",
    "    return ac_train, ac_test, roc"
   ]
  },
  {
   "cell_type": "markdown",
   "metadata": {},
   "source": [
    "<div style=\"border-bottom: 3px solid black; margin-bottom:5px\"></div>\n",
    "<div style=\"border-bottom: 3px solid black\"></div>"
   ]
  },
  {
   "cell_type": "markdown",
   "metadata": {},
   "source": [
    "# 1. Occupancy Dataset"
   ]
  },
  {
   "cell_type": "markdown",
   "metadata": {},
   "source": [
    "## 1.1. Data Loading"
   ]
  },
  {
   "cell_type": "code",
   "execution_count": 253,
   "metadata": {},
   "outputs": [
    {
     "name": "stdout",
     "output_type": "stream",
     "text": [
      "(10808, 5)\n",
      "(4000, 5) (1000, 5)\n"
     ]
    }
   ],
   "source": [
    "training_dataset_url = os.path.join(occupancy_dataset_directory, 'occupancy_data', 'datatraining.txt')\n",
    "test_dataset_url = os.path.join(occupancy_dataset_directory, 'occupancy_data', 'datatest.txt')\n",
    "\n",
    "training_data_file = np.loadtxt(training_dataset_url, delimiter=',', skiprows=1, usecols = (2,3,4,5,6,7))\n",
    "X1=training_data_file[:, 0:5]\n",
    "y1=training_data_file[:, 5].astype(np.int32)\n",
    "test_data_file = np.loadtxt(test_dataset_url, delimiter=',', skiprows=1, usecols = (2,3,4,5,6,7))\n",
    "X2=test_data_file[:, 0:5]\n",
    "y2=test_data_file[:, 5].astype(np.int32)\n",
    "\n",
    "X = np.concatenate((X1, X2))\n",
    "y = np.concatenate((y1, y2))\n",
    "\n",
    "print(X.shape)\n",
    "X = X[:5000]\n",
    "y = y[:5000]\n",
    "\n",
    "X_train,X_test,y_train,y_test = train_test_split(X, y, test_size=0.2, random_state=0)\n",
    "\n",
    "print(X_train.shape, X_test.shape)"
   ]
  },
  {
   "cell_type": "markdown",
   "metadata": {},
   "source": [
    "## 1.2. Data Analysis & Cleaning"
   ]
  },
  {
   "cell_type": "markdown",
   "metadata": {},
   "source": [
    "### 1.2.1. Statistics"
   ]
  },
  {
   "cell_type": "code",
   "execution_count": 254,
   "metadata": {},
   "outputs": [
    {
     "name": "stdout",
     "output_type": "stream",
     "text": [
      "Input Columns Count: 5\n",
      "Input Columns: ['Temperature' 'Humidity' 'Light' 'CO2' 'HumidityRatio']\n",
      "Output Column: Occupancy\n",
      "\n",
      "Training Data\n",
      "Number of Rows: 4000\n",
      "\n",
      "Test Data\n",
      "Number of Rows: 1000\n"
     ]
    }
   ],
   "source": [
    "# No of Attributed\n",
    "\n",
    "columns = np.array([\"Temperature\", \"Humidity\", \"Light\", \"CO2\", \"HumidityRatio\"])\n",
    "print('Input Columns Count:', X_train.shape[1])\n",
    "print('Input Columns:', columns)\n",
    "print('Output Column:', \"Occupancy\")\n",
    "print()\n",
    "print('Training Data')\n",
    "print('Number of Rows:', X_train.shape[0])\n",
    "print()\n",
    "print('Test Data')\n",
    "print('Number of Rows:', X_test.shape[0])"
   ]
  },
  {
   "cell_type": "code",
   "execution_count": 255,
   "metadata": {},
   "outputs": [
    {
     "name": "stdout",
     "output_type": "stream",
     "text": [
      "Temperature : mean= 0.991405133458457 , std= 20.932108708332944 max= 23.18 min= 19.2 , ptp= 3.9800000000000004\n",
      "Humidity : mean= 3.8378950238048333 , std= 22.472796291666363 max= 31.65 min= 16.745 , ptp= 14.904999999999998\n",
      "Light : mean= 205.14002642144 , std= 133.28583749999999 max= 1546.33333333333 min= 0.0 , ptp= 1546.33333333333\n",
      "CO2 : mean= 199.71356121370886 , std= 562.6948770833329 max= 1139.0 min= 423.0 , ptp= 716.0\n",
      "HumidityRatio : mean= 0.0006224682601441902 , std= 0.003442084859202568 max= 0.00481738641740953 min= 0.00267412691390407 , ptp= 0.0021432595035054598\n"
     ]
    }
   ],
   "source": [
    "stats = np.vstack((X_train.std(axis=0), X_train.mean(axis=0), X_train.min(axis=0), X_train.max(axis=0)))\n",
    "    \n",
    "for i in range(5):\n",
    "    print(columns[i], ': mean=', stats[0][i], ', std=', stats[1][i]\n",
    "          , 'max=', stats[3][i], 'min=', stats[2][i]\n",
    "          , ', ptp=', np.ptp(X_train[:, i]))\n"
   ]
  },
  {
   "cell_type": "markdown",
   "metadata": {},
   "source": [
    "### 1.2.2. Feature Value Densities"
   ]
  },
  {
   "cell_type": "code",
   "execution_count": 256,
   "metadata": {},
   "outputs": [
    {
     "data": {
      "text/plain": [
       "Text(0.5, 1.0, 'HumidityRatio[4]')"
      ]
     },
     "execution_count": 256,
     "metadata": {},
     "output_type": "execute_result"
    },
    {
     "data": {
      "image/png": "[encoded data removed]",
      "text/plain": [
       "<Figure size 1152x576 with 5 Axes>"
      ]
     },
     "metadata": {
      "needs_background": "light"
     },
     "output_type": "display_data"
    }
   ],
   "source": [
    "\n",
    "fig = plt.figure(figsize=(16, 8)) \n",
    "fig.suptitle('Column Histograms')\n",
    "\n",
    "ax = fig.add_subplot(2, 3, 1) \n",
    "ax.hist(X_train[:, 0], bins=10)\n",
    "ax.set_title('Temperature[0]')\n",
    "\n",
    "ax = fig.add_subplot(2, 3, 2) \n",
    "ax.hist(X_train[:, 1], bins=10)\n",
    "ax.set_title('Humidity[1]')\n",
    "\n",
    "ax = fig.add_subplot(2, 3, 3) \n",
    "ax.hist(X_train[:, 2], bins=10)\n",
    "ax.set_title('Light[2]')\n",
    "\n",
    "ax = fig.add_subplot(2, 3, 4) \n",
    "ax.hist(X_train[:, 3], bins=10)\n",
    "ax.set_title('CO2[3]')\n",
    "\n",
    "ax = fig.add_subplot(2, 3, 5) \n",
    "ax.hist(X_train[:, 4], bins=10)\n",
    "ax.set_title('HumidityRatio[4]')"
   ]
  },
  {
   "cell_type": "markdown",
   "metadata": {},
   "source": [
    "### 1.2.3. Checking Outliners"
   ]
  },
  {
   "cell_type": "code",
   "execution_count": 257,
   "metadata": {},
   "outputs": [
    {
     "data": {
      "text/plain": [
       "Text(0.5, 1.0, 'HumidityRatio[4]')"
      ]
     },
     "execution_count": 257,
     "metadata": {},
     "output_type": "execute_result"
    },
    {
     "data": {
      "image/png": "[encoded data removed]",
      "text/plain": [
       "<Figure size 1152x576 with 5 Axes>"
      ]
     },
     "metadata": {
      "needs_background": "light"
     },
     "output_type": "display_data"
    }
   ],
   "source": [
    "fig = plt.figure(figsize=(16, 8))\n",
    "fig.suptitle('Column Box Plots')\n",
    "\n",
    "ax = fig.add_subplot(2, 3, 1) \n",
    "ax.boxplot(X_train[:, 0])\n",
    "ax.set_title('Temperature[0]')\n",
    "\n",
    "ax = fig.add_subplot(2, 3, 2) \n",
    "ax.boxplot(X_train[:, 1])\n",
    "ax.set_title('Humidity[1]')\n",
    "\n",
    "ax = fig.add_subplot(2, 3, 3) \n",
    "ax.boxplot(X_train[:, 2])\n",
    "ax.set_title('Light[2]')\n",
    "\n",
    "ax = fig.add_subplot(2, 3, 4) \n",
    "ax.boxplot(X_train[:, 3])\n",
    "ax.set_title('CO2[3]')\n",
    "\n",
    "ax = fig.add_subplot(2, 3, 5) \n",
    "ax.boxplot(X_train[:, 4])\n",
    "ax.set_title('HumidityRatio[4]')"
   ]
  },
  {
   "cell_type": "markdown",
   "metadata": {},
   "source": [
    "## 1.3. Model Evaluation"
   ]
  },
  {
   "cell_type": "markdown",
   "metadata": {},
   "source": [
    "### 1.3.1. Logistic Regression"
   ]
  },
  {
   "cell_type": "markdown",
   "metadata": {},
   "source": [
    " #### 1.3.1.1. Without Feature Scaling"
   ]
  },
  {
   "cell_type": "code",
   "execution_count": 258,
   "metadata": {},
   "outputs": [
    {
     "name": "stdout",
     "output_type": "stream",
     "text": [
      "97.625\n",
      "98.7\n"
     ]
    }
   ],
   "source": [
    "lr_model_1 = sklearn.linear_model.LogisticRegression(random_state=0)\n",
    "lr_model_1.fit(X_train, y_train);\n",
    "z_train_1 = lr_model_1.predict(X_train)\n",
    "z_test_1 = lr_model_1.predict(X_test)\n",
    "print(sklearn.metrics.accuracy_score(y_train, z_train_1)*100)\n",
    "print(sklearn.metrics.accuracy_score(y_test, z_test_1)*100)"
   ]
  },
  {
   "cell_type": "markdown",
   "metadata": {},
   "source": [
    "#### 1.3.1.2. With Standardization"
   ]
  },
  {
   "cell_type": "code",
   "execution_count": 259,
   "metadata": {},
   "outputs": [
    {
     "name": "stdout",
     "output_type": "stream",
     "text": [
      "97.6\n",
      "98.7\n"
     ]
    }
   ],
   "source": [
    "scaler = sklearn.preprocessing.StandardScaler().fit(X_train)\n",
    "X_train_2 = scaler.transform(X_train)\n",
    "X_test_2 = scaler.transform(X_test)\n",
    "\n",
    "lr_model_2 = sklearn.linear_model.LogisticRegression(random_state=0)\n",
    "lr_model_2.fit(X_train_2, y_train);\n",
    "z_train_2 = lr_model_2.predict(X_train_2)\n",
    "z_test_2 = lr_model_2.predict(X_test_2)\n",
    "print(sklearn.metrics.accuracy_score(y_train, z_train_2)*100)\n",
    "print(sklearn.metrics.accuracy_score(y_test, z_test_2)*100)"
   ]
  },
  {
   "cell_type": "markdown",
   "metadata": {},
   "source": [
    "#### 1.3.1.3. With Normalization"
   ]
  },
  {
   "cell_type": "code",
   "execution_count": 260,
   "metadata": {},
   "outputs": [
    {
     "name": "stdout",
     "output_type": "stream",
     "text": [
      "96.8\n",
      "97.6\n"
     ]
    }
   ],
   "source": [
    "scaler = sklearn.preprocessing.MaxAbsScaler().fit(X_train)\n",
    "X_train_2 = scaler.transform(X_train)\n",
    "X_test_2 = scaler.transform(X_test)\n",
    "\n",
    "lr_model_2 = sklearn.linear_model.LogisticRegression(random_state=0)\n",
    "lr_model_2.fit(X_train_2, y_train);\n",
    "z_train_2 = lr_model_2.predict(X_train_2)\n",
    "z_test_2 = lr_model_2.predict(X_test_2)\n",
    "print(sklearn.metrics.accuracy_score(y_train, z_train_2)*100)\n",
    "print(sklearn.metrics.accuracy_score(y_test, z_test_2)*100)"
   ]
  },
  {
   "cell_type": "code",
   "execution_count": 261,
   "metadata": {},
   "outputs": [
    {
     "name": "stdout",
     "output_type": "stream",
     "text": [
      "Time:  643.2319595813751  seconds\n"
     ]
    }
   ],
   "source": [
    "start_time = time.time()\n",
    "lr_model = sklearn.linear_model.LogisticRegression(n_jobs=-1)\n",
    "\n",
    "max_iter_values = 2**np.linspace(8, 15, 8, dtype=np.int32)\n",
    "solver_values = ['newton-cg', 'lbfgs', 'liblinear', 'sag', 'saga']\n",
    "fit_intercept_values = [True, False]\n",
    "penalty_values = ['none', 'l1', 'l2']\n",
    "random_state_values = [0]\n",
    "C_values = 2**np.linspace(1, 4, 4, dtype=np.int32)\n",
    "param_grid = { \"fit_intercept\":fit_intercept_values, \"solver\": solver_values\n",
    "              , \"max_iter\": max_iter_values, 'penalty': penalty_values\n",
    "             , 'random_state': random_state_values, 'C': C_values}\n",
    "\n",
    "gridcv = sklearn.model_selection.GridSearchCV(lr_model, param_grid, verbose=0, cv=5)\n",
    "gridcv.fit(X_train, y_train)\n",
    "lr_best_estimator = gridcv.best_estimator_\n",
    "lr_best_estimator_score = gridcv.best_score_\n",
    "end_time = time.time()\n",
    "print('Time: ', (end_time-start_time), ' seconds')\n",
    "best_estimator_info[1]['lr'] = gridcv"
   ]
  },
  {
   "cell_type": "code",
   "execution_count": 262,
   "metadata": {},
   "outputs": [
    {
     "name": "stdout",
     "output_type": "stream",
     "text": [
      "LogisticRegression(C=2, max_iter=256, n_jobs=-1, penalty='none', random_state=0)\n",
      "Elapsed time:            643.2320 sec\n",
      "Training accuracy score: 97.6250%\n",
      "Test accuracy score:     98.7000%\n",
      "ROC AUC score:           98.8627%\n"
     ]
    },
    {
     "data": {
      "image/png": "[encoded data removed]",
      "text/plain": [
       "<Figure size 432x288 with 1 Axes>"
      ]
     },
     "metadata": {
      "needs_background": "light"
     },
     "output_type": "display_data"
    }
   ],
   "source": [
    "results [5, 0, 0] = (end_time-start_time)\n",
    "results [5, 0, 1], results [5, 0, 2], results [5, 0, 3] = plotModel (lr_best_estimator, (end_time-start_time), X_train, y_train, X_test, y_test)"
   ]
  },
  {
   "cell_type": "code",
   "execution_count": null,
   "metadata": {},
   "outputs": [],
   "source": []
  },
  {
   "cell_type": "markdown",
   "metadata": {},
   "source": [
    "### 1.3.2. K-Means"
   ]
  },
  {
   "cell_type": "code",
   "execution_count": 263,
   "metadata": {},
   "outputs": [
    {
     "name": "stdout",
     "output_type": "stream",
     "text": [
      "Time:  1.5604043006896973  seconds\n"
     ]
    }
   ],
   "source": [
    "start_time = time.time()\n",
    "knn_model = sklearn.neighbors.KNeighborsClassifier(n_jobs=-1)\n",
    "n_neighbor_values =  2**np.linspace(1, 8, 8, dtype=np.int32)\n",
    "param_grid = {\"n_neighbors\": n_neighbor_values}\n",
    "\n",
    "gridcv = sklearn.model_selection.GridSearchCV(knn_model, param_grid, verbose=0, cv=5)\n",
    "gridcv.fit(X_train, y_train)\n",
    "knn_best_estimator = gridcv.best_estimator_\n",
    "knn_best_estimator_score = gridcv.best_score_\n",
    "end_time = time.time()\n",
    "print('Time: ', (end_time-start_time), ' seconds')\n",
    "best_estimator_info[1]['knn'] = gridcv"
   ]
  },
  {
   "cell_type": "code",
   "execution_count": 264,
   "metadata": {},
   "outputs": [
    {
     "name": "stdout",
     "output_type": "stream",
     "text": [
      "KNeighborsClassifier(n_jobs=-1, n_neighbors=8)\n",
      "Elapsed time:            1.5604 sec\n",
      "Training accuracy score: 98.4500%\n",
      "Test accuracy score:     98.7000%\n",
      "ROC AUC score:           98.8627%\n"
     ]
    },
    {
     "data": {
      "image/png": "[encoded data removed]",
      "text/plain": [
       "<Figure size 432x288 with 1 Axes>"
      ]
     },
     "metadata": {
      "needs_background": "light"
     },
     "output_type": "display_data"
    }
   ],
   "source": [
    "results [0, 0, 0] = (end_time-start_time)\n",
    "results [0, 0, 1], results [0, 0, 2], results [0, 0, 3] = plotModel (knn_best_estimator, (end_time-start_time), X_train, y_train, X_test, y_test)"
   ]
  },
  {
   "cell_type": "markdown",
   "metadata": {},
   "source": [
    "# 2. Bank Marketting Dataset"
   ]
  },
  {
   "cell_type": "markdown",
   "metadata": {},
   "source": [
    "## 2.1. Data Loading"
   ]
  },
  {
   "cell_type": "code",
   "execution_count": 265,
   "metadata": {},
   "outputs": [
    {
     "name": "stdout",
     "output_type": "stream",
     "text": [
      "D:\\pravesh\\Concordia\\2020-Fall\\COMP-6321_ML\\project\\COMP-6321-ML\\datasets\\4_bank_additional\\bank-additional\\bank-additional\\bank-additional-full.csv D:\\pravesh\\Concordia\\2020-Fall\\COMP-6321_ML\\project\\COMP-6321-ML\\datasets\\4_bank_additional\\bank-additional\\bank-additional\\bank-additional.csv\n",
      "(45307, 19)\n",
      "(4000, 19) (1000, 19)\n"
     ]
    }
   ],
   "source": [
    "training_dataset_url = os.path.join(bank_additional_dataset_directory, 'bank-additional', 'bank-additional', 'bank-additional-full.csv')\n",
    "test_dataset_url = os.path.join(bank_additional_dataset_directory, 'bank-additional', 'bank-additional', 'bank-additional.csv')\n",
    "print(training_dataset_url, test_dataset_url)\n",
    "\n",
    "\n",
    "# Loading code\n",
    "job_mapping = {'admin.':1, 'blue-collar':2, 'entrepreneur':3\n",
    "               , 'housemaid':4, 'management':5, 'retired':6\n",
    "               , 'self-employed':7, 'services':8, 'student':9\n",
    "               , 'technician':10, 'unemployed':11, 'unknown':0}\n",
    "boolean_mapping ={'no': 0, 'yes': 1}\n",
    "marital_mapping ={'divorced':1, 'married':2, 'single':3}\n",
    "education_mapping={'basic.4y':1, 'basic.6y':2, 'basic.9y':3\n",
    "                   , 'high.school':4, 'illiterate':5, 'professional.course':6\n",
    "                   , 'university.degree':7}\n",
    "contact_mapping={'cellular':1, 'telephone':2}\n",
    "month_mapping={'may':5, 'jun':6, 'nov':11\n",
    "               , 'sep':9, 'jul':7, 'aug':8\n",
    "               , 'mar':3, 'oct':10, 'apr':4\n",
    "               , 'dec':12}\n",
    "day_mapping={'fri':5, 'wed':3, 'mon':1, 'thu':4, 'tue':2}\n",
    "poutcome_mapping={'nonexistent':1, 'failure':2, 'success':3}\n",
    "\n",
    "R=pd.read_csv(training_dataset_url, delimiter=';').replace(boolean_mapping).replace(job_mapping).replace(marital_mapping).replace(education_mapping).replace(contact_mapping).replace(month_mapping).replace(day_mapping).replace(poutcome_mapping).values\n",
    "X1=R[:, [0,1,2,3,4,5,6,7,8,9,11,12,13,14,15,16,17,18,19]]\n",
    "y1=R[:, 20].astype(np.int32)\n",
    "T=pd.read_csv(test_dataset_url, delimiter=';').replace(boolean_mapping).replace(job_mapping).replace(marital_mapping).replace(education_mapping).replace(contact_mapping).replace(month_mapping).replace(day_mapping).replace(poutcome_mapping).values\n",
    "X2=T[:, [0,1,2,3,4,5,6,7,8,9,11,12,13,14,15,16,17,18,19]]\n",
    "y2=T[:, 20].astype(np.int32)\n",
    "\n",
    "X = np.concatenate((X1, X2))\n",
    "y = np.concatenate((y1, y2))\n",
    "\n",
    "print(X.shape)\n",
    "X = X[:5000]\n",
    "y = y[:5000]\n",
    "\n",
    "X_train,X_test,y_train,y_test = train_test_split(X, y, test_size=0.2, random_state=0)\n",
    "\n",
    "print(X_train.shape, X_test.shape)"
   ]
  },
  {
   "cell_type": "markdown",
   "metadata": {},
   "source": [
    "## 2.2. Data Analysis"
   ]
  },
  {
   "cell_type": "markdown",
   "metadata": {},
   "source": [
    "### 2.2.1. Counts"
   ]
  },
  {
   "cell_type": "code",
   "execution_count": 266,
   "metadata": {},
   "outputs": [
    {
     "name": "stdout",
     "output_type": "stream",
     "text": [
      "Input Columns Count: 19\n",
      "\n",
      "Training Data\n",
      "Number of Rows: 4000\n",
      "\n",
      "Test Data\n",
      "Number of Rows: 1000\n",
      "X[0]:  [ 2.6000e+01  9.0000e+00  3.0000e+00  7.0000e+00  0.0000e+00  1.0000e+00\n",
      "  0.0000e+00  2.0000e+00  5.0000e+00  3.0000e+00  1.0000e+00  9.9900e+02\n",
      "  0.0000e+00  1.0000e+00  1.1000e+00  9.3994e+01 -3.6400e+01  4.8590e+00\n",
      "  5.1910e+03]\n",
      "y[0]:  0\n"
     ]
    }
   ],
   "source": [
    "# No of Attributed\n",
    "\n",
    "# columns = np.array([\"Temperature\", \"Humidity\", \"Light\", \"CO2\", \"HumidityRatio\"])\n",
    "print('Input Columns Count:', X_train.shape[1])\n",
    "# print('Input Columns:', columns)\n",
    "# print('Output Column:', \"Occupancy\")\n",
    "print()\n",
    "print('Training Data')\n",
    "print('Number of Rows:', X_train.shape[0])\n",
    "print()\n",
    "print('Test Data')\n",
    "print('Number of Rows:', X_test.shape[0])\n",
    "\n",
    "print('X[0]: ', X_train[0])\n",
    "print('y[0]: ', y_train[0])"
   ]
  },
  {
   "cell_type": "markdown",
   "metadata": {},
   "source": [
    "## 2.3. Model Evaluation"
   ]
  },
  {
   "cell_type": "markdown",
   "metadata": {},
   "source": [
    "### 2.3.1. Logistic Regression"
   ]
  },
  {
   "cell_type": "code",
   "execution_count": 267,
   "metadata": {},
   "outputs": [
    {
     "name": "stdout",
     "output_type": "stream",
     "text": [
      "Time:  14.332775831222534  seconds\n"
     ]
    }
   ],
   "source": [
    "start_time = time.time()\n",
    "\n",
    "lr_model = sklearn.linear_model.LogisticRegression(n_jobs=-1)\n",
    "max_iter_values = 2**np.linspace(1, 8, 8, dtype=np.int32)\n",
    "solver_values = ['newton-cg', 'lbfgs', 'liblinear', 'sag', 'saga']\n",
    "fit_intercept_values = [True, False]\n",
    "\n",
    "param_grid = { \"fit_intercept\":[True, False], \"solver\": solver_values, \n",
    "             \"max_iter\": max_iter_values}\n",
    "\n",
    "gridcv = sklearn.model_selection.GridSearchCV(lr_model, param_grid, verbose=0, cv=5)\n",
    "gridcv.fit(X_train, y_train)\n",
    "lr_best_estimator = gridcv.best_estimator_\n",
    "lr_best_estimator_score = gridcv.best_score_\n",
    "\n",
    "end_time = time.time()\n",
    "print('Time: ', (end_time-start_time), ' seconds')\n",
    "best_estimator_info[2]['lr'] = gridcv"
   ]
  },
  {
   "cell_type": "code",
   "execution_count": 268,
   "metadata": {},
   "outputs": [
    {
     "name": "stdout",
     "output_type": "stream",
     "text": [
      "LogisticRegression(max_iter=2, n_jobs=-1, solver='newton-cg')\n",
      "Elapsed time:            14.3328 sec\n",
      "Training accuracy score: 97.0500%\n",
      "Test accuracy score:     97.3000%\n",
      "ROC AUC score:           50.0000%\n"
     ]
    },
    {
     "data": {
      "image/png": "[encoded data removed]",
      "text/plain": [
       "<Figure size 432x288 with 1 Axes>"
      ]
     },
     "metadata": {
      "needs_background": "light"
     },
     "output_type": "display_data"
    }
   ],
   "source": [
    "results [5, 1, 0] = (end_time-start_time)\n",
    "results [5, 1, 1], results [5, 1, 2], results [5, 1, 3] = plotModel (lr_best_estimator, (end_time-start_time), X_train, y_train, X_test, y_test)"
   ]
  },
  {
   "cell_type": "markdown",
   "metadata": {},
   "source": [
    "### 2.3.2. K-Means"
   ]
  },
  {
   "cell_type": "code",
   "execution_count": 269,
   "metadata": {},
   "outputs": [
    {
     "name": "stdout",
     "output_type": "stream",
     "text": [
      "Time:  2.098903179168701  seconds\n"
     ]
    }
   ],
   "source": [
    "start_time = time.time()\n",
    "\n",
    "knn_model = sklearn.neighbors.KNeighborsClassifier(n_jobs=-1)\n",
    "n_neighbor_values =  2**np.linspace(1, 8, 8, dtype=np.int32)\n",
    "param_grid = {\"n_neighbors\": n_neighbor_values}\n",
    "\n",
    "gridcv = sklearn.model_selection.GridSearchCV(knn_model, param_grid, verbose=0, cv=5)\n",
    "gridcv.fit(X_train, y_train)\n",
    "knn_best_estimator = gridcv.best_estimator_\n",
    "knn_best_estimator_score = gridcv.best_score_\n",
    "\n",
    "end_time = time.time()\n",
    "print('Time: ', (end_time-start_time), ' seconds')\n",
    "best_estimator_info[2]['knn'] = gridcv"
   ]
  },
  {
   "cell_type": "code",
   "execution_count": 270,
   "metadata": {},
   "outputs": [
    {
     "name": "stdout",
     "output_type": "stream",
     "text": [
      "KNeighborsClassifier(n_jobs=-1, n_neighbors=4)\n",
      "Elapsed time:            2.0989 sec\n",
      "Training accuracy score: 97.0500%\n",
      "Test accuracy score:     97.3000%\n",
      "ROC AUC score:           50.0000%\n"
     ]
    },
    {
     "data": {
      "image/png": "[encoded data removed]",
      "text/plain": [
       "<Figure size 432x288 with 1 Axes>"
      ]
     },
     "metadata": {
      "needs_background": "light"
     },
     "output_type": "display_data"
    }
   ],
   "source": [
    "results [0, 1, 0] = (end_time-start_time)\n",
    "results [0, 1, 1], results [0, 1, 2], results [0, 1, 3] = plotModel (knn_best_estimator, (end_time-start_time), X_train, y_train, X_test, y_test)"
   ]
  },
  {
   "cell_type": "markdown",
   "metadata": {},
   "source": [
    "# 3. Activity Recognition Dataset"
   ]
  },
  {
   "cell_type": "markdown",
   "metadata": {},
   "source": [
    "## 3.1. Data Loading"
   ]
  },
  {
   "cell_type": "code",
   "execution_count": 271,
   "metadata": {},
   "outputs": [
    {
     "name": "stdout",
     "output_type": "stream",
     "text": [
      "(4000, 7) (1000, 7)\n"
     ]
    }
   ],
   "source": [
    "files = glob.glob(os.path.join(healthy_older_people_dataset_directory, 'Datasets_Healthy_Older_People', 'datasets', \"S1_Dataset\", \"d*\"))\n",
    "Rs = [pd.read_csv(f, header=None) for f in files]\n",
    "R=pd.concat(Rs,ignore_index=True).values\n",
    "X1=R[:, 1:8]\n",
    "y1=R[:, 8].astype(np.int32)\n",
    "\n",
    "files = glob.glob(os.path.join(healthy_older_people_dataset_directory, 'Datasets_Healthy_Older_People', 'datasets', \"S2_Dataset\", \"d*\"))\n",
    "Ts = [pd.read_csv(f, header=None) for f in files]\n",
    "T=pd.concat(Ts,ignore_index=True).values\n",
    "X2=T[:, 1:8]\n",
    "y2=T[:, 8].astype(np.int32)\n",
    "\n",
    "X = np.concatenate((X1, X2))\n",
    "y = np.concatenate((y1, y2))\n",
    "\n",
    "X = X[:5000]\n",
    "y = y[:5000]\n",
    "\n",
    "X_train,X_test,y_train,y_test = train_test_split(X, y, test_size=0.2, random_state=0)\n",
    "print(X_train.shape, X_test.shape)"
   ]
  },
  {
   "cell_type": "markdown",
   "metadata": {},
   "source": [
    "## 3.2. Data Analysis"
   ]
  },
  {
   "cell_type": "markdown",
   "metadata": {},
   "source": [
    "### 3.2.1. Counts"
   ]
  },
  {
   "cell_type": "code",
   "execution_count": 272,
   "metadata": {},
   "outputs": [
    {
     "name": "stdout",
     "output_type": "stream",
     "text": [
      "Input Columns Count: 7\n",
      "\n",
      "Training Data\n",
      "Number of Rows: 4000\n",
      "\n",
      "Test Data\n",
      "Number of Rows: 1000\n",
      "X[0]:  [ 1.0459e+00 -1.8603e-01 -8.2102e-02  1.0000e+00 -6.7500e+01  1.5370e+00\n",
      "  9.2425e+02]\n",
      "y[0]:  3\n"
     ]
    }
   ],
   "source": [
    "# No of Attributed\n",
    "\n",
    "# columns = np.array([\"Temperature\", \"Humidity\", \"Light\", \"CO2\", \"HumidityRatio\"])\n",
    "print('Input Columns Count:', X_train.shape[1])\n",
    "# print('Input Columns:', columns)\n",
    "# print('Output Column:', \"Occupancy\")\n",
    "print()\n",
    "print('Training Data')\n",
    "print('Number of Rows:', X_train.shape[0])\n",
    "print()\n",
    "print('Test Data')\n",
    "print('Number of Rows:', X_test.shape[0])\n",
    "\n",
    "print('X[0]: ', X_train[0])\n",
    "print('y[0]: ', y_train[0])"
   ]
  },
  {
   "cell_type": "markdown",
   "metadata": {},
   "source": [
    "## 3.3. Model Evaluation"
   ]
  },
  {
   "cell_type": "markdown",
   "metadata": {},
   "source": [
    "### 3.3.1. Logistic Regression"
   ]
  },
  {
   "cell_type": "code",
   "execution_count": 273,
   "metadata": {},
   "outputs": [
    {
     "name": "stdout",
     "output_type": "stream",
     "text": [
      "Time:  107.7798445224762  seconds\n"
     ]
    }
   ],
   "source": [
    "start_time = time.time()\n",
    "\n",
    "lr_model = sklearn.linear_model.LogisticRegression(n_jobs=-1)\n",
    "max_iter_values = 2**np.linspace(1, 10, 10, dtype=np.int32)\n",
    "solver_values = ['newton-cg', 'lbfgs', 'liblinear', 'sag', 'saga']\n",
    "fit_intercept_values = [True, False]\n",
    "\n",
    "param_grid = { \"fit_intercept\":[True, False], \"solver\": solver_values, \n",
    "             \"max_iter\": max_iter_values}\n",
    "\n",
    "gridcv = sklearn.model_selection.GridSearchCV(lr_model, param_grid, verbose=0, cv=5)\n",
    "gridcv.fit(X_train, y_train)\n",
    "lr_best_estimator = gridcv.best_estimator_\n",
    "lr_best_estimator_score = gridcv.best_score_\n",
    "\n",
    "end_time = time.time()\n",
    "print('Time: ', (end_time-start_time), ' seconds')\n",
    "best_estimator_info[3]['lr'] = gridcv"
   ]
  },
  {
   "cell_type": "code",
   "execution_count": 274,
   "metadata": {},
   "outputs": [
    {
     "name": "stdout",
     "output_type": "stream",
     "text": [
      "LogisticRegression(max_iter=1024, n_jobs=-1)\n",
      "Elapsed time:            107.7798 sec\n",
      "Training accuracy score: 90.1750%\n",
      "Test accuracy score:     88.9000%\n",
      "ROC AUC score:           93.0769%\n"
     ]
    }
   ],
   "source": [
    "results [5, 2, 0] = (end_time-start_time)\n",
    "results [5, 2, 1], results [5, 2, 2], results [5, 2, 3] = plotModel (lr_best_estimator, (end_time-start_time), X_train, y_train, X_test, y_test)"
   ]
  },
  {
   "cell_type": "markdown",
   "metadata": {},
   "source": [
    "### 3.3.2. K-Means"
   ]
  },
  {
   "cell_type": "code",
   "execution_count": 275,
   "metadata": {},
   "outputs": [
    {
     "name": "stdout",
     "output_type": "stream",
     "text": [
      "Time:  1.606785774230957  seconds\n"
     ]
    }
   ],
   "source": [
    "start_time = time.time()\n",
    "\n",
    "knn_model = sklearn.neighbors.KNeighborsClassifier(n_jobs=-1)\n",
    "n_neighbor_values =  2**np.linspace(1, 8, 8, dtype=np.int32)\n",
    "param_grid = {\"n_neighbors\": n_neighbor_values}\n",
    "\n",
    "gridcv = sklearn.model_selection.GridSearchCV(knn_model, param_grid, verbose=0, cv=5)\n",
    "gridcv.fit(X_train, y_train)\n",
    "knn_best_estimator = gridcv.best_estimator_\n",
    "knn_best_estimator_score = gridcv.best_score_\n",
    "\n",
    "end_time = time.time()\n",
    "print('Time: ', (end_time-start_time), ' seconds')\n",
    "best_estimator_info[3]['knn'] = gridcv"
   ]
  },
  {
   "cell_type": "code",
   "execution_count": 276,
   "metadata": {},
   "outputs": [
    {
     "name": "stdout",
     "output_type": "stream",
     "text": [
      "KNeighborsClassifier(n_jobs=-1, n_neighbors=2)\n",
      "Elapsed time:            1.6068 sec\n",
      "Training accuracy score: 96.7500%\n",
      "Test accuracy score:     93.6000%\n",
      "ROC AUC score:           95.6488%\n"
     ]
    }
   ],
   "source": [
    "results [0, 2, 0] = (end_time-start_time)\n",
    "results [0, 2, 1], results [0, 2, 2], results [0, 2, 3] = plotModel (knn_best_estimator, (end_time-start_time), X_train, y_train, X_test, y_test)"
   ]
  },
  {
   "cell_type": "markdown",
   "metadata": {},
   "source": [
    "# 4. Bitcoin Ransonware Dataset"
   ]
  },
  {
   "cell_type": "markdown",
   "metadata": {},
   "source": [
    "## 4.1. Data Loading"
   ]
  },
  {
   "cell_type": "code",
   "execution_count": 277,
   "metadata": {},
   "outputs": [
    {
     "name": "stdout",
     "output_type": "stream",
     "text": [
      "D:\\pravesh\\Concordia\\2020-Fall\\COMP-6321_ML\\project\\COMP-6321-ML\\datasets\\3_bitcoin_heist_ransonware_address\\data\\BitcoinHeistData.csv\n",
      "(4000, 8) (1000, 8)\n"
     ]
    }
   ],
   "source": [
    "training_dataset_url = os.path.join(bitcoin_heist_ransonware_address_dataset_directory, 'data', 'BitcoinHeistData.csv')\n",
    "print(training_dataset_url)\n",
    "\n",
    "\n",
    "# Loading code\n",
    "nrows=1000000\n",
    "nparts=10\n",
    "ntest=nrows//nparts\n",
    "label_mapping = {'princetonCerber':1, 'princetonLocky':1, 'montrealCryptoLocker':1,\n",
    " 'montrealCryptXXX':1, 'paduaCryptoWall':1, 'montrealWannaCry':1,\n",
    " 'montrealDMALockerv3':1, 'montrealCryptoTorLocker2015':1, 'montrealSamSam':1,\n",
    " 'montrealFlyper':1, 'montrealNoobCrypt':1, 'montrealDMALocker':1, 'montrealGlobe':1,\n",
    " 'montrealEDA2':1, 'paduaKeRanger':1, 'montrealVenusLocker':1, 'montrealXTPLocker':1,\n",
    " 'paduaJigsaw':1, 'montrealGlobev3':1, 'montrealJigSaw':1, 'montrealXLockerv5.0':1,\n",
    " 'montrealXLocker':1, 'montrealRazy':1, 'montrealCryptConsole':1,\n",
    " 'montrealGlobeImposter':1, 'montrealSam':1, 'montrealComradeCircle':1,\n",
    " 'montrealAPT':1, 'white':0}\n",
    "\n",
    "R=pd.read_csv(training_dataset_url, nrows=nrows, usecols=[\"year\",\"day\",\"length\",\"weight\",\"count\",\"looped\",\"neighbors\",\"income\",\"label\"]).replace(label_mapping).values\n",
    "np.random.seed(0)\n",
    "np.random.shuffle(R)\n",
    "X=R[:, 0:8]\n",
    "y=R[:, 8].astype(np.int32)\n",
    "\n",
    "X = X[:5000]\n",
    "y = y[:5000]\n",
    "\n",
    "\n",
    "X_train,X_test,y_train,y_test = train_test_split(X, y, test_size=0.2, random_state=0)\n",
    "print(X_train.shape, X_test.shape)"
   ]
  },
  {
   "cell_type": "markdown",
   "metadata": {},
   "source": [
    "## 4.2. Data Analysis"
   ]
  },
  {
   "cell_type": "markdown",
   "metadata": {},
   "source": [
    "### 4.2.1. Counts"
   ]
  },
  {
   "cell_type": "code",
   "execution_count": 278,
   "metadata": {},
   "outputs": [
    {
     "name": "stdout",
     "output_type": "stream",
     "text": [
      "Input Columns Count: 8\n",
      "\n",
      "Training Data\n",
      "Number of Rows: 4000\n",
      "\n",
      "Test Data\n",
      "Number of Rows: 1000\n",
      "X[0]:  [2.01200000e+03 4.60000000e+01 2.00000000e+00 3.33333333e-01\n",
      " 3.00000000e+00 0.00000000e+00 1.00000000e+00 3.25000000e+08]\n",
      "y[0]:  0\n"
     ]
    }
   ],
   "source": [
    "# No of Attributed\n",
    "\n",
    "# columns = np.array([\"Temperature\", \"Humidity\", \"Light\", \"CO2\", \"HumidityRatio\"])\n",
    "print('Input Columns Count:', X_train.shape[1])\n",
    "# print('Input Columns:', columns)\n",
    "# print('Output Column:', \"Occupancy\")\n",
    "print()\n",
    "print('Training Data')\n",
    "print('Number of Rows:', X_train.shape[0])\n",
    "print()\n",
    "print('Test Data')\n",
    "print('Number of Rows:', X_test.shape[0])\n",
    "\n",
    "print('X[0]: ', X_train[0])\n",
    "print('y[0]: ', y_train[0])"
   ]
  },
  {
   "cell_type": "markdown",
   "metadata": {},
   "source": [
    "## 4.3. Model Evaluation"
   ]
  },
  {
   "cell_type": "markdown",
   "metadata": {},
   "source": [
    "### 4.3.1. Logistics Regression"
   ]
  },
  {
   "cell_type": "code",
   "execution_count": 279,
   "metadata": {},
   "outputs": [
    {
     "name": "stdout",
     "output_type": "stream",
     "text": [
      "Time:  19.85428237915039  seconds\n"
     ]
    }
   ],
   "source": [
    "start_time = time.time()\n",
    "\n",
    "lr_model = sklearn.linear_model.LogisticRegression(n_jobs=-1)\n",
    "max_iter_values = 2**np.linspace(1, 8, 8, dtype=np.int32)\n",
    "solver_values = ['newton-cg', 'lbfgs', 'liblinear', 'sag', 'saga']\n",
    "fit_intercept_values = [True, False]\n",
    "\n",
    "param_grid = { \"fit_intercept\":[True, False], \"solver\": solver_values, \n",
    "             \"max_iter\": max_iter_values}\n",
    "gridcv = sklearn.model_selection.GridSearchCV(lr_model, param_grid, verbose=0, cv=5)\n",
    "gridcv.fit(X_train, y_train)\n",
    "lr_best_estimator = gridcv.best_estimator_\n",
    "lr_best_estimator_score = gridcv.best_score_\n",
    "\n",
    "end_time = time.time()\n",
    "print('Time: ', (end_time-start_time), ' seconds')\n",
    "best_estimator_info[4]['lr'] = gridcv"
   ]
  },
  {
   "cell_type": "code",
   "execution_count": 280,
   "metadata": {},
   "outputs": [
    {
     "name": "stdout",
     "output_type": "stream",
     "text": [
      "LogisticRegression(max_iter=128, n_jobs=-1, solver='newton-cg')\n",
      "Elapsed time:            19.8543 sec\n",
      "Training accuracy score: 95.9000%\n",
      "Test accuracy score:     95.6000%\n",
      "ROC AUC score:           50.0000%\n"
     ]
    },
    {
     "data": {
      "image/png": "[encoded data removed]",
      "text/plain": [
       "<Figure size 432x288 with 1 Axes>"
      ]
     },
     "metadata": {
      "needs_background": "light"
     },
     "output_type": "display_data"
    }
   ],
   "source": [
    "results [5, 3, 0] = (end_time-start_time)\n",
    "results [5, 3, 1], results [5, 3, 2], results [5, 3, 3] = plotModel (lr_best_estimator, (end_time-start_time), X_train, y_train, X_test, y_test)"
   ]
  },
  {
   "cell_type": "markdown",
   "metadata": {},
   "source": [
    "### 4.3.2. K-Means"
   ]
  },
  {
   "cell_type": "code",
   "execution_count": 281,
   "metadata": {},
   "outputs": [
    {
     "name": "stdout",
     "output_type": "stream",
     "text": [
      "Time:  1.7524900436401367  seconds\n"
     ]
    }
   ],
   "source": [
    "start_time = time.time()\n",
    "\n",
    "knn_model = sklearn.neighbors.KNeighborsClassifier(n_jobs=-1)\n",
    "n_neighbor_values =  2**np.linspace(1, 8, 8, dtype=np.int32)\n",
    "param_grid = {\"n_neighbors\": n_neighbor_values}\n",
    "\n",
    "gridcv = sklearn.model_selection.GridSearchCV(knn_model, param_grid, verbose=0, cv=5)\n",
    "gridcv.fit(X_train, y_train)\n",
    "knn_best_estimator = gridcv.best_estimator_\n",
    "knn_best_estimator_score = gridcv.best_score_\n",
    "\n",
    "end_time = time.time()\n",
    "print('Time: ', (end_time-start_time), ' seconds')\n",
    "best_estimator_info[4]['knn'] = gridcv"
   ]
  },
  {
   "cell_type": "code",
   "execution_count": 282,
   "metadata": {},
   "outputs": [
    {
     "name": "stdout",
     "output_type": "stream",
     "text": [
      "KNeighborsClassifier(n_jobs=-1, n_neighbors=32)\n",
      "Elapsed time:            1.7525 sec\n",
      "Training accuracy score: 95.8500%\n",
      "Test accuracy score:     95.6000%\n",
      "ROC AUC score:           50.0000%\n"
     ]
    },
    {
     "data": {
      "image/png": "[encoded data removed]",
      "text/plain": [
       "<Figure size 432x288 with 1 Axes>"
      ]
     },
     "metadata": {
      "needs_background": "light"
     },
     "output_type": "display_data"
    }
   ],
   "source": [
    "results [0, 3, 0] = (end_time-start_time)\n",
    "results [0, 3, 1], results [0, 3, 2], results [0, 3, 3] = plotModel (knn_best_estimator, (end_time-start_time), X_train, y_train, X_test, y_test)"
   ]
  },
  {
   "cell_type": "markdown",
   "metadata": {},
   "source": [
    "# 5. Montreal Crime Dataset"
   ]
  },
  {
   "cell_type": "markdown",
   "metadata": {},
   "source": [
    "## 5.1. Data Loading"
   ]
  },
  {
   "cell_type": "code",
   "execution_count": 283,
   "metadata": {},
   "outputs": [
    {
     "name": "stdout",
     "output_type": "stream",
     "text": [
      "(4000, 8) (1000, 8)\n"
     ]
    }
   ],
   "source": [
    "training_dataset_url = os.path.join(montreal_crime_dataset_directory, 'interventionscitoyendo.csv')\n",
    "\n",
    "\n",
    "category_mapping = {'Introduction':1, 'Vol dans / sur véhicule à moteur':2, 'Vol de véhicule à moteur':3, 'Méfait':4, 'Vol qualifié':5, 'Infraction entraînant la mort':6, 'Vols qualifiés':5, 'Infractions entrainant la mort':6}\n",
    "shift_mapping ={'jour':1, 'soir':2, 'nuit':3}\n",
    "TR=pd.read_csv(training_dataset_url, encoding='latin1').replace(category_mapping).replace(shift_mapping)\n",
    "TR['YEAR']=TR.DATE.str.split('-').str[0].astype(np.int32)\n",
    "TR['MONTH']=TR.DATE.str.split('-').str[1].astype(np.int32)\n",
    "TR['DAY']=TR.DATE.str.split('-').str[2].astype(np.int32)\n",
    "TR.dropna(inplace=True)\n",
    "\n",
    "R=TR.values\n",
    "X = R[:, [2,3,4,5,6,7,9,10]]\n",
    "y = R[:, 0].astype(np.int32)\n",
    "\n",
    "X = X[:5000]\n",
    "y = y[:5000]\n",
    "\n",
    "\n",
    "X_train,X_test,y_train,y_test = train_test_split(X, y, test_size=0.2, random_state=0)\n",
    "print(X_train.shape, X_test.shape)"
   ]
  },
  {
   "cell_type": "markdown",
   "metadata": {},
   "source": [
    "## 5.2. Data Analysis"
   ]
  },
  {
   "cell_type": "markdown",
   "metadata": {},
   "source": [
    "### 5.2.1. Counts"
   ]
  },
  {
   "cell_type": "code",
   "execution_count": 284,
   "metadata": {},
   "outputs": [
    {
     "name": "stdout",
     "output_type": "stream",
     "text": [
      "Input Columns Count: 8\n",
      "\n",
      "Training Data\n",
      "Number of Rows: 4000\n",
      "\n",
      "Test Data\n",
      "Number of Rows: 1000\n",
      "X[0]:  [3 5.0 287119.7810100151 5034502.49999992 -73.72603463908422\n",
      " 45.45022933601354 5 2]\n",
      "y[0]:  1\n"
     ]
    }
   ],
   "source": [
    "# No of Attributed\n",
    "\n",
    "# columns = np.array([\"Temperature\", \"Humidity\", \"Light\", \"CO2\", \"HumidityRatio\"])\n",
    "print('Input Columns Count:', X_train.shape[1])\n",
    "# print('Input Columns:', columns)\n",
    "# print('Output Column:', \"Occupancy\")\n",
    "print()\n",
    "print('Training Data')\n",
    "print('Number of Rows:', X_train.shape[0])\n",
    "print()\n",
    "print('Test Data')\n",
    "print('Number of Rows:', X_test.shape[0])\n",
    "\n",
    "print('X[0]: ', X_train[0])\n",
    "print('y[0]: ', y_train[0])"
   ]
  },
  {
   "cell_type": "markdown",
   "metadata": {},
   "source": [
    "## 5.3. Model Evaluation"
   ]
  },
  {
   "cell_type": "markdown",
   "metadata": {},
   "source": [
    "### 5.3.1. Logistics Regression"
   ]
  },
  {
   "cell_type": "code",
   "execution_count": 285,
   "metadata": {},
   "outputs": [
    {
     "name": "stdout",
     "output_type": "stream",
     "text": [
      "Time:  70.38212561607361  seconds\n"
     ]
    }
   ],
   "source": [
    "start_time = time.time()\n",
    "\n",
    "lr_model = sklearn.linear_model.LogisticRegression(n_jobs=-1)\n",
    "max_iter_values = 2**np.linspace(1, 8, 8, dtype=np.int32)\n",
    "solver_values = ['newton-cg', 'lbfgs', 'liblinear', 'sag', 'saga']\n",
    "fit_intercept_values = [True, False]\n",
    "\n",
    "param_grid = { \"fit_intercept\":[True, False], \"solver\": solver_values, \n",
    "             \"max_iter\": max_iter_values}\n",
    "gridcv = sklearn.model_selection.GridSearchCV(lr_model, param_grid, verbose=0, cv=5)\n",
    "gridcv.fit(X_train, y_train)\n",
    "lr_best_estimator = gridcv.best_estimator_\n",
    "lr_best_estimator_score = gridcv.best_score_\n",
    "\n",
    "end_time = time.time()\n",
    "print('Time: ', (end_time-start_time), ' seconds')\n",
    "best_estimator_info[5]['lr'] = gridcv"
   ]
  },
  {
   "cell_type": "code",
   "execution_count": 286,
   "metadata": {},
   "outputs": [
    {
     "name": "stdout",
     "output_type": "stream",
     "text": [
      "LogisticRegression(fit_intercept=False, max_iter=128, n_jobs=-1,\n",
      "                   solver='newton-cg')\n",
      "Elapsed time:            70.3821 sec\n",
      "Training accuracy score: 33.2750%\n",
      "Test accuracy score:     32.6000%\n",
      "ROC AUC score:           51.1852%\n"
     ]
    }
   ],
   "source": [
    "results [5, 4, 0] = (end_time-start_time)\n",
    "results [5, 4, 1], results [5, 4, 2], results [5, 4, 3] = plotModel (lr_best_estimator, (end_time-start_time), X_train, y_train, X_test, y_test)"
   ]
  },
  {
   "cell_type": "markdown",
   "metadata": {},
   "source": [
    "### 5.3.2. K-Means"
   ]
  },
  {
   "cell_type": "code",
   "execution_count": 287,
   "metadata": {},
   "outputs": [
    {
     "name": "stdout",
     "output_type": "stream",
     "text": [
      "Time:  1.7753517627716064  seconds\n"
     ]
    }
   ],
   "source": [
    "start_time = time.time()\n",
    "\n",
    "knn_model = sklearn.neighbors.KNeighborsClassifier(n_jobs=-1)\n",
    "n_neighbor_values =  2**np.linspace(1, 8, 8, dtype=np.int32)\n",
    "param_grid = {\"n_neighbors\": n_neighbor_values}\n",
    "\n",
    "gridcv = sklearn.model_selection.GridSearchCV(knn_model, param_grid, verbose=0, cv=5)\n",
    "gridcv.fit(X_train, y_train)\n",
    "knn_best_estimator = gridcv.best_estimator_\n",
    "knn_best_estimator_score = gridcv.best_score_\n",
    "\n",
    "end_time = time.time()\n",
    "print('Time: ', (end_time-start_time), ' seconds')\n",
    "best_estimator_info[5]['knn'] = gridcv"
   ]
  },
  {
   "cell_type": "code",
   "execution_count": 288,
   "metadata": {},
   "outputs": [
    {
     "name": "stdout",
     "output_type": "stream",
     "text": [
      "KNeighborsClassifier(n_jobs=-1, n_neighbors=32)\n",
      "Elapsed time:            1.7754 sec\n",
      "Training accuracy score: 43.6000%\n",
      "Test accuracy score:     37.8000%\n",
      "ROC AUC score:           56.4913%\n"
     ]
    }
   ],
   "source": [
    "results [0, 4, 0] = (end_time-start_time)\n",
    "results [0, 4, 1], results [0, 4, 2], results [0, 4, 3] = plotModel (knn_best_estimator, (end_time-start_time), X_train, y_train, X_test, y_test)"
   ]
  },
  {
   "cell_type": "markdown",
   "metadata": {},
   "source": [
    "# 6. Credit Cards Dataset"
   ]
  },
  {
   "cell_type": "markdown",
   "metadata": {},
   "source": [
    "## 6.1. Data Loading"
   ]
  },
  {
   "cell_type": "code",
   "execution_count": 289,
   "metadata": {},
   "outputs": [
    {
     "name": "stdout",
     "output_type": "stream",
     "text": [
      "(30000, 24)\n",
      "[20000     2     2     1    24     2     2    -1    -1    -2    -2  3913\n",
      "  3102   689     0     0     0     0   689     0     0     0     0]\n",
      "(4000, 23) (1000, 23)\n",
      "[20000     2     2     1    24     2     2    -1    -1    -2    -2  3913\n",
      "  3102   689     0     0     0     0   689     0     0     0     0]\n",
      "[200000      2      1      1     45     -2     -2     -2     -2     -2\n",
      "     -2   1417  12643   3977      0   2500    199  12660   3977      0\n",
      "   2500    199   2944]\n"
     ]
    }
   ],
   "source": [
    "dataset_url = os.path.join(credit_cards_dataset_directory, 'default_of_credit_card_clients.csv')\n",
    "\n",
    "TR=pd.read_csv(dataset_url, skiprows=1, usecols=[i for i in range(1,25)])\n",
    "print(TR.shape)\n",
    "\n",
    "R=TR.values\n",
    "X = R[:, :23]\n",
    "y = R[:, 23].astype(np.int32)\n",
    "print(X[0])\n",
    "\n",
    "X = X[:5000]\n",
    "y = y[:5000]\n",
    "\n",
    "X_train,X_test,y_train,y_test = train_test_split(X, y, test_size=0.2, random_state=0)\n",
    "print(X_train.shape, X_test.shape)\n",
    "print(X[0])\n",
    "print(X_train[0])"
   ]
  },
  {
   "cell_type": "markdown",
   "metadata": {},
   "source": [
    "## 6.2. Data Analysis"
   ]
  },
  {
   "cell_type": "markdown",
   "metadata": {},
   "source": [
    "### 6.2.1. Counts"
   ]
  },
  {
   "cell_type": "code",
   "execution_count": 290,
   "metadata": {},
   "outputs": [
    {
     "name": "stdout",
     "output_type": "stream",
     "text": [
      "Input Columns Count: 23\n",
      "\n",
      "Training Data\n",
      "Number of Rows: 4000\n",
      "\n",
      "Test Data\n",
      "Number of Rows: 1000\n",
      "X[0]:  [200000      2      1      1     45     -2     -2     -2     -2     -2\n",
      "     -2   1417  12643   3977      0   2500    199  12660   3977      0\n",
      "   2500    199   2944]\n",
      "y[0]:  0\n"
     ]
    }
   ],
   "source": [
    "# No of Attributed\n",
    "\n",
    "# columns = np.array([\"Temperature\", \"Humidity\", \"Light\", \"CO2\", \"HumidityRatio\"])\n",
    "print('Input Columns Count:', X_train.shape[1])\n",
    "# print('Input Columns:', columns)\n",
    "# print('Output Column:', \"Occupancy\")\n",
    "print()\n",
    "print('Training Data')\n",
    "print('Number of Rows:', X_train.shape[0])\n",
    "print()\n",
    "print('Test Data')\n",
    "print('Number of Rows:', X_test.shape[0])\n",
    "\n",
    "print('X[0]: ', X_train[0])\n",
    "print('y[0]: ', y_train[0])"
   ]
  },
  {
   "cell_type": "markdown",
   "metadata": {},
   "source": [
    "## 6.3. Model Evaluation"
   ]
  },
  {
   "cell_type": "markdown",
   "metadata": {},
   "source": [
    "### 6.3.1. Logistics Regression"
   ]
  },
  {
   "cell_type": "code",
   "execution_count": 291,
   "metadata": {},
   "outputs": [
    {
     "name": "stdout",
     "output_type": "stream",
     "text": [
      "Time:  72.58757281303406  seconds\n"
     ]
    }
   ],
   "source": [
    "start_time = time.time()\n",
    "\n",
    "lr_model = sklearn.linear_model.LogisticRegression(n_jobs=-1)\n",
    "max_iter_values = 2**np.linspace(1, 10, 10, dtype=np.int32)\n",
    "solver_values = ['newton-cg', 'lbfgs', 'liblinear', 'sag', 'saga']\n",
    "fit_intercept_values = [True, False]\n",
    "\n",
    "param_grid = { \"fit_intercept\":[True, False], \"solver\": solver_values, \n",
    "             \"max_iter\": max_iter_values}\n",
    "gridcv = sklearn.model_selection.GridSearchCV(lr_model, param_grid, verbose=0, cv=5)\n",
    "gridcv.fit(X_train, y_train)\n",
    "lr_best_estimator = gridcv.best_estimator_\n",
    "lr_best_estimator_score = gridcv.best_score_\n",
    "\n",
    "end_time = time.time()\n",
    "print('Time: ', (end_time-start_time), ' seconds')\n",
    "best_estimator_info[6]['lr'] = gridcv"
   ]
  },
  {
   "cell_type": "code",
   "execution_count": 292,
   "metadata": {},
   "outputs": [
    {
     "name": "stdout",
     "output_type": "stream",
     "text": [
      "LogisticRegression(fit_intercept=False, max_iter=256, n_jobs=-1,\n",
      "                   solver='newton-cg')\n",
      "Elapsed time:            72.5876 sec\n",
      "Training accuracy score: 79.4500%\n",
      "Test accuracy score:     81.1000%\n",
      "ROC AUC score:           59.0092%\n"
     ]
    },
    {
     "data": {
      "image/png": "[encoded data removed]",
      "text/plain": [
       "<Figure size 432x288 with 1 Axes>"
      ]
     },
     "metadata": {
      "needs_background": "light"
     },
     "output_type": "display_data"
    }
   ],
   "source": [
    "results [5, 5, 0] = (end_time-start_time)\n",
    "results [5, 5, 1], results [5, 5, 2], results [5, 5, 3] = plotModel (lr_best_estimator, (end_time-start_time), X_train, y_train, X_test, y_test)"
   ]
  },
  {
   "cell_type": "markdown",
   "metadata": {},
   "source": [
    "### 6.3.2. K-Means"
   ]
  },
  {
   "cell_type": "code",
   "execution_count": 293,
   "metadata": {},
   "outputs": [
    {
     "name": "stdout",
     "output_type": "stream",
     "text": [
      "Time:  2.4772908687591553  seconds\n"
     ]
    }
   ],
   "source": [
    "start_time = time.time()\n",
    "\n",
    "knn_model = sklearn.neighbors.KNeighborsClassifier(n_jobs=-1)\n",
    "n_neighbor_values =  2**np.linspace(1, 8, 8, dtype=np.int32)\n",
    "param_grid = {\"n_neighbors\": n_neighbor_values}\n",
    "\n",
    "gridcv = sklearn.model_selection.GridSearchCV(knn_model, param_grid, verbose=0, cv=5)\n",
    "gridcv.fit(X_train, y_train)\n",
    "knn_best_estimator = gridcv.best_estimator_\n",
    "knn_best_estimator_score = gridcv.best_score_\n",
    "\n",
    "end_time = time.time()\n",
    "print('Time: ', (end_time-start_time), ' seconds')\n",
    "best_estimator_info[6]['knn'] = gridcv"
   ]
  },
  {
   "cell_type": "code",
   "execution_count": 294,
   "metadata": {},
   "outputs": [
    {
     "name": "stdout",
     "output_type": "stream",
     "text": [
      "KNeighborsClassifier(n_jobs=-1, n_neighbors=128)\n",
      "Elapsed time:            2.4773 sec\n",
      "Training accuracy score: 77.6250%\n",
      "Test accuracy score:     79.1000%\n",
      "ROC AUC score:           50.0000%\n"
     ]
    },
    {
     "data": {
      "image/png": "[encoded data removed]",
      "text/plain": [
       "<Figure size 432x288 with 1 Axes>"
      ]
     },
     "metadata": {
      "needs_background": "light"
     },
     "output_type": "display_data"
    }
   ],
   "source": [
    "results [0, 5, 0] = (end_time-start_time)\n",
    "results [0, 5, 1], results [0, 5, 2], results [0, 5, 3] = plotModel (knn_best_estimator, (end_time-start_time), X_train, y_train, X_test, y_test)"
   ]
  },
  {
   "cell_type": "markdown",
   "metadata": {},
   "source": [
    "# 7. Census Income Dataset"
   ]
  },
  {
   "cell_type": "markdown",
   "metadata": {},
   "source": [
    "## 7.1. Data Loading"
   ]
  },
  {
   "cell_type": "code",
   "execution_count": 295,
   "metadata": {},
   "outputs": [
    {
     "name": "stdout",
     "output_type": "stream",
     "text": [
      "[3.9000e+01 6.0000e+00 7.7516e+04 1.0000e+00 1.3000e+01 3.0000e+00\n",
      " 9.0000e+00 4.0000e+00 1.0000e+00 2.0000e+00 2.1740e+03 0.0000e+00\n",
      " 4.0000e+01 1.0000e+00] 0\n",
      "(4000, 14) (1000, 14)\n"
     ]
    }
   ],
   "source": [
    "dataset_url = os.path.join(census_income_dataset_directory, 'adult_data.csv')\n",
    "\n",
    "TR=pd.read_csv(dataset_url, encoding='utf8', header=None)\n",
    "TR = TR.apply(lambda x: x.apply(lambda y: y.strip() if type(y) == type('') else y), axis=0)\n",
    "\n",
    "workclass_mapping = {'Private':1, 'Self-emp-not-inc':2\n",
    "                    , 'Self-emp-inc':3, 'Federal-gov':4\n",
    "                    , 'Local-gov':5, 'State-gov':6\n",
    "                    , 'Without-pay':7, 'Never-worked':8}\n",
    "TR = TR.replace(workclass_mapping)\n",
    "\n",
    "\n",
    "education_mapping = {'Bachelors':1, 'Some-college':2, '11th':3\n",
    "                     , 'HS-grad':4, 'Prof-school':5, 'Assoc-acdm':6\n",
    "                     , 'Assoc-voc':7, '9th':8, '7th-8th':9\n",
    "                     , '12th':10, 'Masters':11, '1st-4th':12\n",
    "                     , '10th':13, 'Doctorate':14, '5th-6th':15\n",
    "                     , 'Preschool':16}\n",
    "TR = TR.replace(education_mapping)\n",
    "\n",
    "marital_status_mapping = {'Married-civ-spouse':1, 'Divorced':2, 'Never-married':3\n",
    "                          , 'Separated':4, 'Widowed':5, 'Married-spouse-absent':6\n",
    "                          , 'Married-AF-spouse':7}\n",
    "TR = TR.replace(marital_status_mapping)\n",
    "\n",
    "occupation_mapping = {'Tech-support':1, 'Craft-repair':2, 'Other-service':3\n",
    "                      , 'Sales':4, 'Exec-managerial':5, 'Prof-specialty':6\n",
    "                      , 'Handlers-cleaners':7, 'Machine-op-inspct':8, 'Adm-clerical':9\n",
    "                      , 'Farming-fishing':10, 'Transport-moving':11, 'Priv-house-serv':12\n",
    "                      , 'Protective-serv':13, 'Armed-Forces':14}\n",
    "TR = TR.replace(occupation_mapping)\n",
    "\n",
    "relationship_mapping = {'Wife':1, 'Own-child':2, 'Husband':3\n",
    "                , 'Not-in-family':4, 'Other-relative':5, 'Unmarried':6}\n",
    "TR = TR.replace(relationship_mapping)\n",
    "\n",
    "race_mapping = {'White':1, 'Asian-Pac-Islander':2, 'Amer-Indian-Eskimo':3\n",
    "                , 'Other':4, 'Black':5}\n",
    "TR = TR.replace(race_mapping)\n",
    "\n",
    "sex_mapping = {'Female':1, 'Male':2}\n",
    "TR = TR.replace(sex_mapping)\n",
    "\n",
    "country_mapping = {'United-States':1, 'Cambodia':2, 'England':3\n",
    "                   , 'Puerto-Rico':4, 'Canada':5, 'Germany':6\n",
    "                   , 'Outlying-US(Guam-USVI-etc)':7, 'India':8\n",
    "                   , 'Japan':9, 'Greece':10, 'South':11\n",
    "                   , 'China':12, 'Cuba':13, 'Iran':14\n",
    "                   , 'Honduras':15, 'Philippines':16, 'Italy':17\n",
    "                   , 'Poland':18, 'Jamaica':19, 'Vietnam':20\n",
    "                   , 'Mexico':21, 'Portugal':22, 'Ireland':23\n",
    "                   , 'France':24, 'Dominican-Republic':25, 'Laos':26\n",
    "                   , 'Ecuador':27, 'Taiwan':28, 'Haiti':29\n",
    "                   , 'Columbia':30, 'Hungary':31, 'Guatemala':32\n",
    "                   , 'Nicaragua':33, 'Scotland':34, 'Thailand':35\n",
    "                   , 'Yugoslavia':36, 'El-Salvador':37, 'Trinadad&Tobago':38\n",
    "                   , 'Peru':39, 'Hong':40, 'Holand-Netherlands':41}\n",
    "TR = TR.replace(country_mapping)\n",
    "\n",
    "salary_mapping = {'<=50K':0, '>50K':1}\n",
    "TR = TR.replace(salary_mapping)\n",
    "\n",
    "TR = TR.replace(to_replace='?', value=np.nan)\n",
    "TR.dropna(inplace=True)\n",
    "\n",
    "R=TR.values\n",
    "shape = R.shape\n",
    "X = R[:, :shape[1]-1].astype(np.float32)\n",
    "y = R[:, shape[1]-1].astype(np.int32)\n",
    "print(X[0], y[0])\n",
    "\n",
    "X = X[:5000]\n",
    "y = y[:5000]\n",
    "\n",
    "X_train,X_test,y_train,y_test = train_test_split(X, y, test_size=0.2, random_state=0)\n",
    "print(X_train.shape, X_test.shape)"
   ]
  },
  {
   "cell_type": "markdown",
   "metadata": {},
   "source": [
    "## 7.2. Data Analysis"
   ]
  },
  {
   "cell_type": "markdown",
   "metadata": {},
   "source": [
    "### 7.2.1. Counts"
   ]
  },
  {
   "cell_type": "code",
   "execution_count": 296,
   "metadata": {},
   "outputs": [
    {
     "name": "stdout",
     "output_type": "stream",
     "text": [
      "Input Columns Count: 14\n",
      "\n",
      "Training Data\n",
      "Number of Rows: 4000\n",
      "\n",
      "Test Data\n",
      "Number of Rows: 1000\n",
      "X[0]:  [4.10000e+01 6.00000e+00 3.55756e+05 2.00000e+00 1.00000e+01 3.00000e+00\n",
      " 6.00000e+00 4.00000e+00 1.00000e+00 2.00000e+00 0.00000e+00 0.00000e+00\n",
      " 4.00000e+01 1.00000e+00]\n",
      "y[0]:  0\n"
     ]
    }
   ],
   "source": [
    "# No of Attributed\n",
    "\n",
    "# columns = np.array([\"Temperature\", \"Humidity\", \"Light\", \"CO2\", \"HumidityRatio\"])\n",
    "print('Input Columns Count:', X_train.shape[1])\n",
    "# print('Input Columns:', columns)\n",
    "# print('Output Column:', \"Occupancy\")\n",
    "print()\n",
    "print('Training Data')\n",
    "print('Number of Rows:', X_train.shape[0])\n",
    "print()\n",
    "print('Test Data')\n",
    "print('Number of Rows:', X_test.shape[0])\n",
    "\n",
    "print('X[0]: ', X_train[0])\n",
    "print('y[0]: ', y_train[0])"
   ]
  },
  {
   "cell_type": "markdown",
   "metadata": {},
   "source": [
    "## 7.3. Model Evaluation"
   ]
  },
  {
   "cell_type": "markdown",
   "metadata": {},
   "source": [
    "### 7.3.1. Logistics Regression"
   ]
  },
  {
   "cell_type": "code",
   "execution_count": 297,
   "metadata": {},
   "outputs": [
    {
     "name": "stdout",
     "output_type": "stream",
     "text": [
      "Time:  5675.058593273163  seconds\n"
     ]
    }
   ],
   "source": [
    "start_time = time.time()\n",
    "\n",
    "lr_model = sklearn.linear_model.LogisticRegression(n_jobs=-1)\n",
    "max_iter_values = 2**np.linspace(8, 15, 8, dtype=np.int32)\n",
    "solver_values = ['newton-cg', 'lbfgs', 'liblinear', 'sag', 'saga']\n",
    "fit_intercept_values = [True, False]\n",
    "penalty_values = ['none', 'l1', 'l2']\n",
    "random_state_values = [0, None]\n",
    "C_values = 2**np.linspace(1, 4, 4, dtype=np.int32)\n",
    "\n",
    "param_grid = { \"fit_intercept\":fit_intercept_values, \"solver\": solver_values\n",
    "              , \"max_iter\": max_iter_values, 'penalty': penalty_values\n",
    "             , 'random_state': random_state_values, 'C': C_values}\n",
    "gridcv = sklearn.model_selection.GridSearchCV(lr_model, param_grid, verbose=0, cv=5)\n",
    "gridcv.fit(X_train, y_train)\n",
    "lr_best_estimator = gridcv.best_estimator_\n",
    "lr_best_estimator_score = gridcv.best_score_\n",
    "\n",
    "end_time = time.time()\n",
    "print('Time: ', (end_time-start_time), ' seconds')\n",
    "best_estimator_info[7]['lr'] = gridcv"
   ]
  },
  {
   "cell_type": "code",
   "execution_count": 298,
   "metadata": {},
   "outputs": [
    {
     "name": "stdout",
     "output_type": "stream",
     "text": [
      "LogisticRegression(C=4, max_iter=32768, n_jobs=-1, penalty='l1',\n",
      "                   solver='liblinear')\n",
      "Elapsed time:            5675.0586 sec\n",
      "Training accuracy score: 83.3750%\n",
      "Test accuracy score:     82.4000%\n",
      "ROC AUC score:           72.3385%\n"
     ]
    },
    {
     "data": {
      "image/png": "[encoded data removed]",
      "text/plain": [
       "<Figure size 432x288 with 1 Axes>"
      ]
     },
     "metadata": {
      "needs_background": "light"
     },
     "output_type": "display_data"
    }
   ],
   "source": [
    "results [5, 6, 0] = (end_time-start_time)\n",
    "results [5, 6, 1], results [5, 6, 2], results [5, 6, 3] = plotModel (lr_best_estimator, (end_time-start_time), X_train, y_train, X_test, y_test)"
   ]
  },
  {
   "cell_type": "markdown",
   "metadata": {},
   "source": [
    "### 7.3.2. K-Means"
   ]
  },
  {
   "cell_type": "code",
   "execution_count": 299,
   "metadata": {},
   "outputs": [
    {
     "name": "stdout",
     "output_type": "stream",
     "text": [
      "Time:  2.349282741546631  seconds\n"
     ]
    }
   ],
   "source": [
    "start_time = time.time()\n",
    "\n",
    "knn_model = sklearn.neighbors.KNeighborsClassifier(n_jobs=-1)\n",
    "n_neighbor_values =  2**np.linspace(1, 8, 8, dtype=np.int32)\n",
    "param_grid = {\"n_neighbors\": n_neighbor_values}\n",
    "\n",
    "gridcv = sklearn.model_selection.GridSearchCV(knn_model, param_grid, verbose=0, cv=5)\n",
    "gridcv.fit(X_train, y_train)\n",
    "knn_best_estimator = gridcv.best_estimator_\n",
    "knn_best_estimator_score = gridcv.best_score_\n",
    "\n",
    "end_time = time.time()\n",
    "print('Time: ', (end_time-start_time), ' seconds')\n",
    "best_estimator_info[7]['knn'] = gridcv"
   ]
  },
  {
   "cell_type": "code",
   "execution_count": 300,
   "metadata": {},
   "outputs": [
    {
     "name": "stdout",
     "output_type": "stream",
     "text": [
      "KNeighborsClassifier(n_jobs=-1, n_neighbors=8)\n",
      "Elapsed time:            2.3493 sec\n",
      "Training accuracy score: 79.5250%\n",
      "Test accuracy score:     76.8000%\n",
      "ROC AUC score:           56.5557%\n"
     ]
    },
    {
     "data": {
      "image/png": "[encoded data removed]",
      "text/plain": [
       "<Figure size 432x288 with 1 Axes>"
      ]
     },
     "metadata": {
      "needs_background": "light"
     },
     "output_type": "display_data"
    }
   ],
   "source": [
    "results [0, 6, 0] = (end_time-start_time)\n",
    "results [0, 6, 1], results [0, 6, 2], results [0, 6, 3] = plotModel (knn_best_estimator, (end_time-start_time), X_train, y_train, X_test, y_test)"
   ]
  },
  {
   "cell_type": "code",
   "execution_count": null,
   "metadata": {},
   "outputs": [],
   "source": []
  },
  {
   "cell_type": "markdown",
   "metadata": {},
   "source": [
    "# 8. Yeast Dataset"
   ]
  },
  {
   "cell_type": "markdown",
   "metadata": {},
   "source": [
    "## 8.1. Data Loading"
   ]
  },
  {
   "cell_type": "code",
   "execution_count": 301,
   "metadata": {},
   "outputs": [
    {
     "name": "stdout",
     "output_type": "stream",
     "text": [
      "[0.58 0.61 0.47 0.13 0.5  0.   0.48 0.22] 1\n",
      "(1187, 8) (297, 8)\n"
     ]
    }
   ],
   "source": [
    "dataset_url = os.path.join(yeast_dataset_directory, 'yeast_dataset.csv')\n",
    "\n",
    "f = open(dataset_url, \"rt\")\n",
    "lines = f.readlines()\n",
    "f.close()\n",
    "\n",
    "for index, line in enumerate(lines):\n",
    "    lines[index] = \",\".join(line.split()) + '\\n'\n",
    "f = open(dataset_url, \"wt\")\n",
    "f.writelines(lines)\n",
    "f.close()\n",
    "\n",
    "TR=pd.read_csv(dataset_url, encoding='utf8', header=None, usecols = np.arange(1, 10, 1))\n",
    "TR = TR.apply(lambda x: x.apply(lambda y: y.strip() if type(y) == type('') else y), axis=0)\n",
    "\n",
    "localization_site_mapping = {'MIT':1, 'NUC':2, 'CYT':3\n",
    "                     , 'ME1':4, 'EXC':5, 'ME2':6\n",
    "                     , 'ME3':7, 'VAC':8, 'POX':9\n",
    "                     , 'ERL':10}\n",
    "TR = TR.replace(localization_site_mapping)\n",
    "\n",
    "TR = TR.replace(to_replace='?', value=np.nan)\n",
    "TR.dropna(inplace=True)\n",
    "\n",
    "R=TR.values\n",
    "shape = R.shape\n",
    "X = R[:, :shape[1]-1].astype(np.float32)\n",
    "y = R[:, shape[1]-1].astype(np.int32)\n",
    "print(X[0], y[0])\n",
    "\n",
    "X = X[:5000]\n",
    "y = y[:5000]\n",
    "\n",
    "X_train,X_test,y_train,y_test = train_test_split(X, y, test_size=0.2, random_state=0)\n",
    "print(X_train.shape, X_test.shape)"
   ]
  },
  {
   "cell_type": "markdown",
   "metadata": {},
   "source": [
    "## 8.2. Data Analysis"
   ]
  },
  {
   "cell_type": "markdown",
   "metadata": {},
   "source": [
    "### 8.2.1. Counts"
   ]
  },
  {
   "cell_type": "code",
   "execution_count": 302,
   "metadata": {},
   "outputs": [
    {
     "name": "stdout",
     "output_type": "stream",
     "text": [
      "Input Columns Count: 8\n",
      "\n",
      "Training Data\n",
      "Number of Rows: 1187\n",
      "\n",
      "Test Data\n",
      "Number of Rows: 297\n",
      "X[0]:  [0.4  0.51 0.42 0.13 0.5  0.   0.45 0.25]\n",
      "y[0]:  7\n"
     ]
    }
   ],
   "source": [
    "# No of Attributed\n",
    "\n",
    "# columns = np.array([\"Temperature\", \"Humidity\", \"Light\", \"CO2\", \"HumidityRatio\"])\n",
    "print('Input Columns Count:', X_train.shape[1])\n",
    "# print('Input Columns:', columns)\n",
    "# print('Output Column:', \"Occupancy\")\n",
    "print()\n",
    "print('Training Data')\n",
    "print('Number of Rows:', X_train.shape[0])\n",
    "print()\n",
    "print('Test Data')\n",
    "print('Number of Rows:', X_test.shape[0])\n",
    "\n",
    "print('X[0]: ', X_train[0])\n",
    "print('y[0]: ', y_train[0])"
   ]
  },
  {
   "cell_type": "markdown",
   "metadata": {},
   "source": [
    "## 8.3. Model Evaluation"
   ]
  },
  {
   "cell_type": "markdown",
   "metadata": {},
   "source": [
    "### 8.3.1. Logistics Regression"
   ]
  },
  {
   "cell_type": "code",
   "execution_count": 303,
   "metadata": {},
   "outputs": [
    {
     "name": "stdout",
     "output_type": "stream",
     "text": [
      "Time:  15.659709692001343  seconds\n"
     ]
    }
   ],
   "source": [
    "start_time = time.time()\n",
    "\n",
    "lr_model = sklearn.linear_model.LogisticRegression(n_jobs=-1, multi_class = 'multinomial')\n",
    "max_iter_values = 2**np.linspace(1, 10, 10, dtype=np.int32)\n",
    "solver_values = ['newton-cg', 'lbfgs', 'liblinear', 'sag', 'saga']\n",
    "fit_intercept_values = [True, False]\n",
    "\n",
    "param_grid = { \"fit_intercept\":[True, False], \"solver\": solver_values, \n",
    "             \"max_iter\": max_iter_values}\n",
    "gridcv = sklearn.model_selection.GridSearchCV(lr_model, param_grid, verbose=0, cv=5)\n",
    "gridcv.fit(X_train, y_train)\n",
    "lr_best_estimator = gridcv.best_estimator_\n",
    "lr_best_estimator_score = gridcv.best_score_\n",
    "\n",
    "end_time = time.time()\n",
    "print('Time: ', (end_time-start_time), ' seconds')\n",
    "best_estimator_info[8]['lr'] = gridcv"
   ]
  },
  {
   "cell_type": "code",
   "execution_count": 304,
   "metadata": {},
   "outputs": [
    {
     "name": "stdout",
     "output_type": "stream",
     "text": [
      "LogisticRegression(max_iter=32, multi_class='multinomial', n_jobs=-1,\n",
      "                   solver='sag')\n",
      "Elapsed time:            15.6597 sec\n",
      "Training accuracy score: 55.8551%\n",
      "Test accuracy score:     56.5657%\n",
      "ROC AUC score:           69.7546%\n"
     ]
    }
   ],
   "source": [
    "results [5, 7, 0] = (end_time-start_time)\n",
    "results [5, 7, 1], results [5, 7, 2], results [5, 7, 3] = plotModel (lr_best_estimator, (end_time-start_time), X_train, y_train, X_test, y_test)"
   ]
  },
  {
   "cell_type": "markdown",
   "metadata": {},
   "source": [
    "### 8.3.2. K-Means"
   ]
  },
  {
   "cell_type": "code",
   "execution_count": 305,
   "metadata": {},
   "outputs": [
    {
     "name": "stdout",
     "output_type": "stream",
     "text": [
      "Time:  0.9674160480499268  seconds\n"
     ]
    }
   ],
   "source": [
    "start_time = time.time()\n",
    "\n",
    "knn_model = sklearn.neighbors.KNeighborsClassifier(n_jobs=-1)\n",
    "n_neighbor_values =  2**np.linspace(1, 8, 8, dtype=np.int32)\n",
    "param_grid = {\"n_neighbors\": n_neighbor_values}\n",
    "\n",
    "gridcv = sklearn.model_selection.GridSearchCV(knn_model, param_grid, verbose=0, cv=5)\n",
    "gridcv.fit(X_train, y_train)\n",
    "knn_best_estimator = gridcv.best_estimator_\n",
    "knn_best_estimator_score = gridcv.best_score_\n",
    "\n",
    "end_time = time.time()\n",
    "print('Time: ', (end_time-start_time), ' seconds')\n",
    "best_estimator_info[8]['knn'] = gridcv"
   ]
  },
  {
   "cell_type": "code",
   "execution_count": 306,
   "metadata": {},
   "outputs": [
    {
     "name": "stdout",
     "output_type": "stream",
     "text": [
      "KNeighborsClassifier(n_jobs=-1, n_neighbors=16)\n",
      "Elapsed time:            0.9674 sec\n",
      "Training accuracy score: 62.3420%\n",
      "Test accuracy score:     58.5859%\n",
      "ROC AUC score:           72.2361%\n"
     ]
    }
   ],
   "source": [
    "results [0, 7, 0] = (end_time-start_time)\n",
    "results [0, 7, 1], results [0, 7, 2], results [0, 7, 3] = plotModel (knn_best_estimator, (end_time-start_time), X_train, y_train, X_test, y_test)"
   ]
  },
  {
   "cell_type": "code",
   "execution_count": 307,
   "metadata": {},
   "outputs": [
    {
     "data": {
      "text/plain": [
       "<sklearn.metrics._plot.confusion_matrix.ConfusionMatrixDisplay at 0x2348686a4f0>"
      ]
     },
     "execution_count": 307,
     "metadata": {},
     "output_type": "execute_result"
    },
    {
     "data": {
      "image/png": "[encoded data removed]",
      "text/plain": [
       "<Figure size 432x288 with 2 Axes>"
      ]
     },
     "metadata": {
      "needs_background": "light"
     },
     "output_type": "display_data"
    }
   ],
   "source": [
    "sklearn.metrics.plot_confusion_matrix(lr_best_estimator, X_test, y_test)"
   ]
  },
  {
   "cell_type": "markdown",
   "metadata": {},
   "source": [
    "# Reporting"
   ]
  },
  {
   "cell_type": "code",
   "execution_count": 312,
   "metadata": {},
   "outputs": [
    {
     "name": "stdout",
     "output_type": "stream",
     "text": [
      "Elapsed Time\n",
      "                       K-nearest neighbours  Logistic regression   \n",
      "Occupancy                  1.56         643.23        \n",
      "Bank Marketing             2.10          14.33        \n",
      "Activity Recognition       1.61         107.78        \n",
      "Bitcoin Ransomware         1.75          19.85        \n",
      "Montreal Crime             1.78          70.38        \n",
      "Credit Card                2.48          72.59        \n",
      "Census Income              2.35        5675.06        \n",
      "Yeast                      0.97          15.66        \n",
      " \n",
      "Training Accuracy Score\n",
      "                       K-nearest neighbours  Logistic regression   \n",
      "Occupancy                 98.45          97.62        \n",
      "Bank Marketing            97.05          97.05        \n",
      "Activity Recognition      96.75          90.18        \n",
      "Bitcoin Ransomware        95.85          95.90        \n",
      "Montreal Crime            43.60          33.27        \n",
      "Credit Card               77.62          79.45        \n",
      "Census Income             79.53          83.38        \n",
      "Yeast                     62.34          55.86        \n",
      " \n",
      "Testing Accuracy score\n",
      "                       K-nearest neighbours  Logistic regression   \n",
      "Occupancy                 98.70          98.70        \n",
      "Bank Marketing            97.30          97.30        \n",
      "Activity Recognition      93.60          88.90        \n",
      "Bitcoin Ransomware        95.60          95.60        \n",
      "Montreal Crime            37.80          32.60        \n",
      "Credit Card               79.10          81.10        \n",
      "Census Income             76.80          82.40        \n",
      "Yeast                     58.59          56.57        \n",
      " \n",
      "ROC AUC score\n",
      "                       K-nearest neighbours  Logistic regression   \n",
      "Occupancy                 98.86          98.86        \n",
      "Bank Marketing            50.00          50.00        \n",
      "Activity Recognition      95.65          93.08        \n",
      "Bitcoin Ransomware        50.00          50.00        \n",
      "Montreal Crime            56.49          51.19        \n",
      "Credit Card               50.00          59.01        \n",
      "Census Income             56.56          72.34        \n",
      "Yeast                     72.24          69.75        \n",
      " \n"
     ]
    }
   ],
   "source": [
    "model_indexes = [0, 5]\n",
    "for i in range(4):\n",
    "    print (stats_labels[i])\n",
    "    print (\"                       \", end='')\n",
    "    for j in model_indexes:\n",
    "        print (methods[j]+\"  \", end='')\n",
    "    print (\" \")\n",
    "    for k in range(8):\n",
    "        print ('{:22s}'.format(datasets[k])+\" \", end='')\n",
    "        for j in model_indexes:\n",
    "            print (\"{:8.2f}\".format(results[j, k, i])+'       ', end='')\n",
    "        print (\" \")\n",
    "    print (\" \")"
   ]
  },
  {
   "cell_type": "code",
   "execution_count": null,
   "metadata": {},
   "outputs": [],
   "source": []
  }
 ],
 "metadata": {
  "kernelspec": {
   "display_name": "Python 3",
   "language": "python",
   "name": "python3"
  },
  "language_info": {
   "codemirror_mode": {
    "name": "ipython",
    "version": 3
   },
   "file_extension": ".py",
   "mimetype": "text/x-python",
   "name": "python",
   "nbconvert_exporter": "python",
   "pygments_lexer": "ipython3",
   "version": "3.8.3"
  }
 },
 "nbformat": 4,
 "nbformat_minor": 4
}
