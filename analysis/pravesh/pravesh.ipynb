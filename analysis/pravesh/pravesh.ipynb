{
 "cells": [
  {
   "cell_type": "markdown",
   "metadata": {},
   "source": [
    "# Dataset Directories Initialization"
   ]
  },
  {
   "cell_type": "code",
   "execution_count": 2,
   "metadata": {},
   "outputs": [],
   "source": [
    "import os.path\n",
    "import numpy as np\n",
    "import matplotlib\n",
    "import matplotlib.pyplot as plt\n",
    "import sklearn\n",
    "import sklearn.tree\n",
    "import sklearn.ensemble\n",
    "import sklearn.datasets\n",
    "import sklearn.metrics\n",
    "import pandas as pd\n",
    "from sklearn.model_selection import train_test_split\n",
    "import glob\n",
    "\n",
    "import warnings\n",
    "warnings.filterwarnings(\"ignore\")  # Ignore sklearn deprecation warnings\n",
    "warnings.filterwarnings(\"ignore\", category=FutureWarning)       # Ignore sklearn deprecation warnings"
   ]
  },
  {
   "cell_type": "code",
   "execution_count": 3,
   "metadata": {},
   "outputs": [
    {
     "name": "stdout",
     "output_type": "stream",
     "text": [
      "['1_occupancy', '2_healthy_older_people', '3_bitcoin_heist_ransonware_address', '4_bank_additional', 'urls.txt']\n",
      "D:\\pravesh\\Concordia\\2020-Fall\\COMP-6321_ML\\project\\COMP-6321-ML\\datasets\\1_occupancy D:\\pravesh\\Concordia\\2020-Fall\\COMP-6321_ML\\project\\COMP-6321-ML\\datasets\\2_healthy_older_people D:\\pravesh\\Concordia\\2020-Fall\\COMP-6321_ML\\project\\COMP-6321-ML\\datasets\\3_bitcoin_heist_ransonware_address D:\\pravesh\\Concordia\\2020-Fall\\COMP-6321_ML\\project\\COMP-6321-ML\\datasets\\4_bank_additional\n"
     ]
    }
   ],
   "source": [
    "current_directory = os.path.dirname(os.getcwd())\n",
    "project_directory = os.path.split(current_directory)[0]\n",
    "dataset_directory = os.path.join(project_directory, 'datasets')\n",
    "\n",
    "occupancy_dataset_directory = os.path.join(dataset_directory, '1_occupancy')\n",
    "healthy_older_people_dataset_directory = os.path.join(dataset_directory, '2_healthy_older_people')\n",
    "bitcoin_heist_ransonware_address_dataset_directory = os.path.join(dataset_directory, '3_bitcoin_heist_ransonware_address')\n",
    "bank_additional_dataset_directory = os.path.join(dataset_directory, '4_bank_additional')\n",
    "\n",
    "print(os.listdir(dataset_directory))\n",
    "print(occupancy_dataset_directory\n",
    "      , healthy_older_people_dataset_directory\n",
    "      , bitcoin_heist_ransonware_address_dataset_directory\n",
    "      , bank_additional_dataset_directory)"
   ]
  },
  {
   "cell_type": "markdown",
   "metadata": {},
   "source": [
    "<div style=\"border-bottom: 3px solid black; margin-bottom:5px\"></div>\n",
    "<div style=\"border-bottom: 3px solid black\"></div>"
   ]
  },
  {
   "cell_type": "markdown",
   "metadata": {},
   "source": [
    "# 1. Occupancy Dataset"
   ]
  },
  {
   "cell_type": "markdown",
   "metadata": {},
   "source": [
    "## 1.1. Data Loading"
   ]
  },
  {
   "cell_type": "code",
   "execution_count": 4,
   "metadata": {},
   "outputs": [
    {
     "name": "stdout",
     "output_type": "stream",
     "text": [
      "(8143, 5) (8143,)\n",
      "(2665, 5) (2665,)\n"
     ]
    }
   ],
   "source": [
    "training_dataset_url = os.path.join(occupancy_dataset_directory, 'occupancy_data', 'datatraining.txt')\n",
    "test_dataset_url = os.path.join(occupancy_dataset_directory, 'occupancy_data', 'datatest.txt')\n",
    "\n",
    "training_data_file = np.loadtxt(training_dataset_url, delimiter=',', skiprows=1, usecols = (2,3,4,5,6,7))\n",
    "X_train=training_data_file[:, 0:5]\n",
    "y_train=training_data_file[:, 5].astype(np.int32)\n",
    "print(X_train.shape, y_train.shape)\n",
    "\n",
    "test_data_file = np.loadtxt(test_dataset_url, delimiter=',', skiprows=1, usecols = (2,3,4,5,6,7))\n",
    "X_test=test_data_file[:, 0:5]\n",
    "y_test=test_data_file[:, 5].astype(np.int32)\n",
    "print(X_test.shape, y_test.shape)"
   ]
  },
  {
   "cell_type": "markdown",
   "metadata": {},
   "source": [
    "## 1.2. Data Analysis & Cleaning"
   ]
  },
  {
   "cell_type": "markdown",
   "metadata": {},
   "source": [
    "### 1.2.1. Statistics"
   ]
  },
  {
   "cell_type": "code",
   "execution_count": 5,
   "metadata": {},
   "outputs": [
    {
     "name": "stdout",
     "output_type": "stream",
     "text": [
      "Input Columns Count: 5\n",
      "Input Columns: ['Temperature' 'Humidity' 'Light' 'CO2' 'HumidityRatio']\n",
      "Output Column: Occupancy\n",
      "\n",
      "Training Data\n",
      "Number of Rows: 8143\n",
      "\n",
      "Test Data\n",
      "Number of Rows: 2665\n"
     ]
    }
   ],
   "source": [
    "# No of Attributed\n",
    "\n",
    "columns = np.array([\"Temperature\", \"Humidity\", \"Light\", \"CO2\", \"HumidityRatio\"])\n",
    "print('Input Columns Count:', X_train.shape[1])\n",
    "print('Input Columns:', columns)\n",
    "print('Output Column:', \"Occupancy\")\n",
    "print()\n",
    "print('Training Data')\n",
    "print('Number of Rows:', X_train.shape[0])\n",
    "print()\n",
    "print('Test Data')\n",
    "print('Number of Rows:', X_test.shape[0])"
   ]
  },
  {
   "cell_type": "code",
   "execution_count": 6,
   "metadata": {},
   "outputs": [
    {
     "name": "stdout",
     "output_type": "stream",
     "text": [
      "Temperature : mean= 1.0168539980465523 , std= 20.61908364034621 max= 23.18 min= 19.0 , ptp= 4.18\n",
      "Humidity : mean= 5.530871359349676 , std= 25.731507286422527 max= 39.1175 min= 16.745 , ptp= 22.3725\n",
      "Light : mean= 194.743845951489 , std= 119.51937451389756 max= 1546.33333333333 min= 0.0 , ptp= 1546.33333333333\n",
      "CO2 : mean= 314.3015762223732 , std= 606.5462431945632 max= 2028.5 min= 412.75 , ptp= 1615.75\n",
      "HumidityRatio : mean= 0.0008522789623220694 , std= 0.0038625066783203907 max= 0.00647601323671025 min= 0.00267412691390407 , ptp= 0.0038018863228061798\n"
     ]
    }
   ],
   "source": [
    "stats = np.vstack((X_train.std(axis=0), X_train.mean(axis=0), X_train.min(axis=0), X_train.max(axis=0)))\n",
    "    \n",
    "for i in range(5):\n",
    "    print(columns[i], ': mean=', stats[0][i], ', std=', stats[1][i]\n",
    "          , 'max=', stats[3][i], 'min=', stats[2][i]\n",
    "          , ', ptp=', np.ptp(X_train[:, i]))\n"
   ]
  },
  {
   "cell_type": "markdown",
   "metadata": {},
   "source": [
    "### 1.2.2. Feature Value Densities"
   ]
  },
  {
   "cell_type": "code",
   "execution_count": 159,
   "metadata": {},
   "outputs": [
    {
     "data": {
      "text/plain": [
       "Text(0.5, 1.0, 'HumidityRatio[4]')"
      ]
     },
     "execution_count": 159,
     "metadata": {},
     "output_type": "execute_result"
    },
    {
     "data": {
      "image/png": "[encoded data removed]",
      "text/plain": [
       "<Figure size 1152x576 with 5 Axes>"
      ]
     },
     "metadata": {
      "needs_background": "light"
     },
     "output_type": "display_data"
    }
   ],
   "source": [
    "\n",
    "fig = plt.figure(figsize=(16, 8)) \n",
    "fig.suptitle('Column Histograms')\n",
    "\n",
    "ax = fig.add_subplot(2, 3, 1) \n",
    "ax.hist(X_train[:, 0], bins=10)\n",
    "ax.set_title('Temperature[0]')\n",
    "\n",
    "ax = fig.add_subplot(2, 3, 2) \n",
    "ax.hist(X_train[:, 1], bins=10)\n",
    "ax.set_title('Humidity[1]')\n",
    "\n",
    "ax = fig.add_subplot(2, 3, 3) \n",
    "ax.hist(X_train[:, 2], bins=10)\n",
    "ax.set_title('Light[2]')\n",
    "\n",
    "ax = fig.add_subplot(2, 3, 4) \n",
    "ax.hist(X_train[:, 3], bins=10)\n",
    "ax.set_title('CO2[3]')\n",
    "\n",
    "ax = fig.add_subplot(2, 3, 5) \n",
    "ax.hist(X_train[:, 4], bins=10)\n",
    "ax.set_title('HumidityRatio[4]')"
   ]
  },
  {
   "cell_type": "markdown",
   "metadata": {},
   "source": [
    "### 1.2.3. Checking Outliners"
   ]
  },
  {
   "cell_type": "code",
   "execution_count": 160,
   "metadata": {},
   "outputs": [
    {
     "data": {
      "text/plain": [
       "Text(0.5, 1.0, 'HumidityRatio[4]')"
      ]
     },
     "execution_count": 160,
     "metadata": {},
     "output_type": "execute_result"
    },
    {
     "data": {
      "image/png": "[encoded data removed]",
      "text/plain": [
       "<Figure size 1152x576 with 5 Axes>"
      ]
     },
     "metadata": {
      "needs_background": "light"
     },
     "output_type": "display_data"
    }
   ],
   "source": [
    "fig = plt.figure(figsize=(16, 8))\n",
    "fig.suptitle('Column Box Plots')\n",
    "\n",
    "ax = fig.add_subplot(2, 3, 1) \n",
    "ax.boxplot(X_train[:, 0])\n",
    "ax.set_title('Temperature[0]')\n",
    "\n",
    "ax = fig.add_subplot(2, 3, 2) \n",
    "ax.boxplot(X_train[:, 1])\n",
    "ax.set_title('Humidity[1]')\n",
    "\n",
    "ax = fig.add_subplot(2, 3, 3) \n",
    "ax.boxplot(X_train[:, 2])\n",
    "ax.set_title('Light[2]')\n",
    "\n",
    "ax = fig.add_subplot(2, 3, 4) \n",
    "ax.boxplot(X_train[:, 3])\n",
    "ax.set_title('CO2[3]')\n",
    "\n",
    "ax = fig.add_subplot(2, 3, 5) \n",
    "ax.boxplot(X_train[:, 4])\n",
    "ax.set_title('HumidityRatio[4]')"
   ]
  },
  {
   "cell_type": "markdown",
   "metadata": {},
   "source": [
    "## 1.3. Model Evaluation"
   ]
  },
  {
   "cell_type": "markdown",
   "metadata": {},
   "source": [
    "### 1.3.1. Logistic Regression"
   ]
  },
  {
   "cell_type": "markdown",
   "metadata": {},
   "source": [
    " #### 1.3.1.1. Without Feature Scaling"
   ]
  },
  {
   "cell_type": "code",
   "execution_count": 102,
   "metadata": {},
   "outputs": [
    {
     "name": "stdout",
     "output_type": "stream",
     "text": [
      "98.60002456097261\n",
      "97.6360225140713\n"
     ]
    }
   ],
   "source": [
    "lr_model_1 = sklearn.linear_model.LogisticRegression(random_state=0)\n",
    "lr_model_1.fit(X_train, y_train);\n",
    "z_train_1 = lr_model_1.predict(X_train)\n",
    "z_test_1 = lr_model_1.predict(X_test)\n",
    "print(sklearn.metrics.accuracy_score(y_train, z_train_1)*100)\n",
    "print(sklearn.metrics.accuracy_score(y_test, z_test_1)*100)"
   ]
  },
  {
   "cell_type": "markdown",
   "metadata": {},
   "source": [
    "#### 1.3.1.2. With Standardization"
   ]
  },
  {
   "cell_type": "code",
   "execution_count": 103,
   "metadata": {},
   "outputs": [
    {
     "name": "stdout",
     "output_type": "stream",
     "text": [
      "98.60002456097261\n",
      "97.71106941838649\n"
     ]
    }
   ],
   "source": [
    "scaler = sklearn.preprocessing.StandardScaler().fit(X_train)\n",
    "X_train_2 = scaler.transform(X_train)\n",
    "X_test_2 = scaler.transform(X_test)\n",
    "\n",
    "lr_model_2 = sklearn.linear_model.LogisticRegression(random_state=0)\n",
    "lr_model_2.fit(X_train_2, y_train);\n",
    "z_train_2 = lr_model_2.predict(X_train_2)\n",
    "z_test_2 = lr_model_2.predict(X_test_2)\n",
    "print(sklearn.metrics.accuracy_score(y_train, z_train_2)*100)\n",
    "print(sklearn.metrics.accuracy_score(y_test, z_test_2)*100)"
   ]
  },
  {
   "cell_type": "markdown",
   "metadata": {},
   "source": [
    "#### 1.3.1.3. With Normalization"
   ]
  },
  {
   "cell_type": "code",
   "execution_count": 104,
   "metadata": {},
   "outputs": [
    {
     "name": "stdout",
     "output_type": "stream",
     "text": [
      "98.82107331450325\n",
      "97.82363977485929\n"
     ]
    }
   ],
   "source": [
    "scaler = sklearn.preprocessing.MaxAbsScaler().fit(X_train)\n",
    "X_train_2 = scaler.transform(X_train)\n",
    "X_test_2 = scaler.transform(X_test)\n",
    "\n",
    "lr_model_2 = sklearn.linear_model.LogisticRegression(random_state=0)\n",
    "lr_model_2.fit(X_train_2, y_train);\n",
    "z_train_2 = lr_model_2.predict(X_train_2)\n",
    "z_test_2 = lr_model_2.predict(X_test_2)\n",
    "print(sklearn.metrics.accuracy_score(y_train, z_train_2)*100)\n",
    "print(sklearn.metrics.accuracy_score(y_test, z_test_2)*100)"
   ]
  },
  {
   "cell_type": "code",
   "execution_count": 7,
   "metadata": {},
   "outputs": [],
   "source": [
    "lr_model = sklearn.linear_model.LogisticRegression(n_jobs=-1)\n",
    "max_iter_values = 2**np.linspace(1, 8, 8, dtype=np.int32)\n",
    "solver_values = ['newton-cg', 'lbfgs', 'liblinear', 'sag', 'saga']\n",
    "fit_intercept_values = [True, False]\n",
    "\n",
    "param_grid = { \"fit_intercept\":[True, False], \"solver\": solver_values, \n",
    "             \"max_iter\": max_iter_values}\n",
    "\n",
    "gridcv = sklearn.model_selection.GridSearchCV(lr_model, param_grid, verbose=0, cv=5)\n",
    "gridcv.fit(X_train, y_train)\n",
    "lr_best_estimator = gridcv.best_estimator_\n",
    "lr_best_estimator_score = gridcv.best_score_"
   ]
  },
  {
   "cell_type": "code",
   "execution_count": 8,
   "metadata": {},
   "outputs": [
    {
     "name": "stdout",
     "output_type": "stream",
     "text": [
      "Best Estimator:  LogisticRegression(max_iter=16, n_jobs=-1, solver='liblinear') =>\n",
      "Params:  LogisticRegression(max_iter=16, n_jobs=-1, solver='liblinear')\n",
      "Training Accuracy Score:  98.6247422711511\n",
      "Test Accuracy Score:  97.82363977485929\n",
      "ROC AUC score:  98.22134351323167\n"
     ]
    }
   ],
   "source": [
    "print('Best Estimator: ', lr_best_estimator, '=>')\n",
    "print('Params: ', lr_best_estimator)\n",
    "print('Training Accuracy Score: ', lr_best_estimator_score*100)\n",
    "y_pred = lr_best_estimator.predict(X_test)\n",
    "print('Test Accuracy Score: ', sklearn.metrics.accuracy_score(y_test, y_pred)*100)\n",
    "print('ROC AUC score: ', sklearn.metrics.roc_auc_score(y_test, y_pred)*100)"
   ]
  },
  {
   "cell_type": "markdown",
   "metadata": {},
   "source": [
    "### 1.3.2. K-Means"
   ]
  },
  {
   "cell_type": "code",
   "execution_count": 13,
   "metadata": {},
   "outputs": [
    {
     "name": "stderr",
     "output_type": "stream",
     "text": [
      "UsageError: Line magic function `%%time` not found.\n"
     ]
    }
   ],
   "source": [
    "#k-Nearest neighbours classification\n",
    "%%time\n",
    "knn_model = sklearn.neighbors.KNeighborsClassifier(n_jobs=-1)\n",
    "n_neighbor_values =  2**np.linspace(1, 8, 8, dtype=np.int32)\n",
    "param_grid = {\"n_neighbors\": n_neighbor_values}\n",
    "\n",
    "gridcv = sklearn.model_selection.GridSearchCV(knn_model, param_grid, verbose=0, cv=5)\n",
    "gridcv.fit(X_train, y_train)\n",
    "knn_best_estimator = gridcv.best_estimator_\n",
    "knn_best_estimator_score = gridcv.best_score_\n",
    "print(time)"
   ]
  },
  {
   "cell_type": "code",
   "execution_count": 172,
   "metadata": {},
   "outputs": [
    {
     "name": "stdout",
     "output_type": "stream",
     "text": [
      "Best Estimator:  KNeighborsClassifier(n_jobs=-1, n_neighbors=32) =>\n",
      "Params:  {'n_neighbors': 32}\n",
      "Training Accuracy Score:  97.20034449316218\n",
      "Test Accuracy Score:  97.82363977485929\n",
      "ROC AUC score:  98.24325046973861\n"
     ]
    }
   ],
   "source": [
    "print('Best Estimator: ', knn_best_estimator, '=>')\n",
    "print('Params: ', knn_best_estimator)\n",
    "print('Training Accuracy Score: ', knn_best_estimator_score*100)\n",
    "y_pred = knn_best_estimator.predict(X_test)\n",
    "print('Test Accuracy Score: ', sklearn.metrics.accuracy_score(y_test, y_pred)*100)\n",
    "print('ROC AUC score: ', sklearn.metrics.roc_auc_score(y_test, y_pred)*100)"
   ]
  },
  {
   "cell_type": "markdown",
   "metadata": {},
   "source": [
    "# 2. Bank Marketting Dataset"
   ]
  },
  {
   "cell_type": "markdown",
   "metadata": {},
   "source": [
    "## 2.1. Data Loading"
   ]
  },
  {
   "cell_type": "code",
   "execution_count": 173,
   "metadata": {},
   "outputs": [
    {
     "name": "stdout",
     "output_type": "stream",
     "text": [
      "D:\\pravesh\\Concordia\\2020-Fall\\COMP-6321_ML\\project\\COMP-6321-ML\\datasets\\4_bank_additional\\bank-additional\\bank-additional\\bank-additional-full.csv D:\\pravesh\\Concordia\\2020-Fall\\COMP-6321_ML\\project\\COMP-6321-ML\\datasets\\4_bank_additional\\bank-additional\\bank-additional\\bank-additional.csv\n"
     ]
    }
   ],
   "source": [
    "training_dataset_url = os.path.join(bank_additional_dataset_directory, 'bank-additional', 'bank-additional', 'bank-additional-full.csv')\n",
    "test_dataset_url = os.path.join(bank_additional_dataset_directory, 'bank-additional', 'bank-additional', 'bank-additional.csv')\n",
    "print(training_dataset_url, test_dataset_url)\n",
    "\n",
    "\n",
    "# Loading code\n",
    "job_mapping = {'admin.':1, 'blue-collar':2, 'entrepreneur':3\n",
    "               , 'housemaid':4, 'management':5, 'retired':6\n",
    "               , 'self-employed':7, 'services':8, 'student':9\n",
    "               , 'technician':10, 'unemployed':11, 'unknown':0}\n",
    "boolean_mapping ={'no': 0, 'yes': 1}\n",
    "marital_mapping ={'divorced':1, 'married':2, 'single':3}\n",
    "education_mapping={'basic.4y':1, 'basic.6y':2, 'basic.9y':3\n",
    "                   , 'high.school':4, 'illiterate':5, 'professional.course':6\n",
    "                   , 'university.degree':7}\n",
    "contact_mapping={'cellular':1, 'telephone':2}\n",
    "month_mapping={'may':5, 'jun':6, 'nov':11\n",
    "               , 'sep':9, 'jul':7, 'aug':8\n",
    "               , 'mar':3, 'oct':10, 'apr':4\n",
    "               , 'dec':12}\n",
    "day_mapping={'fri':5, 'wed':3, 'mon':1, 'thu':4, 'tue':2}\n",
    "poutcome_mapping={'nonexistent':1, 'failure':2, 'success':3}\n",
    "R=pd.read_csv(training_dataset_url, delimiter=';').replace(boolean_mapping).replace(job_mapping).replace(marital_mapping).replace(education_mapping).replace(contact_mapping).replace(month_mapping).replace(day_mapping).replace(poutcome_mapping).values\n",
    "X_train=R[:, [0,1,2,3,4,5,6,7,8,9,11,12,13,14,15,16,17,18,19]]\n",
    "y_train=R[:, 20].astype(np.int32)\n",
    "T=pd.read_csv(test_dataset_url, delimiter=';').replace(boolean_mapping).replace(job_mapping).replace(marital_mapping).replace(education_mapping).replace(contact_mapping).replace(month_mapping).replace(day_mapping).replace(poutcome_mapping).values\n",
    "X_test=T[:, [0,1,2,3,4,5,6,7,8,9,11,12,13,14,15,16,17,18,19]]\n",
    "y_test=T[:, 20].astype(np.int32)"
   ]
  },
  {
   "cell_type": "markdown",
   "metadata": {},
   "source": [
    "## 2.2. Data Analysis"
   ]
  },
  {
   "cell_type": "markdown",
   "metadata": {},
   "source": [
    "### 2.2.1. Counts"
   ]
  },
  {
   "cell_type": "code",
   "execution_count": 174,
   "metadata": {},
   "outputs": [
    {
     "name": "stdout",
     "output_type": "stream",
     "text": [
      "Input Columns Count: 19\n",
      "\n",
      "Training Data\n",
      "Number of Rows: 41188\n",
      "\n",
      "Test Data\n",
      "Number of Rows: 4119\n",
      "X[0]:  [ 5.6000e+01  4.0000e+00  2.0000e+00  1.0000e+00  0.0000e+00  0.0000e+00\n",
      "  0.0000e+00  2.0000e+00  5.0000e+00  1.0000e+00  1.0000e+00  9.9900e+02\n",
      "  0.0000e+00  1.0000e+00  1.1000e+00  9.3994e+01 -3.6400e+01  4.8570e+00\n",
      "  5.1910e+03]\n",
      "y[0]:  0\n"
     ]
    }
   ],
   "source": [
    "# No of Attributed\n",
    "\n",
    "# columns = np.array([\"Temperature\", \"Humidity\", \"Light\", \"CO2\", \"HumidityRatio\"])\n",
    "print('Input Columns Count:', X_train.shape[1])\n",
    "# print('Input Columns:', columns)\n",
    "# print('Output Column:', \"Occupancy\")\n",
    "print()\n",
    "print('Training Data')\n",
    "print('Number of Rows:', X_train.shape[0])\n",
    "print()\n",
    "print('Test Data')\n",
    "print('Number of Rows:', X_test.shape[0])\n",
    "\n",
    "print('X[0]: ', X_train[0])\n",
    "print('y[0]: ', y_train[0])"
   ]
  },
  {
   "cell_type": "markdown",
   "metadata": {},
   "source": [
    "## 2.3. Model Evaluation"
   ]
  },
  {
   "cell_type": "markdown",
   "metadata": {},
   "source": [
    "### 2.3.1. Logistic Regression"
   ]
  },
  {
   "cell_type": "code",
   "execution_count": 109,
   "metadata": {},
   "outputs": [
    {
     "name": "stdout",
     "output_type": "stream",
     "text": [
      "Best Estimator:  LogisticRegression(max_iter=2, n_jobs=-1, solver='saga') =>\n",
      "Params:  {'fit_intercept': True, 'max_iter': 2, 'solver': 'saga'}\n",
      "Training Accuracy Score:  89.75189844272036\n",
      "Test Accuracy Score:  90.02184996358339\n",
      "ROC AUC score:  60.26859009543798\n"
     ]
    }
   ],
   "source": [
    "lr_model = sklearn.linear_model.LogisticRegression(n_jobs=-1)\n",
    "max_iter_values = 2**np.linspace(1, 8, 8, dtype=np.int32)\n",
    "solver_values = ['newton-cg', 'lbfgs', 'liblinear', 'sag', 'saga']\n",
    "fit_intercept_values = [True, False]\n",
    "\n",
    "param_grid = { \"fit_intercept\":[True, False], \"solver\": solver_values, \n",
    "             \"max_iter\": max_iter_values}\n",
    "\n",
    "gridcv = sklearn.model_selection.GridSearchCV(lr_model, param_grid, verbose=0, cv=5)\n",
    "gridcv.fit(X_train, y_train)\n",
    "\n",
    "print('Best Estimator: ', gridcv.best_estimator_, '=>')\n",
    "print('Params: ', gridcv.best_params_)\n",
    "print('Training Accuracy Score: ', gridcv.best_score_*100)\n",
    "y_pred = gridcv.best_estimator_.predict(X_test)\n",
    "print('Test Accuracy Score: ', sklearn.metrics.accuracy_score(y_test, y_pred)*100)\n",
    "print('ROC AUC score: ', sklearn.metrics.roc_auc_score(y_test, y_pred)*100)"
   ]
  },
  {
   "cell_type": "markdown",
   "metadata": {},
   "source": [
    "### 2.3.2. K-Means"
   ]
  },
  {
   "cell_type": "code",
   "execution_count": null,
   "metadata": {},
   "outputs": [],
   "source": [
    "#k-Nearest neighbours classification\n",
    "%time\n",
    "# knn_model = sklearn.neighbors.KNeighborsClassifier(n_jobs=-1)\n",
    "# n_neighbor_values =  2**np.linspace(1, 8, 8, dtype=np.int32)\n",
    "# param_grid = {\"n_neighbors\": n_neighbor_values}\n",
    "\n",
    "# gridcv = sklearn.model_selection.GridSearchCV(knn_model, param_grid, verbose=0, cv=5)\n",
    "# gridcv.fit(X_train, y_train)\n",
    "# knn_best_estimator = gridcv.best_estimator_\n",
    "for i in range(100000000000000):\n",
    "    ;\n",
    "%time"
   ]
  },
  {
   "cell_type": "code",
   "execution_count": 172,
   "metadata": {},
   "outputs": [
    {
     "name": "stdout",
     "output_type": "stream",
     "text": [
      "Best Estimator:  KNeighborsClassifier(n_jobs=-1, n_neighbors=32) =>\n",
      "Params:  {'n_neighbors': 32}\n",
      "Training Accuracy Score:  97.20034449316218\n",
      "Test Accuracy Score:  97.82363977485929\n",
      "ROC AUC score:  98.24325046973861\n"
     ]
    }
   ],
   "source": [
    "print('Best Estimator: ', gridcv.best_estimator_, '=>')\n",
    "print('Params: ', gridcv.best_params_)\n",
    "print('Training Accuracy Score: ', gridcv.best_score_*100)\n",
    "y_pred = gridcv.best_estimator_.predict(X_test)\n",
    "print('Test Accuracy Score: ', sklearn.metrics.accuracy_score(y_test, y_pred)*100)\n",
    "print('ROC AUC score: ', sklearn.metrics.roc_auc_score(y_test, y_pred)*100)"
   ]
  },
  {
   "cell_type": "markdown",
   "metadata": {},
   "source": [
    "# 3. Activity Recognition Dataset"
   ]
  },
  {
   "cell_type": "markdown",
   "metadata": {},
   "source": [
    "## 3.1. Data Loading"
   ]
  },
  {
   "cell_type": "code",
   "execution_count": 141,
   "metadata": {},
   "outputs": [
    {
     "name": "stdout",
     "output_type": "stream",
     "text": [
      "(60102, 7) (15026, 7)\n"
     ]
    }
   ],
   "source": [
    "files = glob.glob(os.path.join(healthy_older_people_dataset_directory, 'Datasets_Healthy_Older_People', 'datasets', \"S1_Dataset\", \"d*\"))\n",
    "Rs = [pd.read_csv(f, header=None) for f in files]\n",
    "R=pd.concat(Rs,ignore_index=True).values\n",
    "X1=R[:, 1:8]\n",
    "y1=R[:, 8].astype(np.int32)\n",
    "\n",
    "files = glob.glob(os.path.join(healthy_older_people_dataset_directory, 'Datasets_Healthy_Older_People', 'datasets', \"S2_Dataset\", \"d*\"))\n",
    "Ts = [pd.read_csv(f, header=None) for f in files]\n",
    "T=pd.concat(Ts,ignore_index=True).values\n",
    "X2=T[:, 1:8]\n",
    "y2=T[:, 8].astype(np.int32)\n",
    "\n",
    "X = np.concatenate((X1, X2))\n",
    "y = np.concatenate((y1, y2))\n",
    "\n",
    "X_train,X_test,y_train,y_test = train_test_split(X,y,test_size=0.2)\n",
    "print(X_train.shape, X_test.shape)"
   ]
  },
  {
   "cell_type": "markdown",
   "metadata": {},
   "source": [
    "## 3.2. Data Analysis"
   ]
  },
  {
   "cell_type": "markdown",
   "metadata": {},
   "source": [
    "### 3.2.1. Counts"
   ]
  },
  {
   "cell_type": "code",
   "execution_count": 131,
   "metadata": {},
   "outputs": [
    {
     "name": "stdout",
     "output_type": "stream",
     "text": [
      "Input Columns Count: 7\n",
      "\n",
      "Training Data\n",
      "Number of Rows: 60102\n",
      "\n",
      "Test Data\n",
      "Number of Rows: 15026\n",
      "X[0]:  [ 6.4724e-01  1.4698e-01 -8.6891e-01  2.0000e+00 -5.0000e+01  1.2763e+00\n",
      "  9.2275e+02]\n",
      "y[0]:  3\n"
     ]
    }
   ],
   "source": [
    "# No of Attributed\n",
    "\n",
    "# columns = np.array([\"Temperature\", \"Humidity\", \"Light\", \"CO2\", \"HumidityRatio\"])\n",
    "print('Input Columns Count:', X_train.shape[1])\n",
    "# print('Input Columns:', columns)\n",
    "# print('Output Column:', \"Occupancy\")\n",
    "print()\n",
    "print('Training Data')\n",
    "print('Number of Rows:', X_train.shape[0])\n",
    "print()\n",
    "print('Test Data')\n",
    "print('Number of Rows:', X_test.shape[0])\n",
    "\n",
    "print('X[0]: ', X_train[0])\n",
    "print('y[0]: ', y_train[0])"
   ]
  },
  {
   "cell_type": "markdown",
   "metadata": {},
   "source": [
    "## 3.3. Model Evaluation"
   ]
  },
  {
   "cell_type": "markdown",
   "metadata": {},
   "source": [
    "### 3.3.1. Logistic Regression"
   ]
  },
  {
   "cell_type": "code",
   "execution_count": 134,
   "metadata": {},
   "outputs": [
    {
     "data": {
      "text/plain": [
       "GridSearchCV(cv=5, estimator=LogisticRegression(n_jobs=-1),\n",
       "             param_grid={'fit_intercept': [True, False],\n",
       "                         'max_iter': array([  16,   32,   64,  128,  256, 1024], dtype=int32),\n",
       "                         'solver': ['newton-cg', 'lbfgs', 'liblinear', 'sag',\n",
       "                                    'saga']})"
      ]
     },
     "execution_count": 134,
     "metadata": {},
     "output_type": "execute_result"
    }
   ],
   "source": [
    "lr_model = sklearn.linear_model.LogisticRegression(n_jobs=-1)\n",
    "max_iter_values = 2**np.linspace(1, 10, 10, dtype=np.int32)\n",
    "solver_values = ['newton-cg', 'lbfgs', 'liblinear', 'sag', 'saga']\n",
    "fit_intercept_values = [True, False]\n",
    "\n",
    "param_grid = { \"fit_intercept\":[True, False], \"solver\": solver_values, \n",
    "             \"max_iter\": max_iter_values}\n",
    "\n",
    "gridcv = sklearn.model_selection.GridSearchCV(lr_model, param_grid, verbose=0, cv=5)\n",
    "gridcv.fit(X_train, y_train)"
   ]
  },
  {
   "cell_type": "markdown",
   "metadata": {},
   "source": [
    "#### 3.3.1.1. Metrics"
   ]
  },
  {
   "cell_type": "code",
   "execution_count": 136,
   "metadata": {},
   "outputs": [
    {
     "name": "stdout",
     "output_type": "stream",
     "text": [
      "Best Estimator:  LogisticRegression(fit_intercept=False, max_iter=128, n_jobs=-1,\n",
      "                   solver='newton-cg') =>\n",
      "Params:  {'fit_intercept': False, 'max_iter': 128, 'solver': 'newton-cg'}\n",
      "Training Accuracy Score:  92.273137649712\n",
      "Test Accuracy Score:  92.84573406096101\n"
     ]
    }
   ],
   "source": [
    "print('Best Estimator: ', gridcv.best_estimator_, '=>')\n",
    "print('Params: ', gridcv.best_params_)\n",
    "print('Training Accuracy Score: ', gridcv.best_score_*100)\n",
    "y_pred = gridcv.best_estimator_.predict(X_test)\n",
    "print('Test Accuracy Score: ', sklearn.metrics.accuracy_score(y_test, y_pred)*100)\n",
    "# print('ROC AUC score: ', sklearn.metrics.roc_auc_score(y_test, y_pred)*100)"
   ]
  },
  {
   "cell_type": "markdown",
   "metadata": {},
   "source": [
    "# 4. Bitcoin Ransonware Dataset"
   ]
  },
  {
   "cell_type": "markdown",
   "metadata": {},
   "source": [
    "## 4.1. Data Loading"
   ]
  },
  {
   "cell_type": "code",
   "execution_count": 145,
   "metadata": {},
   "outputs": [
    {
     "name": "stdout",
     "output_type": "stream",
     "text": [
      "D:\\pravesh\\Concordia\\2020-Fall\\COMP-6321_ML\\project\\COMP-6321-ML\\datasets\\3_bitcoin_heist_ransonware_address\\data\\BitcoinHeistData.csv\n",
      "(80000, 8) (20000, 8)\n"
     ]
    }
   ],
   "source": [
    "training_dataset_url = os.path.join(bitcoin_heist_ransonware_address_dataset_directory, 'data', 'BitcoinHeistData.csv')\n",
    "print(training_dataset_url)\n",
    "\n",
    "\n",
    "# Loading code\n",
    "nrows=1000000\n",
    "nparts=10\n",
    "ntest=nrows//nparts\n",
    "label_mapping = {'princetonCerber':1, 'princetonLocky':1, 'montrealCryptoLocker':1,\n",
    " 'montrealCryptXXX':1, 'paduaCryptoWall':1, 'montrealWannaCry':1,\n",
    " 'montrealDMALockerv3':1, 'montrealCryptoTorLocker2015':1, 'montrealSamSam':1,\n",
    " 'montrealFlyper':1, 'montrealNoobCrypt':1, 'montrealDMALocker':1, 'montrealGlobe':1,\n",
    " 'montrealEDA2':1, 'paduaKeRanger':1, 'montrealVenusLocker':1, 'montrealXTPLocker':1,\n",
    " 'paduaJigsaw':1, 'montrealGlobev3':1, 'montrealJigSaw':1, 'montrealXLockerv5.0':1,\n",
    " 'montrealXLocker':1, 'montrealRazy':1, 'montrealCryptConsole':1,\n",
    " 'montrealGlobeImposter':1, 'montrealSam':1, 'montrealComradeCircle':1,\n",
    " 'montrealAPT':1, 'white':0}\n",
    "\n",
    "R=pd.read_csv(training_dataset_url, nrows=nrows, usecols=[\"year\",\"day\",\"length\",\"weight\",\"count\",\"looped\",\"neighbors\",\"income\",\"label\"]).replace(label_mapping).values\n",
    "np.random.seed(0)\n",
    "np.random.shuffle(R)\n",
    "X=R[:, 0:8]\n",
    "y=R[:, 8].astype(np.int32)\n",
    "\n",
    "X = X[:100000]\n",
    "y = y[:100000]\n",
    "\n",
    "\n",
    "X_train,X_test,y_train,y_test = train_test_split(X, y, test_size=0.2)\n",
    "print(X_train.shape, X_test.shape)"
   ]
  },
  {
   "cell_type": "markdown",
   "metadata": {},
   "source": [
    "## 4.2. Data Analysis"
   ]
  },
  {
   "cell_type": "markdown",
   "metadata": {},
   "source": [
    "### 4.2.1. Counts"
   ]
  },
  {
   "cell_type": "code",
   "execution_count": 146,
   "metadata": {},
   "outputs": [
    {
     "name": "stdout",
     "output_type": "stream",
     "text": [
      "Input Columns Count: 8\n",
      "\n",
      "Training Data\n",
      "Number of Rows: 80000\n",
      "\n",
      "Test Data\n",
      "Number of Rows: 20000\n",
      "X[0]:  [2.01200000e+03 8.50000000e+01 2.00000000e+00 1.00227273e-01\n",
      " 2.00000000e+00 2.00000000e+00 3.00000000e+00 5.61060234e+08]\n",
      "y[0]:  0\n"
     ]
    }
   ],
   "source": [
    "# No of Attributed\n",
    "\n",
    "# columns = np.array([\"Temperature\", \"Humidity\", \"Light\", \"CO2\", \"HumidityRatio\"])\n",
    "print('Input Columns Count:', X_train.shape[1])\n",
    "# print('Input Columns:', columns)\n",
    "# print('Output Column:', \"Occupancy\")\n",
    "print()\n",
    "print('Training Data')\n",
    "print('Number of Rows:', X_train.shape[0])\n",
    "print()\n",
    "print('Test Data')\n",
    "print('Number of Rows:', X_test.shape[0])\n",
    "\n",
    "print('X[0]: ', X_train[0])\n",
    "print('y[0]: ', y_train[0])"
   ]
  },
  {
   "cell_type": "markdown",
   "metadata": {},
   "source": [
    "## 4.3. Model Evaluation"
   ]
  },
  {
   "cell_type": "markdown",
   "metadata": {},
   "source": [
    "### 4.3.1. Logistics Regression"
   ]
  },
  {
   "cell_type": "code",
   "execution_count": 147,
   "metadata": {},
   "outputs": [
    {
     "data": {
      "text/plain": [
       "GridSearchCV(cv=5, estimator=LogisticRegression(n_jobs=-1),\n",
       "             param_grid={'fit_intercept': [True, False],\n",
       "                         'max_iter': array([  2,   4,   8,  16,  32,  64, 128, 256], dtype=int32),\n",
       "                         'solver': ['newton-cg', 'lbfgs', 'liblinear', 'sag',\n",
       "                                    'saga']})"
      ]
     },
     "execution_count": 147,
     "metadata": {},
     "output_type": "execute_result"
    }
   ],
   "source": [
    "lr_model = sklearn.linear_model.LogisticRegression(n_jobs=-1)\n",
    "max_iter_values = 2**np.linspace(1, 8, 8, dtype=np.int32)\n",
    "solver_values = ['newton-cg', 'lbfgs', 'liblinear', 'sag', 'saga']\n",
    "fit_intercept_values = [True, False]\n",
    "\n",
    "param_grid = { \"fit_intercept\":[True, False], \"solver\": solver_values, \n",
    "             \"max_iter\": max_iter_values}\n",
    "\n",
    "gridcv = sklearn.model_selection.GridSearchCV(lr_model, param_grid, verbose=0, cv=5)\n",
    "gridcv.fit(X_train, y_train)"
   ]
  },
  {
   "cell_type": "markdown",
   "metadata": {},
   "source": [
    "#### 4.3.1.1. Metrics"
   ]
  },
  {
   "cell_type": "code",
   "execution_count": 148,
   "metadata": {},
   "outputs": [
    {
     "name": "stdout",
     "output_type": "stream",
     "text": [
      "Best Estimator:  LogisticRegression(max_iter=128, n_jobs=-1, solver='newton-cg') =>\n",
      "Params:  {'fit_intercept': True, 'max_iter': 128, 'solver': 'newton-cg'}\n",
      "Training Accuracy Score:  95.975\n",
      "Test Accuracy Score:  96.055\n",
      "ROC AUC score:  51.356350184956845\n"
     ]
    }
   ],
   "source": [
    "print('Best Estimator: ', gridcv.best_estimator_, '=>')\n",
    "print('Params: ', gridcv.best_params_)\n",
    "print('Training Accuracy Score: ', gridcv.best_score_*100)\n",
    "y_pred = gridcv.best_estimator_.predict(X_test)\n",
    "print('Test Accuracy Score: ', sklearn.metrics.accuracy_score(y_test, y_pred)*100)\n",
    "print('ROC AUC score: ', sklearn.metrics.roc_auc_score(y_test, y_pred)*100)"
   ]
  },
  {
   "cell_type": "code",
   "execution_count": null,
   "metadata": {},
   "outputs": [],
   "source": []
  }
 ],
 "metadata": {
  "kernelspec": {
   "display_name": "Python 3",
   "language": "python",
   "name": "python3"
  },
  "language_info": {
   "codemirror_mode": {
    "name": "ipython",
    "version": 3
   },
   "file_extension": ".py",
   "mimetype": "text/x-python",
   "name": "python",
   "nbconvert_exporter": "python",
   "pygments_lexer": "ipython3",
   "version": "3.8.3"
  }
 },
 "nbformat": 4,
 "nbformat_minor": 4
}
