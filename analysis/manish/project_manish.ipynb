{
 "cells": [
  {
   "cell_type": "code",
   "execution_count": 50,
   "metadata": {},
   "outputs": [],
   "source": [
    "import numpy as np\n",
    "import matplotlib\n",
    "import matplotlib.pyplot as plt\n",
    "import pandas as pd\n",
    "import sklearn\n",
    "import sklearn.tree       \n",
    "import sklearn.metrics \n",
    "from sklearn import ensemble\n",
    "from sklearn.neural_network import MLPClassifier\n",
    "import glob\n",
    "from sklearn.model_selection import train_test_split\n",
    "import os.path\n",
    "import time\n",
    "from sklearn.metrics import roc_curve\n",
    "from sklearn.metrics import roc_auc_score"
   ]
  },
  {
   "cell_type": "code",
   "execution_count": 51,
   "metadata": {},
   "outputs": [],
   "source": [
    "# decision tree training with grid serach\n",
    "def DecisionTree (X_train, y_train, X_test,y_test):\n",
    "    start = time.time()\n",
    "    \n",
    "    d_tree=sklearn.tree.DecisionTreeClassifier(random_state=0)\n",
    "    \n",
    "    Max_features = ['auto', 'sqrt', 'log2']\n",
    "    Max_depths = np.arange(1,34,2)\n",
    "    Min_samples_splits = np.linspace(0.001, 0.5, 10, endpoint=True)\n",
    "    Min_samples_leafs = np.linspace(0.0001, 0.05, 10, endpoint=True)\n",
    "    param_grid = {'max_features': Max_features, 'max_depth': Max_depths,  'min_samples_split': Min_samples_splits, 'min_samples_leaf': Min_samples_leafs}\n",
    "\n",
    "    gsdt = sklearn.model_selection.GridSearchCV(d_tree, param_grid, verbose=0,cv=3).fit(X_train, y_train)\n",
    "    \n",
    "    y_pred_train_dt = gsdt.best_estimator_.predict(X_train)\n",
    "    y_pred_test_dt = gsdt.best_estimator_.predict(X_test)\n",
    "\n",
    "    test_acc_score_dt=sklearn.metrics.accuracy_score(y_test, y_pred_test_dt)*100\n",
    "    train_acc_score_dt=sklearn.metrics.accuracy_score(y_train, y_pred_train_dt)*100\n",
    "    \n",
    "    if np.unique(y_train).size>2:\n",
    "        lb = sklearn.preprocessing.LabelBinarizer()\n",
    "        yy_test=lb.fit_transform(y_test)\n",
    "        zz_test=lb.transform(y_pred_test_dt)\n",
    "        roc_auc_dt=sklearn.metrics.roc_auc_score(yy_test, zz_test, multi_class=\"ovr\", average=\"weighted\")*100\n",
    "#         print (\"ROC AUC score:           \"+\"{:.4f}\".format(roc)+\"%\")\n",
    "    else:\n",
    "        roc_auc_dt=sklearn.metrics.roc_auc_score(y_test, gsdt.best_estimator_.predict_proba(X_test)[:, 1])*100\n",
    "#         print (\"ROC AUC score:           \"+\"{:.4f}\".format(roc)+\"%\")\n",
    "        sklearn.metrics.plot_roc_curve(gsdt.best_estimator_, X_test, y_test, name='Decision tree')\n",
    "    \n",
    "\n",
    "    \n",
    "#     roc_auc_dt=sklearn.metrics.roc_auc_score(y_test, gsdt.best_estimator_.predict_proba(X_test)[:, 1])*100\n",
    "    t = time.time()-start\n",
    "    return test_acc_score_dt, train_acc_score_dt, gsdt.best_estimator_, roc_auc_dt, t"
   ]
  },
  {
   "cell_type": "code",
   "execution_count": 96,
   "metadata": {},
   "outputs": [],
   "source": [
    "# Neural network traing with grid search\n",
    "def NeuralNetwork (X_train, y_train, X_test, y_test):\n",
    "    start = time.time()\n",
    "    n_net = sklearn.neural_network.MLPClassifier(random_state=0, max_iter=1000)\n",
    "    \n",
    "    batch_size = [20,40,60, 80,100,150]\n",
    "    #epochs = [10, 50]\n",
    "    #learn_rate = [0.001, 0.01, 0.1]\n",
    "    momentum = [0.0001,0.001,0.1]\n",
    "    #neurons = [1, 5, 10, 15, 20, 25, 30] \n",
    "    activation = ['identity', 'tanh', 'relu']\n",
    "#     alpha = [0.0001,0.002]\n",
    "#     solver=['lbfgs', 'sgd', 'adam']\n",
    "    param_grid = {'batch_size':batch_size,  'momentum':momentum, \n",
    "              'activation' : activation }\n",
    "\n",
    "    gsnl = sklearn.model_selection.GridSearchCV(n_net, param_grid, verbose=0,cv=3).fit(X_train, y_train)\n",
    "\n",
    "    y_pred_train_nl = gsnl.best_estimator_.predict(X_train)\n",
    "    y_pred_test_nl = gsnl.best_estimator_.predict(X_test)\n",
    "\n",
    "    test_acc_score_nl=sklearn.metrics.accuracy_score(y_test, y_pred_test_nl)*100\n",
    "    train_acc_score_nl=sklearn.metrics.accuracy_score(y_train, y_pred_train_nl)*100\n",
    "    \n",
    "    if np.unique(y_train).size>2:\n",
    "        lb = sklearn.preprocessing.LabelBinarizer()\n",
    "        yy_test=lb.fit_transform(y_test)\n",
    "        zz_test=lb.transform(y_pred_test_nl)\n",
    "        roc_auc_nl=sklearn.metrics.roc_auc_score(yy_test, zz_test, multi_class=\"ovr\", average=\"weighted\")*100\n",
    "#         print (\"ROC AUC score:           \"+\"{:.4f}\".format(roc)+\"%\")\n",
    "    else:\n",
    "        roc_auc_nl=sklearn.metrics.roc_auc_score(y_test, gsnl.best_estimator_.predict_proba(X_test)[:, 1])*100\n",
    "#         print (\"ROC AUC score:           \"+\"{:.4f}\".format(roc)+\"%\")\n",
    "        sklearn.metrics.plot_roc_curve(gsnl.best_estimator_, X_test, y_test, name='Neural Network')\n",
    "    \n",
    "\n",
    "#     sklearn.metrics.plot_roc_curve( gsnl.best_estimator_, X_test, y_test, name='Neural network')\n",
    "#     roc_auc_nl=sklearn.metrics.roc_auc_score(y_test, gsnl.best_estimator_.predict_proba(X_test)[:, 1])*100\n",
    "    t = time.time()-start\n",
    "    return test_acc_score_nl, train_acc_score_nl, gsnl.best_estimator_, roc_auc_nl, t"
   ]
  },
  {
   "cell_type": "code",
   "execution_count": 53,
   "metadata": {},
   "outputs": [
    {
     "name": "stdout",
     "output_type": "stream",
     "text": [
      "C:\\Users\\Manish\\Dropbox\\COMP 6321\\project\\COMP-6321-ML-master\\datasets\n",
      "C:\\Users\\Manish\\Dropbox\\COMP 6321\\project\\COMP-6321-ML-master\\datasets\\1_occupancy C:\\Users\\Manish\\Dropbox\\COMP 6321\\project\\COMP-6321-ML-master\\datasets\\2_healthy_older_people C:\\Users\\Manish\\Dropbox\\COMP 6321\\project\\COMP-6321-ML-master\\datasets\\3_bitcoin_heist_ransonware_address C:\\Users\\Manish\\Dropbox\\COMP 6321\\project\\COMP-6321-ML-master\\datasets\\4_bank_additional C:\\Users\\Manish\\Dropbox\\COMP 6321\\project\\COMP-6321-ML-master\\datasets\\9_magic_gamma C:\\Users\\Manish\\Dropbox\\COMP 6321\\project\\COMP-6321-ML-master\\datasets\\6_credit_cards\n"
     ]
    }
   ],
   "source": [
    "current_directory = os.path.dirname(os.getcwd())\n",
    "project_directory = os.path.split(current_directory)[0]\n",
    "dataset_directory = os.path.join(project_directory, 'datasets')\n",
    "print(dataset_directory)\n",
    "\n",
    "occupancy_dataset_directory = os.path.join(dataset_directory, '1_occupancy')\n",
    "healthy_older_people_dataset_directory = os.path.join(dataset_directory, '2_healthy_older_people')\n",
    "bitcoin_heist_ransonware_address_dataset_directory = os.path.join(dataset_directory, '3_bitcoin_heist_ransonware_address')\n",
    "bank_additional_dataset_directory = os.path.join(dataset_directory, '4_bank_additional')\n",
    "montreal_crime_dataset_directory = os.path.join(dataset_directory, '5_interventionscitoyendo')\n",
    "credit_cards_dataset_directory = os.path.join(dataset_directory, '6_credit_cards')\n",
    "census_income_dataset_directory = os.path.join(dataset_directory, '7_census_income')\n",
    "yeast_dataset_directory = os.path.join(dataset_directory, '8_yeast')\n",
    "magic_gamma_dataset_directory = os.path.join(dataset_directory, '9_magic_gamma')\n",
    "\n",
    "# print(os.listdir(dataset_directory))\n",
    "print(occupancy_dataset_directory\n",
    "      , healthy_older_people_dataset_directory\n",
    "      , bitcoin_heist_ransonware_address_dataset_directory\n",
    "      , bank_additional_dataset_directory\n",
    "      , magic_gamma_dataset_directory\n",
    "      ,credit_cards_dataset_directory)"
   ]
  },
  {
   "cell_type": "markdown",
   "metadata": {},
   "source": [
    "   # 1. Occupancy data"
   ]
  },
  {
   "cell_type": "code",
   "execution_count": 5,
   "metadata": {},
   "outputs": [
    {
     "name": "stdout",
     "output_type": "stream",
     "text": [
      "(8143,) (2665,)\n",
      "[1 1 1 ... 1 1 1]\n"
     ]
    }
   ],
   "source": [
    "# data loading\n",
    "training_dataset_url = os.path.join(occupancy_dataset_directory, 'occupancy_data', 'datatraining.txt')\n",
    "test_dataset_url = os.path.join(occupancy_dataset_directory, 'occupancy_data', 'datatest.txt')\n",
    "\n",
    "data_occupancy = np.loadtxt(training_dataset_url,delimiter=',', skiprows=1, usecols = (2,3,4,5,6,7))\n",
    "data_occupany_test=np.loadtxt(test_dataset_url, delimiter=',', skiprows=1, usecols = (2,3,4,5,6,7))\n",
    "X_train=data_occupancy[:, 0:5]\n",
    "y_train=data_occupancy[:, 5].astype(np.int32)\n",
    "X_test=data_occupany_test[:, 0:5]\n",
    "y_test=data_occupany_test[:, 5].astype(np.int32)\n",
    "print(y_train.shape, y_test.shape)\n",
    "print(y_test)"
   ]
  },
  {
   "cell_type": "code",
   "execution_count": 6,
   "metadata": {},
   "outputs": [],
   "source": [
    "# Standardization\n",
    "scaler = sklearn.preprocessing.StandardScaler().fit(X_train)\n",
    "X_train = scaler.transform(X_train)\n",
    "X_test = scaler.transform(X_test)"
   ]
  },
  {
   "cell_type": "code",
   "execution_count": 7,
   "metadata": {},
   "outputs": [
    {
     "data": {
      "image/png": "[encoded data removed]",
      "text/plain": [
       "<Figure size 432x288 with 1 Axes>"
      ]
     },
     "metadata": {
      "needs_background": "light"
     },
     "output_type": "display_data"
    },
    {
     "data": {
      "image/png": "[encoded data removed]",
      "text/plain": [
       "<Figure size 432x288 with 1 Axes>"
      ]
     },
     "metadata": {
      "needs_background": "light"
     },
     "output_type": "display_data"
    }
   ],
   "source": [
    "test_score_dt1, train_score_dt1, dtree1, roc_auc_dt1, t_dt1 = DecisionTree(X_train, y_train, X_test, y_test)\n",
    "test_score_nl1, train_score_nl1, nnetwork1, roc_auc_nl1, t_nl1 = NeuralNetwork(X_train, y_train, X_test, y_test)\n"
   ]
  },
  {
   "cell_type": "code",
   "execution_count": 19,
   "metadata": {},
   "outputs": [
    {
     "name": "stdout",
     "output_type": "stream",
     "text": [
      "Best Decision classifier from grid search:\n",
      "DecisionTreeClassifier(max_depth=1, max_features='auto',\n",
      "                       min_samples_leaf=0.0001, min_samples_split=0.001,\n",
      "                       random_state=0)\n",
      "\n",
      "\n",
      "Best Neural Network classifier from grid search:\n",
      "MLPClassifier(activation='identity', batch_size=60, max_iter=3000,\n",
      "              momentum=0.001, random_state=0)\n",
      "\n",
      "\n",
      "                Decision Tree  Neural Network        Best time\n",
      "Elapsed time        63.395527      456.779305    Decision Tree\n",
      "\n",
      "\n",
      "                Decision Tree  Neural Network      Best Score\n",
      "Test Accuracy       97.861163       97.861163   Decision Tree\n",
      "Train Accuracy      98.784232       98.084244   Decision Tree\n",
      "ROC AUC             98.250877       99.179385  Neural Network\n"
     ]
    }
   ],
   "source": [
    "# Display results for dataset 1\n",
    "print('Best Decision classifier from grid search:')\n",
    "print(dtree1 )\n",
    "print('\\n')\n",
    "print('Best Neural Network classifier from grid search:')\n",
    "print(nnetwork1)\n",
    "print('\\n')\n",
    "\n",
    "models_time = pd.DataFrame({'  Decision Tree':[t_dt1 ],\n",
    "                                    'Neural Network':[t_nl1]\n",
    "                                   },  \n",
    "                                    index=['Elapsed time'])\n",
    "models_time['Best time'] = models_time.idxmin(axis=1)\n",
    "print(models_time)\n",
    "print('\\n')\n",
    "\n",
    "models_scores_table = pd.DataFrame({'Decision Tree':[test_score_dt1, train_score_dt1 ,roc_auc_dt1],\n",
    "                                        'Neural Network':[test_score_nl1, train_score_nl1, roc_auc_nl1]\n",
    "                                   },  \n",
    "                                    index=['Test Accuracy', 'Train Accuracy', 'ROC AUC'])\n",
    "models_scores_table['Best Score'] = models_scores_table.idxmax(axis=1)\n",
    "print(models_scores_table)\n",
    "# print (\"Elapsed time for Decision Tree: \"+\"{:.4f}\".format(t_dt_occ)+\" sec\")\n",
    "# print (\"Elapsed time for Neural Network: \"+\"{:.4f}\".format(t_nl_occ)+\" sec\")\n"
   ]
  },
  {
   "cell_type": "markdown",
   "metadata": {},
   "source": [
    "# 2. Bank marketting"
   ]
  },
  {
   "cell_type": "code",
   "execution_count": 12,
   "metadata": {},
   "outputs": [
    {
     "name": "stdout",
     "output_type": "stream",
     "text": [
      "C:\\Users\\Manish\\Dropbox\\COMP 6321\\project\\COMP-6321-ML-master\\datasets\\4_bank_additional\\bank-additional\\bank-additional\\bank-additional-full.csv C:\\Users\\Manish\\Dropbox\\COMP 6321\\project\\COMP-6321-ML-master\\datasets\\4_bank_additional\\bank-additional\\bank-additional\\bank-additional.csv\n",
      "(45307, 19)\n"
     ]
    }
   ],
   "source": [
    "# data loading\n",
    "training_dataset_url = os.path.join(bank_additional_dataset_directory, 'bank-additional', 'bank-additional', 'bank-additional-full.csv')\n",
    "test_dataset_url = os.path.join(bank_additional_dataset_directory, 'bank-additional', 'bank-additional', 'bank-additional.csv')\n",
    "print(training_dataset_url, test_dataset_url)\n",
    "\n",
    "\n",
    "# Loading code\n",
    "job_mapping = {'admin.':1, 'blue-collar':2, 'entrepreneur':3\n",
    "               , 'housemaid':4, 'management':5, 'retired':6\n",
    "               , 'self-employed':7, 'services':8, 'student':9\n",
    "               , 'technician':10, 'unemployed':11, 'unknown':0}\n",
    "boolean_mapping ={'no': 0, 'yes': 1}\n",
    "marital_mapping ={'divorced':1, 'married':2, 'single':3}\n",
    "education_mapping={'basic.4y':1, 'basic.6y':2, 'basic.9y':3\n",
    "                   , 'high.school':4, 'illiterate':5, 'professional.course':6\n",
    "                   , 'university.degree':7}\n",
    "contact_mapping={'cellular':1, 'telephone':2}\n",
    "month_mapping={'may':5, 'jun':6, 'nov':11\n",
    "               , 'sep':9, 'jul':7, 'aug':8\n",
    "               , 'mar':3, 'oct':10, 'apr':4\n",
    "               , 'dec':12}\n",
    "day_mapping={'fri':5, 'wed':3, 'mon':1, 'thu':4, 'tue':2}\n",
    "poutcome_mapping={'nonexistent':1, 'failure':2, 'success':3}\n",
    "\n",
    "R=pd.read_csv(training_dataset_url, delimiter=';').replace(boolean_mapping).replace(job_mapping).replace(marital_mapping).replace(education_mapping).replace(contact_mapping).replace(month_mapping).replace(day_mapping).replace(poutcome_mapping).values\n",
    "X1=R[:, [0,1,2,3,4,5,6,7,8,9,11,12,13,14,15,16,17,18,19]]\n",
    "y1=R[:, 20].astype(np.int32)\n",
    "T=pd.read_csv(test_dataset_url, delimiter=';').replace(boolean_mapping).replace(job_mapping).replace(marital_mapping).replace(education_mapping).replace(contact_mapping).replace(month_mapping).replace(day_mapping).replace(poutcome_mapping).values\n",
    "X2=T[:, [0,1,2,3,4,5,6,7,8,9,11,12,13,14,15,16,17,18,19]]\n",
    "y2=T[:, 20].astype(np.int32)\n",
    "\n",
    "X = np.concatenate((X1, X2))\n",
    "y = np.concatenate((y1, y2))\n",
    "\n",
    "print(X.shape)\n",
    "X = X[:5000]\n",
    "y = y[:5000]\n",
    "\n",
    "X_train,X_test,y_train,y_test = train_test_split(X, y, test_size=0.2, random_state=0)\n",
    "\n",
    "# print(X_train.shape, X_test.shape)\n",
    "# print(y_train.shape, y_test.shape)\n",
    "# print(y_test)"
   ]
  },
  {
   "cell_type": "code",
   "execution_count": 13,
   "metadata": {},
   "outputs": [],
   "source": [
    "# Standardization\n",
    "scaler = sklearn.preprocessing.StandardScaler().fit(X_train)\n",
    "X_train = scaler.transform(X_train)\n",
    "X_test = scaler.transform(X_test)"
   ]
  },
  {
   "cell_type": "code",
   "execution_count": 14,
   "metadata": {},
   "outputs": [
    {
     "data": {
      "image/png": "[encoded data removed]",
      "text/plain": [
       "<Figure size 432x288 with 1 Axes>"
      ]
     },
     "metadata": {
      "needs_background": "light"
     },
     "output_type": "display_data"
    },
    {
     "data": {
      "image/png": "[encoded data removed]",
      "text/plain": [
       "<Figure size 432x288 with 1 Axes>"
      ]
     },
     "metadata": {
      "needs_background": "light"
     },
     "output_type": "display_data"
    }
   ],
   "source": [
    "test_score_dt2, train_score_dt2, dtree2, roc_auc_dt2, t_dt2 = DecisionTree(X_train, y_train, X_test, y_test)\n",
    "test_score_nl2, train_score_nl2, nnetwork2, roc_auc_nl2, t_nl2 = NeuralNetwork(X_train, y_train, X_test, y_test)"
   ]
  },
  {
   "cell_type": "code",
   "execution_count": 15,
   "metadata": {},
   "outputs": [
    {
     "name": "stdout",
     "output_type": "stream",
     "text": [
      "Best Decision classifier from grid search:\n",
      "DecisionTreeClassifier(max_depth=1, max_features='auto',\n",
      "                       min_samples_leaf=0.0001, min_samples_split=0.001,\n",
      "                       random_state=0)\n",
      "\n",
      "\n",
      "Best Neural Network classifier from grid search:\n",
      "MLPClassifier(activation='identity', batch_size=20, max_iter=2000,\n",
      "              momentum=0.01, random_state=0)\n",
      "\n",
      "\n",
      "                Decision Tree  Neural Network        Best time\n",
      "Elapsed time        70.403311     1106.069181    Decision Tree\n",
      "\n",
      "\n",
      "                Decision Tree  Neural Network     Best Score\n",
      "Test Accuracy       97.300000       97.300000  Decision Tree\n",
      "Train Accuracy      97.050000       97.050000  Decision Tree\n",
      "ROC AUC             60.513494       59.986297  Decision Tree\n"
     ]
    }
   ],
   "source": [
    "# Display results for dataset 2\n",
    "print('Best Decision classifier from grid search:')\n",
    "print(dtree2 )\n",
    "print('\\n')\n",
    "print('Best Neural Network classifier from grid search:')\n",
    "print(nnetwork2)\n",
    "print('\\n')\n",
    "\n",
    "models_time = pd.DataFrame({'  Decision Tree':[t_dt2 ],\n",
    "                                    'Neural Network':[t_nl2]\n",
    "                                   },  \n",
    "                                    index=['Elapsed time'])\n",
    "models_time['Best time'] = models_time.idxmin(axis=1)\n",
    "print(models_time)\n",
    "print('\\n')\n",
    "\n",
    "models_scores_table = pd.DataFrame({'Decision Tree':[test_score_dt2, train_score_dt2, roc_auc_dt2],\n",
    "                                        'Neural Network':[test_score_nl2, train_score_nl2, roc_auc_nl2]\n",
    "                                   },  \n",
    "                                    index=['Test Accuracy', 'Train Accuracy', 'ROC AUC'])\n",
    "models_scores_table['Best Score'] = models_scores_table.idxmax(axis=1)\n",
    "print(models_scores_table)"
   ]
  },
  {
   "cell_type": "markdown",
   "metadata": {},
   "source": [
    "# 3. ACTIVITY RECOGNITION IN HEALTHY OLD PEOPLE"
   ]
  },
  {
   "cell_type": "code",
   "execution_count": 16,
   "metadata": {},
   "outputs": [
    {
     "name": "stdout",
     "output_type": "stream",
     "text": [
      "(4000, 7) (1000, 7)\n",
      "(4000,) (1000,)\n"
     ]
    }
   ],
   "source": [
    "# data loading\n",
    "files = glob.glob(os.path.join(healthy_older_people_dataset_directory, 'Datasets_Healthy_Older_People', 'datasets', \"S1_Dataset\", \"d*\"))\n",
    "Rs = [pd.read_csv(f, header=None) for f in files]\n",
    "R=pd.concat(Rs,ignore_index=True).values\n",
    "X1=R[:, 1:8]\n",
    "y1=R[:, 8].astype(np.int32)\n",
    "\n",
    "files = glob.glob(os.path.join(healthy_older_people_dataset_directory, 'Datasets_Healthy_Older_People', 'datasets', \"S2_Dataset\", \"d*\"))\n",
    "Ts = [pd.read_csv(f, header=None) for f in files]\n",
    "T=pd.concat(Ts,ignore_index=True).values\n",
    "X2=T[:, 1:8]\n",
    "y2=T[:, 8].astype(np.int32)\n",
    "\n",
    "X = np.concatenate((X1, X2))\n",
    "y = np.concatenate((y1, y2))\n",
    "\n",
    "X = X[:5000]\n",
    "y = y[:5000]\n",
    "\n",
    "X_train,X_test,y_train,y_test = train_test_split(X, y, test_size=0.2, random_state=0)\n",
    "print(X_train.shape, X_test.shape)\n",
    "print(y_train.shape, y_test.shape)\n",
    "# print(y_test)"
   ]
  },
  {
   "cell_type": "code",
   "execution_count": 17,
   "metadata": {},
   "outputs": [],
   "source": [
    "# Standardization\n",
    "scaler = sklearn.preprocessing.StandardScaler().fit(X_train)\n",
    "X_train = scaler.transform(X_train)\n",
    "X_test = scaler.transform(X_test)"
   ]
  },
  {
   "cell_type": "code",
   "execution_count": 18,
   "metadata": {},
   "outputs": [],
   "source": [
    "test_score_dt3, train_score_dt3, dtree3, roc_auc_dt3, t_dt3 = DecisionTree(X_train, y_train, X_test, y_test)\n",
    "test_score_nl3, train_score_nl3, nnetwork3, roc_auc_nl3, t_nl3 = NeuralNetwork(X_train, y_train, X_test, y_test)\n"
   ]
  },
  {
   "cell_type": "code",
   "execution_count": 19,
   "metadata": {},
   "outputs": [
    {
     "name": "stdout",
     "output_type": "stream",
     "text": [
      "Best Decision classifier from grid search:\n",
      "DecisionTreeClassifier(max_depth=13, max_features='auto',\n",
      "                       min_samples_leaf=0.0001, min_samples_split=0.001,\n",
      "                       random_state=0)\n",
      "\n",
      "\n",
      "Best Neural Network classifier from grid search:\n",
      "MLPClassifier(batch_size=200, max_iter=2000, momentum=0.01, random_state=0)\n",
      "\n",
      "\n",
      "                Decision Tree  Neural Network        Best time\n",
      "Elapsed time         75.19062     1600.632063    Decision Tree\n",
      "\n",
      "\n",
      "                Decision Tree  Neural Network      Best Score\n",
      "Test Accuracy       95.200000       95.400000  Neural Network\n",
      "Train Accuracy      99.050000       99.050000   Decision Tree\n",
      "ROC AUC             96.921897       97.108949  Neural Network\n"
     ]
    }
   ],
   "source": [
    "# Display results for dataset 3\n",
    "print('Best Decision classifier from grid search:')\n",
    "print(dtree3 )\n",
    "print('\\n')\n",
    "print('Best Neural Network classifier from grid search:')\n",
    "print(nnetwork3)\n",
    "print('\\n')\n",
    "\n",
    "models_time = pd.DataFrame({'  Decision Tree':[t_dt3 ],\n",
    "                                    'Neural Network':[t_nl3]\n",
    "                                   },  \n",
    "                                    index=['Elapsed time'])\n",
    "models_time['Best time'] = models_time.idxmin(axis=1)\n",
    "print(models_time)\n",
    "print('\\n')\n",
    "\n",
    "models_scores_table = pd.DataFrame({'Decision Tree':[test_score_dt3, train_score_dt3, roc_auc_dt3],\n",
    "                                        'Neural Network':[test_score_nl3, train_score_nl3, roc_auc_nl3]\n",
    "                                   },  \n",
    "                                    index=['Test Accuracy', 'Train Accuracy', 'ROC AUC'])\n",
    "models_scores_table['Best Score'] = models_scores_table.idxmax(axis=1)\n",
    "print(models_scores_table)"
   ]
  },
  {
   "cell_type": "code",
   "execution_count": null,
   "metadata": {},
   "outputs": [],
   "source": []
  },
  {
   "cell_type": "markdown",
   "metadata": {},
   "source": [
    "  # 4. Bitcoin Ransonware Dataset"
   ]
  },
  {
   "cell_type": "code",
   "execution_count": 20,
   "metadata": {},
   "outputs": [
    {
     "name": "stdout",
     "output_type": "stream",
     "text": [
      "C:\\Users\\Manish\\Dropbox\\COMP 6321\\project\\COMP-6321-ML-master\\datasets\\3_bitcoin_heist_ransonware_address\\data\\BitcoinHeistData.csv\n",
      "(4000, 8) (1000, 8)\n"
     ]
    }
   ],
   "source": [
    "# data loading\n",
    "training_dataset_url = os.path.join(bitcoin_heist_ransonware_address_dataset_directory, 'data', 'BitcoinHeistData.csv')\n",
    "print(training_dataset_url)\n",
    "\n",
    "\n",
    "# Loading code\n",
    "nrows=1000000\n",
    "nparts=10\n",
    "ntest=nrows//nparts\n",
    "label_mapping = {'princetonCerber':1, 'princetonLocky':1, 'montrealCryptoLocker':1,\n",
    " 'montrealCryptXXX':1, 'paduaCryptoWall':1, 'montrealWannaCry':1,\n",
    " 'montrealDMALockerv3':1, 'montrealCryptoTorLocker2015':1, 'montrealSamSam':1,\n",
    " 'montrealFlyper':1, 'montrealNoobCrypt':1, 'montrealDMALocker':1, 'montrealGlobe':1,\n",
    " 'montrealEDA2':1, 'paduaKeRanger':1, 'montrealVenusLocker':1, 'montrealXTPLocker':1,\n",
    " 'paduaJigsaw':1, 'montrealGlobev3':1, 'montrealJigSaw':1, 'montrealXLockerv5.0':1,\n",
    " 'montrealXLocker':1, 'montrealRazy':1, 'montrealCryptConsole':1,\n",
    " 'montrealGlobeImposter':1, 'montrealSam':1, 'montrealComradeCircle':1,\n",
    " 'montrealAPT':1, 'white':0}\n",
    "\n",
    "R=pd.read_csv(training_dataset_url, nrows=nrows, usecols=[\"year\",\"day\",\"length\",\"weight\",\"count\",\"looped\",\"neighbors\",\"income\",\"label\"]).replace(label_mapping).values\n",
    "np.random.seed(0)\n",
    "np.random.shuffle(R)\n",
    "X=R[:, 0:8]\n",
    "y=R[:, 8].astype(np.int32)\n",
    "\n",
    "X = X[:5000]\n",
    "y = y[:5000]\n",
    "\n",
    "\n",
    "X_train,X_test,y_train,y_test = train_test_split(X, y, test_size=0.2, random_state=0)\n",
    "print(X_train.shape, X_test.shape)"
   ]
  },
  {
   "cell_type": "code",
   "execution_count": 22,
   "metadata": {},
   "outputs": [],
   "source": [
    "# Standardization\n",
    "scaler = sklearn.preprocessing.StandardScaler().fit(X_train)\n",
    "X_train = scaler.transform(X_train)\n",
    "X_test = scaler.transform(X_test)"
   ]
  },
  {
   "cell_type": "code",
   "execution_count": 23,
   "metadata": {},
   "outputs": [
    {
     "data": {
      "image/png": "[encoded data removed]",
      "text/plain": [
       "<Figure size 432x288 with 1 Axes>"
      ]
     },
     "metadata": {
      "needs_background": "light"
     },
     "output_type": "display_data"
    },
    {
     "data": {
      "image/png": "[encoded data removed]",
      "text/plain": [
       "<Figure size 432x288 with 1 Axes>"
      ]
     },
     "metadata": {
      "needs_background": "light"
     },
     "output_type": "display_data"
    }
   ],
   "source": [
    "test_score_dt4, train_score_dt4, dtree4, roc_auc_dt4, t_dt4 = DecisionTree(X_train, y_train, X_test, y_test)\n",
    "test_score_nl4, train_score_nl4, nnetwork4, roc_auc_nl4, t_nl4 = NeuralNetwork(X_train, y_train, X_test, y_test)"
   ]
  },
  {
   "cell_type": "code",
   "execution_count": 24,
   "metadata": {},
   "outputs": [
    {
     "name": "stdout",
     "output_type": "stream",
     "text": [
      "Best Decision classifier from grid search:\n",
      "DecisionTreeClassifier(max_depth=5, max_features='log2',\n",
      "                       min_samples_leaf=0.0001,\n",
      "                       min_samples_split=0.11188888888888888, random_state=0)\n",
      "\n",
      "\n",
      "Best Neural Network classifier from grid search:\n",
      "MLPClassifier(activation='identity', batch_size=20, max_iter=2000,\n",
      "              momentum=0.01, random_state=0)\n",
      "\n",
      "\n",
      "                Decision Tree  Neural Network        Best time\n",
      "Elapsed time        86.089562      316.810608    Decision Tree\n",
      "\n",
      "\n",
      "                Decision Tree  Neural Network      Best Score\n",
      "Test Accuracy       99.900000       99.500000   Decision Tree\n",
      "Train Accuracy      99.875000       99.700000   Decision Tree\n",
      "ROC AUC             98.543886       99.227368  Neural Network\n"
     ]
    }
   ],
   "source": [
    "# Display results for dataset 4\n",
    "print('Best Decision classifier from grid search:')\n",
    "print(dtree4 )\n",
    "print('\\n')\n",
    "print('Best Neural Network classifier from grid search:')\n",
    "print(nnetwork4)\n",
    "print('\\n')\n",
    "\n",
    "models_time = pd.DataFrame({'  Decision Tree':[t_dt4 ],\n",
    "                                    'Neural Network':[t_nl4]\n",
    "                                   },  \n",
    "                                    index=['Elapsed time'])\n",
    "models_time['Best time'] = models_time.idxmin(axis=1)\n",
    "print(models_time)\n",
    "print('\\n')\n",
    "\n",
    "models_scores_table = pd.DataFrame({'Decision Tree':[test_score_dt4, train_score_dt4, roc_auc_dt4],\n",
    "                                        'Neural Network':[test_score_nl4, train_score_nl4, roc_auc_nl4]\n",
    "                                   },  \n",
    "                                    index=['Test Accuracy', 'Train Accuracy', 'ROC AUC'])\n",
    "models_scores_table['Best Score'] = models_scores_table.idxmax(axis=1)\n",
    "print(models_scores_table)"
   ]
  },
  {
   "cell_type": "code",
   "execution_count": null,
   "metadata": {},
   "outputs": [],
   "source": []
  },
  {
   "cell_type": "markdown",
   "metadata": {},
   "source": [
    "# 5. Montreal Crime Dataset"
   ]
  },
  {
   "cell_type": "code",
   "execution_count": 25,
   "metadata": {},
   "outputs": [
    {
     "name": "stdout",
     "output_type": "stream",
     "text": [
      "(4000, 8) (1000, 8)\n"
     ]
    }
   ],
   "source": [
    "# data loading\n",
    "training_dataset_url = os.path.join(montreal_crime_dataset_directory, 'interventionscitoyendo.csv')\n",
    "\n",
    "\n",
    "category_mapping = {'Introduction':1, 'Vol dans / sur véhicule à moteur':2, 'Vol de véhicule à moteur':3, 'Méfait':4, 'Vol qualifié':5, 'Infraction entraînant la mort':6, 'Vols qualifiés':5, 'Infractions entrainant la mort':6}\n",
    "shift_mapping ={'jour':1, 'soir':2, 'nuit':3}\n",
    "TR=pd.read_csv(training_dataset_url, encoding='latin1').replace(category_mapping).replace(shift_mapping)\n",
    "TR['YEAR']=TR.DATE.str.split('-').str[0].astype(np.int32)\n",
    "TR['MONTH']=TR.DATE.str.split('-').str[1].astype(np.int32)\n",
    "TR['DAY']=TR.DATE.str.split('-').str[2].astype(np.int32)\n",
    "TR.dropna(inplace=True)\n",
    "\n",
    "R=TR.values\n",
    "X = R[:, [2,3,4,5,6,7,9,10]]\n",
    "y = R[:, 0].astype(np.int32)\n",
    "\n",
    "X = X[:5000]\n",
    "y = y[:5000]\n",
    "\n",
    "\n",
    "X_train,X_test,y_train,y_test = train_test_split(X, y, test_size=0.2, random_state=0)\n",
    "print(X_train.shape, X_test.shape)"
   ]
  },
  {
   "cell_type": "code",
   "execution_count": 26,
   "metadata": {},
   "outputs": [],
   "source": [
    "# Standardization\n",
    "scaler = sklearn.preprocessing.StandardScaler().fit(X_train)\n",
    "X_train = scaler.transform(X_train)\n",
    "X_test = scaler.transform(X_test)"
   ]
  },
  {
   "cell_type": "code",
   "execution_count": 27,
   "metadata": {},
   "outputs": [],
   "source": [
    "test_score_dt5, train_score_dt5, dtree5, roc_auc_dt5, t_dt5 = DecisionTree(X_train, y_train, X_test, y_test)\n",
    "test_score_nl5, train_score_nl5, nnetwork5, roc_auc_nl5, t_nl5 = NeuralNetwork(X_train, y_train, X_test, y_test)"
   ]
  },
  {
   "cell_type": "code",
   "execution_count": 28,
   "metadata": {},
   "outputs": [
    {
     "name": "stdout",
     "output_type": "stream",
     "text": [
      "Best Decision classifier from grid search:\n",
      "DecisionTreeClassifier(max_depth=9, max_features='auto',\n",
      "                       min_samples_leaf=0.0001, min_samples_split=0.001,\n",
      "                       random_state=0)\n",
      "\n",
      "\n",
      "Best Neural Network classifier from grid search:\n",
      "MLPClassifier(activation='tanh', batch_size=40, max_iter=2000, momentum=0.01,\n",
      "              random_state=0)\n",
      "\n",
      "\n",
      "                Decision Tree  Neural Network        Best time\n",
      "Elapsed time         69.24258      462.130649    Decision Tree\n",
      "\n",
      "\n",
      "                Decision Tree  Neural Network      Best Score\n",
      "Test Accuracy       34.900000       35.000000  Neural Network\n",
      "Train Accuracy      51.575000       38.200000   Decision Tree\n",
      "ROC AUC             55.426771       54.278632   Decision Tree\n"
     ]
    }
   ],
   "source": [
    "# Display results for dataset 5\n",
    "print('Best Decision classifier from grid search:')\n",
    "print(dtree5 )\n",
    "print('\\n')\n",
    "print('Best Neural Network classifier from grid search:')\n",
    "print(nnetwork5)\n",
    "print('\\n')\n",
    "\n",
    "models_time = pd.DataFrame({'  Decision Tree':[t_dt5 ],\n",
    "                                    'Neural Network':[t_nl5]\n",
    "                                   },  \n",
    "                                    index=['Elapsed time'])\n",
    "models_time['Best time'] = models_time.idxmin(axis=1)\n",
    "print(models_time)\n",
    "print('\\n')\n",
    "\n",
    "models_scores_table = pd.DataFrame({'Decision Tree':[test_score_dt5, train_score_dt5, roc_auc_dt5],\n",
    "                                        'Neural Network':[test_score_nl5, train_score_nl5, roc_auc_nl5]\n",
    "                                   },  \n",
    "                                    index=['Test Accuracy', 'Train Accuracy', 'ROC AUC'])\n",
    "models_scores_table['Best Score'] = models_scores_table.idxmax(axis=1)\n",
    "print(models_scores_table)"
   ]
  },
  {
   "cell_type": "code",
   "execution_count": null,
   "metadata": {},
   "outputs": [],
   "source": []
  },
  {
   "cell_type": "markdown",
   "metadata": {},
   "source": [
    "# 6. Credit Cards Dataset"
   ]
  },
  {
   "cell_type": "code",
   "execution_count": 54,
   "metadata": {},
   "outputs": [
    {
     "name": "stdout",
     "output_type": "stream",
     "text": [
      "(4000, 23) (1000, 23)\n",
      "(4000,) (1000,)\n"
     ]
    }
   ],
   "source": [
    "# data loading\n",
    "dataset_url = os.path.join(credit_cards_dataset_directory, 'default_of_credit_card_clients.csv')\n",
    "\n",
    "TR=pd.read_csv(dataset_url, skiprows=1, usecols=[i for i in range(1,25)])\n",
    "# print(TR.shape)\n",
    "\n",
    "R=TR.values\n",
    "X = R[:, :23]\n",
    "y = R[:, 23].astype(np.int32)\n",
    "# print(X[0])\n",
    "\n",
    "X = X[:5000]\n",
    "y = y[:5000]\n",
    "\n",
    "X_train,X_test,y_train,y_test = train_test_split(X, y, test_size=0.2, random_state=0)\n",
    "print(X_train.shape, X_test.shape)\n",
    "print(y_train.shape, y_test.shape)\n"
   ]
  },
  {
   "cell_type": "code",
   "execution_count": 55,
   "metadata": {},
   "outputs": [],
   "source": [
    "# Standardization\n",
    "scaler = sklearn.preprocessing.StandardScaler().fit(X_train)\n",
    "X_train = scaler.transform(X_train)\n",
    "X_test = scaler.transform(X_test)"
   ]
  },
  {
   "cell_type": "code",
   "execution_count": 56,
   "metadata": {},
   "outputs": [
    {
     "data": {
      "image/png": "[encoded data removed]",
      "text/plain": [
       "<Figure size 432x288 with 1 Axes>"
      ]
     },
     "metadata": {
      "needs_background": "light"
     },
     "output_type": "display_data"
    },
    {
     "data": {
      "image/png": "[encoded data removed]",
      "text/plain": [
       "<Figure size 432x288 with 1 Axes>"
      ]
     },
     "metadata": {
      "needs_background": "light"
     },
     "output_type": "display_data"
    }
   ],
   "source": [
    "test_score_dt6, train_score_dt6, dtree6, roc_auc_dt6, t_dt6 = DecisionTree(X_train, y_train, X_test, y_test)\n",
    "test_score_nl6, train_score_nl6, nnetwork6, roc_auc_nl6, t_nl6 = NeuralNetwork(X_train, y_train, X_test, y_test)"
   ]
  },
  {
   "cell_type": "code",
   "execution_count": 57,
   "metadata": {},
   "outputs": [
    {
     "name": "stdout",
     "output_type": "stream",
     "text": [
      "Best Decision classifier from grid search:\n",
      "DecisionTreeClassifier(max_depth=5, max_features='auto',\n",
      "                       min_samples_leaf=0.005644444444444445,\n",
      "                       min_samples_split=0.001, random_state=0)\n",
      "\n",
      "\n",
      "Best Neural Network classifier from grid search:\n",
      "MLPClassifier(activation='identity', batch_size=200, max_iter=4000,\n",
      "              momentum=0.5, random_state=0)\n",
      "\n",
      "\n",
      "                Decision Tree  Neural Network        Best time\n",
      "Elapsed time        63.126107     2665.129709    Decision Tree\n",
      "\n",
      "\n",
      "                Decision Tree  Neural Network      Best Score\n",
      "Test Accuracy       80.100000       81.100000  Neural Network\n",
      "Train Accuracy      80.875000       79.175000   Decision Tree\n",
      "ROC AUC             73.911347       71.310618   Decision Tree\n"
     ]
    }
   ],
   "source": [
    "# Display results for dataset 6\n",
    "print('Best Decision classifier from grid search:')\n",
    "print(dtree6 )\n",
    "print('\\n')\n",
    "print('Best Neural Network classifier from grid search:')\n",
    "print(nnetwork6)\n",
    "print('\\n')\n",
    "\n",
    "models_time = pd.DataFrame({'  Decision Tree':[t_dt6 ],\n",
    "                                    'Neural Network':[t_nl6]\n",
    "                                   },  \n",
    "                                    index=['Elapsed time'])\n",
    "models_time['Best time'] = models_time.idxmin(axis=1)\n",
    "print(models_time)\n",
    "print('\\n')\n",
    "\n",
    "models_scores_table = pd.DataFrame({'Decision Tree':[test_score_dt6, train_score_dt6, roc_auc_dt6],\n",
    "                                        'Neural Network':[test_score_nl6, train_score_nl6, roc_auc_nl6]\n",
    "                                   },  \n",
    "                                    index=['Test Accuracy', 'Train Accuracy', 'ROC AUC'])\n",
    "models_scores_table['Best Score'] = models_scores_table.idxmax(axis=1)\n",
    "print(models_scores_table)"
   ]
  },
  {
   "cell_type": "markdown",
   "metadata": {},
   "source": [
    "# 7. Census Income Dataset"
   ]
  },
  {
   "cell_type": "code",
   "execution_count": 62,
   "metadata": {},
   "outputs": [],
   "source": [
    "# data loading\n",
    "dataset_url = os.path.join(census_income_dataset_directory, 'adult_data.csv')\n",
    "\n",
    "TR=pd.read_csv('../../datasets/7_census_income/adult_data.csv', encoding='utf8', header=None)\n",
    "TR = TR.apply(lambda x: x.apply(lambda y: y.strip() if type(y) == type('') else y), axis=0)\n",
    "\n",
    "workclass_mapping = {'Private':1, 'Self-emp-not-inc':2\n",
    "                    , 'Self-emp-inc':3, 'Federal-gov':4\n",
    "                    , 'Local-gov':5, 'State-gov':6\n",
    "                    , 'Without-pay':7, 'Never-worked':8}\n",
    "TR = TR.replace(workclass_mapping)\n",
    "\n",
    "\n",
    "education_mapping = {'Bachelors':1, 'Some-college':2, '11th':3\n",
    "                     , 'HS-grad':4, 'Prof-school':5, 'Assoc-acdm':6\n",
    "                     , 'Assoc-voc':7, '9th':8, '7th-8th':9\n",
    "                     , '12th':10, 'Masters':11, '1st-4th':12\n",
    "                     , '10th':13, 'Doctorate':14, '5th-6th':15\n",
    "                     , 'Preschool':16}\n",
    "TR = TR.replace(education_mapping)\n",
    "\n",
    "marital_status_mapping = {'Married-civ-spouse':1, 'Divorced':2, 'Never-married':3\n",
    "                          , 'Separated':4, 'Widowed':5, 'Married-spouse-absent':6\n",
    "                          , 'Married-AF-spouse':7}\n",
    "TR = TR.replace(marital_status_mapping)\n",
    "\n",
    "occupation_mapping = {'Tech-support':1, 'Craft-repair':2, 'Other-service':3\n",
    "                      , 'Sales':4, 'Exec-managerial':5, 'Prof-specialty':6\n",
    "                      , 'Handlers-cleaners':7, 'Machine-op-inspct':8, 'Adm-clerical':9\n",
    "                      , 'Farming-fishing':10, 'Transport-moving':11, 'Priv-house-serv':12\n",
    "                      , 'Protective-serv':13, 'Armed-Forces':14}\n",
    "TR = TR.replace(occupation_mapping)\n",
    "\n",
    "relationship_mapping = {'Wife':1, 'Own-child':2, 'Husband':3\n",
    "                , 'Not-in-family':4, 'Other-relative':5, 'Unmarried':6}\n",
    "TR = TR.replace(relationship_mapping)\n",
    "\n",
    "race_mapping = {'White':1, 'Asian-Pac-Islander':2, 'Amer-Indian-Eskimo':3\n",
    "                , 'Other':4, 'Black':5}\n",
    "TR = TR.replace(race_mapping)\n",
    "\n",
    "sex_mapping = {'Female':1, 'Male':2}\n",
    "TR = TR.replace(sex_mapping)\n",
    "\n",
    "country_mapping = {'United-States':1, 'Cambodia':2, 'England':3\n",
    "                   , 'Puerto-Rico':4, 'Canada':5, 'Germany':6\n",
    "                   , 'Outlying-US(Guam-USVI-etc)':7, 'India':8\n",
    "                   , 'Japan':9, 'Greece':10, 'South':11\n",
    "                   , 'China':12, 'Cuba':13, 'Iran':14\n",
    "                   , 'Honduras':15, 'Philippines':16, 'Italy':17\n",
    "                   , 'Poland':18, 'Jamaica':19, 'Vietnam':20\n",
    "                   , 'Mexico':21, 'Portugal':22, 'Ireland':23\n",
    "                   , 'France':24, 'Dominican-Republic':25, 'Laos':26\n",
    "                   , 'Ecuador':27, 'Taiwan':28, 'Haiti':29\n",
    "                   , 'Columbia':30, 'Hungary':31, 'Guatemala':32\n",
    "                   , 'Nicaragua':33, 'Scotland':34, 'Thailand':35\n",
    "                   , 'Yugoslavia':36, 'El-Salvador':37, 'Trinadad&Tobago':38\n",
    "                   , 'Peru':39, 'Hong':40, 'Holand-Netherlands':41}\n",
    "TR = TR.replace(country_mapping)\n",
    "\n",
    "salary_mapping = {'<=50K':0, '>50K':1}\n",
    "TR = TR.replace(salary_mapping)\n",
    "\n",
    "TR = TR.replace(to_replace='?', value=np.nan)\n",
    "TR.dropna(inplace=True)\n",
    "\n",
    "R=TR.values\n",
    "shape = R.shape\n",
    "X = R[:, :shape[1]-1].astype(np.float32)\n",
    "y = R[:, shape[1]-1].astype(np.int32)\n",
    "\n",
    "X = X[:5000]\n",
    "y = y[:5000]\n",
    "\n",
    "X_train,X_test,y_train,y_test = sklearn.model_selection.train_test_split(X, y, test_size=0.2, random_state=0)"
   ]
  },
  {
   "cell_type": "code",
   "execution_count": 63,
   "metadata": {},
   "outputs": [],
   "source": [
    "# Standardization\n",
    "scaler = sklearn.preprocessing.StandardScaler().fit(X_train)\n",
    "X_train = scaler.transform(X_train)\n",
    "X_test = scaler.transform(X_test)"
   ]
  },
  {
   "cell_type": "code",
   "execution_count": 64,
   "metadata": {},
   "outputs": [
    {
     "data": {
      "image/png": "[encoded data removed]",
      "text/plain": [
       "<Figure size 432x288 with 1 Axes>"
      ]
     },
     "metadata": {
      "needs_background": "light"
     },
     "output_type": "display_data"
    },
    {
     "data": {
      "image/png": "[encoded data removed]",
      "text/plain": [
       "<Figure size 432x288 with 1 Axes>"
      ]
     },
     "metadata": {
      "needs_background": "light"
     },
     "output_type": "display_data"
    }
   ],
   "source": [
    "test_score_dt7, train_score_dt7, dtree7, roc_auc_dt7, t_dt7 = DecisionTree(X_train, y_train, X_test, y_test)\n",
    "test_score_nl7, train_score_nl7, nnetwork7, roc_auc_nl7, t_nl7 = NeuralNetwork(X_train, y_train, X_test, y_test)"
   ]
  },
  {
   "cell_type": "code",
   "execution_count": 65,
   "metadata": {},
   "outputs": [
    {
     "name": "stdout",
     "output_type": "stream",
     "text": [
      "Best Decision classifier from grid search:\n",
      "DecisionTreeClassifier(max_depth=9, max_features='auto',\n",
      "                       min_samples_leaf=0.0001,\n",
      "                       min_samples_split=0.05644444444444444, random_state=0)\n",
      "\n",
      "\n",
      "Best Neural Network classifier from grid search:\n",
      "MLPClassifier(activation='identity', batch_size=80, max_iter=3000, momentum=0.5,\n",
      "              random_state=0)\n",
      "\n",
      "\n",
      "                Decision Tree  Neural Network        Best time\n",
      "Elapsed time        36.658263     2050.894728    Decision Tree\n",
      "\n",
      "\n",
      "                Decision Tree  Neural Network     Best Score\n",
      "Test Accuracy       84.600000       82.100000  Decision Tree\n",
      "Train Accuracy      84.800000       83.425000  Decision Tree\n",
      "ROC AUC             88.138333       87.315865  Decision Tree\n"
     ]
    }
   ],
   "source": [
    "# Display results for dataset 7\n",
    "print('Best Decision classifier from grid search:')\n",
    "print(dtree7)\n",
    "print('\\n')\n",
    "print('Best Neural Network classifier from grid search:')\n",
    "print(nnetwork7)\n",
    "print('\\n')\n",
    "\n",
    "models_time = pd.DataFrame({'  Decision Tree':[t_dt7 ],\n",
    "                                    'Neural Network':[t_nl7]\n",
    "                                   },  \n",
    "                                    index=['Elapsed time'])\n",
    "models_time['Best time'] = models_time.idxmin(axis=1)\n",
    "print(models_time)\n",
    "print('\\n')\n",
    "\n",
    "models_scores_table = pd.DataFrame({'Decision Tree':[test_score_dt7, train_score_dt7, roc_auc_dt7],\n",
    "                                        'Neural Network':[test_score_nl7, train_score_nl7, roc_auc_nl7]\n",
    "                                   },  \n",
    "                                    index=['Test Accuracy', 'Train Accuracy', 'ROC AUC'])\n",
    "models_scores_table['Best Score'] = models_scores_table.idxmax(axis=1)\n",
    "print(models_scores_table)"
   ]
  },
  {
   "cell_type": "code",
   "execution_count": null,
   "metadata": {},
   "outputs": [],
   "source": []
  },
  {
   "cell_type": "markdown",
   "metadata": {},
   "source": [
    "# 8. Yeast Dataset"
   ]
  },
  {
   "cell_type": "code",
   "execution_count": 97,
   "metadata": {},
   "outputs": [
    {
     "name": "stdout",
     "output_type": "stream",
     "text": [
      "(1187,) (297,)\n"
     ]
    }
   ],
   "source": [
    "# data loading\n",
    "dataset_url = os.path.join(yeast_dataset_directory, 'yeast_dataset.csv')\n",
    "\n",
    "f = open(dataset_url, \"rt\")\n",
    "lines = f.readlines()\n",
    "f.close()\n",
    "\n",
    "for index, line in enumerate(lines):\n",
    "    lines[index] = \",\".join(line.split()) + '\\n'\n",
    "f = open(dataset_url, \"wt\")\n",
    "f.writelines(lines)\n",
    "f.close()\n",
    "\n",
    "TR=pd.read_csv(dataset_url, encoding='utf8', header=None, usecols = np.arange(1, 10, 1))\n",
    "TR = TR.apply(lambda x: x.apply(lambda y: y.strip() if type(y) == type('') else y), axis=0)\n",
    "\n",
    "localization_site_mapping = {'MIT':1, 'NUC':2, 'CYT':3\n",
    "                     , 'ME1':4, 'EXC':5, 'ME2':6\n",
    "                     , 'ME3':7, 'VAC':8, 'POX':9\n",
    "                     , 'ERL':10}\n",
    "TR = TR.replace(localization_site_mapping)\n",
    "\n",
    "TR = TR.replace(to_replace='?', value=np.nan)\n",
    "TR.dropna(inplace=True)\n",
    "\n",
    "R=TR.values\n",
    "shape = R.shape\n",
    "X = R[:, :shape[1]-1].astype(np.float32)\n",
    "y = R[:, shape[1]-1].astype(np.int32)\n",
    "# print(X[0], y[0])\n",
    "\n",
    "X = X[:5000]\n",
    "y = y[:5000]\n",
    "\n",
    "X_train,X_test,y_train,y_test = train_test_split(X, y, test_size=0.2, random_state=0)\n",
    "print(y_train.shape, y_test.shape)\n",
    "# print(y_test)"
   ]
  },
  {
   "cell_type": "code",
   "execution_count": 94,
   "metadata": {},
   "outputs": [],
   "source": [
    "# Standardization\n",
    "scaler = sklearn.preprocessing.StandardScaler().fit(X_train)\n",
    "X_train = scaler.transform(X_train)\n",
    "X_test = scaler.transform(X_test)"
   ]
  },
  {
   "cell_type": "code",
   "execution_count": 98,
   "metadata": {},
   "outputs": [
    {
     "name": "stderr",
     "output_type": "stream",
     "text": [
      "C:\\Users\\Manish\\anaconda3\\lib\\site-packages\\sklearn\\neural_network\\_multilayer_perceptron.py:582: ConvergenceWarning: Stochastic Optimizer: Maximum iterations (1000) reached and the optimization hasn't converged yet.\n",
      "  warnings.warn(\n",
      "C:\\Users\\Manish\\anaconda3\\lib\\site-packages\\sklearn\\neural_network\\_multilayer_perceptron.py:582: ConvergenceWarning: Stochastic Optimizer: Maximum iterations (1000) reached and the optimization hasn't converged yet.\n",
      "  warnings.warn(\n",
      "C:\\Users\\Manish\\anaconda3\\lib\\site-packages\\sklearn\\neural_network\\_multilayer_perceptron.py:582: ConvergenceWarning: Stochastic Optimizer: Maximum iterations (1000) reached and the optimization hasn't converged yet.\n",
      "  warnings.warn(\n"
     ]
    }
   ],
   "source": [
    "test_score_dt8, train_score_dt8, dtree8, roc_auc_dt8, t_dt8 = DecisionTree(X_train, y_train, X_test, y_test)\n",
    "test_score_nl8, train_score_nl8, nnetwork8, roc_auc_nl8, t_nl8 = NeuralNetwork(X_train, y_train, X_test, y_test)"
   ]
  },
  {
   "cell_type": "code",
   "execution_count": 99,
   "metadata": {},
   "outputs": [
    {
     "name": "stdout",
     "output_type": "stream",
     "text": [
      "Best Decision classifier from grid search:\n",
      "DecisionTreeClassifier(max_depth=7, max_features='auto',\n",
      "                       min_samples_leaf=0.0001, min_samples_split=0.001,\n",
      "                       random_state=0)\n",
      "\n",
      "\n",
      "Best Neural Network classifier from grid search:\n",
      "MLPClassifier(batch_size=80, max_iter=1000, momentum=0.0001, random_state=0)\n",
      "\n",
      "\n",
      "                Decision Tree  Neural Network        Best time\n",
      "Elapsed time        25.669086      497.342355    Decision Tree\n",
      "\n",
      "\n",
      "                Decision Tree  Neural Network      Best Score\n",
      "Test Accuracy       59.259259       62.962963  Neural Network\n",
      "Train Accuracy      66.301601       62.847515   Decision Tree\n",
      "ROC AUC             72.395288       74.931136  Neural Network\n"
     ]
    }
   ],
   "source": [
    "# Display results for dataset 8\n",
    "print('Best Decision classifier from grid search:')\n",
    "print(dtree8 )\n",
    "print('\\n')\n",
    "print('Best Neural Network classifier from grid search:')\n",
    "print(nnetwork8)\n",
    "print('\\n')\n",
    "\n",
    "models_time = pd.DataFrame({'  Decision Tree':[t_dt8],\n",
    "                                    'Neural Network':[t_nl8]\n",
    "                                   },  \n",
    "                                    index=['Elapsed time'])\n",
    "models_time['Best time'] = models_time.idxmin(axis=1)\n",
    "print(models_time)\n",
    "print('\\n')\n",
    "\n",
    "models_scores_table = pd.DataFrame({'Decision Tree':[test_score_dt8, train_score_dt8, roc_auc_dt8],\n",
    "                                        'Neural Network':[test_score_nl8, train_score_nl8, roc_auc_nl8]\n",
    "                                   },  \n",
    "                                    index=['Test Accuracy', 'Train Accuracy', 'ROC AUC'])\n",
    "models_scores_table['Best Score'] = models_scores_table.idxmax(axis=1)\n",
    "print(models_scores_table)"
   ]
  },
  {
   "cell_type": "code",
   "execution_count": null,
   "metadata": {},
   "outputs": [],
   "source": []
  },
  {
   "cell_type": "code",
   "execution_count": 100,
   "metadata": {},
   "outputs": [
    {
     "name": "stdout",
     "output_type": "stream",
     "text": [
      "                      Decision Tree  Neural Network   Elapsed time\n",
      "Occupancy data           104.808243      806.311585  Decision Tree\n",
      "Bank marketting           70.403311     1106.069181  Decision Tree\n",
      "Activity recognition      75.190620     1600.632063  Decision Tree\n",
      "Bitcoin Ransonware        86.089562      316.810608  Decision Tree\n",
      "Montreal Crime            69.242580      462.130649  Decision Tree\n",
      "Credit Cards              63.126107     2665.129709  Decision Tree\n",
      "Census Income             36.658263     2050.894728  Decision Tree\n",
      "Yeast Dataset             25.669086      497.342355  Decision Tree\n",
      "\n",
      "\n",
      "                      Decision Tree  Neural Network      Best Score\n",
      "Occupancy data            98.250877       99.208737  Neural Network\n",
      "Bank marketting           60.513494       59.986297   Decision Tree\n",
      "Activity recognition      96.921897       97.108949  Neural Network\n",
      "Bitcoin Ransonware        98.543886       99.227368  Neural Network\n",
      "Montreal Crime            55.426771       54.278632   Decision Tree\n",
      "Credit Cards              73.911347       71.310618   Decision Tree\n",
      "Census Income             88.138333       87.315865   Decision Tree\n",
      "Yeast Dataset             72.395288       74.931136  Neural Network\n"
     ]
    }
   ],
   "source": [
    "# Combined results of all datasets for decision tree and neural network\n",
    "models_time = pd.DataFrame({'Decision Tree':[t_dt1, t_dt2, t_dt3,t_dt4,t_dt5,t_dt6,t_dt7,t_dt8],\n",
    "                                        'Neural Network':[t_nl1,t_nl2,t_nl3,t_nl4,t_nl5,t_nl6,t_nl7,t_nl8]\n",
    "                                   },  \n",
    "                                    index=['Occupancy data', 'Bank marketting', 'Activity recognition','Bitcoin Ransonware', 'Montreal Crime','Credit Cards', 'Census Income', 'Yeast Dataset'])\n",
    "models_time['Elapsed time'] = models_time.idxmin(axis=1)\n",
    "print(models_time)\n",
    "print('\\n')\n",
    "\n",
    "models_scores_table = pd.DataFrame({'Decision Tree':[roc_auc_dt1,roc_auc_dt2,roc_auc_dt3,roc_auc_dt4,roc_auc_dt5,roc_auc_dt6,roc_auc_dt7,roc_auc_dt8],\n",
    "                                    'Neural Network':[roc_auc_nl1,roc_auc_nl2,roc_auc_nl3,roc_auc_nl4,roc_auc_nl5,roc_auc_nl6,roc_auc_nl7,roc_auc_nl8]\n",
    "                                   },  \n",
    "                                    index=['Occupancy data', 'Bank marketting', 'Activity recognition','Bitcoin Ransonware', 'Montreal Crime','Credit Cards', 'Census Income', 'Yeast Dataset'])\n",
    "models_scores_table['Best Score'] = models_scores_table.idxmax(axis=1)\n",
    "print(models_scores_table)"
   ]
  },
  {
   "cell_type": "code",
   "execution_count": null,
   "metadata": {},
   "outputs": [],
   "source": []
  }
 ],
 "metadata": {
  "kernelspec": {
   "display_name": "Python 3",
   "language": "python",
   "name": "python3"
  },
  "language_info": {
   "codemirror_mode": {
    "name": "ipython",
    "version": 3
   },
   "file_extension": ".py",
   "mimetype": "text/x-python",
   "name": "python",
   "nbconvert_exporter": "python",
   "pygments_lexer": "ipython3",
   "version": "3.8.3"
  }
 },
 "nbformat": 4,
 "nbformat_minor": 4
}
