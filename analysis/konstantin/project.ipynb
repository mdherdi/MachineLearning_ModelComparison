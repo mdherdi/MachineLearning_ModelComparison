{
 "cells": [
  {
   "cell_type": "markdown",
   "metadata": {},
   "source": [
    "# COMP 6321 Machine Learning Project"
   ]
  },
  {
   "cell_type": "code",
   "execution_count": 124,
   "metadata": {},
   "outputs": [],
   "source": [
    "import numpy as np\n",
    "import matplotlib\n",
    "import matplotlib.pyplot as plt\n",
    "import sklearn\n",
    "import sklearn.tree        # For DecisionTreeClassifier class\n",
    "import sklearn.ensemble    # For RandomForestClassifier class\n",
    "import sklearn.metrics     # For accuracy_score\n",
    "import pandas as pd\n",
    "import glob\n",
    "import time\n",
    "import datetime"
   ]
  },
  {
   "cell_type": "code",
   "execution_count": 2,
   "metadata": {},
   "outputs": [],
   "source": [
    "# Random Forest simple training and evaluation code\n",
    "def randomForestSimple (X_train, y_train, X_test, y_test):\n",
    "    rfc=sklearn.ensemble.RandomForestClassifier(random_state=0)\n",
    "    rfc.fit(X_train, y_train)\n",
    "    z_train=rfc.predict(X_train)\n",
    "    z_test=rfc.predict(X_test)\n",
    "    sklearn.metrics.plot_roc_curve(rfc, X_test, y_test)\n",
    "    return sklearn.metrics.accuracy_score(y_train, z_train)*100, sklearn.metrics.accuracy_score(y_test, z_test)*100"
   ]
  },
  {
   "cell_type": "code",
   "execution_count": 3,
   "metadata": {},
   "outputs": [],
   "source": [
    "# Random Forest training and evaluation code\n",
    "def randomForestsTrainEval (X_train, y_train):\n",
    "    start = time.time()\n",
    "    depth=np.arange(1,10,2)\n",
    "    estimators=2**np.arange(0,11,2)\n",
    "    rfc=sklearn.ensemble.RandomForestClassifier(random_state=0)\n",
    "    param_grid = { 'n_estimators': estimators, 'max_depth': depth}\n",
    "    gs=sklearn.model_selection.GridSearchCV(rfc, param_grid, verbose=0, cv=3)\n",
    "    gs.fit(X_train, y_train)\n",
    "    t = time.time()-start\n",
    "    return gs.best_estimator_, t"
   ]
  },
  {
   "cell_type": "code",
   "execution_count": 108,
   "metadata": {
    "scrolled": false
   },
   "outputs": [],
   "source": [
    "# Model plotting code\n",
    "def plotModel (m, t, X_train, y_train, X_test, y_test):\n",
    "    z_train=m.predict(X_train)\n",
    "    z_test=m.predict(X_test)\n",
    "    print (m)\n",
    "    ac_train=sklearn.metrics.accuracy_score(y_train, z_train)*100\n",
    "    ac_test=sklearn.metrics.accuracy_score(y_test, z_test)*100\n",
    "    print (\"Elapsed time:            \"+\"{:.4f}\".format(t)+\" sec\")\n",
    "    print (\"Training accuracy score: \"+\"{:.4f}\".format(ac_train)+\"%\")\n",
    "    print (\"Test accuracy score:     \"+\"{:.4f}\".format(ac_test)+\"%\")\n",
    "    if np.unique(y_train).size>2:\n",
    "        lb = sklearn.preprocessing.LabelBinarizer()\n",
    "        yy_test=lb.fit_transform(y_test)\n",
    "        zz_test=lb.transform(z_test)\n",
    "        roc=sklearn.metrics.roc_auc_score(yy_test, m.predict_proba(X_test), multi_class=\"ovr\", average=\"weighted\")*100\n",
    "        print (\"ROC AUC score:           \"+\"{:.4f}\".format(roc)+\"%\")\n",
    "    else:\n",
    "        roc=sklearn.metrics.roc_auc_score(y_test, m.predict_proba(X_test)[:, 1])*100\n",
    "        print (\"ROC AUC score:           \"+\"{:.4f}\".format(roc)+\"%\")\n",
    "        sklearn.metrics.plot_roc_curve(m, X_test, y_test)\n",
    "    return ac_train, ac_test, roc"
   ]
  },
  {
   "cell_type": "code",
   "execution_count": 5,
   "metadata": {},
   "outputs": [],
   "source": [
    "# Ada Boost simple training and evaluation code\n",
    "def adaBoostSimple (X_train, y_train, X_test, y_test):\n",
    "    abc=sklearn.ensemble.AdaBoostClassifier(random_state=0,algorithm='SAMME.R')\n",
    "    abc.fit(X_train, y_train)\n",
    "    z_train=abc.predict(X_train)\n",
    "    z_test=abc.predict(X_test)\n",
    "    sklearn.metrics.plot_roc_curve(abc, X_test, y_test)\n",
    "    return sklearn.metrics.accuracy_score(y_train, z_train)*100, sklearn.metrics.accuracy_score(y_test, z_test)*100"
   ]
  },
  {
   "cell_type": "code",
   "execution_count": 6,
   "metadata": {},
   "outputs": [],
   "source": [
    "# Ada Boost training and evaluation code\n",
    "def adaBoostTrainEval (X_train, y_train):\n",
    "    start = time.time()\n",
    "    estimators=10*np.arange(1,11,2)\n",
    "    abc=sklearn.ensemble.AdaBoostClassifier(random_state=0,algorithm='SAMME.R')\n",
    "    param_grid = { 'n_estimators': estimators}\n",
    "    gs=sklearn.model_selection.GridSearchCV(abc, param_grid, verbose=0, cv=3)\n",
    "    gs.fit(X_train, y_train)\n",
    "    t = time.time()-start\n",
    "    return gs.best_estimator_, t"
   ]
  },
  {
   "cell_type": "code",
   "execution_count": 7,
   "metadata": {},
   "outputs": [],
   "source": [
    "results=np.zeros((8, 9, 4))\n",
    "datasets=np.array(['Occupancy', 'Bank Marketing', 'Activity Recognition', 'Bitcoin Ransomware', \n",
    "                      'Montreal Crime', 'Credit Card', 'Census Income', 'Yeast', \n",
    "                      'Magic Gamma Telescope'])\n",
    "methods=np.array(['K-nearest neighbours', 'Support vector', 'Decision tree', 'Random forest',\n",
    "                     'AdaBoost', 'Logistic regression', 'Gaussian naive Bayes', 'Neural network'])\n",
    "stats=np.array(['Elapsed Time', 'Training Accuracy Score', 'Testing Accuracy score', 'ROC AUC score'])"
   ]
  },
  {
   "cell_type": "markdown",
   "metadata": {},
   "source": [
    "# 1. Occupancy dataset"
   ]
  },
  {
   "cell_type": "code",
   "execution_count": 8,
   "metadata": {
    "scrolled": false
   },
   "outputs": [],
   "source": [
    "# Loading code\n",
    "R=np.loadtxt('../../datasets/1_occupancy/occupancy_data/datatraining.txt', delimiter=',', skiprows=1, usecols = (2,3,4,5,6,7))\n",
    "X_train=R[:, 0:5]\n",
    "y_train=R[:, 5].astype(np.int32)\n",
    "T=np.loadtxt('../../datasets/1_occupancy/occupancy_data/datatest.txt', delimiter=',', skiprows=1, usecols = (2,3,4,5,6,7))\n",
    "X_test=T[:, 0:5]\n",
    "y_test=T[:, 5].astype(np.int32)"
   ]
  },
  {
   "cell_type": "code",
   "execution_count": 9,
   "metadata": {},
   "outputs": [],
   "source": [
    "# Training and evaluation code\n",
    "m, t=randomForestsTrainEval (X_train, y_train)"
   ]
  },
  {
   "cell_type": "code",
   "execution_count": 10,
   "metadata": {
    "scrolled": false
   },
   "outputs": [
    {
     "name": "stdout",
     "output_type": "stream",
     "text": [
      "RandomForestClassifier(max_depth=3, n_estimators=256, random_state=0)\n",
      "Elapsed time:            71.5160 sec\n",
      "Training accuracy score: 98.9193%\n",
      "Test accuracy score:     97.8236%\n",
      "ROC AUC score:           98.1994%\n"
     ]
    },
    {
     "data": {
      "image/png": "[encoded data removed]",
      "text/plain": [
       "<Figure size 432x288 with 1 Axes>"
      ]
     },
     "metadata": {
      "needs_background": "light"
     },
     "output_type": "display_data"
    }
   ],
   "source": [
    "# Plotting code\n",
    "results [3, 0, 0]=t\n",
    "results [3, 0, 1], results [3, 0, 2], results [3, 0, 3] = plotModel (m, t, X_train, y_train, X_test, y_test)"
   ]
  },
  {
   "cell_type": "code",
   "execution_count": 11,
   "metadata": {},
   "outputs": [],
   "source": [
    "# Training and evaluation code\n",
    "m, t=adaBoostTrainEval (X_train, y_train)"
   ]
  },
  {
   "cell_type": "code",
   "execution_count": 12,
   "metadata": {
    "scrolled": false
   },
   "outputs": [
    {
     "name": "stdout",
     "output_type": "stream",
     "text": [
      "AdaBoostClassifier(n_estimators=10, random_state=0)\n",
      "Elapsed time:            3.1860 sec\n",
      "Training accuracy score: 99.1895%\n",
      "Test accuracy score:     96.5854%\n",
      "ROC AUC score:           96.4800%\n"
     ]
    },
    {
     "data": {
      "image/png": "[encoded data removed]",
      "text/plain": [
       "<Figure size 432x288 with 1 Axes>"
      ]
     },
     "metadata": {
      "needs_background": "light"
     },
     "output_type": "display_data"
    }
   ],
   "source": [
    "# Plotting code\n",
    "results [4, 0, 0]=t\n",
    "results [4, 0, 1], results [4, 0, 2], results [4, 0, 3] = plotModel (m, t, X_train, y_train, X_test, y_test)"
   ]
  },
  {
   "cell_type": "markdown",
   "metadata": {},
   "source": [
    "# 2. Bank Marketing dataset"
   ]
  },
  {
   "cell_type": "code",
   "execution_count": 77,
   "metadata": {
    "scrolled": false
   },
   "outputs": [],
   "source": [
    "# Loading code\n",
    "job_mapping = {'admin.':1, 'blue-collar':2, 'entrepreneur':3, 'housemaid':4, 'management':5, 'retired':6, 'self-employed':7, 'services':8, 'student':9, 'technician':10, 'unemployed':11, 'unknown':0}\n",
    "boolean_mapping ={'no': 0, 'yes': 1}\n",
    "marital_mapping ={'divorced':1, 'married':2, 'single':3}\n",
    "education_mapping={'basic.4y':1, 'basic.6y':2, 'basic.9y':3, 'high.school':4, 'illiterate':5, 'professional.course':6, 'university.degree':7}\n",
    "contact_mapping={'cellular':1, 'telephone':2}\n",
    "month_mapping={'may':5, 'jun':6, 'nov':11, 'sep':9, 'jul':7, 'aug':8, 'mar':3, 'oct':10, 'apr':4, 'dec':12}\n",
    "day_mapping={'fri':5, 'wed':3, 'mon':1, 'thu':4, 'tue':2}\n",
    "poutcome_mapping={'nonexistent':1, 'failure':2, 'success':3}\n",
    "R=pd.read_csv('../../datasets/4_bank_additional/bank-additional/bank-additional/bank-additional.csv', delimiter=';').replace(boolean_mapping).replace(job_mapping).replace(marital_mapping).replace(education_mapping).replace(contact_mapping).replace(month_mapping).replace(day_mapping).replace(poutcome_mapping).values\n",
    "X_train=R[:, [0,1,2,3,4,5,6,7,8,9,11,12,13,14,15,16,17,18,19]]\n",
    "y_train=R[:, 20].astype(np.int32)\n",
    "T=pd.read_csv('../../datasets/4_bank_additional/bank-additional/bank-additional/bank-additional-full.csv', delimiter=';').replace(boolean_mapping).replace(job_mapping).replace(marital_mapping).replace(education_mapping).replace(contact_mapping).replace(month_mapping).replace(day_mapping).replace(poutcome_mapping).values\n",
    "X_test=T[:, [0,1,2,3,4,5,6,7,8,9,11,12,13,14,15,16,17,18,19]]\n",
    "y_test=T[:, 20].astype(np.int32)"
   ]
  },
  {
   "cell_type": "code",
   "execution_count": 78,
   "metadata": {},
   "outputs": [],
   "source": [
    "# Training and evaluation code\n",
    "m, t=randomForestsTrainEval (X_train, y_train)"
   ]
  },
  {
   "cell_type": "code",
   "execution_count": 90,
   "metadata": {
    "scrolled": false
   },
   "outputs": [
    {
     "name": "stdout",
     "output_type": "stream",
     "text": [
      "RandomForestClassifier(max_depth=3, n_estimators=4, random_state=0)\n",
      "Elapsed time:            47.3245 sec\n",
      "Training accuracy score: 90.3860%\n",
      "Test accuracy score:     89.7009%\n",
      "ROC AUC score:           76.9093%\n"
     ]
    },
    {
     "data": {
      "image/png": "[encoded data removed]",
      "text/plain": [
       "<Figure size 432x288 with 1 Axes>"
      ]
     },
     "metadata": {
      "needs_background": "light"
     },
     "output_type": "display_data"
    }
   ],
   "source": [
    "# Plotting code\n",
    "results [3, 1, 0]=t\n",
    "results [3, 1, 1], results [3, 1, 2], results [3, 1, 3] = plotModel (m, t, X_train, y_train, X_test, y_test)"
   ]
  },
  {
   "cell_type": "code",
   "execution_count": 94,
   "metadata": {},
   "outputs": [],
   "source": [
    "# Training and evaluation code\n",
    "m, t=adaBoostTrainEval (X_train, y_train)"
   ]
  },
  {
   "cell_type": "code",
   "execution_count": 95,
   "metadata": {
    "scrolled": false
   },
   "outputs": [
    {
     "name": "stdout",
     "output_type": "stream",
     "text": [
      "AdaBoostClassifier(n_estimators=10, random_state=0)\n",
      "Elapsed time:            2.5861 sec\n",
      "Training accuracy score: 90.3375%\n",
      "Test accuracy score:     89.8708%\n",
      "ROC AUC score:           77.3692%\n"
     ]
    },
    {
     "data": {
      "image/png": "[encoded data removed]",
      "text/plain": [
       "<Figure size 432x288 with 1 Axes>"
      ]
     },
     "metadata": {
      "needs_background": "light"
     },
     "output_type": "display_data"
    }
   ],
   "source": [
    "# Plotting code\n",
    "results [4, 1, 0]=t\n",
    "results [4, 1, 1], results [4, 1, 2], results [4, 1, 3] = plotModel (m, t, X_train, y_train, X_test, y_test)"
   ]
  },
  {
   "cell_type": "markdown",
   "metadata": {},
   "source": [
    "# 3. Activity Recognition dataset"
   ]
  },
  {
   "cell_type": "code",
   "execution_count": 111,
   "metadata": {
    "scrolled": false
   },
   "outputs": [],
   "source": [
    "# Loading code\n",
    "files = glob.glob(\"../../datasets/2_healthy_older_people/Datasets_Healthy_Older_People/datasets/S2_Dataset/d*\")\n",
    "Rs = [pd.read_csv(f, header=None) for f in files]\n",
    "R=pd.concat(Rs,ignore_index=True).values\n",
    "X_train=R[:, 1:8]\n",
    "y_train=R[:, 8].astype(np.int32)\n",
    "files = glob.glob(\"../../datasets/2_healthy_older_people/Datasets_Healthy_Older_People/datasets/S1_Dataset/d*\")\n",
    "Ts = [pd.read_csv(f, header=None) for f in files]\n",
    "T=pd.concat(Ts,ignore_index=True).values\n",
    "X_test=T[:, 1:8]\n",
    "y_test=T[:, 8].astype(np.int32)"
   ]
  },
  {
   "cell_type": "code",
   "execution_count": 112,
   "metadata": {},
   "outputs": [],
   "source": [
    "# Training and evaluation code\n",
    "m, t=randomForestsTrainEval (X_train, y_train)"
   ]
  },
  {
   "cell_type": "code",
   "execution_count": 113,
   "metadata": {
    "scrolled": false
   },
   "outputs": [
    {
     "name": "stdout",
     "output_type": "stream",
     "text": [
      "RandomForestClassifier(max_depth=7, n_estimators=4, random_state=0)\n",
      "Elapsed time:            137.6476 sec\n",
      "Training accuracy score: 98.8961%\n",
      "Test accuracy score:     50.3354%\n",
      "ROC AUC score:           82.0695%\n"
     ]
    }
   ],
   "source": [
    "# Plotting code\n",
    "results [3, 2, 0]=t\n",
    "results [3, 2, 1], results [3, 2, 2], results [3, 2, 3] = plotModel (m, t, X_train, y_train, X_test, y_test)"
   ]
  },
  {
   "cell_type": "code",
   "execution_count": 114,
   "metadata": {},
   "outputs": [],
   "source": [
    "# Training and evaluation code\n",
    "m, t=adaBoostTrainEval (X_train, y_train)"
   ]
  },
  {
   "cell_type": "code",
   "execution_count": 115,
   "metadata": {
    "scrolled": false
   },
   "outputs": [
    {
     "name": "stdout",
     "output_type": "stream",
     "text": [
      "AdaBoostClassifier(n_estimators=90, random_state=0)\n",
      "Elapsed time:            8.7120 sec\n",
      "Training accuracy score: 92.2282%\n",
      "Test accuracy score:     32.6264%\n",
      "ROC AUC score:           79.7409%\n"
     ]
    }
   ],
   "source": [
    "# Plotting code\n",
    "results [4, 2, 0]=t\n",
    "results [4, 2, 1], results [4, 2, 2], results [4, 2, 3] = plotModel (m, t, X_train, y_train, X_test, y_test)"
   ]
  },
  {
   "cell_type": "markdown",
   "metadata": {},
   "source": [
    "# 4. Bitcoin Ransomeware dataset"
   ]
  },
  {
   "cell_type": "code",
   "execution_count": 23,
   "metadata": {
    "scrolled": true
   },
   "outputs": [],
   "source": [
    "# Loading code\n",
    "nrows=100000\n",
    "nparts=10\n",
    "ntest=nrows//nparts\n",
    "label_mapping = {'princetonCerber':1, 'princetonLocky':1, 'montrealCryptoLocker':1,\n",
    " 'montrealCryptXXX':1, 'paduaCryptoWall':1, 'montrealWannaCry':1,\n",
    " 'montrealDMALockerv3':1, 'montrealCryptoTorLocker2015':1, 'montrealSamSam':1,\n",
    " 'montrealFlyper':1, 'montrealNoobCrypt':1, 'montrealDMALocker':1, 'montrealGlobe':1,\n",
    " 'montrealEDA2':1, 'paduaKeRanger':1, 'montrealVenusLocker':1, 'montrealXTPLocker':1,\n",
    " 'paduaJigsaw':1, 'montrealGlobev3':1, 'montrealJigSaw':1, 'montrealXLockerv5.0':1,\n",
    " 'montrealXLocker':1, 'montrealRazy':1, 'montrealCryptConsole':1,\n",
    " 'montrealGlobeImposter':1, 'montrealSam':1, 'montrealComradeCircle':1,\n",
    " 'montrealAPT':1, 'white':0}\n",
    "R=pd.read_csv('../../datasets/3_bitcoin_heist_ransonware_address/data/BitcoinHeistData.csv', nrows=nrows, usecols=[\"year\",\"day\",\"length\",\"weight\",\"count\",\"looped\",\"neighbors\",\"income\",\"label\"]).replace(label_mapping).values\n",
    "np.random.seed(0)\n",
    "np.random.shuffle(R)\n",
    "X_train=R[:ntest, 0:8]\n",
    "y_train=R[:ntest, 8].astype(np.int32)\n",
    "X_test=R[ntest:, 0:8]\n",
    "y_test=R[ntest:, 8].astype(np.int32)"
   ]
  },
  {
   "cell_type": "code",
   "execution_count": 24,
   "metadata": {},
   "outputs": [],
   "source": [
    "# Training and evaluation code\n",
    "m, t=randomForestsTrainEval (X_train, y_train)"
   ]
  },
  {
   "cell_type": "code",
   "execution_count": 25,
   "metadata": {
    "scrolled": false
   },
   "outputs": [
    {
     "name": "stdout",
     "output_type": "stream",
     "text": [
      "RandomForestClassifier(max_depth=3, n_estimators=256, random_state=0)\n",
      "Elapsed time:            63.5272 sec\n",
      "Training accuracy score: 100.0000%\n",
      "Test accuracy score:     100.0000%\n",
      "ROC AUC score:           100.0000%\n"
     ]
    },
    {
     "data": {
      "image/png": "[encoded data removed]",
      "text/plain": [
       "<Figure size 432x288 with 1 Axes>"
      ]
     },
     "metadata": {
      "needs_background": "light"
     },
     "output_type": "display_data"
    }
   ],
   "source": [
    "# Plotting code\n",
    "results [3, 3, 0]=t\n",
    "results [3, 3, 1], results [3, 3, 2], results [3, 3, 3] = plotModel (m, t, X_train, y_train, X_test, y_test)"
   ]
  },
  {
   "cell_type": "code",
   "execution_count": 26,
   "metadata": {},
   "outputs": [],
   "source": [
    "# Training and evaluation code\n",
    "m, t=adaBoostTrainEval (X_train, y_train)"
   ]
  },
  {
   "cell_type": "code",
   "execution_count": 27,
   "metadata": {
    "scrolled": false
   },
   "outputs": [
    {
     "name": "stdout",
     "output_type": "stream",
     "text": [
      "AdaBoostClassifier(n_estimators=10, random_state=0)\n",
      "Elapsed time:            3.9321 sec\n",
      "Training accuracy score: 100.0000%\n",
      "Test accuracy score:     100.0000%\n",
      "ROC AUC score:           100.0000%\n"
     ]
    },
    {
     "data": {
      "image/png": "[encoded data removed]",
      "text/plain": [
       "<Figure size 432x288 with 1 Axes>"
      ]
     },
     "metadata": {
      "needs_background": "light"
     },
     "output_type": "display_data"
    }
   ],
   "source": [
    "# Plotting code\n",
    "results [4, 3, 0]=t\n",
    "results [4, 3, 1], results [4, 3, 2], results [4, 3, 3] = plotModel (m, t, X_train, y_train, X_test, y_test)"
   ]
  },
  {
   "cell_type": "markdown",
   "metadata": {},
   "source": [
    "# 5. Montreal Crime dataset"
   ]
  },
  {
   "cell_type": "code",
   "execution_count": 132,
   "metadata": {
    "scrolled": true
   },
   "outputs": [],
   "source": [
    "# Loading code\n",
    "category_mapping = {'Introduction':1, 'Vol dans / sur véhicule à moteur':2, 'Vol de véhicule à moteur':3, 'Méfait':4, 'Vol qualifié':5, 'Infraction entraînant la mort':6, 'Vols qualifiés':5, 'Infractions entrainant la mort':6}\n",
    "shift_mapping ={'jour':1, 'soir':2, 'nuit':3}\n",
    "TR=pd.read_csv('../../datasets/5_interventionscitoyendo/interventionscitoyendo.csv', encoding='latin1').replace(category_mapping).replace(shift_mapping)\n",
    "TR['YEAR']=TR.DATE.str.split('-').str[0].astype(np.int32)\n",
    "TR['MONTH']=TR.DATE.str.split('-').str[1].astype(np.int32)\n",
    "TR['DAY']=TR.DATE.str.split('-').str[2].astype(np.int32)\n",
    "TR['DOW'] = pd.to_datetime(TR['DATE'] ,errors = 'coerce',format = '%Y-%m-%d').dt.dayofweek\n",
    "TR.dropna(inplace=True)\n",
    "R_train=TR.loc[TR['YEAR'] == 2018].values\n",
    "X_train=R_train[:, [2,3,4,5,6,7,9,10,11]]\n",
    "y_train=R_train[:, 0].astype(np.int32)\n",
    "R_test=TR.loc[TR['YEAR'] == 2019].values\n",
    "X_test=R_test[:, [2,3,4,5,6,7,9,10,11]]\n",
    "y_test=R_test[:, 0].astype(np.int32)"
   ]
  },
  {
   "cell_type": "code",
   "execution_count": 133,
   "metadata": {},
   "outputs": [],
   "source": [
    "# Training and evaluation code\n",
    "m, t=randomForestsTrainEval (X_train, y_train)"
   ]
  },
  {
   "cell_type": "code",
   "execution_count": 134,
   "metadata": {
    "scrolled": false
   },
   "outputs": [
    {
     "name": "stdout",
     "output_type": "stream",
     "text": [
      "RandomForestClassifier(max_depth=9, n_estimators=256, random_state=0)\n",
      "Elapsed time:            307.5568 sec\n",
      "Training accuracy score: 46.8224%\n",
      "Test accuracy score:     37.5879%\n",
      "ROC AUC score:           65.0284%\n"
     ]
    }
   ],
   "source": [
    "# Plotting code\n",
    "results [3, 4, 0]=t\n",
    "results [3, 4, 1], results [3, 4, 2], results [3, 4, 3] = plotModel (m, t, X_train, y_train, X_test, y_test)"
   ]
  },
  {
   "cell_type": "code",
   "execution_count": 135,
   "metadata": {},
   "outputs": [],
   "source": [
    "# Training and evaluation code\n",
    "m, t=adaBoostTrainEval (X_train, y_train)"
   ]
  },
  {
   "cell_type": "code",
   "execution_count": 136,
   "metadata": {
    "scrolled": false
   },
   "outputs": [
    {
     "name": "stdout",
     "output_type": "stream",
     "text": [
      "AdaBoostClassifier(n_estimators=90, random_state=0)\n",
      "Elapsed time:            24.2615 sec\n",
      "Training accuracy score: 35.9931%\n",
      "Test accuracy score:     34.4025%\n",
      "ROC AUC score:           54.7982%\n"
     ]
    }
   ],
   "source": [
    "# Plotting code\n",
    "results [4, 4, 0]=t\n",
    "results [4, 4, 1], results [4, 4, 2], results [4, 4, 3] = plotModel (m, t, X_train, y_train, X_test, y_test)"
   ]
  },
  {
   "cell_type": "markdown",
   "metadata": {},
   "source": [
    "# 6. Credit Card dataset"
   ]
  },
  {
   "cell_type": "code",
   "execution_count": 98,
   "metadata": {
    "scrolled": true
   },
   "outputs": [],
   "source": [
    "# Loading code\n",
    "R=pd.read_csv('../../datasets/6_credit_cards/default_of_credit_card_clients.csv', skiprows=1, usecols=np.arange(1, 26, 1)).values\n",
    "\n",
    "X = R[:, :23]\n",
    "y = R[:, 23].astype(np.int32)\n",
    "X = X[:5000]\n",
    "y = y[:5000]\n",
    "\n",
    "X_train,X_test,y_train,y_test = sklearn.model_selection.train_test_split(X, y, test_size=0.2, random_state=0)"
   ]
  },
  {
   "cell_type": "code",
   "execution_count": 99,
   "metadata": {},
   "outputs": [],
   "source": [
    "# Training and evaluation code\n",
    "m, t=randomForestsTrainEval (X_train, y_train)"
   ]
  },
  {
   "cell_type": "code",
   "execution_count": 100,
   "metadata": {
    "scrolled": false
   },
   "outputs": [
    {
     "name": "stdout",
     "output_type": "stream",
     "text": [
      "RandomForestClassifier(max_depth=9, n_estimators=1024, random_state=0)\n",
      "Elapsed time:            71.2750 sec\n",
      "Training accuracy score: 87.9500%\n",
      "Test accuracy score:     81.0000%\n",
      "ROC AUC score:           76.1062%\n"
     ]
    },
    {
     "data": {
      "image/png": "[encoded data removed]",
      "text/plain": [
       "<Figure size 432x288 with 1 Axes>"
      ]
     },
     "metadata": {
      "needs_background": "light"
     },
     "output_type": "display_data"
    }
   ],
   "source": [
    "# Plotting code\n",
    "results [3, 5, 0]=t\n",
    "results [3, 5, 1], results [3, 5, 2], results [3, 5, 3] = plotModel (m, t, X_train, y_train, X_test, y_test)"
   ]
  },
  {
   "cell_type": "code",
   "execution_count": 101,
   "metadata": {},
   "outputs": [],
   "source": [
    "# Training and evaluation code\n",
    "m, t=adaBoostTrainEval (X_train, y_train)"
   ]
  },
  {
   "cell_type": "code",
   "execution_count": 102,
   "metadata": {
    "scrolled": false
   },
   "outputs": [
    {
     "name": "stdout",
     "output_type": "stream",
     "text": [
      "AdaBoostClassifier(random_state=0)\n",
      "Elapsed time:            9.1500 sec\n",
      "Training accuracy score: 80.3500%\n",
      "Test accuracy score:     80.8000%\n",
      "ROC AUC score:           74.6242%\n"
     ]
    },
    {
     "data": {
      "image/png": "[encoded data removed]",
      "text/plain": [
       "<Figure size 432x288 with 1 Axes>"
      ]
     },
     "metadata": {
      "needs_background": "light"
     },
     "output_type": "display_data"
    }
   ],
   "source": [
    "# Plotting code\n",
    "results [4, 5, 0]=t\n",
    "results [4, 5, 1], results [4, 5, 2], results [4, 5, 3] = plotModel (m, t, X_train, y_train, X_test, y_test)"
   ]
  },
  {
   "cell_type": "markdown",
   "metadata": {},
   "source": [
    "# 7. Census Income Dataset"
   ]
  },
  {
   "cell_type": "code",
   "execution_count": 103,
   "metadata": {
    "scrolled": true
   },
   "outputs": [],
   "source": [
    "# Loading code\n",
    "TR=pd.read_csv('../../datasets/7_census_income/adult_data.csv', encoding='utf8', header=None)\n",
    "TR = TR.apply(lambda x: x.apply(lambda y: y.strip() if type(y) == type('') else y), axis=0)\n",
    "\n",
    "workclass_mapping = {'Private':1, 'Self-emp-not-inc':2\n",
    "                    , 'Self-emp-inc':3, 'Federal-gov':4\n",
    "                    , 'Local-gov':5, 'State-gov':6\n",
    "                    , 'Without-pay':7, 'Never-worked':8}\n",
    "TR = TR.replace(workclass_mapping)\n",
    "\n",
    "\n",
    "education_mapping = {'Bachelors':1, 'Some-college':2, '11th':3\n",
    "                     , 'HS-grad':4, 'Prof-school':5, 'Assoc-acdm':6\n",
    "                     , 'Assoc-voc':7, '9th':8, '7th-8th':9\n",
    "                     , '12th':10, 'Masters':11, '1st-4th':12\n",
    "                     , '10th':13, 'Doctorate':14, '5th-6th':15\n",
    "                     , 'Preschool':16}\n",
    "TR = TR.replace(education_mapping)\n",
    "\n",
    "marital_status_mapping = {'Married-civ-spouse':1, 'Divorced':2, 'Never-married':3\n",
    "                          , 'Separated':4, 'Widowed':5, 'Married-spouse-absent':6\n",
    "                          , 'Married-AF-spouse':7}\n",
    "TR = TR.replace(marital_status_mapping)\n",
    "\n",
    "occupation_mapping = {'Tech-support':1, 'Craft-repair':2, 'Other-service':3\n",
    "                      , 'Sales':4, 'Exec-managerial':5, 'Prof-specialty':6\n",
    "                      , 'Handlers-cleaners':7, 'Machine-op-inspct':8, 'Adm-clerical':9\n",
    "                      , 'Farming-fishing':10, 'Transport-moving':11, 'Priv-house-serv':12\n",
    "                      , 'Protective-serv':13, 'Armed-Forces':14}\n",
    "TR = TR.replace(occupation_mapping)\n",
    "\n",
    "relationship_mapping = {'Wife':1, 'Own-child':2, 'Husband':3\n",
    "                , 'Not-in-family':4, 'Other-relative':5, 'Unmarried':6}\n",
    "TR = TR.replace(relationship_mapping)\n",
    "\n",
    "race_mapping = {'White':1, 'Asian-Pac-Islander':2, 'Amer-Indian-Eskimo':3\n",
    "                , 'Other':4, 'Black':5}\n",
    "TR = TR.replace(race_mapping)\n",
    "\n",
    "sex_mapping = {'Female':1, 'Male':2}\n",
    "TR = TR.replace(sex_mapping)\n",
    "\n",
    "country_mapping = {'United-States':1, 'Cambodia':2, 'England':3\n",
    "                   , 'Puerto-Rico':4, 'Canada':5, 'Germany':6\n",
    "                   , 'Outlying-US(Guam-USVI-etc)':7, 'India':8\n",
    "                   , 'Japan':9, 'Greece':10, 'South':11\n",
    "                   , 'China':12, 'Cuba':13, 'Iran':14\n",
    "                   , 'Honduras':15, 'Philippines':16, 'Italy':17\n",
    "                   , 'Poland':18, 'Jamaica':19, 'Vietnam':20\n",
    "                   , 'Mexico':21, 'Portugal':22, 'Ireland':23\n",
    "                   , 'France':24, 'Dominican-Republic':25, 'Laos':26\n",
    "                   , 'Ecuador':27, 'Taiwan':28, 'Haiti':29\n",
    "                   , 'Columbia':30, 'Hungary':31, 'Guatemala':32\n",
    "                   , 'Nicaragua':33, 'Scotland':34, 'Thailand':35\n",
    "                   , 'Yugoslavia':36, 'El-Salvador':37, 'Trinadad&Tobago':38\n",
    "                   , 'Peru':39, 'Hong':40, 'Holand-Netherlands':41}\n",
    "TR = TR.replace(country_mapping)\n",
    "\n",
    "salary_mapping = {'<=50K':0, '>50K':1}\n",
    "TR = TR.replace(salary_mapping)\n",
    "\n",
    "TR = TR.replace(to_replace='?', value=np.nan)\n",
    "TR.dropna(inplace=True)\n",
    "\n",
    "R=TR.values\n",
    "shape = R.shape\n",
    "X = R[:, :shape[1]-1].astype(np.float32)\n",
    "y = R[:, shape[1]-1].astype(np.int32)\n",
    "\n",
    "X = X[:5000]\n",
    "y = y[:5000]\n",
    "\n",
    "X_train,X_test,y_train,y_test = sklearn.model_selection.train_test_split(X, y, test_size=0.2, random_state=0)"
   ]
  },
  {
   "cell_type": "code",
   "execution_count": 104,
   "metadata": {},
   "outputs": [],
   "source": [
    "# Training and evaluation code\n",
    "m, t=randomForestsTrainEval (X_train, y_train)"
   ]
  },
  {
   "cell_type": "code",
   "execution_count": 105,
   "metadata": {
    "scrolled": false
   },
   "outputs": [
    {
     "name": "stdout",
     "output_type": "stream",
     "text": [
      "RandomForestClassifier(max_depth=7, n_estimators=64, random_state=0)\n",
      "Elapsed time:            44.7661 sec\n",
      "Training accuracy score: 86.4250%\n",
      "Test accuracy score:     84.8000%\n",
      "ROC AUC score:           90.3944%\n"
     ]
    },
    {
     "data": {
      "image/png": "[encoded data removed]",
      "text/plain": [
       "<Figure size 432x288 with 1 Axes>"
      ]
     },
     "metadata": {
      "needs_background": "light"
     },
     "output_type": "display_data"
    }
   ],
   "source": [
    "# Plotting code\n",
    "results [3, 6, 0]=t\n",
    "results [3, 6, 1], results [3, 6, 2], results [3, 6, 3] = plotModel (m, t, X_train, y_train, X_test, y_test)"
   ]
  },
  {
   "cell_type": "code",
   "execution_count": 106,
   "metadata": {},
   "outputs": [],
   "source": [
    "# Training and evaluation code\n",
    "m, t=adaBoostTrainEval (X_train, y_train)"
   ]
  },
  {
   "cell_type": "code",
   "execution_count": 107,
   "metadata": {
    "scrolled": false
   },
   "outputs": [
    {
     "name": "stdout",
     "output_type": "stream",
     "text": [
      "AdaBoostClassifier(n_estimators=90, random_state=0)\n",
      "Elapsed time:            2.7310 sec\n",
      "Training accuracy score: 86.4500%\n",
      "Test accuracy score:     85.9000%\n",
      "ROC AUC score:           90.7160%\n"
     ]
    },
    {
     "data": {
      "image/png": "[encoded data removed]",
      "text/plain": [
       "<Figure size 432x288 with 1 Axes>"
      ]
     },
     "metadata": {
      "needs_background": "light"
     },
     "output_type": "display_data"
    }
   ],
   "source": [
    "# Plotting code\n",
    "results [4, 6, 0]=t\n",
    "results [4, 6, 1], results [4, 6, 2], results [4, 6, 3] = plotModel (m, t, X_train, y_train, X_test, y_test)"
   ]
  },
  {
   "cell_type": "markdown",
   "metadata": {},
   "source": [
    "# 8. Yeast Dataset"
   ]
  },
  {
   "cell_type": "code",
   "execution_count": 43,
   "metadata": {
    "scrolled": true
   },
   "outputs": [],
   "source": [
    "# Loading code\n",
    "TR=pd.read_csv('../../datasets/8_yeast/yeast_dataset.csv', encoding='utf8', header=None, usecols = np.arange(1, 10, 1))\n",
    "TR = TR.apply(lambda x: x.apply(lambda y: y.strip() if type(y) == type('') else y), axis=0)\n",
    "\n",
    "localization_site_mapping = {'MIT':1, 'NUC':2, 'CYT':3\n",
    "                     , 'ME1':4, 'EXC':5, 'ME2':6\n",
    "                     , 'ME3':7, 'VAC':8, 'POX':9\n",
    "                     , 'ERL':10}\n",
    "TR = TR.replace(localization_site_mapping)\n",
    "\n",
    "TR = TR.replace(to_replace='?', value=np.nan)\n",
    "TR.dropna(inplace=True)\n",
    "\n",
    "R=TR.values\n",
    "shape = R.shape\n",
    "X = R[:, :shape[1]-1].astype(np.float32)\n",
    "y = R[:, shape[1]-1].astype(np.int32)\n",
    "\n",
    "X = X[:5000]\n",
    "y = y[:5000]\n",
    "\n",
    "X_train,X_test,y_train,y_test = sklearn.model_selection.train_test_split(X, y, test_size=0.2, random_state=0)"
   ]
  },
  {
   "cell_type": "code",
   "execution_count": 44,
   "metadata": {},
   "outputs": [],
   "source": [
    "# Training and evaluation code\n",
    "m, t=randomForestsTrainEval (X_train, y_train)"
   ]
  },
  {
   "cell_type": "code",
   "execution_count": 45,
   "metadata": {
    "scrolled": false
   },
   "outputs": [
    {
     "name": "stdout",
     "output_type": "stream",
     "text": [
      "RandomForestClassifier(max_depth=9, n_estimators=1024, random_state=0)\n",
      "Elapsed time:            33.1660 sec\n",
      "Training accuracy score: 79.7810%\n",
      "Test accuracy score:     63.6364%\n",
      "ROC AUC score:           75.2331%\n"
     ]
    }
   ],
   "source": [
    "# Plotting code\n",
    "results [3, 7, 0]=t\n",
    "results [3, 7, 1], results [3, 7, 2], results [3, 7, 3] = plotModel (m, t, X_train, y_train, X_test, y_test)"
   ]
  },
  {
   "cell_type": "code",
   "execution_count": 46,
   "metadata": {},
   "outputs": [],
   "source": [
    "# Training and evaluation code\n",
    "m, t=adaBoostTrainEval (X_train, y_train)"
   ]
  },
  {
   "cell_type": "code",
   "execution_count": 47,
   "metadata": {
    "scrolled": false
   },
   "outputs": [
    {
     "name": "stdout",
     "output_type": "stream",
     "text": [
      "AdaBoostClassifier(n_estimators=10, random_state=0)\n",
      "Elapsed time:            1.4720 sec\n",
      "Training accuracy score: 43.6394%\n",
      "Test accuracy score:     42.7609%\n",
      "ROC AUC score:           59.4320%\n"
     ]
    }
   ],
   "source": [
    "# Plotting code\n",
    "results [4, 7, 0]=t\n",
    "results [4, 7, 1], results [4, 7, 2], results [4, 7, 3] = plotModel (m, t, X_train, y_train, X_test, y_test)"
   ]
  },
  {
   "cell_type": "markdown",
   "metadata": {},
   "source": [
    "# 9. Magic Gamma Telescope"
   ]
  },
  {
   "cell_type": "code",
   "execution_count": 48,
   "metadata": {
    "scrolled": true
   },
   "outputs": [],
   "source": [
    "# Loading code\n",
    "mapping = {'h':0, 'g':1}\n",
    "\n",
    "data_magic = pd.read_csv('../../datasets/9_magic_gamma/MagicGamma.txt',delimiter=',',names=['fLength','fWidth','fSize','fConc','fConc1','fAsym','fm3Long','fm3Trans','fAlpha','fDist','class']).replace(mapping)\n",
    "X=data_magic.iloc[:,:-1]\n",
    "y=data_magic.iloc[:,-1]\n",
    "X_train,X_test,y_train,y_test = sklearn.model_selection.train_test_split(X,y,test_size=0.2)"
   ]
  },
  {
   "cell_type": "code",
   "execution_count": 49,
   "metadata": {},
   "outputs": [],
   "source": [
    "# Training and evaluation code\n",
    "m, t=randomForestsTrainEval (X_train, y_train)"
   ]
  },
  {
   "cell_type": "code",
   "execution_count": 50,
   "metadata": {
    "scrolled": false
   },
   "outputs": [
    {
     "name": "stdout",
     "output_type": "stream",
     "text": [
      "RandomForestClassifier(max_depth=9, n_estimators=1024, random_state=0)\n",
      "Elapsed time:            268.9430 sec\n",
      "Training accuracy score: 89.4716%\n",
      "Test accuracy score:     86.9611%\n",
      "ROC AUC score:           83.5769%\n"
     ]
    },
    {
     "data": {
      "image/png": "[encoded data removed]",
      "text/plain": [
       "<Figure size 432x288 with 1 Axes>"
      ]
     },
     "metadata": {
      "needs_background": "light"
     },
     "output_type": "display_data"
    }
   ],
   "source": [
    "# Plotting code\n",
    "results [3, 8, 0]=t\n",
    "results [3, 8, 1], results [3, 8, 2], results [3, 8, 3] = plotModel (m, t, X_train, y_train, X_test, y_test)"
   ]
  },
  {
   "cell_type": "code",
   "execution_count": 51,
   "metadata": {},
   "outputs": [],
   "source": [
    "# Training and evaluation code\n",
    "m, t=adaBoostTrainEval (X_train, y_train)"
   ]
  },
  {
   "cell_type": "code",
   "execution_count": 52,
   "metadata": {
    "scrolled": false
   },
   "outputs": [
    {
     "name": "stdout",
     "output_type": "stream",
     "text": [
      "AdaBoostClassifier(n_estimators=90, random_state=0)\n",
      "Elapsed time:            12.8650 sec\n",
      "Training accuracy score: 85.3707%\n",
      "Test accuracy score:     84.9106%\n",
      "ROC AUC score:           82.2065%\n"
     ]
    },
    {
     "data": {
      "image/png": "[encoded data removed]",
      "text/plain": [
       "<Figure size 432x288 with 1 Axes>"
      ]
     },
     "metadata": {
      "needs_background": "light"
     },
     "output_type": "display_data"
    }
   ],
   "source": [
    "# Plotting code\n",
    "results [4, 8, 0]=t\n",
    "results [4, 8, 1], results [4, 8, 2], results [4, 8, 3] = plotModel (m, t, X_train, y_train, X_test, y_test)"
   ]
  },
  {
   "cell_type": "markdown",
   "metadata": {},
   "source": [
    "# Reporting"
   ]
  },
  {
   "cell_type": "code",
   "execution_count": 121,
   "metadata": {},
   "outputs": [
    {
     "name": "stdout",
     "output_type": "stream",
     "text": [
      "Elapsed Time\n",
      "                       Random forest  AdaBoost   \n",
      "Occupancy               71.5160         3.1860        \n",
      "Bank Marketing          47.3245         2.5861        \n",
      "Activity Recognition   137.6476         8.7120        \n",
      "Bitcoin Ransomware      63.5272         3.9321        \n",
      "Montreal Crime         306.6418        22.3630        \n",
      "Credit Card             71.2750         9.1500        \n",
      "Census Income           44.7661         2.7310        \n",
      "Yeast                   33.1660         1.4720        \n",
      "Magic Gamma Telescope  268.9430        12.8650        \n",
      " \n",
      "Training Accuracy Score\n",
      "                       Random forest  AdaBoost   \n",
      "Occupancy               98.9193        99.1895        \n",
      "Bank Marketing          90.3860        90.3375        \n",
      "Activity Recognition    98.8961        92.2282        \n",
      "Bitcoin Ransomware     100.0000       100.0000        \n",
      "Montreal Crime          46.2164        36.7012        \n",
      "Credit Card             87.9500        80.3500        \n",
      "Census Income           86.4250        86.4500        \n",
      "Yeast                   79.7810        43.6394        \n",
      "Magic Gamma Telescope   89.4716        85.3707        \n",
      " \n",
      "Testing Accuracy score\n",
      "                       Random forest  AdaBoost   \n",
      "Occupancy               97.8236        96.5854        \n",
      "Bank Marketing          89.7009        89.8708        \n",
      "Activity Recognition    50.3354        32.6264        \n",
      "Bitcoin Ransomware     100.0000       100.0000        \n",
      "Montreal Crime          37.6984        35.2605        \n",
      "Credit Card             81.0000        80.8000        \n",
      "Census Income           84.8000        85.9000        \n",
      "Yeast                   63.6364        42.7609        \n",
      "Magic Gamma Telescope   86.9611        84.9106        \n",
      " \n",
      "ROC AUC score\n",
      "                       Random forest  AdaBoost   \n",
      "Occupancy               98.1994        96.4800        \n",
      "Bank Marketing          76.9093        77.3692        \n",
      "Activity Recognition    82.0695        79.7409        \n",
      "Bitcoin Ransomware     100.0000       100.0000        \n",
      "Montreal Crime          65.0151        54.5510        \n",
      "Credit Card             76.1062        74.6242        \n",
      "Census Income           90.3944        90.7160        \n",
      "Yeast                   75.2331        59.4320        \n",
      "Magic Gamma Telescope   83.5769        82.2065        \n",
      " \n"
     ]
    }
   ],
   "source": [
    "for i in range(4):\n",
    "    print (stats[i])\n",
    "    print (\"                       \", end='')\n",
    "    for j in range (3,5):\n",
    "        print (methods[j]+\"  \", end='')\n",
    "    print (\" \")\n",
    "    for k in range(9):\n",
    "        print ('{:22s}'.format(datasets[k])+\" \", end='')\n",
    "        for j in range (3,5):\n",
    "            print (\"{:8.4f}\".format(results[j, k, i])+'       ', end='')\n",
    "        print (\" \")\n",
    "    print (\" \")"
   ]
  }
 ],
 "metadata": {
  "kernelspec": {
   "display_name": "Python 3",
   "language": "python",
   "name": "python3"
  },
  "language_info": {
   "codemirror_mode": {
    "name": "ipython",
    "version": 3
   },
   "file_extension": ".py",
   "mimetype": "text/x-python",
   "name": "python",
   "nbconvert_exporter": "python",
   "pygments_lexer": "ipython3",
   "version": "3.8.6"
  }
 },
 "nbformat": 4,
 "nbformat_minor": 2
}
